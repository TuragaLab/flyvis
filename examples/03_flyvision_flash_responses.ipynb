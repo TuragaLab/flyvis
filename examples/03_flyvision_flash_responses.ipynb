{
 "cells": [
  {
   "cell_type": "markdown",
   "metadata": {
    "id": "uu-bb4z8t_lP"
   },
   "source": [
    "# Flash responses\n",
    "\n",
    "This notebook introduces flash responses and the flash response index (FRI). \n",
    "\n",
    "The FRI measures whether a cell depolarizes to bright or to dark increments in a visual input."
   ]
  },
  {
   "cell_type": "markdown",
   "id": "81e5384d",
   "metadata": {
    "id": "SXV7OZMrugGF",
    "tags": [
     "hide"
    ]
   },
   "source": [
    "**Select GPU runtime**\n",
    "\n",
    "To run the notebook on a GPU select Menu -> Runtime -> Change runtime type -> GPU."
   ]
  },
  {
   "cell_type": "code",
   "execution_count": null,
   "id": "a323b04c",
   "metadata": {
    "cellView": "form",
    "execution": {
     "iopub.execute_input": "2024-12-08T18:35:27.952175Z",
     "iopub.status.busy": "2024-12-08T18:35:27.951795Z",
     "iopub.status.idle": "2024-12-08T18:35:27.962951Z",
     "shell.execute_reply": "2024-12-08T18:35:27.962058Z"
    },
    "id": "sWG39Aevugmr",
    "tags": [
     "hide"
    ]
   },
   "outputs": [],
   "source": [
    "# @markdown **Check access to GPU**\n",
    "\n",
    "try:\n",
    "    import google.colab\n",
    "\n",
    "    IN_COLAB = True\n",
    "except ImportError:\n",
    "    IN_COLAB = False\n",
    "\n",
    "if IN_COLAB:\n",
    "    import torch\n",
    "\n",
    "    try:\n",
    "        cuda_name = torch.cuda.get_device_name()\n",
    "        print(f\"Name of the assigned GPU / CUDA device: {cuda_name}\")\n",
    "    except RuntimeError:\n",
    "        import warnings\n",
    "\n",
    "        warnings.warn(\n",
    "            \"You have not selected Runtime Type: 'GPU' or Google could not assign you one. Please revisit the settings as described above or proceed on CPU (slow).\"\n",
    "        )"
   ]
  },
  {
   "cell_type": "markdown",
   "id": "db055330",
   "metadata": {
    "id": "-B9TA8nfzmN3",
    "tags": [
     "hide"
    ]
   },
   "source": [
    "**Install Flyvis**\n",
    "\n",
    "The notebook requires installing our package `flyvis`. You may need to restart your session after running the code block below with Menu -> Runtime -> Restart session. Then, imports from `flyvis` should succeed without issue."
   ]
  },
  {
   "cell_type": "code",
   "execution_count": null,
   "id": "b0bb0ee9",
   "metadata": {
    "cellView": "form",
    "execution": {
     "iopub.execute_input": "2024-12-08T18:35:27.967468Z",
     "iopub.status.busy": "2024-12-08T18:35:27.967200Z",
     "iopub.status.idle": "2024-12-08T18:35:27.972699Z",
     "shell.execute_reply": "2024-12-08T18:35:27.971881Z"
    },
    "id": "Dkhfe5XBuksW",
    "tags": [
     "hide"
    ]
   },
   "outputs": [],
   "source": [
    "# @markdown **Install Flyvis**\n",
    "if IN_COLAB:\n",
    "    !git clone https://github.com/TuragaLab/flyvis.git\n",
    "    %cd /content/flyvis\n",
    "    !pip install -e .[examples]"
   ]
  },
  {
   "cell_type": "markdown",
   "metadata": {
    "id": "fz7783IyuwKs"
   },
   "source": [
    "## Flash stimuli\n",
    "\n",
    "To elicit flash responses, experimenters show a flashing dot to the subject in the center of their field of view. We generate and render these stimuli with the `Flashes` dataset."
   ]
  },
  {
   "cell_type": "code",
   "execution_count": null,
   "metadata": {
    "execution": {
     "iopub.execute_input": "2024-12-08T18:35:27.977053Z",
     "iopub.status.busy": "2024-12-08T18:35:27.976674Z",
     "iopub.status.idle": "2024-12-08T18:35:32.563702Z",
     "shell.execute_reply": "2024-12-08T18:35:32.562275Z"
    },
    "id": "h5Hfyy3tyTQG"
   },
   "outputs": [],
   "source": [
    "import matplotlib.pyplot as plt\n",
    "import numpy as np\n",
    "import torch\n",
    "\n",
    "\n",
    "from flyvis.analysis.animations.hexscatter import HexScatter\n",
    "from flyvis.datasets.flashes import Flashes"
   ]
  },
  {
   "cell_type": "code",
   "execution_count": null,
   "metadata": {
    "execution": {
     "iopub.execute_input": "2024-12-08T18:35:32.568822Z",
     "iopub.status.busy": "2024-12-08T18:35:32.568279Z",
     "iopub.status.idle": "2024-12-08T18:35:32.613087Z",
     "shell.execute_reply": "2024-12-08T18:35:32.612185Z"
    },
    "id": "lI7elnklmcrh"
   },
   "outputs": [],
   "source": [
    "# initialize dataset\n",
    "dataset = Flashes(\n",
    "    dynamic_range=[0, 1],  # min and max pixel intensity values, must be in range [0, 1]\n",
    "    t_stim=1.0,  # duration of flash\n",
    "    t_pre=1.0,  # duration of period between flashes\n",
    "    dt=1 / 200,  # temporal resolution of rendered video\n",
    "    radius=[-1, 6],  # radius of flashing dot. -1 fills entire field of view\n",
    "    alternations=(0, 1, 0),  # flashing pattern, off - on - off\n",
    ")"
   ]
  },
  {
   "cell_type": "code",
   "execution_count": null,
   "metadata": {
    "colab": {
     "base_uri": "https://localhost:8080/",
     "height": 174
    },
    "execution": {
     "iopub.execute_input": "2024-12-08T18:35:32.617130Z",
     "iopub.status.busy": "2024-12-08T18:35:32.616880Z",
     "iopub.status.idle": "2024-12-08T18:35:32.630752Z",
     "shell.execute_reply": "2024-12-08T18:35:32.629747Z"
    },
    "id": "h5LOmW2RwYRv",
    "outputId": "fab46ba2-40d1-4689-bd1f-3e6a4e9bbecb"
   },
   "outputs": [],
   "source": [
    "# view stimulus parameters\n",
    "dataset.arg_df\n",
    "# the dataset has four samples, one corresponding to each row"
   ]
  },
  {
   "cell_type": "code",
   "execution_count": null,
   "metadata": {
    "colab": {
     "base_uri": "https://localhost:8080/",
     "height": 225
    },
    "execution": {
     "iopub.execute_input": "2024-12-08T18:35:32.689411Z",
     "iopub.status.busy": "2024-12-08T18:35:32.688913Z",
     "iopub.status.idle": "2024-12-08T18:35:35.004249Z",
     "shell.execute_reply": "2024-12-08T18:35:35.002656Z"
    },
    "id": "7g9pyNQcmmbz",
    "outputId": "64d777d1-135a-4a68-a183-1681e21e2e2d"
   },
   "outputs": [],
   "source": [
    "# visualize single sample\n",
    "animation = HexScatter(\n",
    "    dataset[3][None, ::50, None], vmin=0, vmax=1\n",
    ")  # intensity=1, radius=6\n",
    "animation.animate_in_notebook()"
   ]
  },
  {
   "cell_type": "markdown",
   "metadata": {
    "id": "W9NDyBDbwqhd"
   },
   "source": [
    "## Network flash response\n",
    "\n",
    "Now that we have generated the stimulus, we can use it to drive a trained connectome-constrained network."
   ]
  },
  {
   "cell_type": "code",
   "execution_count": null,
   "metadata": {
    "execution": {
     "iopub.execute_input": "2024-12-08T18:35:35.010244Z",
     "iopub.status.busy": "2024-12-08T18:35:35.009943Z",
     "iopub.status.idle": "2024-12-08T18:35:35.254269Z",
     "shell.execute_reply": "2024-12-08T18:35:35.253048Z"
    },
    "id": "freOR6U0GWzS"
   },
   "outputs": [],
   "source": [
    "from flyvis import results_dir\n",
    "from flyvis import NetworkView\n",
    "\n",
    "# model are already sorted by task error\n",
    "# we take the best task-performing model from the pre-sorted ensemble\n",
    "network_view = NetworkView(results_dir / \"flow/0000/000\")"
   ]
  },
  {
   "cell_type": "code",
   "execution_count": null,
   "metadata": {
    "execution": {
     "iopub.execute_input": "2024-12-08T18:35:35.258249Z",
     "iopub.status.busy": "2024-12-08T18:35:35.258038Z",
     "iopub.status.idle": "2024-12-08T18:35:35.707324Z",
     "shell.execute_reply": "2024-12-08T18:35:35.705929Z"
    }
   },
   "outputs": [],
   "source": [
    "stims_and_resps = network_view.flash_responses(dataset=dataset)"
   ]
  },
  {
   "cell_type": "code",
   "execution_count": null,
   "metadata": {
    "execution": {
     "iopub.execute_input": "2024-12-08T18:35:35.712262Z",
     "iopub.status.busy": "2024-12-08T18:35:35.711902Z",
     "iopub.status.idle": "2024-12-08T18:35:36.161021Z",
     "shell.execute_reply": "2024-12-08T18:35:36.160002Z"
    }
   },
   "outputs": [],
   "source": [
    "stims_and_resps['responses'].custom.where(cell_type=\"L1\", radius=6).custom.plot_traces(\n",
    "    x='time'\n",
    ")\n",
    "fig = plt.gcf()\n",
    "fig.axes[-1].set_title(\"L1 flash responses\")"
   ]
  },
  {
   "cell_type": "markdown",
   "metadata": {
    "id": "6FOTQtIR5RMu"
   },
   "source": [
    "### Flash response index (FRI)\n",
    "\n",
    "The flash response index (FRI) is a measure of the strength of contrast tuning of a particular cell. It is computed as the difference between the cell's peak voltage in response to on-flashes (intensity = 1) and off-flashes (intensity = 0), divided by the sum of those peak values.\n",
    "\n",
    "That is, given a single neuron's response to on-flashes `r_on` and off-flashes `r_off` (both of `shape=(T,)`), we can compute the flash response index with\n",
    "\n",
    "```\n",
    "r_on_max = max(r_on)\n",
    "r_off_max = max(r_off)\n",
    "fri = (r_on_max - r_off_max) / (r_on_max + r_off_max + 1e-16)\n",
    "```\n",
    "\n",
    "with the additional `1e-16` simply for numerical stability. Before this calculation, the response traces are shifted to be non-negative.\n",
    "\n",
    "The flash response index can take on values between $-1$, when the off response is much stronger (or more positive) than the on response, to $1$, when the on response is much stronger (or more positive) than the off response."
   ]
  },
  {
   "cell_type": "markdown",
   "metadata": {
    "id": "tSuPrIG97qwE"
   },
   "source": [
    "For the L1 cell plotted before, we can see that it displays a positive response to off flashes and a negative response to on flashes, so we expect a negative flash response index."
   ]
  },
  {
   "cell_type": "code",
   "execution_count": null,
   "metadata": {
    "execution": {
     "iopub.execute_input": "2024-12-08T18:35:36.169617Z",
     "iopub.status.busy": "2024-12-08T18:35:36.169246Z",
     "iopub.status.idle": "2024-12-08T18:35:36.174842Z",
     "shell.execute_reply": "2024-12-08T18:35:36.173609Z"
    }
   },
   "outputs": [],
   "source": [
    "from flyvis.analysis.flash_responses import flash_response_index"
   ]
  },
  {
   "cell_type": "code",
   "execution_count": null,
   "metadata": {
    "execution": {
     "iopub.execute_input": "2024-12-08T18:35:36.178968Z",
     "iopub.status.busy": "2024-12-08T18:35:36.178553Z",
     "iopub.status.idle": "2024-12-08T18:35:36.203700Z",
     "shell.execute_reply": "2024-12-08T18:35:36.202911Z"
    }
   },
   "outputs": [],
   "source": [
    "fris = flash_response_index(stims_and_resps, radius=6)"
   ]
  },
  {
   "cell_type": "code",
   "execution_count": null,
   "metadata": {
    "execution": {
     "iopub.execute_input": "2024-12-08T18:35:36.208134Z",
     "iopub.status.busy": "2024-12-08T18:35:36.207935Z",
     "iopub.status.idle": "2024-12-08T18:35:36.228075Z",
     "shell.execute_reply": "2024-12-08T18:35:36.227247Z"
    }
   },
   "outputs": [],
   "source": [
    "fris.custom.where(cell_type=\"L1\")"
   ]
  },
  {
   "cell_type": "markdown",
   "metadata": {
    "id": "myPGKYPDTmES"
   },
   "source": [
    "### FRI correlation\n",
    "\n",
    "Since the tuning of some cell types have been determined experimentally, we can then compare our model to experimental findings by computing the correlation between the model FRIs for known cell types with their expected tuning."
   ]
  },
  {
   "cell_type": "code",
   "execution_count": null,
   "metadata": {
    "execution": {
     "iopub.execute_input": "2024-12-08T18:35:36.232537Z",
     "iopub.status.busy": "2024-12-08T18:35:36.232125Z",
     "iopub.status.idle": "2024-12-08T18:35:36.236798Z",
     "shell.execute_reply": "2024-12-08T18:35:36.235750Z"
    }
   },
   "outputs": [],
   "source": [
    "from flyvis.analysis.flash_responses import fri_correlation_to_known\n",
    "from flyvis.utils.groundtruth_utils import polarity"
   ]
  },
  {
   "cell_type": "code",
   "execution_count": null,
   "metadata": {
    "execution": {
     "iopub.execute_input": "2024-12-08T18:35:36.241450Z",
     "iopub.status.busy": "2024-12-08T18:35:36.240617Z",
     "iopub.status.idle": "2024-12-08T18:35:36.262443Z",
     "shell.execute_reply": "2024-12-08T18:35:36.261150Z"
    }
   },
   "outputs": [],
   "source": [
    "fri_corr = fri_correlation_to_known(fris)"
   ]
  },
  {
   "cell_type": "code",
   "execution_count": null,
   "metadata": {
    "colab": {
     "base_uri": "https://localhost:8080/",
     "height": 472
    },
    "execution": {
     "iopub.execute_input": "2024-12-08T18:35:36.266300Z",
     "iopub.status.busy": "2024-12-08T18:35:36.266025Z",
     "iopub.status.idle": "2024-12-08T18:35:36.541443Z",
     "shell.execute_reply": "2024-12-08T18:35:36.540593Z"
    },
    "id": "bgCc9oKcXRAs",
    "outputId": "7e8cb29a-50e0-452e-85b2-2302621166a1"
   },
   "outputs": [],
   "source": [
    "# manually extract model and true FRIs for plotting\n",
    "known_cell_types = [k for k, v in polarity.items() if v != 0]\n",
    "model_fris = [fris.custom.where(cell_type=k).item() for k in known_cell_types]\n",
    "true_fris = [polarity[k] for k in known_cell_types]\n",
    "# plot\n",
    "plt.figure(figsize=[2, 1])\n",
    "plt.scatter(model_fris, true_fris, color=\"k\", s=10)\n",
    "plt.xlabel(\"predicted FRI\")\n",
    "plt.ylabel(\"putative FRI (true tuning)\")\n",
    "plt.axvline(0, linestyle=\"--\", color=\"black\")\n",
    "plt.axhline(0, linestyle=\"--\", color=\"black\")\n",
    "\n",
    "plt.axhspan(0, 2, 0, 0.5, color=\"red\", zorder=-10)\n",
    "plt.axhspan(0, 2, 0.5, 1.0, color=\"green\", zorder=-10)\n",
    "plt.axhspan(-2, 0, 0, 0.5, color=\"green\", zorder=-10)\n",
    "plt.axhspan(-2, 0, 0.5, 1.0, color=\"red\", zorder=-10)\n",
    "\n",
    "plt.xlim(-1.05, 1.05)\n",
    "plt.ylim(-2, 2)\n",
    "plt.title(f\"Correlation = {fri_corr[0].item():.2g}\")\n",
    "plt.yticks([-1, 1], [\"OFF\", \"ON\"])\n",
    "plt.show()"
   ]
  },
  {
   "cell_type": "markdown",
   "metadata": {
    "id": "x3h50RJyZy2Q"
   },
   "source": [
    "As we can see, for all except two cell types, the model correctly predicts the cell's tuning (positive or negative)."
   ]
  },
  {
   "cell_type": "markdown",
   "metadata": {
    "id": "XrG_yZ6IaVdD"
   },
   "source": [
    "## Ensemble responses\n",
    "\n",
    "Now we can compare tuning properties across an ensemble of trained models. First we need to again simulate the network responses."
   ]
  },
  {
   "cell_type": "code",
   "execution_count": null,
   "metadata": {
    "execution": {
     "iopub.execute_input": "2024-12-08T18:35:36.547044Z",
     "iopub.status.busy": "2024-12-08T18:35:36.546697Z",
     "iopub.status.idle": "2024-12-08T18:35:48.404379Z",
     "shell.execute_reply": "2024-12-08T18:35:48.402981Z"
    },
    "id": "HAci8A5MYu9d"
   },
   "outputs": [],
   "source": [
    "from flyvis import EnsembleView\n",
    "\n",
    "ensemble = EnsembleView(\"flow/0000\")"
   ]
  },
  {
   "cell_type": "code",
   "execution_count": null,
   "metadata": {
    "execution": {
     "iopub.execute_input": "2024-12-08T18:35:48.410125Z",
     "iopub.status.busy": "2024-12-08T18:35:48.409743Z",
     "iopub.status.idle": "2024-12-08T18:36:01.603222Z",
     "shell.execute_reply": "2024-12-08T18:36:01.601253Z"
    },
    "id": "_Xnl1wqFkPlp"
   },
   "outputs": [],
   "source": [
    "stims_and_resps = ensemble.flash_responses(dataset=dataset)"
   ]
  },
  {
   "cell_type": "markdown",
   "metadata": {
    "id": "e342YYovvEPw"
   },
   "source": [
    "### Response traces\n",
    "\n",
    "We can once again plot response traces for a single cell type. We subtract the initial value of each trace to center the data before plotting, as the network neuron activities are in arbitrary units."
   ]
  },
  {
   "cell_type": "code",
   "execution_count": null,
   "metadata": {
    "execution": {
     "iopub.execute_input": "2024-12-08T18:36:01.610238Z",
     "iopub.status.busy": "2024-12-08T18:36:01.609861Z",
     "iopub.status.idle": "2024-12-08T18:36:01.671124Z",
     "shell.execute_reply": "2024-12-08T18:36:01.669617Z"
    }
   },
   "outputs": [],
   "source": [
    "centered = (\n",
    "    stims_and_resps['responses']\n",
    "    - stims_and_resps['responses'].custom.where(time=0.0).values\n",
    ")"
   ]
  },
  {
   "cell_type": "code",
   "execution_count": null,
   "metadata": {
    "execution": {
     "iopub.execute_input": "2024-12-08T18:36:01.675781Z",
     "iopub.status.busy": "2024-12-08T18:36:01.675465Z",
     "iopub.status.idle": "2024-12-08T18:36:04.056321Z",
     "shell.execute_reply": "2024-12-08T18:36:04.055066Z"
    }
   },
   "outputs": [],
   "source": [
    "centered.sel(network_id=ensemble.argsort()[:10]).custom.where(\n",
    "    cell_type=\"L1\", radius=6, intensity=1\n",
    ").custom.plot_traces(x='time', plot_kwargs=dict(color='orange', linewidth=0.5))\n",
    "ax = plt.gca()\n",
    "centered.sel(network_id=ensemble.argsort()[:10]).custom.where(\n",
    "    cell_type=\"L1\", radius=6, intensity=0\n",
    ").custom.plot_traces(x='time', plot_kwargs=dict(ax=ax, color='blue', linewidth=0.5))\n",
    "ax.set_title(\"L1 flash responses\")"
   ]
  },
  {
   "cell_type": "markdown",
   "metadata": {
    "id": "_O9bDAuGv8xC"
   },
   "source": [
    "Though the scaling varies, all networks predict depolarization to OFF-flashes for L1."
   ]
  },
  {
   "cell_type": "markdown",
   "metadata": {
    "id": "YYgWkeNbwDbJ"
   },
   "source": [
    "### Flash response index (FRI)\n",
    "\n",
    "We can also compute flash response indices for each network in the ensemble."
   ]
  },
  {
   "cell_type": "code",
   "execution_count": null,
   "metadata": {
    "colab": {
     "base_uri": "https://localhost:8080/"
    },
    "execution": {
     "iopub.execute_input": "2024-12-08T18:36:04.069613Z",
     "iopub.status.busy": "2024-12-08T18:36:04.069189Z",
     "iopub.status.idle": "2024-12-08T18:36:04.120278Z",
     "shell.execute_reply": "2024-12-08T18:36:04.119146Z"
    },
    "id": "jIJcPWIKvLja",
    "outputId": "91048e37-8d39-48df-d956-c01e5da30c3f"
   },
   "outputs": [],
   "source": [
    "# get FRI for L1 cell\n",
    "\n",
    "fri_l1 = (\n",
    "    flash_response_index(stims_and_resps, radius=6)\n",
    "    .sel(network_id=ensemble.argsort()[:10])\n",
    "    .custom.where(cell_type=\"L1\")\n",
    ")\n",
    "print(fri_l1.squeeze().values)"
   ]
  },
  {
   "cell_type": "markdown",
   "metadata": {
    "id": "lbKyqrQewUNf"
   },
   "source": [
    "All models recover similar flash response indices for this cell type. We can also plot the distribution of FRIs per cell type across the ensemble."
   ]
  },
  {
   "cell_type": "code",
   "execution_count": null,
   "metadata": {
    "execution": {
     "iopub.execute_input": "2024-12-08T18:36:04.125540Z",
     "iopub.status.busy": "2024-12-08T18:36:04.125269Z",
     "iopub.status.idle": "2024-12-08T18:36:07.684290Z",
     "shell.execute_reply": "2024-12-08T18:36:07.683197Z"
    }
   },
   "outputs": [],
   "source": [
    "with ensemble.select_items(ensemble.argsort()[:10]):\n",
    "    ensemble.flash_response_index()"
   ]
  },
  {
   "cell_type": "markdown",
   "metadata": {
    "id": "KhJO6lMvX3fo"
   },
   "source": [
    "### FRI correlation\n",
    "\n",
    "Lastly, we look at the correlations to ground-truth tuning across the ensemble."
   ]
  },
  {
   "cell_type": "code",
   "execution_count": null,
   "metadata": {
    "execution": {
     "iopub.execute_input": "2024-12-08T18:36:07.694742Z",
     "iopub.status.busy": "2024-12-08T18:36:07.694421Z",
     "iopub.status.idle": "2024-12-08T18:36:07.700564Z",
     "shell.execute_reply": "2024-12-08T18:36:07.699482Z"
    }
   },
   "outputs": [],
   "source": [
    "from flyvis.analysis.flash_responses import flash_response_index"
   ]
  },
  {
   "cell_type": "code",
   "execution_count": null,
   "metadata": {
    "execution": {
     "iopub.execute_input": "2024-12-08T18:36:07.704609Z",
     "iopub.status.busy": "2024-12-08T18:36:07.704329Z",
     "iopub.status.idle": "2024-12-08T18:36:07.743785Z",
     "shell.execute_reply": "2024-12-08T18:36:07.743027Z"
    }
   },
   "outputs": [],
   "source": [
    "fris = flash_response_index(stims_and_resps, radius=6)"
   ]
  },
  {
   "cell_type": "code",
   "execution_count": null,
   "metadata": {
    "colab": {
     "base_uri": "https://localhost:8080/",
     "height": 440
    },
    "execution": {
     "iopub.execute_input": "2024-12-08T18:36:07.747865Z",
     "iopub.status.busy": "2024-12-08T18:36:07.747663Z",
     "iopub.status.idle": "2024-12-08T18:36:07.947142Z",
     "shell.execute_reply": "2024-12-08T18:36:07.946212Z"
    },
    "id": "Y8yyYrc7PgG0",
    "outputId": "bf69683d-811e-4307-e8e0-d1d957f29545"
   },
   "outputs": [],
   "source": [
    "from flyvis.analysis.visualization.plots import violin_groups\n",
    "\n",
    "# compute correlation\n",
    "fri_corr = fri_correlation_to_known(fris)\n",
    "\n",
    "fig, ax, *_ = violin_groups(\n",
    "    np.array(fri_corr)[None, None, :].squeeze(-1),\n",
    "    ylabel=\"FRI correlation\",\n",
    "    figsize=(2, 2),\n",
    "    xlim=(0, 1),\n",
    "    xticklabels=[],\n",
    "    colors=[plt.get_cmap(\"Pastel1\")(0.0)],\n",
    "    scatter_edge_color=\"gray\",\n",
    "    scatter_radius=10,\n",
    ")"
   ]
  },
  {
   "cell_type": "markdown",
   "metadata": {
    "id": "jorqXMxCZ4B4"
   },
   "source": [
    "Models in general have very good match to known single-neuron tuning properties, with median correlation around 0.8."
   ]
  }
 ],
 "metadata": {
  "colab": {
   "provenance": []
  },
  "kernelspec": {
   "display_name": "Python 3 (ipykernel)",
   "language": "python",
   "name": "python3"
  },
  "language_info": {
   "codemirror_mode": {
    "name": "ipython",
    "version": 3
   },
   "file_extension": ".py",
   "mimetype": "text/x-python",
   "name": "python",
   "nbconvert_exporter": "python",
   "pygments_lexer": "ipython3",
   "version": "3.9.16"
  },
  "toc": {
   "base_numbering": 1,
   "nav_menu": {},
   "number_sections": true,
   "sideBar": true,
   "skip_h1_title": false,
   "title_cell": "Table of Contents",
   "title_sidebar": "Contents",
   "toc_cell": false,
   "toc_position": {},
   "toc_section_display": true,
   "toc_window_display": false
  },
  "widgets": {
   "application/vnd.jupyter.widget-state+json": {
    "state": {
     "10d252043c444e7b8cd88111941f16f4": {
      "model_module": "@jupyter-widgets/controls",
      "model_module_version": "2.0.0",
      "model_name": "HTMLStyleModel",
      "state": {
       "_model_module": "@jupyter-widgets/controls",
       "_model_module_version": "2.0.0",
       "_model_name": "HTMLStyleModel",
       "_view_count": null,
       "_view_module": "@jupyter-widgets/base",
       "_view_module_version": "2.0.0",
       "_view_name": "StyleView",
       "background": null,
       "description_width": "",
       "font_size": null,
       "text_color": null
      }
     },
     "21e0975c883b45d18a3e62a78df6ef1d": {
      "model_module": "@jupyter-widgets/controls",
      "model_module_version": "2.0.0",
      "model_name": "HBoxModel",
      "state": {
       "_dom_classes": [],
       "_model_module": "@jupyter-widgets/controls",
       "_model_module_version": "2.0.0",
       "_model_name": "HBoxModel",
       "_view_count": null,
       "_view_module": "@jupyter-widgets/controls",
       "_view_module_version": "2.0.0",
       "_view_name": "HBoxView",
       "box_style": "",
       "children": [
        "IPY_MODEL_25c12744addc40148ecbc84c8128740e",
        "IPY_MODEL_58dfb35c9c3441ff81246e851f9c0100",
        "IPY_MODEL_807ba97ee31e4447a12368f3366e4a47"
       ],
       "layout": "IPY_MODEL_db35a97f19af41d8a84aba98179e380c",
       "tabbable": null,
       "tooltip": null
      }
     },
     "25c12744addc40148ecbc84c8128740e": {
      "model_module": "@jupyter-widgets/controls",
      "model_module_version": "2.0.0",
      "model_name": "HTMLModel",
      "state": {
       "_dom_classes": [],
       "_model_module": "@jupyter-widgets/controls",
       "_model_module_version": "2.0.0",
       "_model_name": "HTMLModel",
       "_view_count": null,
       "_view_module": "@jupyter-widgets/controls",
       "_view_module_version": "2.0.0",
       "_view_name": "HTMLView",
       "description": "",
       "description_allow_html": false,
       "layout": "IPY_MODEL_3f5f9c5b2d874431ad45cfadafb685c8",
       "placeholder": "​",
       "style": "IPY_MODEL_a78b5b586dc8471aa441463b84d1d807",
       "tabbable": null,
       "tooltip": null,
       "value": "Loading ensemble: 100%"
      }
     },
     "2c46b6ae58704facb18ed897dd80d056": {
      "model_module": "@jupyter-widgets/base",
      "model_module_version": "2.0.0",
      "model_name": "LayoutModel",
      "state": {
       "_model_module": "@jupyter-widgets/base",
       "_model_module_version": "2.0.0",
       "_model_name": "LayoutModel",
       "_view_count": null,
       "_view_module": "@jupyter-widgets/base",
       "_view_module_version": "2.0.0",
       "_view_name": "LayoutView",
       "align_content": null,
       "align_items": null,
       "align_self": null,
       "border_bottom": null,
       "border_left": null,
       "border_right": null,
       "border_top": null,
       "bottom": null,
       "display": null,
       "flex": null,
       "flex_flow": null,
       "grid_area": null,
       "grid_auto_columns": null,
       "grid_auto_flow": null,
       "grid_auto_rows": null,
       "grid_column": null,
       "grid_gap": null,
       "grid_row": null,
       "grid_template_areas": null,
       "grid_template_columns": null,
       "grid_template_rows": null,
       "height": null,
       "justify_content": null,
       "justify_items": null,
       "left": null,
       "margin": null,
       "max_height": null,
       "max_width": null,
       "min_height": null,
       "min_width": null,
       "object_fit": null,
       "object_position": null,
       "order": null,
       "overflow": null,
       "padding": null,
       "right": null,
       "top": null,
       "visibility": null,
       "width": null
      }
     },
     "3f5f9c5b2d874431ad45cfadafb685c8": {
      "model_module": "@jupyter-widgets/base",
      "model_module_version": "2.0.0",
      "model_name": "LayoutModel",
      "state": {
       "_model_module": "@jupyter-widgets/base",
       "_model_module_version": "2.0.0",
       "_model_name": "LayoutModel",
       "_view_count": null,
       "_view_module": "@jupyter-widgets/base",
       "_view_module_version": "2.0.0",
       "_view_name": "LayoutView",
       "align_content": null,
       "align_items": null,
       "align_self": null,
       "border_bottom": null,
       "border_left": null,
       "border_right": null,
       "border_top": null,
       "bottom": null,
       "display": null,
       "flex": null,
       "flex_flow": null,
       "grid_area": null,
       "grid_auto_columns": null,
       "grid_auto_flow": null,
       "grid_auto_rows": null,
       "grid_column": null,
       "grid_gap": null,
       "grid_row": null,
       "grid_template_areas": null,
       "grid_template_columns": null,
       "grid_template_rows": null,
       "height": null,
       "justify_content": null,
       "justify_items": null,
       "left": null,
       "margin": null,
       "max_height": null,
       "max_width": null,
       "min_height": null,
       "min_width": null,
       "object_fit": null,
       "object_position": null,
       "order": null,
       "overflow": null,
       "padding": null,
       "right": null,
       "top": null,
       "visibility": null,
       "width": null
      }
     },
     "513d683ae0214fb69374350673ef6a11": {
      "model_module": "@jupyter-widgets/controls",
      "model_module_version": "2.0.0",
      "model_name": "ProgressStyleModel",
      "state": {
       "_model_module": "@jupyter-widgets/controls",
       "_model_module_version": "2.0.0",
       "_model_name": "ProgressStyleModel",
       "_view_count": null,
       "_view_module": "@jupyter-widgets/base",
       "_view_module_version": "2.0.0",
       "_view_name": "StyleView",
       "bar_color": null,
       "description_width": ""
      }
     },
     "58dfb35c9c3441ff81246e851f9c0100": {
      "model_module": "@jupyter-widgets/controls",
      "model_module_version": "2.0.0",
      "model_name": "FloatProgressModel",
      "state": {
       "_dom_classes": [],
       "_model_module": "@jupyter-widgets/controls",
       "_model_module_version": "2.0.0",
       "_model_name": "FloatProgressModel",
       "_view_count": null,
       "_view_module": "@jupyter-widgets/controls",
       "_view_module_version": "2.0.0",
       "_view_name": "ProgressView",
       "bar_style": "success",
       "description": "",
       "description_allow_html": false,
       "layout": "IPY_MODEL_92a77f64cdcf49739ed7b4ca3b00512d",
       "max": 50.0,
       "min": 0.0,
       "orientation": "horizontal",
       "style": "IPY_MODEL_513d683ae0214fb69374350673ef6a11",
       "tabbable": null,
       "tooltip": null,
       "value": 50.0
      }
     },
     "807ba97ee31e4447a12368f3366e4a47": {
      "model_module": "@jupyter-widgets/controls",
      "model_module_version": "2.0.0",
      "model_name": "HTMLModel",
      "state": {
       "_dom_classes": [],
       "_model_module": "@jupyter-widgets/controls",
       "_model_module_version": "2.0.0",
       "_model_name": "HTMLModel",
       "_view_count": null,
       "_view_module": "@jupyter-widgets/controls",
       "_view_module_version": "2.0.0",
       "_view_name": "HTMLView",
       "description": "",
       "description_allow_html": false,
       "layout": "IPY_MODEL_2c46b6ae58704facb18ed897dd80d056",
       "placeholder": "​",
       "style": "IPY_MODEL_10d252043c444e7b8cd88111941f16f4",
       "tabbable": null,
       "tooltip": null,
       "value": " 50/50 [00:11&lt;00:00,  4.16it/s]"
      }
     },
     "92a77f64cdcf49739ed7b4ca3b00512d": {
      "model_module": "@jupyter-widgets/base",
      "model_module_version": "2.0.0",
      "model_name": "LayoutModel",
      "state": {
       "_model_module": "@jupyter-widgets/base",
       "_model_module_version": "2.0.0",
       "_model_name": "LayoutModel",
       "_view_count": null,
       "_view_module": "@jupyter-widgets/base",
       "_view_module_version": "2.0.0",
       "_view_name": "LayoutView",
       "align_content": null,
       "align_items": null,
       "align_self": null,
       "border_bottom": null,
       "border_left": null,
       "border_right": null,
       "border_top": null,
       "bottom": null,
       "display": null,
       "flex": null,
       "flex_flow": null,
       "grid_area": null,
       "grid_auto_columns": null,
       "grid_auto_flow": null,
       "grid_auto_rows": null,
       "grid_column": null,
       "grid_gap": null,
       "grid_row": null,
       "grid_template_areas": null,
       "grid_template_columns": null,
       "grid_template_rows": null,
       "height": null,
       "justify_content": null,
       "justify_items": null,
       "left": null,
       "margin": null,
       "max_height": null,
       "max_width": null,
       "min_height": null,
       "min_width": null,
       "object_fit": null,
       "object_position": null,
       "order": null,
       "overflow": null,
       "padding": null,
       "right": null,
       "top": null,
       "visibility": null,
       "width": null
      }
     },
     "a78b5b586dc8471aa441463b84d1d807": {
      "model_module": "@jupyter-widgets/controls",
      "model_module_version": "2.0.0",
      "model_name": "HTMLStyleModel",
      "state": {
       "_model_module": "@jupyter-widgets/controls",
       "_model_module_version": "2.0.0",
       "_model_name": "HTMLStyleModel",
       "_view_count": null,
       "_view_module": "@jupyter-widgets/base",
       "_view_module_version": "2.0.0",
       "_view_name": "StyleView",
       "background": null,
       "description_width": "",
       "font_size": null,
       "text_color": null
      }
     },
     "db35a97f19af41d8a84aba98179e380c": {
      "model_module": "@jupyter-widgets/base",
      "model_module_version": "2.0.0",
      "model_name": "LayoutModel",
      "state": {
       "_model_module": "@jupyter-widgets/base",
       "_model_module_version": "2.0.0",
       "_model_name": "LayoutModel",
       "_view_count": null,
       "_view_module": "@jupyter-widgets/base",
       "_view_module_version": "2.0.0",
       "_view_name": "LayoutView",
       "align_content": null,
       "align_items": null,
       "align_self": null,
       "border_bottom": null,
       "border_left": null,
       "border_right": null,
       "border_top": null,
       "bottom": null,
       "display": null,
       "flex": null,
       "flex_flow": null,
       "grid_area": null,
       "grid_auto_columns": null,
       "grid_auto_flow": null,
       "grid_auto_rows": null,
       "grid_column": null,
       "grid_gap": null,
       "grid_row": null,
       "grid_template_areas": null,
       "grid_template_columns": null,
       "grid_template_rows": null,
       "height": null,
       "justify_content": null,
       "justify_items": null,
       "left": null,
       "margin": null,
       "max_height": null,
       "max_width": null,
       "min_height": null,
       "min_width": null,
       "object_fit": null,
       "object_position": null,
       "order": null,
       "overflow": null,
       "padding": null,
       "right": null,
       "top": null,
       "visibility": null,
       "width": null
      }
     }
    },
    "version_major": 2,
    "version_minor": 0
   }
  }
 },
 "nbformat": 4,
 "nbformat_minor": 1
}
