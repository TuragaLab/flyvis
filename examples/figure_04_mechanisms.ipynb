{
 "cells": [
  {
   "cell_type": "markdown",
   "id": "9d110944",
   "metadata": {},
   "source": [
    "# Figure 4"
   ]
  },
  {
   "cell_type": "markdown",
   "id": "f2ed59c9",
   "metadata": {},
   "source": [
    "## a"
   ]
  },
  {
   "cell_type": "code",
   "execution_count": null,
   "id": "edd1505a",
   "metadata": {
    "execution": {
     "iopub.execute_input": "2024-12-08T18:45:18.973725Z",
     "iopub.status.busy": "2024-12-08T18:45:18.973221Z",
     "iopub.status.idle": "2024-12-08T18:45:23.477669Z",
     "shell.execute_reply": "2024-12-08T18:45:23.476411Z"
    }
   },
   "outputs": [],
   "source": [
    "%load_ext autoreload\n",
    "%autoreload 2\n",
    "\n",
    "import matplotlib.pyplot as plt\n",
    "import numpy as np\n",
    "\n",
    "from flyvis import EnsembleView\n",
    "from flyvis.analysis.visualization import plots\n",
    "from flyvis.analysis.moving_bar_responses import plot_angular_tuning"
   ]
  },
  {
   "cell_type": "code",
   "execution_count": null,
   "id": "52b77d86",
   "metadata": {
    "execution": {
     "iopub.execute_input": "2024-12-08T18:45:23.482415Z",
     "iopub.status.busy": "2024-12-08T18:45:23.481974Z",
     "iopub.status.idle": "2024-12-08T18:45:35.344455Z",
     "shell.execute_reply": "2024-12-08T18:45:35.342875Z"
    }
   },
   "outputs": [],
   "source": [
    "ensemble = EnsembleView(\"flow/0000\")"
   ]
  },
  {
   "cell_type": "code",
   "execution_count": null,
   "id": "fd070457",
   "metadata": {
    "execution": {
     "iopub.execute_input": "2024-12-08T18:45:35.350036Z",
     "iopub.status.busy": "2024-12-08T18:45:35.349674Z",
     "iopub.status.idle": "2024-12-08T18:45:50.009328Z",
     "shell.execute_reply": "2024-12-08T18:45:50.007749Z"
    }
   },
   "outputs": [],
   "source": [
    "stims_and_resps = ensemble.moving_edge_responses()"
   ]
  },
  {
   "cell_type": "code",
   "execution_count": null,
   "id": "03324e8e",
   "metadata": {
    "execution": {
     "iopub.execute_input": "2024-12-08T18:45:50.015004Z",
     "iopub.status.busy": "2024-12-08T18:45:50.014728Z",
     "iopub.status.idle": "2024-12-08T18:46:03.894342Z",
     "shell.execute_reply": "2024-12-08T18:46:03.892978Z"
    }
   },
   "outputs": [],
   "source": [
    "stims_and_resps['responses'] /= (norm := ensemble.responses_norm(rectified=True))"
   ]
  },
  {
   "cell_type": "code",
   "execution_count": null,
   "id": "fb602705",
   "metadata": {
    "execution": {
     "iopub.execute_input": "2024-12-08T18:46:03.899599Z",
     "iopub.status.busy": "2024-12-08T18:46:03.899357Z",
     "iopub.status.idle": "2024-12-08T18:46:15.823906Z",
     "shell.execute_reply": "2024-12-08T18:46:15.822415Z"
    }
   },
   "outputs": [],
   "source": [
    "# retrieve cluster indices for averaging across best clusters\n",
    "cell_types = [\n",
    "    \"L1\",\n",
    "    \"L2\",\n",
    "    \"L3\",\n",
    "    \"L4\",\n",
    "    \"L5\",\n",
    "    \"Mi1\",\n",
    "    \"Tm3\",\n",
    "    \"Mi4\",\n",
    "    \"Mi9\",\n",
    "    \"CT1(M10)\",\n",
    "    \"T4a\",\n",
    "    \"T4b\",\n",
    "    \"T4c\",\n",
    "    \"T4d\",\n",
    "    \"T5a\",\n",
    "    \"T5b\",\n",
    "    \"T5c\",\n",
    "    \"T5d\",\n",
    "    \"Tm1\",\n",
    "    \"Tm2\",\n",
    "    \"Tm4\",\n",
    "    \"Tm9\",\n",
    "    \"CT1(Lo1)\",\n",
    "    \"TmY3\",\n",
    "]\n",
    "cluster_indices = {}\n",
    "for cell_type in cell_types:\n",
    "    if cell_type not in cluster_indices:\n",
    "        cluster_indices[cell_type] = ensemble.cluster_indices(cell_type)"
   ]
  },
  {
   "cell_type": "code",
   "execution_count": null,
   "id": "ac45e035",
   "metadata": {
    "execution": {
     "iopub.execute_input": "2024-12-08T18:46:15.829330Z",
     "iopub.status.busy": "2024-12-08T18:46:15.828953Z",
     "iopub.status.idle": "2024-12-08T18:46:23.890395Z",
     "shell.execute_reply": "2024-12-08T18:46:23.889464Z"
    }
   },
   "outputs": [],
   "source": [
    "# plot the tuning across the best clusters\n",
    "fig, axes, _ = plots.plt_utils.get_axis_grid(\n",
    "    range(4),\n",
    "    projection=\"polar\",\n",
    "    aspect_ratio=4,\n",
    "    figsize=[2.95, 0.83],\n",
    "    wspace=0.25,\n",
    ")\n",
    "for i, cell_type in enumerate([\"T4a\", \"T4b\", \"T4c\", \"T4d\"]):\n",
    "    plot_angular_tuning(\n",
    "        stims_and_resps.sel(network_id=cluster_indices[cell_type][0]),\n",
    "        cell_type=cell_type,\n",
    "        intensity=1,\n",
    "        fig=fig,\n",
    "        ax=axes[i],\n",
    "        groundtruth=True,\n",
    "        groundtruth_linewidth=1.0,\n",
    "        average_models=True,\n",
    "        model_dim=2,\n",
    "        zorder=100,\n",
    "    )\n",
    "    axes[i].set_xlabel(cell_type)"
   ]
  },
  {
   "cell_type": "code",
   "execution_count": null,
   "id": "a5a79e9c",
   "metadata": {
    "execution": {
     "iopub.execute_input": "2024-12-08T18:46:23.896443Z",
     "iopub.status.busy": "2024-12-08T18:46:23.896141Z",
     "iopub.status.idle": "2024-12-08T18:46:29.510660Z",
     "shell.execute_reply": "2024-12-08T18:46:29.509346Z"
    }
   },
   "outputs": [],
   "source": [
    "fig, axes, _ = plots.plt_utils.get_axis_grid(\n",
    "    range(4),\n",
    "    projection=\"polar\",\n",
    "    aspect_ratio=4,\n",
    "    figsize=[2.95, 0.83],\n",
    "    wspace=0.25,\n",
    ")\n",
    "for i, cell_type in enumerate([\"T5a\", \"T5b\", \"T5c\", \"T5d\"]):\n",
    "    plot_angular_tuning(\n",
    "        stims_and_resps.sel(network_id=cluster_indices[cell_type][0]),\n",
    "        cell_type=cell_type,\n",
    "        intensity=0,\n",
    "        fig=fig,\n",
    "        ax=axes[i],\n",
    "        groundtruth=True,\n",
    "        groundtruth_linewidth=1.0,\n",
    "        average_models=True,\n",
    "        model_dim=2,\n",
    "        zorder=100,\n",
    "    )\n",
    "    axes[i].set_xlabel(cell_type)"
   ]
  },
  {
   "cell_type": "markdown",
   "id": "a46e535c",
   "metadata": {},
   "source": [
    "## b"
   ]
  },
  {
   "cell_type": "code",
   "execution_count": null,
   "id": "3b2f63e6",
   "metadata": {
    "execution": {
     "iopub.execute_input": "2024-12-08T18:46:29.515894Z",
     "iopub.status.busy": "2024-12-08T18:46:29.515583Z",
     "iopub.status.idle": "2024-12-08T18:46:29.579449Z",
     "shell.execute_reply": "2024-12-08T18:46:29.578788Z"
    }
   },
   "outputs": [],
   "source": [
    "from datamate import namespacify\n",
    "\n",
    "from flyvis.analysis.moving_edge_currents import CellTypeArray, MovingEdgeCurrentView\n",
    "from flyvis.datasets import MovingEdge"
   ]
  },
  {
   "cell_type": "code",
   "execution_count": null,
   "id": "0ead7e54",
   "metadata": {
    "execution": {
     "iopub.execute_input": "2024-12-08T18:46:29.584365Z",
     "iopub.status.busy": "2024-12-08T18:46:29.583965Z",
     "iopub.status.idle": "2024-12-08T18:46:29.609892Z",
     "shell.execute_reply": "2024-12-08T18:46:29.608968Z"
    }
   },
   "outputs": [],
   "source": [
    "target_types = [\"T4c\"]"
   ]
  },
  {
   "cell_type": "code",
   "execution_count": null,
   "id": "7bf8eada",
   "metadata": {
    "execution": {
     "iopub.execute_input": "2024-12-08T18:46:29.614654Z",
     "iopub.status.busy": "2024-12-08T18:46:29.614324Z",
     "iopub.status.idle": "2024-12-08T18:46:39.615588Z",
     "shell.execute_reply": "2024-12-08T18:46:39.614397Z"
    }
   },
   "outputs": [],
   "source": [
    "experiment_data = ensemble.moving_edge_currents()"
   ]
  },
  {
   "cell_type": "code",
   "execution_count": null,
   "id": "13e33f85",
   "metadata": {
    "execution": {
     "iopub.execute_input": "2024-12-08T18:46:39.621854Z",
     "iopub.status.busy": "2024-12-08T18:46:39.621556Z",
     "iopub.status.idle": "2024-12-08T18:46:40.586722Z",
     "shell.execute_reply": "2024-12-08T18:46:40.585799Z"
    }
   },
   "outputs": [],
   "source": [
    "dataset = MovingEdge(**experiment_data[0].config)"
   ]
  },
  {
   "cell_type": "code",
   "execution_count": null,
   "id": "963f365d",
   "metadata": {
    "execution": {
     "iopub.execute_input": "2024-12-08T18:46:40.591915Z",
     "iopub.status.busy": "2024-12-08T18:46:40.591695Z",
     "iopub.status.idle": "2024-12-08T18:46:40.625252Z",
     "shell.execute_reply": "2024-12-08T18:46:40.624496Z"
    }
   },
   "outputs": [],
   "source": [
    "current_views = {}"
   ]
  },
  {
   "cell_type": "code",
   "execution_count": null,
   "id": "df6cfa65",
   "metadata": {
    "execution": {
     "iopub.execute_input": "2024-12-08T18:46:40.628898Z",
     "iopub.status.busy": "2024-12-08T18:46:40.628678Z",
     "iopub.status.idle": "2024-12-08T18:46:52.641067Z",
     "shell.execute_reply": "2024-12-08T18:46:52.639849Z"
    }
   },
   "outputs": [],
   "source": [
    "norm = CellTypeArray(ensemble.responses_norm(rectified=False), ensemble[0].connectome)"
   ]
  },
  {
   "cell_type": "code",
   "execution_count": null,
   "id": "a22be310",
   "metadata": {
    "execution": {
     "iopub.execute_input": "2024-12-08T18:46:52.646892Z",
     "iopub.status.busy": "2024-12-08T18:46:52.646642Z",
     "iopub.status.idle": "2024-12-08T18:46:55.354108Z",
     "shell.execute_reply": "2024-12-08T18:46:55.352962Z"
    }
   },
   "outputs": [],
   "source": [
    "for target_type in target_types:\n",
    "    if target_type not in current_views:\n",
    "        current_views[target_type] = MovingEdgeCurrentView(\n",
    "            ensemble, target_type, experiment_data, dataset.arg_df\n",
    "        )\n",
    "    view = current_views[target_type]"
   ]
  },
  {
   "cell_type": "code",
   "execution_count": null,
   "id": "23297bbd",
   "metadata": {
    "execution": {
     "iopub.execute_input": "2024-12-08T18:46:55.359534Z",
     "iopub.status.busy": "2024-12-08T18:46:55.359202Z",
     "iopub.status.idle": "2024-12-08T18:46:55.442750Z",
     "shell.execute_reply": "2024-12-08T18:46:55.441734Z"
    }
   },
   "outputs": [],
   "source": [
    "for target_type in target_types:\n",
    "    current_views[target_type] = view.divide_by_given_norm(norm)"
   ]
  },
  {
   "cell_type": "code",
   "execution_count": null,
   "id": "c7c947da",
   "metadata": {
    "execution": {
     "iopub.execute_input": "2024-12-08T18:46:55.447719Z",
     "iopub.status.busy": "2024-12-08T18:46:55.447493Z",
     "iopub.status.idle": "2024-12-08T18:46:55.479964Z",
     "shell.execute_reply": "2024-12-08T18:46:55.479231Z"
    }
   },
   "outputs": [],
   "source": [
    "cell_type = \"T4c\"\n",
    "current_view = current_views[cell_type]"
   ]
  },
  {
   "cell_type": "code",
   "execution_count": null,
   "id": "dba68202",
   "metadata": {
    "execution": {
     "iopub.execute_input": "2024-12-08T18:46:55.484396Z",
     "iopub.status.busy": "2024-12-08T18:46:55.484004Z",
     "iopub.status.idle": "2024-12-08T18:46:55.700078Z",
     "shell.execute_reply": "2024-12-08T18:46:55.699384Z"
    }
   },
   "outputs": [],
   "source": [
    "fig, ax = current_view.model_selection(cluster_indices[cell_type][0]).plot_response(\n",
    "    1, 90, t_end=1.0\n",
    ")\n",
    "xlim_responses = ax.get_xlim()\n",
    "ax.set_ylabel(\"voltage (a.u.)\", fontsize=5)\n",
    "ax.set_xlabel(\"time (s)\", fontsize=5)"
   ]
  },
  {
   "cell_type": "code",
   "execution_count": null,
   "id": "1b211c41",
   "metadata": {
    "execution": {
     "iopub.execute_input": "2024-12-08T18:46:55.705328Z",
     "iopub.status.busy": "2024-12-08T18:46:55.705112Z",
     "iopub.status.idle": "2024-12-08T18:46:56.340301Z",
     "shell.execute_reply": "2024-12-08T18:46:56.339595Z"
    }
   },
   "outputs": [],
   "source": [
    "fig, ax, legend_fig, legend_ax = current_view.model_selection(\n",
    "    cluster_indices[cell_type][0]\n",
    ").plot_temporal_contributions(\n",
    "    1,\n",
    "    90,\n",
    "    t_start=0,\n",
    "    t_end=1,\n",
    "    model_average=True,\n",
    "    legend=False,\n",
    "    sum_exc_inh=False,\n",
    "    only_sum=False,\n",
    "    max_figure_height_cm=3.3941,\n",
    "    panel_height_cm=3.3941,\n",
    "    max_figure_width_cm=4.0513,\n",
    "    panel_width_cm=4.0513,\n",
    "    hide_source_types=None,\n",
    ")\n",
    "ylim = ax.get_ylim()\n",
    "ax.set_ylabel(\"current (a.u.)\", fontsize=5)"
   ]
  },
  {
   "cell_type": "code",
   "execution_count": null,
   "id": "ebe9fad5",
   "metadata": {
    "execution": {
     "iopub.execute_input": "2024-12-08T18:46:56.345401Z",
     "iopub.status.busy": "2024-12-08T18:46:56.345193Z",
     "iopub.status.idle": "2024-12-08T18:46:57.275315Z",
     "shell.execute_reply": "2024-12-08T18:46:57.274272Z"
    }
   },
   "outputs": [],
   "source": [
    "fig, ax, _ = current_view.model_selection(\n",
    "    cluster_indices[cell_type][0]\n",
    ").plot_spatial_contribution_grid(\n",
    "    t_start=0,\n",
    "    t_end=1,\n",
    ")"
   ]
  },
  {
   "cell_type": "markdown",
   "id": "862baacc",
   "metadata": {},
   "source": [
    "## d"
   ]
  },
  {
   "cell_type": "code",
   "execution_count": null,
   "id": "7fa4aadf",
   "metadata": {
    "execution": {
     "iopub.execute_input": "2024-12-08T18:46:57.281741Z",
     "iopub.status.busy": "2024-12-08T18:46:57.281518Z",
     "iopub.status.idle": "2024-12-08T18:46:57.331714Z",
     "shell.execute_reply": "2024-12-08T18:46:57.330979Z"
    }
   },
   "outputs": [],
   "source": [
    "from flyvis.utils.color_utils import flash_response_color_labels\n",
    "from flyvis.analysis.visualization.figsize_utils import fit_panel_size\n",
    "from scipy.signal import find_peaks\n",
    "from flyvis.utils.hex_utils import hex_rows\n",
    "from flyvis.analysis.visualization import plt_utils, plots\n",
    "from flyvis.analysis.visualization.plots import plot_strf\n",
    "from flyvis.datasets.dots import SpatialImpulses"
   ]
  },
  {
   "cell_type": "code",
   "execution_count": null,
   "id": "4f36ebcc",
   "metadata": {
    "execution": {
     "iopub.execute_input": "2024-12-08T18:46:57.336447Z",
     "iopub.status.busy": "2024-12-08T18:46:57.336254Z",
     "iopub.status.idle": "2024-12-08T18:46:59.367554Z",
     "shell.execute_reply": "2024-12-08T18:46:59.366513Z"
    }
   },
   "outputs": [],
   "source": [
    "norm = ensemble.responses_norm()"
   ]
  },
  {
   "cell_type": "code",
   "execution_count": null,
   "id": "71d0ce22",
   "metadata": {
    "execution": {
     "iopub.execute_input": "2024-12-08T18:46:59.372756Z",
     "iopub.status.busy": "2024-12-08T18:46:59.372486Z",
     "iopub.status.idle": "2024-12-08T18:47:09.425793Z",
     "shell.execute_reply": "2024-12-08T18:47:09.424643Z"
    }
   },
   "outputs": [],
   "source": [
    "flashes_and_resps = ensemble.spatial_impulses_responses()\n",
    "flashes_and_resps['responses'] = flashes_and_resps['responses'] / norm"
   ]
  },
  {
   "cell_type": "code",
   "execution_count": null,
   "id": "7c93ed0f",
   "metadata": {
    "execution": {
     "iopub.execute_input": "2024-12-08T18:47:09.431046Z",
     "iopub.status.busy": "2024-12-08T18:47:09.430838Z",
     "iopub.status.idle": "2024-12-08T18:47:09.940452Z",
     "shell.execute_reply": "2024-12-08T18:47:09.939338Z"
    }
   },
   "outputs": [],
   "source": [
    "dataset = SpatialImpulses(**flashes_and_resps.attrs['config'])"
   ]
  },
  {
   "cell_type": "code",
   "execution_count": null,
   "id": "c466480d",
   "metadata": {
    "execution": {
     "iopub.execute_input": "2024-12-08T18:47:09.945081Z",
     "iopub.status.busy": "2024-12-08T18:47:09.944889Z",
     "iopub.status.idle": "2024-12-08T18:47:09.972029Z",
     "shell.execute_reply": "2024-12-08T18:47:09.971320Z"
    }
   },
   "outputs": [],
   "source": [
    "srf_cell_types = [\n",
    "    \"Mi1\",\n",
    "    \"Tm3\",\n",
    "    \"Mi4\",\n",
    "    \"Mi9\",\n",
    "    \"CT1(M10)\",\n",
    "    \"Tm1\",\n",
    "    \"Tm2\",\n",
    "    \"Tm4\",\n",
    "    \"Tm9\",\n",
    "    \"CT1(Lo1)\",\n",
    "]"
   ]
  },
  {
   "cell_type": "code",
   "execution_count": null,
   "id": "276b158e",
   "metadata": {
    "execution": {
     "iopub.execute_input": "2024-12-08T18:47:09.975839Z",
     "iopub.status.busy": "2024-12-08T18:47:09.975544Z",
     "iopub.status.idle": "2024-12-08T18:47:17.601333Z",
     "shell.execute_reply": "2024-12-08T18:47:17.600209Z"
    }
   },
   "outputs": [],
   "source": [
    "def strf_to_srf(strf):\n",
    "    # subtract spatial mean of baseline response\n",
    "    strf = (strf - strf.isel(frame=0).mean(\"sample\").item()).squeeze().values.T\n",
    "\n",
    "    # find the absmax of the response to central impulse, corresponding to\n",
    "    # x.shape[0]//2\n",
    "    absmax_index = find_peaks(np.abs(strf[:, strf.shape[1] // 2]))[0]\n",
    "    absmax_index = absmax_index[0] if absmax_index.any() else 0\n",
    "    return strf[absmax_index].squeeze()\n",
    "\n",
    "\n",
    "mean_srfs = {}\n",
    "for cell_type in srf_cell_types:\n",
    "    strfs = (\n",
    "        flashes_and_resps['responses']\n",
    "        .sel(network_id=cluster_indices[cell_type][0])\n",
    "        .custom.where(time=\">=0,<0.25\", t_impulse=0.02, cell_type=cell_type, intensity=1)\n",
    "        .mean(\"network_id\")\n",
    "    )\n",
    "    mean_srfs[cell_type] = strf_to_srf(strfs)"
   ]
  },
  {
   "cell_type": "code",
   "execution_count": null,
   "id": "adf09bec",
   "metadata": {
    "execution": {
     "iopub.execute_input": "2024-12-08T18:47:17.606228Z",
     "iopub.status.busy": "2024-12-08T18:47:17.606029Z",
     "iopub.status.idle": "2024-12-08T18:47:19.589041Z",
     "shell.execute_reply": "2024-12-08T18:47:19.588267Z"
    }
   },
   "outputs": [],
   "source": [
    "x, y = hex_rows(2, 5)\n",
    "fig, axes, pos = plt_utils.ax_scatter(\n",
    "    x, y, figsize=[3.5, 2], hpad=0, wpad=0.1, wspace=-0.5, hspace=-0.4\n",
    ")\n",
    "\n",
    "axes = np.array(axes).reshape(2, 5)\n",
    "\n",
    "for i, row in enumerate(np.array(srf_cell_types).reshape(2, 5)):\n",
    "    for j, cell_type in enumerate(row):\n",
    "        crange = np.max(np.abs(mean_srfs[cell_type]))\n",
    "        fig, ax, _ = plots.hex_scatter(\n",
    "            dataset.dots.u,\n",
    "            dataset.dots.v,\n",
    "            mean_srfs[cell_type],\n",
    "            cmap=plt.cm.coolwarm,\n",
    "            vmin=-crange,\n",
    "            vmax=crange,\n",
    "            figsize=[3, 3],\n",
    "            cbar=False,\n",
    "            fig=fig,\n",
    "            ax=axes[1 - i, j],\n",
    "        )\n",
    "        ax.set_xlabel(cell_type, fontsize=6, labelpad=-10)\n",
    "\n",
    "for ax in axes.flatten():\n",
    "    flash_response_color_labels(ax)"
   ]
  },
  {
   "cell_type": "markdown",
   "id": "67621ef6",
   "metadata": {},
   "source": [
    "## e"
   ]
  },
  {
   "cell_type": "code",
   "execution_count": null,
   "id": "18c55a96",
   "metadata": {
    "execution": {
     "iopub.execute_input": "2024-12-08T18:47:19.595415Z",
     "iopub.status.busy": "2024-12-08T18:47:19.595033Z",
     "iopub.status.idle": "2024-12-08T18:47:19.629496Z",
     "shell.execute_reply": "2024-12-08T18:47:19.628575Z"
    }
   },
   "outputs": [],
   "source": [
    "from flyvis.datasets.dots import CentralImpulses"
   ]
  },
  {
   "cell_type": "code",
   "execution_count": null,
   "id": "37dbbabc",
   "metadata": {
    "execution": {
     "iopub.execute_input": "2024-12-08T18:47:19.633065Z",
     "iopub.status.busy": "2024-12-08T18:47:19.632880Z",
     "iopub.status.idle": "2024-12-08T18:47:26.384961Z",
     "shell.execute_reply": "2024-12-08T18:47:26.383861Z"
    }
   },
   "outputs": [],
   "source": [
    "central_flash_and_resps = ensemble.central_impulses_responses()\n",
    "central_flash_and_resps['responses'] = central_flash_and_resps['responses'] / norm"
   ]
  },
  {
   "cell_type": "code",
   "execution_count": null,
   "id": "bd852b9e",
   "metadata": {
    "execution": {
     "iopub.execute_input": "2024-12-08T18:47:26.390163Z",
     "iopub.status.busy": "2024-12-08T18:47:26.389883Z",
     "iopub.status.idle": "2024-12-08T18:47:26.484130Z",
     "shell.execute_reply": "2024-12-08T18:47:26.483365Z"
    }
   },
   "outputs": [],
   "source": [
    "dataset = CentralImpulses(**central_flash_and_resps.attrs['config'])"
   ]
  },
  {
   "cell_type": "code",
   "execution_count": null,
   "id": "9a84e817",
   "metadata": {
    "execution": {
     "iopub.execute_input": "2024-12-08T18:47:26.489169Z",
     "iopub.status.busy": "2024-12-08T18:47:26.488760Z",
     "iopub.status.idle": "2024-12-08T18:47:26.515562Z",
     "shell.execute_reply": "2024-12-08T18:47:26.514838Z"
    }
   },
   "outputs": [],
   "source": [
    "trf_cell_types = np.array([\n",
    "    \"Mi1\",\n",
    "    \"Tm3\",\n",
    "    \"Mi4\",\n",
    "    \"Mi9\",\n",
    "    \"CT1(M10)\",\n",
    "    \"Tm1\",\n",
    "    \"Tm2\",\n",
    "    \"Tm4\",\n",
    "    \"Tm9\",\n",
    "    \"CT1(Lo1)\",\n",
    "    \"L1\",\n",
    "    \"L2\",\n",
    "    \"L3\",\n",
    "    \"L4\",\n",
    "    \"L5\",\n",
    "]).reshape(5, 3, order=\"F\")"
   ]
  },
  {
   "cell_type": "code",
   "execution_count": null,
   "id": "cd9c9f74",
   "metadata": {
    "execution": {
     "iopub.execute_input": "2024-12-08T18:47:26.519243Z",
     "iopub.status.busy": "2024-12-08T18:47:26.518980Z",
     "iopub.status.idle": "2024-12-08T18:47:26.548197Z",
     "shell.execute_reply": "2024-12-08T18:47:26.547611Z"
    }
   },
   "outputs": [],
   "source": [
    "durations = [0.02, 0.05, 0.1, 0.2, 0.3]\n",
    "on_cmap = plt_utils.truncate_colormap(plt.cm.Blues_r, minval=0.0, maxval=0.4).resampled(\n",
    "    len(durations)\n",
    ")\n",
    "off_cmap = plt_utils.truncate_colormap(plt.cm.Blues_r, minval=0.5, maxval=0.9).resampled(\n",
    "    len(durations)\n",
    ")\n",
    "cmaps = {\n",
    "    1.0: [on_cmap(i) for i in range(on_cmap.N)][::-1],\n",
    "    0: [off_cmap(i) for i in range(off_cmap.N)][::-1],\n",
    "}"
   ]
  },
  {
   "cell_type": "code",
   "execution_count": null,
   "id": "32988865",
   "metadata": {
    "execution": {
     "iopub.execute_input": "2024-12-08T18:47:26.552993Z",
     "iopub.status.busy": "2024-12-08T18:47:26.552797Z",
     "iopub.status.idle": "2024-12-08T18:47:36.946333Z",
     "shell.execute_reply": "2024-12-08T18:47:36.945415Z"
    }
   },
   "outputs": [],
   "source": [
    "fig, axes = fit_panel_size(\n",
    "    5,\n",
    "    3,\n",
    "    max_figure_height_cm=5.35,\n",
    "    max_figure_width_cm=8,\n",
    "    panel_width_cm=8 / 3,\n",
    "    panel_height_cm=5.35 / 10,\n",
    ").axis_grid(wspace=0.6, hspace=0.0, as_matrix=True)\n",
    "for i, row in enumerate(trf_cell_types):\n",
    "    for j, cell_type in enumerate(row):\n",
    "        ax = axes[i, j]\n",
    "        for q, duration in enumerate(durations[::-1]):\n",
    "            for intensity in [0, 1]:\n",
    "                color = cmaps[intensity][\n",
    "                    q\n",
    "                ]  # plt.cm.Blues(256) if intensity == 1 else plt.cm.Blues(128)\n",
    "                #                 linestyle = \"solid\" if intensity == 1 else \"dashed\"\n",
    "                zorder = 1 if intensity == 1 else 0\n",
    "\n",
    "                r = (\n",
    "                    central_flash_and_resps['responses']\n",
    "                    .sel(network_id=cluster_indices[cell_type][0])\n",
    "                    .custom.where(\n",
    "                        time=\">=0,<1.0\",\n",
    "                        cell_type=cell_type,\n",
    "                        intensity=intensity,\n",
    "                        t_impulse=duration,\n",
    "                    )\n",
    "                    .mean(\"network_id\")\n",
    "                )\n",
    "                # subtract baseline after model averaging to plot it centered\n",
    "                mean = (r - r.isel(frame=0).values).squeeze()\n",
    "                ax.plot(r.time, mean, linewidth=0.5, color=color, zorder=zorder)\n",
    "        ax.hlines(\n",
    "            mean[0],\n",
    "            r.time.min(),\n",
    "            r.time.max(),\n",
    "            linewidth=0.5,\n",
    "            color=\"0.5\",\n",
    "            zorder=-1,\n",
    "        )\n",
    "\n",
    "        plt_utils.rm_spines(ax)\n",
    "        ax.yaxis.set_label_position(\"right\")\n",
    "        ax.set_ylabel(\n",
    "            cell_type,\n",
    "            fontsize=6,\n",
    "            rotation=0,\n",
    "            ha=\"left\",\n",
    "            va=\"center\",\n",
    "            labelpad=0.1,\n",
    "        )\n",
    "        #         ylim = np.array)\n",
    "        ylim = np.array(ax.get_ylim())\n",
    "        ylim = (-max(abs(ylim)), max(abs(ylim)))\n",
    "        ax.set_ylim(ylim)\n",
    "\n",
    "for ax in axes.flatten():\n",
    "    flash_response_color_labels(ax)"
   ]
  },
  {
   "cell_type": "markdown",
   "id": "7b9f3050",
   "metadata": {},
   "source": [
    "stimulus"
   ]
  },
  {
   "cell_type": "code",
   "execution_count": null,
   "id": "759ee2a9",
   "metadata": {
    "execution": {
     "iopub.execute_input": "2024-12-08T18:47:36.953995Z",
     "iopub.status.busy": "2024-12-08T18:47:36.953727Z",
     "iopub.status.idle": "2024-12-08T18:47:37.454872Z",
     "shell.execute_reply": "2024-12-08T18:47:37.454044Z"
    }
   },
   "outputs": [],
   "source": [
    "fig, axes = fit_panel_size(\n",
    "    5,\n",
    "    3,\n",
    "    max_figure_height_cm=5.35,\n",
    "    max_figure_width_cm=8,\n",
    "    panel_width_cm=8 / 3,\n",
    "    panel_height_cm=5.35 / 10,\n",
    ").axis_grid(wspace=0.6, hspace=0.0, as_matrix=True, unmask_n=1)\n",
    "ax = axes[0, 0]\n",
    "for j, duration in enumerate(durations[::-1]):\n",
    "    for intensity in [0, 1]:\n",
    "        color = cmaps[intensity][j]\n",
    "        #                 linestyle = \"solid\" if intensity == 1 else \"dashed\"\n",
    "        zorder = 1 if intensity == 1 else 0\n",
    "        stim = (\n",
    "            central_flash_and_resps['stimulus']\n",
    "            .custom.where(\n",
    "                time=f\">=-{2 * central_flash_and_resps.attrs['config']['dt']},<1.0\",\n",
    "                intensity=intensity,\n",
    "                t_impulse=duration,\n",
    "                u_in=0,\n",
    "                v_in=0,\n",
    "            )\n",
    "            .squeeze()\n",
    "        )\n",
    "        ax.plot(stim, linewidth=0.5, color=color, zorder=zorder)\n",
    "ax.hlines(\n",
    "    0,\n",
    "    stim.time.min(),\n",
    "    stim.time.max(),\n",
    "    linewidth=0.5,\n",
    "    color=\"0.5\",\n",
    "    zorder=-1,\n",
    ")\n",
    "\n",
    "plt_utils.rm_spines(ax)\n",
    "\n",
    "ylim = np.array(ax.get_ylim())\n",
    "ylim = (-max(abs(ylim)), max(abs(ylim)))\n",
    "ax.set_ylim(ylim)"
   ]
  },
  {
   "cell_type": "markdown",
   "id": "1215d859",
   "metadata": {},
   "source": [
    "## Extended Data Fig. 9"
   ]
  },
  {
   "cell_type": "markdown",
   "id": "198b28db",
   "metadata": {},
   "source": [
    "### T4c"
   ]
  },
  {
   "cell_type": "code",
   "execution_count": null,
   "id": "91ed00ea",
   "metadata": {
    "execution": {
     "iopub.execute_input": "2024-12-08T18:47:37.460325Z",
     "iopub.status.busy": "2024-12-08T18:47:37.459832Z",
     "iopub.status.idle": "2024-12-08T18:47:39.552717Z",
     "shell.execute_reply": "2024-12-08T18:47:39.551833Z"
    }
   },
   "outputs": [],
   "source": [
    "strfs = (\n",
    "    flashes_and_resps['responses']\n",
    "    .sel(network_id=cluster_indices[\"T4c\"][0])\n",
    "    .custom.where(t_impulse=0.02, cell_type=\"T4c\", time=\">=0,<0.25\", intensity=1)\n",
    "    .mean(\"network_id\")\n",
    ")"
   ]
  },
  {
   "cell_type": "code",
   "execution_count": null,
   "id": "19467547",
   "metadata": {
    "execution": {
     "iopub.execute_input": "2024-12-08T18:47:39.557771Z",
     "iopub.status.busy": "2024-12-08T18:47:39.557522Z",
     "iopub.status.idle": "2024-12-08T18:47:39.593426Z",
     "shell.execute_reply": "2024-12-08T18:47:39.592680Z"
    }
   },
   "outputs": [],
   "source": [
    "strfs = (strfs - strfs.isel(frame=0).mean().values).squeeze()"
   ]
  },
  {
   "cell_type": "code",
   "execution_count": null,
   "id": "4dfae5bf",
   "metadata": {
    "execution": {
     "iopub.execute_input": "2024-12-08T18:47:39.597209Z",
     "iopub.status.busy": "2024-12-08T18:47:39.596838Z",
     "iopub.status.idle": "2024-12-08T18:47:41.555197Z",
     "shell.execute_reply": "2024-12-08T18:47:41.554157Z"
    }
   },
   "outputs": [],
   "source": [
    "fig, axes = plot_strf(strfs.time, strfs.values.T)"
   ]
  },
  {
   "cell_type": "markdown",
   "id": "b91b0055",
   "metadata": {},
   "source": [
    "### T5c"
   ]
  },
  {
   "cell_type": "code",
   "execution_count": null,
   "id": "5ebe797e",
   "metadata": {
    "execution": {
     "iopub.execute_input": "2024-12-08T18:47:41.560916Z",
     "iopub.status.busy": "2024-12-08T18:47:41.560599Z",
     "iopub.status.idle": "2024-12-08T18:47:42.082236Z",
     "shell.execute_reply": "2024-12-08T18:47:42.081288Z"
    }
   },
   "outputs": [],
   "source": [
    "strfs = (\n",
    "    flashes_and_resps['responses']\n",
    "    .sel(network_id=cluster_indices[\"T5c\"][0])\n",
    "    .custom.where(t_impulse=0.02, cell_type=\"T5c\", time=\">=0,<0.25\", intensity=1)\n",
    "    .mean(\"network_id\")\n",
    ")"
   ]
  },
  {
   "cell_type": "code",
   "execution_count": null,
   "id": "5bcca773",
   "metadata": {
    "execution": {
     "iopub.execute_input": "2024-12-08T18:47:42.087379Z",
     "iopub.status.busy": "2024-12-08T18:47:42.086913Z",
     "iopub.status.idle": "2024-12-08T18:47:42.124869Z",
     "shell.execute_reply": "2024-12-08T18:47:42.124165Z"
    }
   },
   "outputs": [],
   "source": [
    "strfs = (strfs - strfs.isel(frame=0).mean().values).squeeze()"
   ]
  },
  {
   "cell_type": "code",
   "execution_count": null,
   "id": "8fd4ed10",
   "metadata": {
    "execution": {
     "iopub.execute_input": "2024-12-08T18:47:42.128478Z",
     "iopub.status.busy": "2024-12-08T18:47:42.128285Z",
     "iopub.status.idle": "2024-12-08T18:47:44.384979Z",
     "shell.execute_reply": "2024-12-08T18:47:44.384193Z"
    }
   },
   "outputs": [],
   "source": [
    "fig, axes = plot_strf(strfs.time, strfs.values.T)"
   ]
  },
  {
   "cell_type": "markdown",
   "id": "911a0485",
   "metadata": {},
   "source": [
    "## f"
   ]
  },
  {
   "cell_type": "code",
   "execution_count": null,
   "id": "f3cb93f9",
   "metadata": {
    "execution": {
     "iopub.execute_input": "2024-12-08T18:47:44.391054Z",
     "iopub.status.busy": "2024-12-08T18:47:44.390613Z",
     "iopub.status.idle": "2024-12-08T18:47:44.427006Z",
     "shell.execute_reply": "2024-12-08T18:47:44.425860Z"
    }
   },
   "outputs": [],
   "source": [
    "from flyvis.analysis.optimal_stimuli import plot_stim_response"
   ]
  },
  {
   "cell_type": "code",
   "execution_count": null,
   "id": "888bef1b",
   "metadata": {
    "execution": {
     "iopub.execute_input": "2024-12-08T18:47:44.431099Z",
     "iopub.status.busy": "2024-12-08T18:47:44.430890Z",
     "iopub.status.idle": "2024-12-08T18:47:44.457932Z",
     "shell.execute_reply": "2024-12-08T18:47:44.457222Z"
    }
   },
   "outputs": [],
   "source": [
    "network_view = ensemble[0]"
   ]
  },
  {
   "cell_type": "code",
   "execution_count": null,
   "id": "d65bb39a",
   "metadata": {
    "execution": {
     "iopub.execute_input": "2024-12-08T18:47:44.461904Z",
     "iopub.status.busy": "2024-12-08T18:47:44.461714Z",
     "iopub.status.idle": "2024-12-08T18:47:44.635715Z",
     "shell.execute_reply": "2024-12-08T18:47:44.634968Z"
    }
   },
   "outputs": [],
   "source": [
    "optstims = network_view.optimal_stimulus_responses(\"T4c\")"
   ]
  },
  {
   "cell_type": "code",
   "execution_count": null,
   "id": "9e99b7e4",
   "metadata": {
    "execution": {
     "iopub.execute_input": "2024-12-08T18:47:44.640870Z",
     "iopub.status.busy": "2024-12-08T18:47:44.640408Z",
     "iopub.status.idle": "2024-12-08T18:47:50.509965Z",
     "shell.execute_reply": "2024-12-08T18:47:50.509197Z"
    }
   },
   "outputs": [],
   "source": [
    "stim_resp_plot = plot_stim_response(\n",
    "    optstims.regularized_stimulus,\n",
    "    optstims.response,\n",
    "    1 / 100,\n",
    "    *network_view.get_uv(\"T4c\"),\n",
    "    figsize=[5, 1.6],\n",
    "    ylabel=None,\n",
    "    label_peak_response=False,\n",
    ")"
   ]
  },
  {
   "cell_type": "code",
   "execution_count": null,
   "id": "57c396c5",
   "metadata": {
    "execution": {
     "iopub.execute_input": "2024-12-08T18:47:50.517828Z",
     "iopub.status.busy": "2024-12-08T18:47:50.517500Z",
     "iopub.status.idle": "2024-12-08T18:47:50.673091Z",
     "shell.execute_reply": "2024-12-08T18:47:50.671942Z"
    }
   },
   "outputs": [],
   "source": [
    "optstims = network_view.optimal_stimulus_responses(\"T5c\")"
   ]
  },
  {
   "cell_type": "code",
   "execution_count": null,
   "id": "d910569c",
   "metadata": {
    "execution": {
     "iopub.execute_input": "2024-12-08T18:47:50.678139Z",
     "iopub.status.busy": "2024-12-08T18:47:50.677799Z",
     "iopub.status.idle": "2024-12-08T18:47:56.795610Z",
     "shell.execute_reply": "2024-12-08T18:47:56.794795Z"
    }
   },
   "outputs": [],
   "source": [
    "stim_resp_plot = plot_stim_response(\n",
    "    optstims.regularized_stimulus,\n",
    "    optstims.response,\n",
    "    1 / 100,\n",
    "    *network_view.get_uv(\"T5c\"),\n",
    "    figsize=[5, 1.6],\n",
    "    ylabel=None,\n",
    "    label_peak_response=False,\n",
    ")"
   ]
  },
  {
   "cell_type": "code",
   "execution_count": null,
   "id": "033dacaf",
   "metadata": {},
   "outputs": [],
   "source": []
  }
 ],
 "metadata": {
  "celltoolbar": "Tags",
  "kernelspec": {
   "display_name": "Python 3 (ipykernel)",
   "language": "python",
   "name": "python3"
  },
  "language_info": {
   "codemirror_mode": {
    "name": "ipython",
    "version": 3
   },
   "file_extension": ".py",
   "mimetype": "text/x-python",
   "name": "python",
   "nbconvert_exporter": "python",
   "pygments_lexer": "ipython3",
   "version": "3.9.16"
  },
  "papermill": {
   "default_parameters": {},
   "duration": 844.769738,
   "end_time": "2023-09-19T12:03:11.710643",
   "environment_variables": {},
   "exception": null,
   "input_path": "/groups/turaga/home/lappalainenj/FlyVis/dvs-sim/notebooks/01_paper_figures/figure_03_best_model/figure_03_best_model_ensemble_factory.ipynb",
   "output_path": "/groups/turaga/home/lappalainenj/FlyVis/dvs-sim/notebooks/02_flow_ensembles/flow/0092/figure_sweep/0092_0002_figure_03_best_model_ensemble_factory.ipynb",
   "parameters": {
    "delete_if_exists": false,
    "ensemble_name": "flow/0092",
    "figure_version": 2,
    "gm_random_state": 0,
    "init_params": "kmeans",
    "max_components": 5,
    "max_iter": 1000,
    "min_dist": 0.105,
    "model_id": "0002",
    "n_init": 100,
    "n_neighbors": 5,
    "naturalistic_responses_version": "v4",
    "random_state": 42,
    "spread": 9,
    "tol": 0.001,
    "use_stored_embeddings": true
   },
   "start_time": "2023-09-19T11:49:06.940905",
   "version": "2.4.0"
  },
  "toc": {
   "base_numbering": 1,
   "nav_menu": {},
   "number_sections": true,
   "sideBar": true,
   "skip_h1_title": false,
   "title_cell": "Table of Contents",
   "title_sidebar": "Contents",
   "toc_cell": false,
   "toc_position": {
    "height": "calc(100% - 180px)",
    "left": "10px",
    "top": "150px",
    "width": "318.172px"
   },
   "toc_section_display": true,
   "toc_window_display": true
  },
  "widgets": {
   "application/vnd.jupyter.widget-state+json": {
    "state": {
     "04cfeb398c9347caa7fb8402610c751e": {
      "model_module": "@jupyter-widgets/controls",
      "model_module_version": "2.0.0",
      "model_name": "HTMLModel",
      "state": {
       "_dom_classes": [],
       "_model_module": "@jupyter-widgets/controls",
       "_model_module_version": "2.0.0",
       "_model_name": "HTMLModel",
       "_view_count": null,
       "_view_module": "@jupyter-widgets/controls",
       "_view_module_version": "2.0.0",
       "_view_name": "HTMLView",
       "description": "",
       "description_allow_html": false,
       "layout": "IPY_MODEL_83b34e453e2940fba7713a5076c993a3",
       "placeholder": "​",
       "style": "IPY_MODEL_08f52cb221cc4998a2d3b67ce57d4389",
       "tabbable": null,
       "tooltip": null,
       "value": "Loading ensemble: 100%"
      }
     },
     "08f52cb221cc4998a2d3b67ce57d4389": {
      "model_module": "@jupyter-widgets/controls",
      "model_module_version": "2.0.0",
      "model_name": "HTMLStyleModel",
      "state": {
       "_model_module": "@jupyter-widgets/controls",
       "_model_module_version": "2.0.0",
       "_model_name": "HTMLStyleModel",
       "_view_count": null,
       "_view_module": "@jupyter-widgets/base",
       "_view_module_version": "2.0.0",
       "_view_name": "StyleView",
       "background": null,
       "description_width": "",
       "font_size": null,
       "text_color": null
      }
     },
     "0eb15030ca6f4295bdd4b9f15187bc9b": {
      "model_module": "@jupyter-widgets/controls",
      "model_module_version": "2.0.0",
      "model_name": "HTMLModel",
      "state": {
       "_dom_classes": [],
       "_model_module": "@jupyter-widgets/controls",
       "_model_module_version": "2.0.0",
       "_model_name": "HTMLModel",
       "_view_count": null,
       "_view_module": "@jupyter-widgets/controls",
       "_view_module_version": "2.0.0",
       "_view_name": "HTMLView",
       "description": "",
       "description_allow_html": false,
       "layout": "IPY_MODEL_9da6354a60c343e7b27b6ced3f998572",
       "placeholder": "​",
       "style": "IPY_MODEL_141acb2a422c4a169e895d019d9bd78b",
       "tabbable": null,
       "tooltip": null,
       "value": " 50/50 [00:11&lt;00:00,  4.33it/s]"
      }
     },
     "141acb2a422c4a169e895d019d9bd78b": {
      "model_module": "@jupyter-widgets/controls",
      "model_module_version": "2.0.0",
      "model_name": "HTMLStyleModel",
      "state": {
       "_model_module": "@jupyter-widgets/controls",
       "_model_module_version": "2.0.0",
       "_model_name": "HTMLStyleModel",
       "_view_count": null,
       "_view_module": "@jupyter-widgets/base",
       "_view_module_version": "2.0.0",
       "_view_name": "StyleView",
       "background": null,
       "description_width": "",
       "font_size": null,
       "text_color": null
      }
     },
     "83b34e453e2940fba7713a5076c993a3": {
      "model_module": "@jupyter-widgets/base",
      "model_module_version": "2.0.0",
      "model_name": "LayoutModel",
      "state": {
       "_model_module": "@jupyter-widgets/base",
       "_model_module_version": "2.0.0",
       "_model_name": "LayoutModel",
       "_view_count": null,
       "_view_module": "@jupyter-widgets/base",
       "_view_module_version": "2.0.0",
       "_view_name": "LayoutView",
       "align_content": null,
       "align_items": null,
       "align_self": null,
       "border_bottom": null,
       "border_left": null,
       "border_right": null,
       "border_top": null,
       "bottom": null,
       "display": null,
       "flex": null,
       "flex_flow": null,
       "grid_area": null,
       "grid_auto_columns": null,
       "grid_auto_flow": null,
       "grid_auto_rows": null,
       "grid_column": null,
       "grid_gap": null,
       "grid_row": null,
       "grid_template_areas": null,
       "grid_template_columns": null,
       "grid_template_rows": null,
       "height": null,
       "justify_content": null,
       "justify_items": null,
       "left": null,
       "margin": null,
       "max_height": null,
       "max_width": null,
       "min_height": null,
       "min_width": null,
       "object_fit": null,
       "object_position": null,
       "order": null,
       "overflow": null,
       "padding": null,
       "right": null,
       "top": null,
       "visibility": null,
       "width": null
      }
     },
     "8e80b2cc8fd644c9b6619b28cafdee1f": {
      "model_module": "@jupyter-widgets/controls",
      "model_module_version": "2.0.0",
      "model_name": "HBoxModel",
      "state": {
       "_dom_classes": [],
       "_model_module": "@jupyter-widgets/controls",
       "_model_module_version": "2.0.0",
       "_model_name": "HBoxModel",
       "_view_count": null,
       "_view_module": "@jupyter-widgets/controls",
       "_view_module_version": "2.0.0",
       "_view_name": "HBoxView",
       "box_style": "",
       "children": [
        "IPY_MODEL_04cfeb398c9347caa7fb8402610c751e",
        "IPY_MODEL_eb6a8cb6555f4acdb3a97d0cc41f3f6b",
        "IPY_MODEL_0eb15030ca6f4295bdd4b9f15187bc9b"
       ],
       "layout": "IPY_MODEL_f37693029ca646a3befe632c6f257b30",
       "tabbable": null,
       "tooltip": null
      }
     },
     "9da6354a60c343e7b27b6ced3f998572": {
      "model_module": "@jupyter-widgets/base",
      "model_module_version": "2.0.0",
      "model_name": "LayoutModel",
      "state": {
       "_model_module": "@jupyter-widgets/base",
       "_model_module_version": "2.0.0",
       "_model_name": "LayoutModel",
       "_view_count": null,
       "_view_module": "@jupyter-widgets/base",
       "_view_module_version": "2.0.0",
       "_view_name": "LayoutView",
       "align_content": null,
       "align_items": null,
       "align_self": null,
       "border_bottom": null,
       "border_left": null,
       "border_right": null,
       "border_top": null,
       "bottom": null,
       "display": null,
       "flex": null,
       "flex_flow": null,
       "grid_area": null,
       "grid_auto_columns": null,
       "grid_auto_flow": null,
       "grid_auto_rows": null,
       "grid_column": null,
       "grid_gap": null,
       "grid_row": null,
       "grid_template_areas": null,
       "grid_template_columns": null,
       "grid_template_rows": null,
       "height": null,
       "justify_content": null,
       "justify_items": null,
       "left": null,
       "margin": null,
       "max_height": null,
       "max_width": null,
       "min_height": null,
       "min_width": null,
       "object_fit": null,
       "object_position": null,
       "order": null,
       "overflow": null,
       "padding": null,
       "right": null,
       "top": null,
       "visibility": null,
       "width": null
      }
     },
     "cf7cddbdc1f44da899391ae901784c9a": {
      "model_module": "@jupyter-widgets/base",
      "model_module_version": "2.0.0",
      "model_name": "LayoutModel",
      "state": {
       "_model_module": "@jupyter-widgets/base",
       "_model_module_version": "2.0.0",
       "_model_name": "LayoutModel",
       "_view_count": null,
       "_view_module": "@jupyter-widgets/base",
       "_view_module_version": "2.0.0",
       "_view_name": "LayoutView",
       "align_content": null,
       "align_items": null,
       "align_self": null,
       "border_bottom": null,
       "border_left": null,
       "border_right": null,
       "border_top": null,
       "bottom": null,
       "display": null,
       "flex": null,
       "flex_flow": null,
       "grid_area": null,
       "grid_auto_columns": null,
       "grid_auto_flow": null,
       "grid_auto_rows": null,
       "grid_column": null,
       "grid_gap": null,
       "grid_row": null,
       "grid_template_areas": null,
       "grid_template_columns": null,
       "grid_template_rows": null,
       "height": null,
       "justify_content": null,
       "justify_items": null,
       "left": null,
       "margin": null,
       "max_height": null,
       "max_width": null,
       "min_height": null,
       "min_width": null,
       "object_fit": null,
       "object_position": null,
       "order": null,
       "overflow": null,
       "padding": null,
       "right": null,
       "top": null,
       "visibility": null,
       "width": null
      }
     },
     "e82af382ea21465d8998a56fbac89d4b": {
      "model_module": "@jupyter-widgets/controls",
      "model_module_version": "2.0.0",
      "model_name": "ProgressStyleModel",
      "state": {
       "_model_module": "@jupyter-widgets/controls",
       "_model_module_version": "2.0.0",
       "_model_name": "ProgressStyleModel",
       "_view_count": null,
       "_view_module": "@jupyter-widgets/base",
       "_view_module_version": "2.0.0",
       "_view_name": "StyleView",
       "bar_color": null,
       "description_width": ""
      }
     },
     "eb6a8cb6555f4acdb3a97d0cc41f3f6b": {
      "model_module": "@jupyter-widgets/controls",
      "model_module_version": "2.0.0",
      "model_name": "FloatProgressModel",
      "state": {
       "_dom_classes": [],
       "_model_module": "@jupyter-widgets/controls",
       "_model_module_version": "2.0.0",
       "_model_name": "FloatProgressModel",
       "_view_count": null,
       "_view_module": "@jupyter-widgets/controls",
       "_view_module_version": "2.0.0",
       "_view_name": "ProgressView",
       "bar_style": "success",
       "description": "",
       "description_allow_html": false,
       "layout": "IPY_MODEL_cf7cddbdc1f44da899391ae901784c9a",
       "max": 50.0,
       "min": 0.0,
       "orientation": "horizontal",
       "style": "IPY_MODEL_e82af382ea21465d8998a56fbac89d4b",
       "tabbable": null,
       "tooltip": null,
       "value": 50.0
      }
     },
     "f37693029ca646a3befe632c6f257b30": {
      "model_module": "@jupyter-widgets/base",
      "model_module_version": "2.0.0",
      "model_name": "LayoutModel",
      "state": {
       "_model_module": "@jupyter-widgets/base",
       "_model_module_version": "2.0.0",
       "_model_name": "LayoutModel",
       "_view_count": null,
       "_view_module": "@jupyter-widgets/base",
       "_view_module_version": "2.0.0",
       "_view_name": "LayoutView",
       "align_content": null,
       "align_items": null,
       "align_self": null,
       "border_bottom": null,
       "border_left": null,
       "border_right": null,
       "border_top": null,
       "bottom": null,
       "display": null,
       "flex": null,
       "flex_flow": null,
       "grid_area": null,
       "grid_auto_columns": null,
       "grid_auto_flow": null,
       "grid_auto_rows": null,
       "grid_column": null,
       "grid_gap": null,
       "grid_row": null,
       "grid_template_areas": null,
       "grid_template_columns": null,
       "grid_template_rows": null,
       "height": null,
       "justify_content": null,
       "justify_items": null,
       "left": null,
       "margin": null,
       "max_height": null,
       "max_width": null,
       "min_height": null,
       "min_width": null,
       "object_fit": null,
       "object_position": null,
       "order": null,
       "overflow": null,
       "padding": null,
       "right": null,
       "top": null,
       "visibility": null,
       "width": null
      }
     }
    },
    "version_major": 2,
    "version_minor": 0
   }
  }
 },
 "nbformat": 4,
 "nbformat_minor": 5
}
