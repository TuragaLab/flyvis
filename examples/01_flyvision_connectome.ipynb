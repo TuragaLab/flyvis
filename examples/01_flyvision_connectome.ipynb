{
 "cells": [
  {
   "cell_type": "markdown",
   "id": "867edf67",
   "metadata": {},
   "source": [
    "# Connectome\n",
    "This notebook illustrates the constructed spatially invariant connectome from local reconstructions that builds the\n",
    "scaffold of the network."
   ]
  },
  {
   "cell_type": "markdown",
   "id": "81e5384d",
   "metadata": {
    "id": "SXV7OZMrugGF",
    "tags": [
     "hide"
    ]
   },
   "source": [
    "**Select GPU runtime**\n",
    "\n",
    "To run the notebook on a GPU select Menu -> Runtime -> Change runtime type -> GPU."
   ]
  },
  {
   "cell_type": "code",
   "execution_count": null,
   "id": "a323b04c",
   "metadata": {
    "cellView": "form",
    "execution": {
     "iopub.execute_input": "2024-12-08T18:29:52.461468Z",
     "iopub.status.busy": "2024-12-08T18:29:52.461123Z",
     "iopub.status.idle": "2024-12-08T18:29:52.472997Z",
     "shell.execute_reply": "2024-12-08T18:29:52.471931Z"
    },
    "id": "sWG39Aevugmr",
    "tags": [
     "hide"
    ]
   },
   "outputs": [],
   "source": [
    "# @markdown **Check access to GPU**\n",
    "\n",
    "try:\n",
    "    import google.colab\n",
    "\n",
    "    IN_COLAB = True\n",
    "except ImportError:\n",
    "    IN_COLAB = False\n",
    "\n",
    "if IN_COLAB:\n",
    "    import torch\n",
    "\n",
    "    try:\n",
    "        cuda_name = torch.cuda.get_device_name()\n",
    "        print(f\"Name of the assigned GPU / CUDA device: {cuda_name}\")\n",
    "    except RuntimeError:\n",
    "        import warnings\n",
    "\n",
    "        warnings.warn(\n",
    "            \"You have not selected Runtime Type: 'GPU' or Google could not assign you one. Please revisit the settings as described above or proceed on CPU (slow).\"\n",
    "        )"
   ]
  },
  {
   "cell_type": "markdown",
   "id": "db055330",
   "metadata": {
    "id": "-B9TA8nfzmN3",
    "tags": [
     "hide"
    ]
   },
   "source": [
    "**Install Flyvis**\n",
    "\n",
    "The notebook requires installing our package `flyvis`. You may need to restart your session after running the code block below with Menu -> Runtime -> Restart session. Then, imports from `flyvis` should succeed without issue."
   ]
  },
  {
   "cell_type": "code",
   "execution_count": null,
   "id": "b0bb0ee9",
   "metadata": {
    "cellView": "form",
    "execution": {
     "iopub.execute_input": "2024-12-08T18:29:52.477707Z",
     "iopub.status.busy": "2024-12-08T18:29:52.477280Z",
     "iopub.status.idle": "2024-12-08T18:29:52.483514Z",
     "shell.execute_reply": "2024-12-08T18:29:52.482682Z"
    },
    "id": "Dkhfe5XBuksW",
    "tags": [
     "hide"
    ]
   },
   "outputs": [],
   "source": [
    "# @markdown **Install Flyvis**\n",
    "if IN_COLAB:\n",
    "    !git clone https://github.com/TuragaLab/flyvis.git\n",
    "    %cd /content/flyvis\n",
    "    !pip install -e .[examples]"
   ]
  },
  {
   "cell_type": "markdown",
   "id": "899b7f6e",
   "metadata": {},
   "source": [
    "# The connectome from average local reconstructions"
   ]
  },
  {
   "cell_type": "code",
   "execution_count": null,
   "id": "ca4e5cbc",
   "metadata": {
    "execution": {
     "iopub.execute_input": "2024-12-08T18:29:52.487511Z",
     "iopub.status.busy": "2024-12-08T18:29:52.487208Z",
     "iopub.status.idle": "2024-12-08T18:29:56.808593Z",
     "shell.execute_reply": "2024-12-08T18:29:56.807249Z"
    }
   },
   "outputs": [],
   "source": [
    "from flyvis import connectome_file\n",
    "from flyvis import ConnectomeFromAvgFilters, ConnectomeView"
   ]
  },
  {
   "cell_type": "code",
   "execution_count": null,
   "id": "7e815f0b",
   "metadata": {
    "execution": {
     "iopub.execute_input": "2024-12-08T18:29:56.814230Z",
     "iopub.status.busy": "2024-12-08T18:29:56.813782Z",
     "iopub.status.idle": "2024-12-08T18:29:56.842195Z",
     "shell.execute_reply": "2024-12-08T18:29:56.841157Z"
    }
   },
   "outputs": [],
   "source": [
    "# The ConnectomeFromAvgFilters class compiles the network graph from `data/connectome/fib25-fib19_v2.2.json`.\n",
    "# This json-file includes a list of cell types (`nodes`) and average convolutional filters\n",
    "# (anatomical receptive fields) (`edges`) that are scattered across a regular hexagonal lattice\n",
    "# of 15 column extent and stored on the hierarchical filesystem as h5-files.\n",
    "config = dict(file=connectome_file.name, extent=15, n_syn_fill=1)\n",
    "connectome = ConnectomeFromAvgFilters(config)"
   ]
  },
  {
   "cell_type": "code",
   "execution_count": null,
   "id": "64db4344",
   "metadata": {
    "execution": {
     "iopub.execute_input": "2024-12-08T18:29:56.847402Z",
     "iopub.status.busy": "2024-12-08T18:29:56.847080Z",
     "iopub.status.idle": "2024-12-08T18:29:57.083955Z",
     "shell.execute_reply": "2024-12-08T18:29:57.082667Z"
    }
   },
   "outputs": [],
   "source": [
    "# our network models 45,669 cells represented in this table of nodes\n",
    "print(connectome.nodes.to_df().iloc[0:20].to_markdown())"
   ]
  },
  {
   "cell_type": "code",
   "execution_count": null,
   "id": "be7f36bc",
   "metadata": {
    "execution": {
     "iopub.execute_input": "2024-12-08T18:29:57.089022Z",
     "iopub.status.busy": "2024-12-08T18:29:57.088684Z",
     "iopub.status.idle": "2024-12-08T18:29:59.509422Z",
     "shell.execute_reply": "2024-12-08T18:29:59.507921Z"
    }
   },
   "outputs": [],
   "source": [
    "# our network models 1,513,231 synapses represented in this table of edges\n",
    "print(connectome.edges.to_df().iloc[0:20].to_markdown())"
   ]
  },
  {
   "cell_type": "markdown",
   "id": "f85d282c",
   "metadata": {},
   "source": [
    "## Connectivity between identified cell types\n",
    "\n",
    "Identified connectivity between 64 cell types, represented by total number of input synapses from all neurons of a given presynaptic cell type to a single postsynaptic of a given cell type. Blue color indicates putative hyperpolarizing inputs, red putative depolarizing inputs as inferred from neurotransmitter and receptor profiling. Size of squares indicates number of input synapses."
   ]
  },
  {
   "cell_type": "code",
   "execution_count": null,
   "id": "eadc54f8",
   "metadata": {
    "execution": {
     "iopub.execute_input": "2024-12-08T18:29:59.514265Z",
     "iopub.status.busy": "2024-12-08T18:29:59.513814Z",
     "iopub.status.idle": "2024-12-08T18:29:59.636200Z",
     "shell.execute_reply": "2024-12-08T18:29:59.634919Z"
    }
   },
   "outputs": [],
   "source": [
    "# the ConnectomeView class provides visualizations of the connectome data\n",
    "connectome_view = ConnectomeView(connectome)"
   ]
  },
  {
   "cell_type": "code",
   "execution_count": null,
   "id": "57bbcabf",
   "metadata": {
    "execution": {
     "iopub.execute_input": "2024-12-08T18:29:59.641666Z",
     "iopub.status.busy": "2024-12-08T18:29:59.641286Z",
     "iopub.status.idle": "2024-12-08T18:30:05.291988Z",
     "shell.execute_reply": "2024-12-08T18:30:05.290600Z"
    }
   },
   "outputs": [],
   "source": [
    "fig = connectome_view.connectivity_matrix(\"n_syn\")"
   ]
  },
  {
   "cell_type": "markdown",
   "id": "cfbac307",
   "metadata": {},
   "source": [
    "## Example receptive fields\n",
    "Example of convolutional filter, representing inputs onto cells of the target cell type. Values represent the average number of synapses projecting from presynaptic cells in columns with indicated offset onto the postsynaptic dendrite. Values indicate connection strength derived from electron microscopy data."
   ]
  },
  {
   "cell_type": "code",
   "execution_count": null,
   "id": "f4dc02fd",
   "metadata": {
    "execution": {
     "iopub.execute_input": "2024-12-08T18:30:05.299096Z",
     "iopub.status.busy": "2024-12-08T18:30:05.298730Z",
     "iopub.status.idle": "2024-12-08T18:30:09.865536Z",
     "shell.execute_reply": "2024-12-08T18:30:09.864297Z"
    }
   },
   "outputs": [],
   "source": [
    "fig = connectome_view.receptive_fields_grid(\"T4c\")"
   ]
  },
  {
   "cell_type": "markdown",
   "id": "1354aa8d",
   "metadata": {},
   "source": [
    "## Example projective fields\n",
    "Example of projective fields, representing outputs of a source cell type onto target cells. Values represent the average number of synapses projecting from the presynaptic cell onto postsynaptic dendrites in columns with indicated offset. Values indicate connection strength derived from electron microscopy data."
   ]
  },
  {
   "cell_type": "code",
   "execution_count": null,
   "id": "a54708e0",
   "metadata": {
    "execution": {
     "iopub.execute_input": "2024-12-08T18:30:09.879708Z",
     "iopub.status.busy": "2024-12-08T18:30:09.879271Z",
     "iopub.status.idle": "2024-12-08T18:30:12.497662Z",
     "shell.execute_reply": "2024-12-08T18:30:12.496226Z"
    }
   },
   "outputs": [],
   "source": [
    "fig = connectome_view.projective_fields_grid(\"T4c\")"
   ]
  },
  {
   "cell_type": "markdown",
   "id": "1cbbc74f",
   "metadata": {},
   "source": [
    "## Network layout"
   ]
  },
  {
   "cell_type": "markdown",
   "id": "7dd37424",
   "metadata": {},
   "source": [
    "Our retinotopic hexagonal lattice network organizes cells of each cell type into visual columns corresponding to photoreceptor locations to capture the crystalline, hexagonal structure of the fly eye. Some cell types are non-columnar, i.e. their cells occur only in every other column---here Lawf1 and Lawf2 cell types---as estimated by our connectome construction algorithm. The edges represent pairs of connected cell types. For the task, we decoded from T-shaped and transmedullary cells (within the black box)."
   ]
  },
  {
   "cell_type": "code",
   "execution_count": null,
   "id": "d7466d30",
   "metadata": {
    "execution": {
     "iopub.execute_input": "2024-12-08T18:30:12.507575Z",
     "iopub.status.busy": "2024-12-08T18:30:12.507273Z",
     "iopub.status.idle": "2024-12-08T18:30:36.102978Z",
     "shell.execute_reply": "2024-12-08T18:30:36.101346Z"
    }
   },
   "outputs": [],
   "source": [
    "# cause the layout is spatially periodic it suffices to visualize a few columns\n",
    "# to get the gist of the layout which can be controlled using max_extent\n",
    "fig = connectome_view.network_layout(max_extent=6)"
   ]
  },
  {
   "cell_type": "code",
   "execution_count": null,
   "id": "7410befa",
   "metadata": {},
   "outputs": [],
   "source": []
  }
 ],
 "metadata": {
  "kernelspec": {
   "display_name": "Python 3 (ipykernel)",
   "language": "python",
   "name": "python3"
  },
  "language_info": {
   "codemirror_mode": {
    "name": "ipython",
    "version": 3
   },
   "file_extension": ".py",
   "mimetype": "text/x-python",
   "name": "python",
   "nbconvert_exporter": "python",
   "pygments_lexer": "ipython3",
   "version": "3.9.16"
  },
  "toc": {
   "base_numbering": 1,
   "nav_menu": {},
   "number_sections": true,
   "sideBar": false,
   "skip_h1_title": false,
   "title_cell": "Table of Contents",
   "title_sidebar": "Contents",
   "toc_cell": false,
   "toc_position": {},
   "toc_section_display": true,
   "toc_window_display": false
  }
 },
 "nbformat": 4,
 "nbformat_minor": 5
}
