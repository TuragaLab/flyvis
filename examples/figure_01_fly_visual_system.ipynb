{
 "cells": [
  {
   "cell_type": "markdown",
   "id": "8bcd6ba2",
   "metadata": {},
   "source": [
    "# Figure 1"
   ]
  },
  {
   "cell_type": "markdown",
   "id": "d3b7e4dd",
   "metadata": {},
   "source": [
    "## a"
   ]
  },
  {
   "cell_type": "code",
   "execution_count": null,
   "id": "a2733f16",
   "metadata": {
    "execution": {
     "iopub.execute_input": "2024-12-08T18:41:35.727338Z",
     "iopub.status.busy": "2024-12-08T18:41:35.727026Z",
     "iopub.status.idle": "2024-12-08T18:41:40.128055Z",
     "shell.execute_reply": "2024-12-08T18:41:40.126518Z"
    }
   },
   "outputs": [],
   "source": [
    "%load_ext autoreload\n",
    "%autoreload 2\n",
    "\n",
    "from flyvis import EnsembleView"
   ]
  },
  {
   "cell_type": "code",
   "execution_count": null,
   "id": "b2fb6724",
   "metadata": {
    "execution": {
     "iopub.execute_input": "2024-12-08T18:41:40.134462Z",
     "iopub.status.busy": "2024-12-08T18:41:40.133925Z",
     "iopub.status.idle": "2024-12-08T18:41:51.910168Z",
     "shell.execute_reply": "2024-12-08T18:41:51.908880Z"
    }
   },
   "outputs": [],
   "source": [
    "ensemble = EnsembleView(\"flow/0000\")"
   ]
  },
  {
   "cell_type": "code",
   "execution_count": null,
   "id": "067be4a4",
   "metadata": {
    "execution": {
     "iopub.execute_input": "2024-12-08T18:41:51.915319Z",
     "iopub.status.busy": "2024-12-08T18:41:51.914959Z",
     "iopub.status.idle": "2024-12-08T18:41:57.897965Z",
     "shell.execute_reply": "2024-12-08T18:41:57.896988Z"
    }
   },
   "outputs": [],
   "source": [
    "fig, ax, cbar, matrix = ensemble[0].connectivity_matrix()"
   ]
  },
  {
   "cell_type": "markdown",
   "id": "9aa994c3",
   "metadata": {},
   "source": [
    "## e"
   ]
  },
  {
   "cell_type": "code",
   "execution_count": null,
   "id": "92b3500c",
   "metadata": {
    "execution": {
     "iopub.execute_input": "2024-12-08T18:41:57.907169Z",
     "iopub.status.busy": "2024-12-08T18:41:57.906504Z",
     "iopub.status.idle": "2024-12-08T18:41:58.551053Z",
     "shell.execute_reply": "2024-12-08T18:41:58.550266Z"
    }
   },
   "outputs": [],
   "source": [
    "fig = ensemble[0].receptive_field(\n",
    "    source=\"Mi9\",\n",
    "    target=\"T4d\",\n",
    "    annotate=True,\n",
    "    annotate_coords=False,\n",
    "    trained=False,\n",
    "    n_syn=True,\n",
    "    cbar=False,\n",
    "    fontsize=6,\n",
    "    vmax=14,\n",
    "    figsize=[2, 2],\n",
    "    title=\"\",\n",
    "    max_extent=2,\n",
    "    edgewidth=0.2,\n",
    ")"
   ]
  },
  {
   "cell_type": "markdown",
   "id": "fece3eb2",
   "metadata": {},
   "source": [
    "## g"
   ]
  },
  {
   "cell_type": "code",
   "execution_count": null,
   "id": "b68fcdba",
   "metadata": {
    "execution": {
     "iopub.execute_input": "2024-12-08T18:41:58.554765Z",
     "iopub.status.busy": "2024-12-08T18:41:58.554499Z",
     "iopub.status.idle": "2024-12-08T18:41:58.589038Z",
     "shell.execute_reply": "2024-12-08T18:41:58.588461Z"
    }
   },
   "outputs": [],
   "source": [
    "import matplotlib.pyplot as plt\n",
    "\n",
    "from flyvis.datasets.sintel import MultiTaskSintel\n",
    "from flyvis.analysis.visualization.plots import hex_scatter, quick_hex_scatter\n",
    "from flyvis.analysis.visualization.plt_utils import rm_spines"
   ]
  },
  {
   "cell_type": "code",
   "execution_count": null,
   "id": "6266e368",
   "metadata": {
    "execution": {
     "iopub.execute_input": "2024-12-08T18:41:58.592661Z",
     "iopub.status.busy": "2024-12-08T18:41:58.592438Z",
     "iopub.status.idle": "2024-12-08T18:42:05.653632Z",
     "shell.execute_reply": "2024-12-08T18:42:05.652308Z"
    }
   },
   "outputs": [],
   "source": [
    "dataset = MultiTaskSintel(dt=1 / 24)\n",
    "sequence = dataset.cartesian_sequence(0, outwidth=436)"
   ]
  },
  {
   "cell_type": "markdown",
   "id": "e5159d86",
   "metadata": {},
   "source": [
    "sintel movie"
   ]
  },
  {
   "cell_type": "code",
   "execution_count": null,
   "id": "e1038d4a",
   "metadata": {
    "execution": {
     "iopub.execute_input": "2024-12-08T18:42:05.659768Z",
     "iopub.status.busy": "2024-12-08T18:42:05.659154Z",
     "iopub.status.idle": "2024-12-08T18:42:06.095606Z",
     "shell.execute_reply": "2024-12-08T18:42:06.095038Z"
    }
   },
   "outputs": [],
   "source": [
    "for frame in [0, 1, 18]:\n",
    "    fig, ax = plt.subplots(figsize=[1, 1])\n",
    "    ax.imshow(sequence[1, frame], cmap=plt.cm.binary_r)\n",
    "    rm_spines(ax)"
   ]
  },
  {
   "cell_type": "code",
   "execution_count": null,
   "id": "26c704e3",
   "metadata": {
    "execution": {
     "iopub.execute_input": "2024-12-08T18:42:06.102151Z",
     "iopub.status.busy": "2024-12-08T18:42:06.101722Z",
     "iopub.status.idle": "2024-12-08T18:42:06.144411Z",
     "shell.execute_reply": "2024-12-08T18:42:06.143734Z"
    }
   },
   "outputs": [],
   "source": [
    "dataset.augment = False"
   ]
  },
  {
   "cell_type": "code",
   "execution_count": null,
   "id": "c57d4a7f",
   "metadata": {
    "execution": {
     "iopub.execute_input": "2024-12-08T18:42:06.148114Z",
     "iopub.status.busy": "2024-12-08T18:42:06.147896Z",
     "iopub.status.idle": "2024-12-08T18:42:06.175383Z",
     "shell.execute_reply": "2024-12-08T18:42:06.174683Z"
    }
   },
   "outputs": [],
   "source": [
    "sequence = dataset[1]"
   ]
  },
  {
   "cell_type": "markdown",
   "id": "66ac081a",
   "metadata": {},
   "source": [
    "fly eye rendering"
   ]
  },
  {
   "cell_type": "code",
   "execution_count": null,
   "id": "9cdd9b0a",
   "metadata": {
    "execution": {
     "iopub.execute_input": "2024-12-08T18:42:06.179704Z",
     "iopub.status.busy": "2024-12-08T18:42:06.179510Z",
     "iopub.status.idle": "2024-12-08T18:42:09.631315Z",
     "shell.execute_reply": "2024-12-08T18:42:09.630467Z"
    }
   },
   "outputs": [],
   "source": [
    "for frame in [0, 1, -1]:\n",
    "    quick_hex_scatter(sequence[\"lum\"][frame, 0], cbar=False)\n",
    "    rm_spines(ax)"
   ]
  },
  {
   "cell_type": "markdown",
   "id": "1a4285a0",
   "metadata": {},
   "source": [
    "activations"
   ]
  },
  {
   "cell_type": "code",
   "execution_count": null,
   "id": "181abe7b",
   "metadata": {
    "execution": {
     "iopub.execute_input": "2024-12-08T18:42:09.637252Z",
     "iopub.status.busy": "2024-12-08T18:42:09.636731Z",
     "iopub.status.idle": "2024-12-08T18:42:09.672684Z",
     "shell.execute_reply": "2024-12-08T18:42:09.672102Z"
    }
   },
   "outputs": [],
   "source": [
    "from flyvis.connectome import ConnectomeFromAvgFilters\n",
    "from flyvis.analysis.visualization import plt_utils\n",
    "from flyvis.analysis.visualization.network_fig import WholeNetworkFigure\n",
    "from flyvis.utils.color_utils import cell_type_colors"
   ]
  },
  {
   "cell_type": "code",
   "execution_count": null,
   "id": "ce8c9db3",
   "metadata": {
    "execution": {
     "iopub.execute_input": "2024-12-08T18:42:09.676375Z",
     "iopub.status.busy": "2024-12-08T18:42:09.676139Z",
     "iopub.status.idle": "2024-12-08T18:42:09.701852Z",
     "shell.execute_reply": "2024-12-08T18:42:09.701305Z"
    }
   },
   "outputs": [],
   "source": [
    "sequence = dataset[1]"
   ]
  },
  {
   "cell_type": "code",
   "execution_count": null,
   "id": "f3c65317",
   "metadata": {
    "execution": {
     "iopub.execute_input": "2024-12-08T18:42:09.706730Z",
     "iopub.status.busy": "2024-12-08T18:42:09.706391Z",
     "iopub.status.idle": "2024-12-08T18:42:09.748738Z",
     "shell.execute_reply": "2024-12-08T18:42:09.747881Z"
    }
   },
   "outputs": [],
   "source": [
    "ctome = ConnectomeFromAvgFilters()"
   ]
  },
  {
   "cell_type": "code",
   "execution_count": null,
   "id": "a8314eeb",
   "metadata": {
    "execution": {
     "iopub.execute_input": "2024-12-08T18:42:09.753996Z",
     "iopub.status.busy": "2024-12-08T18:42:09.753468Z",
     "iopub.status.idle": "2024-12-08T18:42:09.996933Z",
     "shell.execute_reply": "2024-12-08T18:42:09.995904Z"
    }
   },
   "outputs": [],
   "source": [
    "nodes = ctome.nodes.to_df()"
   ]
  },
  {
   "cell_type": "code",
   "execution_count": null,
   "id": "fae17aa3",
   "metadata": {
    "execution": {
     "iopub.execute_input": "2024-12-08T18:42:10.001726Z",
     "iopub.status.busy": "2024-12-08T18:42:10.001256Z",
     "iopub.status.idle": "2024-12-08T18:42:23.246436Z",
     "shell.execute_reply": "2024-12-08T18:42:23.244891Z"
    }
   },
   "outputs": [],
   "source": [
    "responses = (\n",
    "    ensemble[0]\n",
    "    .init_network()\n",
    "    .simulate(sequence[\"lum\"][None], dt=1 / 50, as_layer_activity=True)\n",
    ")"
   ]
  },
  {
   "cell_type": "code",
   "execution_count": null,
   "id": "4b8f79ed",
   "metadata": {
    "execution": {
     "iopub.execute_input": "2024-12-08T18:42:23.252494Z",
     "iopub.status.busy": "2024-12-08T18:42:23.252122Z",
     "iopub.status.idle": "2024-12-08T18:43:35.142265Z",
     "shell.execute_reply": "2024-12-08T18:43:35.140996Z"
    }
   },
   "outputs": [],
   "source": [
    "frame = -1\n",
    "wnf = WholeNetworkFigure(ctome)\n",
    "wnf.init_figure(\n",
    "    figsize=(5.250, 1.3125),\n",
    "    decoder_box=False,\n",
    "    cell_type_labels=False,\n",
    "    fontsize=5,\n",
    "    add_graph_kwargs={\n",
    "        \"constant_edge_width\": 0.2,\n",
    "        \"edge_width\": 0.15,  # this scales edges relative to each other\n",
    "        \"constant_edge_color\": \"k\",\n",
    "        \"edge_alpha\": 0.1,\n",
    "        \"nx_kwargs\": {\n",
    "            \"min_source_margin\": 0,\n",
    "            \"min_target_margin\": 5,\n",
    "            \"selfloop_x0\": 0,\n",
    "            \"selfloop_y0\": 0,\n",
    "            \"selfloop_h_shift\": 0.025,\n",
    "            \"selfloop_v_shift\": 0.1275,\n",
    "        },\n",
    "    },\n",
    "    network_layout_axes_kwargs={\n",
    "        \"types_per_column\": 4,\n",
    "        \"region_spacing\": 1.25,\n",
    "        \"wspace\": 0.0,\n",
    "    },\n",
    ")\n",
    "\n",
    "for i, cell_type in enumerate(wnf.layout.keys()):\n",
    "    ax = wnf.axes[i]\n",
    "    u = nodes[nodes.type == cell_type].u.values\n",
    "    v = nodes[nodes.type == cell_type].v.values\n",
    "    hex_scatter(\n",
    "        u,\n",
    "        v,\n",
    "        responses[cell_type][0, frame],\n",
    "        fig=wnf.fig,\n",
    "        ax=ax,\n",
    "        label=f\"{cell_type}\",\n",
    "        label_color=cell_type_colors[cell_type],\n",
    "        cmap=plt.cm.binary_r,\n",
    "        cbar=False,\n",
    "        fontsize=5,\n",
    "        fill=True,\n",
    "        labelxy=\"auto\",\n",
    "    )\n",
    "    (xmin, ymin, xmax, ymax) = ax.dataLim.extents\n",
    "    ax.set_xlim(plt_utils.get_lims((xmin, xmax), 0.01))\n",
    "    ax.set_ylim(plt_utils.get_lims((ymin, ymax), 0.02))"
   ]
  },
  {
   "cell_type": "markdown",
   "id": "0008cd5b",
   "metadata": {},
   "source": [
    "optic flow"
   ]
  },
  {
   "cell_type": "code",
   "execution_count": null,
   "id": "a8539867",
   "metadata": {
    "execution": {
     "iopub.execute_input": "2024-12-08T18:43:35.162456Z",
     "iopub.status.busy": "2024-12-08T18:43:35.161938Z",
     "iopub.status.idle": "2024-12-08T18:43:35.259795Z",
     "shell.execute_reply": "2024-12-08T18:43:35.259061Z"
    }
   },
   "outputs": [],
   "source": [
    "from flyvis.analysis.visualization.plots import quick_hex_flow"
   ]
  },
  {
   "cell_type": "code",
   "execution_count": null,
   "id": "9e4cb49f",
   "metadata": {
    "execution": {
     "iopub.execute_input": "2024-12-08T18:43:35.264127Z",
     "iopub.status.busy": "2024-12-08T18:43:35.263900Z",
     "iopub.status.idle": "2024-12-08T18:43:35.323343Z",
     "shell.execute_reply": "2024-12-08T18:43:35.322375Z"
    }
   },
   "outputs": [],
   "source": [
    "sequence = dataset[1]"
   ]
  },
  {
   "cell_type": "code",
   "execution_count": null,
   "id": "d3c41118",
   "metadata": {
    "execution": {
     "iopub.execute_input": "2024-12-08T18:43:35.328428Z",
     "iopub.status.busy": "2024-12-08T18:43:35.328031Z",
     "iopub.status.idle": "2024-12-08T18:43:38.514988Z",
     "shell.execute_reply": "2024-12-08T18:43:38.514008Z"
    }
   },
   "outputs": [],
   "source": [
    "for frame in [0, 1, -1]:\n",
    "    quick_hex_flow(\n",
    "        sequence[\"flow\"][frame],\n",
    "        cwheel=False,\n",
    "        cwheelradius=0.2,\n",
    "        cwheelpos=\"southeast\",\n",
    "        cwheellabelpad=-3,\n",
    "    )"
   ]
  }
 ],
 "metadata": {
  "kernelspec": {
   "display_name": "Python 3 (ipykernel)",
   "language": "python",
   "name": "python3"
  },
  "language_info": {
   "codemirror_mode": {
    "name": "ipython",
    "version": 3
   },
   "file_extension": ".py",
   "mimetype": "text/x-python",
   "name": "python",
   "nbconvert_exporter": "python",
   "pygments_lexer": "ipython3",
   "version": "3.9.16"
  },
  "toc": {
   "base_numbering": 1,
   "nav_menu": {},
   "number_sections": true,
   "sideBar": true,
   "skip_h1_title": false,
   "title_cell": "Table of Contents",
   "title_sidebar": "Contents",
   "toc_cell": false,
   "toc_position": {},
   "toc_section_display": true,
   "toc_window_display": true
  },
  "widgets": {
   "application/vnd.jupyter.widget-state+json": {
    "state": {
     "031fce4c96a542b99a2b994eacde88c4": {
      "model_module": "@jupyter-widgets/base",
      "model_module_version": "2.0.0",
      "model_name": "LayoutModel",
      "state": {
       "_model_module": "@jupyter-widgets/base",
       "_model_module_version": "2.0.0",
       "_model_name": "LayoutModel",
       "_view_count": null,
       "_view_module": "@jupyter-widgets/base",
       "_view_module_version": "2.0.0",
       "_view_name": "LayoutView",
       "align_content": null,
       "align_items": null,
       "align_self": null,
       "border_bottom": null,
       "border_left": null,
       "border_right": null,
       "border_top": null,
       "bottom": null,
       "display": null,
       "flex": null,
       "flex_flow": null,
       "grid_area": null,
       "grid_auto_columns": null,
       "grid_auto_flow": null,
       "grid_auto_rows": null,
       "grid_column": null,
       "grid_gap": null,
       "grid_row": null,
       "grid_template_areas": null,
       "grid_template_columns": null,
       "grid_template_rows": null,
       "height": null,
       "justify_content": null,
       "justify_items": null,
       "left": null,
       "margin": null,
       "max_height": null,
       "max_width": null,
       "min_height": null,
       "min_width": null,
       "object_fit": null,
       "object_position": null,
       "order": null,
       "overflow": null,
       "padding": null,
       "right": null,
       "top": null,
       "visibility": null,
       "width": null
      }
     },
     "2cba3b0c4b8d4f77931c84fa55ef8758": {
      "model_module": "@jupyter-widgets/controls",
      "model_module_version": "2.0.0",
      "model_name": "HBoxModel",
      "state": {
       "_dom_classes": [],
       "_model_module": "@jupyter-widgets/controls",
       "_model_module_version": "2.0.0",
       "_model_name": "HBoxModel",
       "_view_count": null,
       "_view_module": "@jupyter-widgets/controls",
       "_view_module_version": "2.0.0",
       "_view_name": "HBoxView",
       "box_style": "",
       "children": [
        "IPY_MODEL_5e194b36f9644eb69f5eee519ebf815a",
        "IPY_MODEL_e02caa8f8c124e6eae6dd8323d0b9f29",
        "IPY_MODEL_9725fefc6a004a979da0c29ccf2e1476"
       ],
       "layout": "IPY_MODEL_e0a413c3467049cfbdb8753b2f17d822",
       "tabbable": null,
       "tooltip": null
      }
     },
     "3475f090cf9b4834b8c8e70ddd1eda64": {
      "model_module": "@jupyter-widgets/controls",
      "model_module_version": "2.0.0",
      "model_name": "ProgressStyleModel",
      "state": {
       "_model_module": "@jupyter-widgets/controls",
       "_model_module_version": "2.0.0",
       "_model_name": "ProgressStyleModel",
       "_view_count": null,
       "_view_module": "@jupyter-widgets/base",
       "_view_module_version": "2.0.0",
       "_view_name": "StyleView",
       "bar_color": null,
       "description_width": ""
      }
     },
     "394f1a8124b6497e8495a2f42982b4a8": {
      "model_module": "@jupyter-widgets/controls",
      "model_module_version": "2.0.0",
      "model_name": "HTMLStyleModel",
      "state": {
       "_model_module": "@jupyter-widgets/controls",
       "_model_module_version": "2.0.0",
       "_model_name": "HTMLStyleModel",
       "_view_count": null,
       "_view_module": "@jupyter-widgets/base",
       "_view_module_version": "2.0.0",
       "_view_name": "StyleView",
       "background": null,
       "description_width": "",
       "font_size": null,
       "text_color": null
      }
     },
     "5e194b36f9644eb69f5eee519ebf815a": {
      "model_module": "@jupyter-widgets/controls",
      "model_module_version": "2.0.0",
      "model_name": "HTMLModel",
      "state": {
       "_dom_classes": [],
       "_model_module": "@jupyter-widgets/controls",
       "_model_module_version": "2.0.0",
       "_model_name": "HTMLModel",
       "_view_count": null,
       "_view_module": "@jupyter-widgets/controls",
       "_view_module_version": "2.0.0",
       "_view_name": "HTMLView",
       "description": "",
       "description_allow_html": false,
       "layout": "IPY_MODEL_b1ca4db450744f8a96de2f54f98e32fc",
       "placeholder": "​",
       "style": "IPY_MODEL_cab0b0c56ea040fe8af62d21ecc38c31",
       "tabbable": null,
       "tooltip": null,
       "value": "Loading ensemble: 100%"
      }
     },
     "9725fefc6a004a979da0c29ccf2e1476": {
      "model_module": "@jupyter-widgets/controls",
      "model_module_version": "2.0.0",
      "model_name": "HTMLModel",
      "state": {
       "_dom_classes": [],
       "_model_module": "@jupyter-widgets/controls",
       "_model_module_version": "2.0.0",
       "_model_name": "HTMLModel",
       "_view_count": null,
       "_view_module": "@jupyter-widgets/controls",
       "_view_module_version": "2.0.0",
       "_view_name": "HTMLView",
       "description": "",
       "description_allow_html": false,
       "layout": "IPY_MODEL_031fce4c96a542b99a2b994eacde88c4",
       "placeholder": "​",
       "style": "IPY_MODEL_394f1a8124b6497e8495a2f42982b4a8",
       "tabbable": null,
       "tooltip": null,
       "value": " 50/50 [00:11&lt;00:00,  3.96it/s]"
      }
     },
     "b1ca4db450744f8a96de2f54f98e32fc": {
      "model_module": "@jupyter-widgets/base",
      "model_module_version": "2.0.0",
      "model_name": "LayoutModel",
      "state": {
       "_model_module": "@jupyter-widgets/base",
       "_model_module_version": "2.0.0",
       "_model_name": "LayoutModel",
       "_view_count": null,
       "_view_module": "@jupyter-widgets/base",
       "_view_module_version": "2.0.0",
       "_view_name": "LayoutView",
       "align_content": null,
       "align_items": null,
       "align_self": null,
       "border_bottom": null,
       "border_left": null,
       "border_right": null,
       "border_top": null,
       "bottom": null,
       "display": null,
       "flex": null,
       "flex_flow": null,
       "grid_area": null,
       "grid_auto_columns": null,
       "grid_auto_flow": null,
       "grid_auto_rows": null,
       "grid_column": null,
       "grid_gap": null,
       "grid_row": null,
       "grid_template_areas": null,
       "grid_template_columns": null,
       "grid_template_rows": null,
       "height": null,
       "justify_content": null,
       "justify_items": null,
       "left": null,
       "margin": null,
       "max_height": null,
       "max_width": null,
       "min_height": null,
       "min_width": null,
       "object_fit": null,
       "object_position": null,
       "order": null,
       "overflow": null,
       "padding": null,
       "right": null,
       "top": null,
       "visibility": null,
       "width": null
      }
     },
     "cab0b0c56ea040fe8af62d21ecc38c31": {
      "model_module": "@jupyter-widgets/controls",
      "model_module_version": "2.0.0",
      "model_name": "HTMLStyleModel",
      "state": {
       "_model_module": "@jupyter-widgets/controls",
       "_model_module_version": "2.0.0",
       "_model_name": "HTMLStyleModel",
       "_view_count": null,
       "_view_module": "@jupyter-widgets/base",
       "_view_module_version": "2.0.0",
       "_view_name": "StyleView",
       "background": null,
       "description_width": "",
       "font_size": null,
       "text_color": null
      }
     },
     "e02caa8f8c124e6eae6dd8323d0b9f29": {
      "model_module": "@jupyter-widgets/controls",
      "model_module_version": "2.0.0",
      "model_name": "FloatProgressModel",
      "state": {
       "_dom_classes": [],
       "_model_module": "@jupyter-widgets/controls",
       "_model_module_version": "2.0.0",
       "_model_name": "FloatProgressModel",
       "_view_count": null,
       "_view_module": "@jupyter-widgets/controls",
       "_view_module_version": "2.0.0",
       "_view_name": "ProgressView",
       "bar_style": "success",
       "description": "",
       "description_allow_html": false,
       "layout": "IPY_MODEL_fde5d643ed4343deaf4db43c6bd7d7a5",
       "max": 50.0,
       "min": 0.0,
       "orientation": "horizontal",
       "style": "IPY_MODEL_3475f090cf9b4834b8c8e70ddd1eda64",
       "tabbable": null,
       "tooltip": null,
       "value": 50.0
      }
     },
     "e0a413c3467049cfbdb8753b2f17d822": {
      "model_module": "@jupyter-widgets/base",
      "model_module_version": "2.0.0",
      "model_name": "LayoutModel",
      "state": {
       "_model_module": "@jupyter-widgets/base",
       "_model_module_version": "2.0.0",
       "_model_name": "LayoutModel",
       "_view_count": null,
       "_view_module": "@jupyter-widgets/base",
       "_view_module_version": "2.0.0",
       "_view_name": "LayoutView",
       "align_content": null,
       "align_items": null,
       "align_self": null,
       "border_bottom": null,
       "border_left": null,
       "border_right": null,
       "border_top": null,
       "bottom": null,
       "display": null,
       "flex": null,
       "flex_flow": null,
       "grid_area": null,
       "grid_auto_columns": null,
       "grid_auto_flow": null,
       "grid_auto_rows": null,
       "grid_column": null,
       "grid_gap": null,
       "grid_row": null,
       "grid_template_areas": null,
       "grid_template_columns": null,
       "grid_template_rows": null,
       "height": null,
       "justify_content": null,
       "justify_items": null,
       "left": null,
       "margin": null,
       "max_height": null,
       "max_width": null,
       "min_height": null,
       "min_width": null,
       "object_fit": null,
       "object_position": null,
       "order": null,
       "overflow": null,
       "padding": null,
       "right": null,
       "top": null,
       "visibility": null,
       "width": null
      }
     },
     "fde5d643ed4343deaf4db43c6bd7d7a5": {
      "model_module": "@jupyter-widgets/base",
      "model_module_version": "2.0.0",
      "model_name": "LayoutModel",
      "state": {
       "_model_module": "@jupyter-widgets/base",
       "_model_module_version": "2.0.0",
       "_model_name": "LayoutModel",
       "_view_count": null,
       "_view_module": "@jupyter-widgets/base",
       "_view_module_version": "2.0.0",
       "_view_name": "LayoutView",
       "align_content": null,
       "align_items": null,
       "align_self": null,
       "border_bottom": null,
       "border_left": null,
       "border_right": null,
       "border_top": null,
       "bottom": null,
       "display": null,
       "flex": null,
       "flex_flow": null,
       "grid_area": null,
       "grid_auto_columns": null,
       "grid_auto_flow": null,
       "grid_auto_rows": null,
       "grid_column": null,
       "grid_gap": null,
       "grid_row": null,
       "grid_template_areas": null,
       "grid_template_columns": null,
       "grid_template_rows": null,
       "height": null,
       "justify_content": null,
       "justify_items": null,
       "left": null,
       "margin": null,
       "max_height": null,
       "max_width": null,
       "min_height": null,
       "min_width": null,
       "object_fit": null,
       "object_position": null,
       "order": null,
       "overflow": null,
       "padding": null,
       "right": null,
       "top": null,
       "visibility": null,
       "width": null
      }
     }
    },
    "version_major": 2,
    "version_minor": 0
   }
  }
 },
 "nbformat": 4,
 "nbformat_minor": 5
}
