{
 "cells": [
  {
   "cell_type": "markdown",
   "id": "2a3c6110",
   "metadata": {},
   "source": [
    "# Maximally excitatory stimuli from trained models\n",
    "\n",
    "This notebook illustrates how to compute the stimuli that maximally excite a specific neuron."
   ]
  },
  {
   "cell_type": "markdown",
   "id": "81e5384d",
   "metadata": {
    "id": "SXV7OZMrugGF",
    "tags": [
     "hide"
    ]
   },
   "source": [
    "**Select GPU runtime**\n",
    "\n",
    "To run the notebook on a GPU select Menu -> Runtime -> Change runtime type -> GPU."
   ]
  },
  {
   "cell_type": "code",
   "execution_count": null,
   "id": "a323b04c",
   "metadata": {
    "cellView": "form",
    "execution": {
     "iopub.execute_input": "2024-12-08T18:38:22.018726Z",
     "iopub.status.busy": "2024-12-08T18:38:22.018329Z",
     "iopub.status.idle": "2024-12-08T18:38:22.028574Z",
     "shell.execute_reply": "2024-12-08T18:38:22.027559Z"
    },
    "id": "sWG39Aevugmr",
    "tags": [
     "hide"
    ]
   },
   "outputs": [],
   "source": [
    "# @markdown **Check access to GPU**\n",
    "\n",
    "try:\n",
    "    import google.colab\n",
    "\n",
    "    IN_COLAB = True\n",
    "except ImportError:\n",
    "    IN_COLAB = False\n",
    "\n",
    "if IN_COLAB:\n",
    "    import torch\n",
    "\n",
    "    try:\n",
    "        cuda_name = torch.cuda.get_device_name()\n",
    "        print(f\"Name of the assigned GPU / CUDA device: {cuda_name}\")\n",
    "    except RuntimeError:\n",
    "        import warnings\n",
    "\n",
    "        warnings.warn(\n",
    "            \"You have not selected Runtime Type: 'GPU' or Google could not assign you one. Please revisit the settings as described above or proceed on CPU (slow).\"\n",
    "        )"
   ]
  },
  {
   "cell_type": "markdown",
   "id": "db055330",
   "metadata": {
    "id": "-B9TA8nfzmN3",
    "tags": [
     "hide"
    ]
   },
   "source": [
    "**Install Flyvis**\n",
    "\n",
    "The notebook requires installing our package `flyvis`. You may need to restart your session after running the code block below with Menu -> Runtime -> Restart session. Then, imports from `flyvis` should succeed without issue."
   ]
  },
  {
   "cell_type": "code",
   "execution_count": null,
   "id": "b0bb0ee9",
   "metadata": {
    "cellView": "form",
    "execution": {
     "iopub.execute_input": "2024-12-08T18:38:22.032261Z",
     "iopub.status.busy": "2024-12-08T18:38:22.031891Z",
     "iopub.status.idle": "2024-12-08T18:38:22.037585Z",
     "shell.execute_reply": "2024-12-08T18:38:22.036853Z"
    },
    "id": "Dkhfe5XBuksW",
    "tags": [
     "hide"
    ]
   },
   "outputs": [],
   "source": [
    "# @markdown **Install Flyvis**\n",
    "if IN_COLAB:\n",
    "    !git clone https://github.com/TuragaLab/flyvis.git\n",
    "    %cd /content/flyvis\n",
    "    !pip install -e .[examples]"
   ]
  },
  {
   "cell_type": "markdown",
   "id": "abb48f9d",
   "metadata": {},
   "source": [
    "# Optimal naturalistic stimuli"
   ]
  },
  {
   "cell_type": "markdown",
   "id": "728ec9fd",
   "metadata": {},
   "source": [
    "We first find the optimal naturalistic stimuli. To do that, we simulate the responses of \n",
    "the network (including the neuron of interest) to all stimuli from a fixed dataset of stimuli. \n",
    "The optimal, or here maximally exctitatory naturalistic stimulus to be precise, is the stimulus \n",
    "for which the response of the chosen neuron is maximal. Finding this is simple and does not require numerical optimization with gradients.\n",
    "We find the stimulus per cell type based on its cell in the central column. At least in our coarse model, \n",
    "the offset version of this stimulus would also maximally excite the equivalently offset neighboring cells of the same type.\n"
   ]
  },
  {
   "cell_type": "code",
   "execution_count": null,
   "id": "ca0b86ba",
   "metadata": {
    "execution": {
     "iopub.execute_input": "2024-12-08T18:38:22.041064Z",
     "iopub.status.busy": "2024-12-08T18:38:22.040825Z",
     "iopub.status.idle": "2024-12-08T18:38:26.491739Z",
     "shell.execute_reply": "2024-12-08T18:38:26.490117Z"
    }
   },
   "outputs": [],
   "source": [
    "import matplotlib.pyplot as plt\n",
    "import numpy as np\n",
    "import torch\n",
    "\n",
    "\n",
    "from flyvis import NetworkView\n",
    "from flyvis.datasets.sintel import AugmentedSintel\n",
    "from flyvis.analysis.optimal_stimuli import (\n",
    "    FindOptimalStimuli,\n",
    "    GenerateOptimalStimuli,\n",
    "    plot_stim_response,\n",
    ")"
   ]
  },
  {
   "cell_type": "code",
   "execution_count": null,
   "id": "54a32aa3",
   "metadata": {
    "execution": {
     "iopub.execute_input": "2024-12-08T18:38:26.496471Z",
     "iopub.status.busy": "2024-12-08T18:38:26.496001Z",
     "iopub.status.idle": "2024-12-08T18:38:33.388480Z",
     "shell.execute_reply": "2024-12-08T18:38:33.386814Z"
    }
   },
   "outputs": [],
   "source": [
    "# let's load the dataset and the pretrained network\n",
    "dataset = AugmentedSintel(tasks=[\"lum\"], temporal_split=True)\n",
    "network_view = NetworkView(\"flow/0000/000\")"
   ]
  },
  {
   "cell_type": "code",
   "execution_count": null,
   "id": "a62d31f8",
   "metadata": {
    "execution": {
     "iopub.execute_input": "2024-12-08T18:38:33.394476Z",
     "iopub.status.busy": "2024-12-08T18:38:33.394129Z",
     "iopub.status.idle": "2024-12-08T18:38:41.682182Z",
     "shell.execute_reply": "2024-12-08T18:38:41.680521Z"
    }
   },
   "outputs": [],
   "source": [
    "findoptstim = FindOptimalStimuli(network_view, dataset)"
   ]
  },
  {
   "cell_type": "markdown",
   "id": "563a26d1",
   "metadata": {},
   "source": [
    "For the T4c neuron, we would expect that the maximally excitatory stimulus is an ON-edge\n",
    "moving upward."
   ]
  },
  {
   "cell_type": "code",
   "execution_count": null,
   "id": "6b765f0b",
   "metadata": {
    "execution": {
     "iopub.execute_input": "2024-12-08T18:38:41.688496Z",
     "iopub.status.busy": "2024-12-08T18:38:41.687940Z",
     "iopub.status.idle": "2024-12-08T18:38:41.837758Z",
     "shell.execute_reply": "2024-12-08T18:38:41.836230Z"
    }
   },
   "outputs": [],
   "source": [
    "optstim = network_view.optimal_stimulus_responses(\"T4c\")"
   ]
  },
  {
   "cell_type": "code",
   "execution_count": null,
   "id": "799b2900",
   "metadata": {
    "execution": {
     "iopub.execute_input": "2024-12-08T18:38:41.843706Z",
     "iopub.status.busy": "2024-12-08T18:38:41.843321Z",
     "iopub.status.idle": "2024-12-08T18:38:47.932851Z",
     "shell.execute_reply": "2024-12-08T18:38:47.931608Z"
    }
   },
   "outputs": [],
   "source": [
    "stim_resp_plot = plot_stim_response(\n",
    "    optstim.stimulus.stimulus,\n",
    "    optstim.stimulus.response,\n",
    "    1 / 100,\n",
    "    *network_view.connectome_view.get_uv(\"T4c\"),\n",
    "    figsize=[5, 1.6],\n",
    "    ylabel=None,\n",
    "    label_peak_response=False,\n",
    ")"
   ]
  },
  {
   "cell_type": "markdown",
   "id": "a3129d6b",
   "metadata": {},
   "source": [
    "We see that the the stimulus indeed contains an ON-edge component moving upward and this is the portion of the stimulus that T4c cells respond most to.\n",
    "What's unclear is whether the other parts of the stimulus have an influence on the response."
   ]
  },
  {
   "cell_type": "markdown",
   "id": "f7a57723",
   "metadata": {},
   "source": [
    "# Regularized optimal stimuli\n",
    "\n",
    "We can regularize the optimal stimuli with the objective to keep the response of the\n",
    "cell intact while bringing the stimulus pixels to a neutral grey value."
   ]
  },
  {
   "cell_type": "code",
   "execution_count": null,
   "id": "15528adc",
   "metadata": {
    "execution": {
     "iopub.execute_input": "2024-12-08T18:38:47.942171Z",
     "iopub.status.busy": "2024-12-08T18:38:47.941562Z",
     "iopub.status.idle": "2024-12-08T18:38:53.855887Z",
     "shell.execute_reply": "2024-12-08T18:38:53.854147Z"
    }
   },
   "outputs": [],
   "source": [
    "stim_resp_plot = plot_stim_response(\n",
    "    optstim.regularized_stimulus,\n",
    "    optstim.response,\n",
    "    1 / 100,\n",
    "    *network_view.connectome_view.get_uv(\"T4c\"),\n",
    "    figsize=[5, 1.6],\n",
    "    ylabel=None,\n",
    "    label_peak_response=False,\n",
    ")"
   ]
  },
  {
   "cell_type": "markdown",
   "id": "31cb463b",
   "metadata": {},
   "source": [
    "This looks remarkably different! Now only a central black portion follow by the ON-edge\n",
    "moving upward remains in the stimulus. Let's make sure that the central cell response is\n",
    "really the same as before! This is the entire time trace."
   ]
  },
  {
   "cell_type": "code",
   "execution_count": null,
   "id": "64117403",
   "metadata": {
    "execution": {
     "iopub.execute_input": "2024-12-08T18:38:53.861835Z",
     "iopub.status.busy": "2024-12-08T18:38:53.861547Z",
     "iopub.status.idle": "2024-12-08T18:38:54.001720Z",
     "shell.execute_reply": "2024-12-08T18:38:54.000959Z"
    }
   },
   "outputs": [],
   "source": [
    "fig = plt.figure(figsize=[2, 1])\n",
    "time = np.arange(len(optstim.central_target_response)) / 100\n",
    "plt.plot(time, optstim.central_target_response)\n",
    "plt.plot(time, optstim.central_predicted_response)\n",
    "plt.xlabel(\"time (s)\")\n",
    "plt.ylabel(\"response\")"
   ]
  },
  {
   "cell_type": "markdown",
   "id": "e706d464",
   "metadata": {},
   "source": [
    "This looks quite similar! One can play with the regularization parameters of the function `regularized_optimal_stimuli` to tune this."
   ]
  },
  {
   "cell_type": "markdown",
   "id": "036c562d",
   "metadata": {},
   "source": [
    "# Generate artificial optimal stimuli from scratch\n",
    "If one is able to optimize the naturalistic stimulus with the gradient, why don't we\n",
    "use the gradient to generate an optimal stimulus from scratch (or rather random noise).\n",
    "We do that in the following. Again for T4c, we would expect that it would have some sort\n",
    "of ON-edge moving upwards."
   ]
  },
  {
   "cell_type": "code",
   "execution_count": null,
   "id": "1882f67d",
   "metadata": {
    "execution": {
     "iopub.execute_input": "2024-12-08T18:38:54.005546Z",
     "iopub.status.busy": "2024-12-08T18:38:54.005226Z",
     "iopub.status.idle": "2024-12-08T18:38:54.113724Z",
     "shell.execute_reply": "2024-12-08T18:38:54.112756Z"
    }
   },
   "outputs": [],
   "source": [
    "genoptstim = GenerateOptimalStimuli(network_view)"
   ]
  },
  {
   "cell_type": "code",
   "execution_count": null,
   "id": "79aa3aa8",
   "metadata": {
    "execution": {
     "iopub.execute_input": "2024-12-08T18:38:54.119049Z",
     "iopub.status.busy": "2024-12-08T18:38:54.118569Z",
     "iopub.status.idle": "2024-12-08T18:39:47.721200Z",
     "shell.execute_reply": "2024-12-08T18:39:47.719466Z"
    }
   },
   "outputs": [],
   "source": [
    "artoptstim = genoptstim.artificial_optimal_stimuli(\"T4c\", t_stim=0.8)"
   ]
  },
  {
   "cell_type": "code",
   "execution_count": null,
   "id": "cae9f201",
   "metadata": {
    "execution": {
     "iopub.execute_input": "2024-12-08T18:39:47.727016Z",
     "iopub.status.busy": "2024-12-08T18:39:47.726671Z",
     "iopub.status.idle": "2024-12-08T18:39:53.442512Z",
     "shell.execute_reply": "2024-12-08T18:39:53.441312Z"
    }
   },
   "outputs": [],
   "source": [
    "stim_resp_plot = plot_stim_response(\n",
    "    artoptstim.stimulus,\n",
    "    artoptstim.response,\n",
    "    1 / 100,\n",
    "    *network_view.connectome_view.get_uv(\"T4c\"),\n",
    "    figsize=[5, 1.6],\n",
    "    ylabel=None,\n",
    "    label_peak_response=False,\n",
    ")"
   ]
  },
  {
   "cell_type": "markdown",
   "id": "7705bd34",
   "metadata": {},
   "source": [
    "Wow! This stimulus is contains very similar components to the one before and is much more\n",
    "saturated! It also contains new ON-components already from the beginning!\n",
    "\n",
    "Last, let's compare which stimulus excited the neuron the most."
   ]
  },
  {
   "cell_type": "code",
   "execution_count": null,
   "id": "12ea92a8",
   "metadata": {
    "execution": {
     "iopub.execute_input": "2024-12-08T18:39:53.450958Z",
     "iopub.status.busy": "2024-12-08T18:39:53.450659Z",
     "iopub.status.idle": "2024-12-08T18:39:53.640529Z",
     "shell.execute_reply": "2024-12-08T18:39:53.639461Z"
    }
   },
   "outputs": [],
   "source": [
    "fig = plt.figure(figsize=[2, 1])\n",
    "time = np.arange(len(optstim.central_target_response)) / 100\n",
    "plt.plot(time, optstim.central_target_response, label='naturalistic')\n",
    "plt.plot(time, optstim.central_predicted_response, label='regularized naturalistic')\n",
    "plt.plot(\n",
    "    time,\n",
    "    artoptstim.response[:, :, artoptstim.response.shape[-1] // 2].flatten(),\n",
    "    label='artificial',\n",
    ")\n",
    "plt.xlabel(\"time (s)\")\n",
    "plt.ylabel(\"response\")\n",
    "plt.legend()"
   ]
  },
  {
   "cell_type": "code",
   "execution_count": null,
   "id": "89420fc0",
   "metadata": {},
   "outputs": [],
   "source": []
  }
 ],
 "metadata": {
  "kernelspec": {
   "display_name": "Python 3 (ipykernel)",
   "language": "python",
   "name": "python3"
  },
  "language_info": {
   "codemirror_mode": {
    "name": "ipython",
    "version": 3
   },
   "file_extension": ".py",
   "mimetype": "text/x-python",
   "name": "python",
   "nbconvert_exporter": "python",
   "pygments_lexer": "ipython3",
   "version": "3.9.16"
  }
 },
 "nbformat": 4,
 "nbformat_minor": 5
}
