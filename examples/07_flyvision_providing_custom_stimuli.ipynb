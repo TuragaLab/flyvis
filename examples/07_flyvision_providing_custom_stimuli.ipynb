{
 "cells": [
  {
   "cell_type": "markdown",
   "id": "0cb60e7d",
   "metadata": {},
   "source": [
    "# Providing custom stimuli\n",
    "\n",
    "Follow this notebook to learn how to use our models for generating hypothesis about neural computations with custom stimuli."
   ]
  },
  {
   "cell_type": "markdown",
   "id": "81e5384d",
   "metadata": {
    "id": "SXV7OZMrugGF",
    "tags": [
     "hide"
    ]
   },
   "source": [
    "**Select GPU runtime**\n",
    "\n",
    "To run the notebook on a GPU select Menu -> Runtime -> Change runtime type -> GPU."
   ]
  },
  {
   "cell_type": "code",
   "execution_count": null,
   "id": "a323b04c",
   "metadata": {
    "cellView": "form",
    "execution": {
     "iopub.execute_input": "2024-12-08T18:39:58.124184Z",
     "iopub.status.busy": "2024-12-08T18:39:58.123692Z",
     "iopub.status.idle": "2024-12-08T18:39:58.134892Z",
     "shell.execute_reply": "2024-12-08T18:39:58.134055Z"
    },
    "id": "sWG39Aevugmr",
    "tags": [
     "hide"
    ]
   },
   "outputs": [],
   "source": [
    "# @markdown **Check access to GPU**\n",
    "\n",
    "try:\n",
    "    import google.colab\n",
    "\n",
    "    IN_COLAB = True\n",
    "except ImportError:\n",
    "    IN_COLAB = False\n",
    "\n",
    "if IN_COLAB:\n",
    "    import torch\n",
    "\n",
    "    try:\n",
    "        cuda_name = torch.cuda.get_device_name()\n",
    "        print(f\"Name of the assigned GPU / CUDA device: {cuda_name}\")\n",
    "    except RuntimeError:\n",
    "        import warnings\n",
    "\n",
    "        warnings.warn(\n",
    "            \"You have not selected Runtime Type: 'GPU' or Google could not assign you one. Please revisit the settings as described above or proceed on CPU (slow).\"\n",
    "        )"
   ]
  },
  {
   "cell_type": "markdown",
   "id": "db055330",
   "metadata": {
    "id": "-B9TA8nfzmN3",
    "tags": [
     "hide"
    ]
   },
   "source": [
    "**Install Flyvis**\n",
    "\n",
    "The notebook requires installing our package `flyvis`. You may need to restart your session after running the code block below with Menu -> Runtime -> Restart session. Then, imports from `flyvis` should succeed without issue."
   ]
  },
  {
   "cell_type": "code",
   "execution_count": null,
   "id": "b0bb0ee9",
   "metadata": {
    "cellView": "form",
    "execution": {
     "iopub.execute_input": "2024-12-08T18:39:58.138960Z",
     "iopub.status.busy": "2024-12-08T18:39:58.138721Z",
     "iopub.status.idle": "2024-12-08T18:39:58.144078Z",
     "shell.execute_reply": "2024-12-08T18:39:58.143246Z"
    },
    "id": "Dkhfe5XBuksW",
    "tags": [
     "hide"
    ]
   },
   "outputs": [],
   "source": [
    "# @markdown **Install Flyvis**\n",
    "if IN_COLAB:\n",
    "    !git clone https://github.com/TuragaLab/flyvis.git\n",
    "    %cd /content/flyvis\n",
    "    !pip install -e .[examples]"
   ]
  },
  {
   "cell_type": "markdown",
   "id": "785107ea",
   "metadata": {},
   "source": [
    "## Example dataset\n",
    "\n",
    "We take the public [Moving MNIST](https://www.cs.toronto.edu/~nitish/unsupervised_video/) sequence dataset as an example for a custom stimulus dataset.\n",
    "Moving MNIST consists of short grey-scale videos of numbers from 1-10 which move in arbitrary directions. The dataset entails 10,000 sequences of 20 frames each. Individual frames are 64x64 pixels in height and width."
   ]
  },
  {
   "cell_type": "code",
   "execution_count": null,
   "id": "4b0eec17",
   "metadata": {
    "execution": {
     "iopub.execute_input": "2024-12-08T18:39:58.147887Z",
     "iopub.status.busy": "2024-12-08T18:39:58.147613Z",
     "iopub.status.idle": "2024-12-08T18:40:02.624543Z",
     "shell.execute_reply": "2024-12-08T18:40:02.623250Z"
    }
   },
   "outputs": [],
   "source": [
    "import torch\n",
    "import numpy as np\n",
    "\n",
    "np.random.seed(42)\n",
    "import matplotlib.pyplot as plt\n",
    "\n",
    "import flyvis\n",
    "from flyvis.utils.dataset_utils import load_moving_mnist\n",
    "from flyvis.analysis import animations"
   ]
  },
  {
   "cell_type": "code",
   "execution_count": null,
   "id": "dfbb4245",
   "metadata": {
    "execution": {
     "iopub.execute_input": "2024-12-08T18:40:02.629305Z",
     "iopub.status.busy": "2024-12-08T18:40:02.628697Z",
     "iopub.status.idle": "2024-12-08T18:40:06.167198Z",
     "shell.execute_reply": "2024-12-08T18:40:06.164550Z"
    }
   },
   "outputs": [],
   "source": [
    "sequences = load_moving_mnist()"
   ]
  },
  {
   "cell_type": "code",
   "execution_count": null,
   "id": "bb06fffe",
   "metadata": {
    "execution": {
     "iopub.execute_input": "2024-12-08T18:40:06.174207Z",
     "iopub.status.busy": "2024-12-08T18:40:06.173832Z",
     "iopub.status.idle": "2024-12-08T18:40:06.186861Z",
     "shell.execute_reply": "2024-12-08T18:40:06.185792Z"
    }
   },
   "outputs": [],
   "source": [
    "# the whole dataset has dims (n_sequences, n_frames, height, width)\n",
    "sequences.shape"
   ]
  },
  {
   "cell_type": "code",
   "execution_count": null,
   "id": "6da99dd2",
   "metadata": {
    "execution": {
     "iopub.execute_input": "2024-12-08T18:40:06.192143Z",
     "iopub.status.busy": "2024-12-08T18:40:06.191885Z",
     "iopub.status.idle": "2024-12-08T18:40:06.432021Z",
     "shell.execute_reply": "2024-12-08T18:40:06.430881Z"
    }
   },
   "outputs": [],
   "source": [
    "animation = animations.Imshow(sequences, cmap=plt.cm.binary_r)\n",
    "animation.animate_in_notebook(samples=[0, 1, 2])"
   ]
  },
  {
   "cell_type": "markdown",
   "id": "af135568",
   "metadata": {},
   "source": [
    "Alternative: for an alternative dataset that is generated at runtime and does not require a download try `random_walk_of_blocks`. As a simple drop-in replacement, this requires to replace `load_moving_mnist` with `random_walk_of_blocks` across the notebook."
   ]
  },
  {
   "cell_type": "code",
   "execution_count": null,
   "id": "de3b38c9",
   "metadata": {
    "execution": {
     "iopub.execute_input": "2024-12-08T18:40:06.437334Z",
     "iopub.status.busy": "2024-12-08T18:40:06.437034Z",
     "iopub.status.idle": "2024-12-08T18:40:06.442007Z",
     "shell.execute_reply": "2024-12-08T18:40:06.441080Z"
    }
   },
   "outputs": [],
   "source": [
    "from flyvis.utils.dataset_utils import random_walk_of_blocks"
   ]
  },
  {
   "cell_type": "code",
   "execution_count": null,
   "id": "4edcd8c8",
   "metadata": {
    "execution": {
     "iopub.execute_input": "2024-12-08T18:40:06.446009Z",
     "iopub.status.busy": "2024-12-08T18:40:06.445635Z",
     "iopub.status.idle": "2024-12-08T18:40:06.647750Z",
     "shell.execute_reply": "2024-12-08T18:40:06.646674Z"
    }
   },
   "outputs": [],
   "source": [
    "sequences = random_walk_of_blocks()"
   ]
  },
  {
   "cell_type": "code",
   "execution_count": null,
   "id": "b404be38",
   "metadata": {
    "execution": {
     "iopub.execute_input": "2024-12-08T18:40:06.651634Z",
     "iopub.status.busy": "2024-12-08T18:40:06.651423Z",
     "iopub.status.idle": "2024-12-08T18:40:06.886331Z",
     "shell.execute_reply": "2024-12-08T18:40:06.885068Z"
    }
   },
   "outputs": [],
   "source": [
    "animation = animations.Imshow(sequences, cmap=plt.cm.binary_r)\n",
    "animation.animate_in_notebook(samples=[0, 1, 2])"
   ]
  },
  {
   "cell_type": "markdown",
   "id": "619fd4b5",
   "metadata": {},
   "source": [
    "## BoxEye rendering\n",
    "\n",
    "##### Rendering cartesian images to hexagonal lattice\n",
    "\n",
    "We translate cartesian frames into receptor activations by placing simulated photoreceptors in a two-dimensional hexagonal array in pixel space (blue dots below), 31 columns across resulting in 721 columns in total, spaced 13 pixels apart. The transduced luminance at each photoreceptor is the greyscale mean value in the 13×13-pixel region surrounding it (black boxes)."
   ]
  },
  {
   "cell_type": "code",
   "execution_count": null,
   "id": "79f73f60",
   "metadata": {
    "execution": {
     "iopub.execute_input": "2024-12-08T18:40:06.892002Z",
     "iopub.status.busy": "2024-12-08T18:40:06.891627Z",
     "iopub.status.idle": "2024-12-08T18:40:06.896800Z",
     "shell.execute_reply": "2024-12-08T18:40:06.895809Z"
    }
   },
   "outputs": [],
   "source": [
    "import flyvis\n",
    "from flyvis.datasets.rendering import BoxEye"
   ]
  },
  {
   "cell_type": "code",
   "execution_count": null,
   "id": "01f8dafc",
   "metadata": {
    "execution": {
     "iopub.execute_input": "2024-12-08T18:40:06.900775Z",
     "iopub.status.busy": "2024-12-08T18:40:06.900525Z",
     "iopub.status.idle": "2024-12-08T18:40:07.684363Z",
     "shell.execute_reply": "2024-12-08T18:40:07.683004Z"
    }
   },
   "outputs": [],
   "source": [
    "receptors = BoxEye(extent=15, kernel_size=13)"
   ]
  },
  {
   "cell_type": "code",
   "execution_count": null,
   "id": "263a2223",
   "metadata": {
    "execution": {
     "iopub.execute_input": "2024-12-08T18:40:07.689757Z",
     "iopub.status.busy": "2024-12-08T18:40:07.689483Z",
     "iopub.status.idle": "2024-12-08T18:40:11.056085Z",
     "shell.execute_reply": "2024-12-08T18:40:11.054645Z"
    }
   },
   "outputs": [],
   "source": [
    "fig = receptors.illustrate()"
   ]
  },
  {
   "cell_type": "markdown",
   "id": "0968ca3c",
   "metadata": {},
   "source": [
    "### Render a single frame\n",
    "\n",
    "To illustrate, this is what rendering a single frame looks like."
   ]
  },
  {
   "cell_type": "code",
   "execution_count": null,
   "id": "9f2f55cc",
   "metadata": {
    "execution": {
     "iopub.execute_input": "2024-12-08T18:40:11.061617Z",
     "iopub.status.busy": "2024-12-08T18:40:11.061309Z",
     "iopub.status.idle": "2024-12-08T18:40:11.067466Z",
     "shell.execute_reply": "2024-12-08T18:40:11.066456Z"
    }
   },
   "outputs": [],
   "source": [
    "import torch\n",
    "import numpy as np\n",
    "\n",
    "np.random.seed(42)\n",
    "import matplotlib.pyplot as plt\n",
    "\n",
    "plt.rcParams['figure.dpi'] = 200\n",
    "\n",
    "import flyvis\n",
    "from flyvis.utils.dataset_utils import load_moving_mnist\n",
    "from flyvis.analysis.visualization import plt_utils, plots"
   ]
  },
  {
   "cell_type": "code",
   "execution_count": null,
   "id": "88a752cb",
   "metadata": {
    "execution": {
     "iopub.execute_input": "2024-12-08T18:40:11.071412Z",
     "iopub.status.busy": "2024-12-08T18:40:11.071143Z",
     "iopub.status.idle": "2024-12-08T18:40:14.652230Z",
     "shell.execute_reply": "2024-12-08T18:40:14.650639Z"
    }
   },
   "outputs": [],
   "source": [
    "sequences = load_moving_mnist()"
   ]
  },
  {
   "cell_type": "code",
   "execution_count": null,
   "id": "1b2d2b74",
   "metadata": {
    "execution": {
     "iopub.execute_input": "2024-12-08T18:40:14.657835Z",
     "iopub.status.busy": "2024-12-08T18:40:14.657511Z",
     "iopub.status.idle": "2024-12-08T18:40:14.889562Z",
     "shell.execute_reply": "2024-12-08T18:40:14.888288Z"
    }
   },
   "outputs": [],
   "source": [
    "fig, ax = plt_utils.init_plot(figsize=[1, 1], fontsize=5)\n",
    "ax = plt_utils.rm_spines(ax)\n",
    "ax.imshow(sequences[0, 0], cmap=plt.cm.binary_r)\n",
    "_ = ax.set_title('example frame', fontsize=5)"
   ]
  },
  {
   "cell_type": "code",
   "execution_count": null,
   "id": "b7518bca",
   "metadata": {
    "execution": {
     "iopub.execute_input": "2024-12-08T18:40:14.895158Z",
     "iopub.status.busy": "2024-12-08T18:40:14.894076Z",
     "iopub.status.idle": "2024-12-08T18:40:14.900212Z",
     "shell.execute_reply": "2024-12-08T18:40:14.898970Z"
    }
   },
   "outputs": [],
   "source": [
    "single_frame = sequences[0, 0]\n",
    "\n",
    "# the rendering uses pytorch native Conv2d module so it can be executed on GPU and fast\n",
    "# we first move the frame to GPU\n",
    "single_frame = torch.tensor(single_frame, device=flyvis.device).float()\n",
    "\n",
    "# because the inputs to the receptors instance must have four dimensions (samples, frames, height, width),\n",
    "# we create two empty dimensions for samples and frames\n",
    "single_frame = single_frame[None, None]"
   ]
  },
  {
   "cell_type": "code",
   "execution_count": null,
   "id": "0bfcfee8",
   "metadata": {
    "execution": {
     "iopub.execute_input": "2024-12-08T18:40:14.904335Z",
     "iopub.status.busy": "2024-12-08T18:40:14.904045Z",
     "iopub.status.idle": "2024-12-08T18:40:15.424306Z",
     "shell.execute_reply": "2024-12-08T18:40:15.422719Z"
    }
   },
   "outputs": [],
   "source": [
    "# to render the single frame we simply call the instance\n",
    "# this automatically rescales the frame to match the receptor layout as illustrated above\n",
    "# and then places the average pixel value of the 13x13 boxes at the receptor positions\n",
    "receptors = BoxEye()\n",
    "rendered = receptors(single_frame)"
   ]
  },
  {
   "cell_type": "code",
   "execution_count": null,
   "id": "b13807af",
   "metadata": {
    "execution": {
     "iopub.execute_input": "2024-12-08T18:40:15.429747Z",
     "iopub.status.busy": "2024-12-08T18:40:15.429363Z",
     "iopub.status.idle": "2024-12-08T18:40:15.435756Z",
     "shell.execute_reply": "2024-12-08T18:40:15.434697Z"
    }
   },
   "outputs": [],
   "source": [
    "# the 721 receptor coordinates are implicitly given in the last dimension\n",
    "# they correspond to sorted hexagonal coordinates (u-coordinate, v-coordinate, value)\n",
    "rendered.shape"
   ]
  },
  {
   "cell_type": "code",
   "execution_count": null,
   "id": "16b7a236",
   "metadata": {
    "execution": {
     "iopub.execute_input": "2024-12-08T18:40:15.439624Z",
     "iopub.status.busy": "2024-12-08T18:40:15.439348Z",
     "iopub.status.idle": "2024-12-08T18:40:16.922519Z",
     "shell.execute_reply": "2024-12-08T18:40:16.921005Z"
    }
   },
   "outputs": [],
   "source": [
    "# the rendered frame is a slightly blurred version of the example\n",
    "fig, ax, _ = plots.quick_hex_scatter(\n",
    "    rendered.squeeze(), vmin=0, vmax=1, cbar_x_offset=0, fontsize=5\n",
    ")\n",
    "_ = ax.set_title(\"example frame rendered\", fontsize=5)"
   ]
  },
  {
   "cell_type": "code",
   "execution_count": null,
   "id": "c71431e1",
   "metadata": {
    "execution": {
     "iopub.execute_input": "2024-12-08T18:40:16.928175Z",
     "iopub.status.busy": "2024-12-08T18:40:16.927748Z",
     "iopub.status.idle": "2024-12-08T18:40:16.932947Z",
     "shell.execute_reply": "2024-12-08T18:40:16.931876Z"
    }
   },
   "outputs": [],
   "source": [
    "# Disclaimer: thinking in hex coordinates can be unfamiliar.\n",
    "# Therefore, we circumvent dealing with them explicitly.\n",
    "# Still - to understand how the above plot infers the pixel-plane coordinates\n",
    "# from the implicit hexagonal coordinates, you can inspect the following code."
   ]
  },
  {
   "cell_type": "code",
   "execution_count": null,
   "id": "b366bc11",
   "metadata": {
    "execution": {
     "iopub.execute_input": "2024-12-08T18:40:16.937227Z",
     "iopub.status.busy": "2024-12-08T18:40:16.936798Z",
     "iopub.status.idle": "2024-12-08T18:40:16.941641Z",
     "shell.execute_reply": "2024-12-08T18:40:16.940608Z"
    }
   },
   "outputs": [],
   "source": [
    "# # we can explicitly create sorted hex-coordinates from the integer radius of the hexagonal grid\n",
    "# # for a regular hexagonal lattice, the radius is uniquely determined from the number of hexagons\n",
    "\n",
    "# radius = flyvis.utils.hex_utils.get_hextent(rendered.shape[-1])\n",
    "\n",
    "# # here we create integer u, v coordinates, and we stick to the same function and convention\n",
    "# # everywhere in the code\n",
    "# u, v = flyvis.utils.hex_utils.get_hex_coords(radius)\n",
    "\n",
    "# # we transform them to pixel coordinates using our convention\n",
    "# x, y = flyvis.utils.hex_utils.hex_to_pixel(u, v)\n",
    "\n",
    "# # and can just scatter them to be back at the photoreceptor layout\n",
    "# fig, ax = plt_utils.init_plot(figsize=[2, 2], fontsize=5)\n",
    "# ax.scatter(x, y, s=0.5)"
   ]
  },
  {
   "cell_type": "markdown",
   "id": "022f3e02",
   "metadata": {},
   "source": [
    "## Render a whole dataset to disk\n",
    "\n",
    "We save rendered sequences to disk to retrieve them faster at runtime.\n",
    "\n",
    "We will use our library datamate here because it provides a powerful interface for writing and reading arrayfiles."
   ]
  },
  {
   "cell_type": "code",
   "execution_count": null,
   "id": "d9c28d5b",
   "metadata": {
    "execution": {
     "iopub.execute_input": "2024-12-08T18:40:16.945715Z",
     "iopub.status.busy": "2024-12-08T18:40:16.945426Z",
     "iopub.status.idle": "2024-12-08T18:40:16.951905Z",
     "shell.execute_reply": "2024-12-08T18:40:16.950866Z"
    }
   },
   "outputs": [],
   "source": [
    "from typing import List\n",
    "from tqdm import tqdm\n",
    "import torch\n",
    "import numpy as np\n",
    "\n",
    "np.random.seed(42)\n",
    "import matplotlib.pyplot as plt\n",
    "\n",
    "plt.rcParams['figure.dpi'] = 200\n",
    "\n",
    "from pathlib import Path\n",
    "from datamate import root, Directory\n",
    "\n",
    "import flyvis\n",
    "from flyvis.utils.dataset_utils import load_moving_mnist"
   ]
  },
  {
   "cell_type": "code",
   "execution_count": null,
   "id": "72397f24",
   "metadata": {
    "execution": {
     "iopub.execute_input": "2024-12-08T18:40:16.956069Z",
     "iopub.status.busy": "2024-12-08T18:40:16.955808Z",
     "iopub.status.idle": "2024-12-08T18:40:16.964489Z",
     "shell.execute_reply": "2024-12-08T18:40:16.963485Z"
    }
   },
   "outputs": [],
   "source": [
    "# the Directory class is a smart pointer to a specific directory\n",
    "# on the filesystem\n",
    "\n",
    "# directory to store the rendered stimuli\n",
    "from flyvis import renderings_dir\n",
    "\n",
    "\n",
    "# root tells where the Directory-tree starts\n",
    "@root(renderings_dir)\n",
    "class RenderedData(Directory):\n",
    "    class Config(dict):\n",
    "        extent: int  # radius, in number of receptors of the hexagonal array.\n",
    "        kernel_size: int  # photon collection radius, in pixels.\n",
    "        subset_idx: List[int]  # if specified, subset of sequences to render\n",
    "\n",
    "    def __init__(self, config: Config):\n",
    "        # here comes the preprocessing and rendering as above or similar -- depending on the dataset etc.\n",
    "        # this code will be executed automatically once for each unique configuration to store preprocessed\n",
    "        # data on disk and later simply provide a reference to it.\n",
    "        sequences = load_moving_mnist()\n",
    "\n",
    "        # we use the configuration to control the settings under which we render the stimuli\n",
    "        receptors = BoxEye(extent=config.extent, kernel_size=config.kernel_size)\n",
    "\n",
    "        # for memory-friendly rendering we can loop over individual sequences\n",
    "        # and subsets of the dataset\n",
    "        rendered_sequences = []\n",
    "        subset_idx = getattr(config, \"subset_idx\", []) or list(range(sequences.shape[0]))\n",
    "        with tqdm(total=len(subset_idx)) as pbar:\n",
    "            for index in subset_idx:\n",
    "                rendered_sequences.append(receptors(sequences[[index]]).cpu().numpy())\n",
    "                pbar.update()\n",
    "\n",
    "        # to join individual sequences along their first dimension\n",
    "        # to obtain (n_sequences, n_frames, 1, receptors.hexals)\n",
    "        rendered_sequences = np.concatenate(rendered_sequences, axis=0)\n",
    "\n",
    "        # the __setattr__ method of the Directory class saves sequences to self.path/\"sequences.h5\"\n",
    "        # that can be later retrieved using self.sequences[:]\n",
    "        self.sequences = rendered_sequences"
   ]
  },
  {
   "cell_type": "code",
   "execution_count": null,
   "id": "6a0f656f",
   "metadata": {
    "execution": {
     "iopub.execute_input": "2024-12-08T18:40:16.968533Z",
     "iopub.status.busy": "2024-12-08T18:40:16.968306Z",
     "iopub.status.idle": "2024-12-08T18:40:16.994496Z",
     "shell.execute_reply": "2024-12-08T18:40:16.993304Z"
    }
   },
   "outputs": [],
   "source": [
    "# note, to render the whole dataset provide an empty list for `subset_idx` or delete the key word argument\n",
    "moving_mnist_rendered = RenderedData(\n",
    "    dict(extent=15, kernel_size=13, subset_idx=[0, 1, 2, 3])\n",
    ")"
   ]
  },
  {
   "cell_type": "code",
   "execution_count": null,
   "id": "329f16d9",
   "metadata": {
    "execution": {
     "iopub.execute_input": "2024-12-08T18:40:16.999480Z",
     "iopub.status.busy": "2024-12-08T18:40:16.998448Z",
     "iopub.status.idle": "2024-12-08T18:40:17.032066Z",
     "shell.execute_reply": "2024-12-08T18:40:17.030997Z"
    }
   },
   "outputs": [],
   "source": [
    "# this is how we can retrieve the sequences from the disk into memory\n",
    "rendered_sequences = moving_mnist_rendered.sequences[:]"
   ]
  },
  {
   "cell_type": "code",
   "execution_count": null,
   "id": "88363b61",
   "metadata": {
    "execution": {
     "iopub.execute_input": "2024-12-08T18:40:17.036906Z",
     "iopub.status.busy": "2024-12-08T18:40:17.036548Z",
     "iopub.status.idle": "2024-12-08T18:40:17.044136Z",
     "shell.execute_reply": "2024-12-08T18:40:17.042818Z"
    }
   },
   "outputs": [],
   "source": [
    "rendered_sequences.shape"
   ]
  },
  {
   "cell_type": "code",
   "execution_count": null,
   "id": "3125935c",
   "metadata": {
    "execution": {
     "iopub.execute_input": "2024-12-08T18:40:17.048113Z",
     "iopub.status.busy": "2024-12-08T18:40:17.047850Z",
     "iopub.status.idle": "2024-12-08T18:40:19.085255Z",
     "shell.execute_reply": "2024-12-08T18:40:19.084022Z"
    }
   },
   "outputs": [],
   "source": [
    "animation = animations.HexScatter(rendered_sequences, vmin=0, vmax=1)\n",
    "animation.animate_in_notebook()"
   ]
  },
  {
   "cell_type": "code",
   "execution_count": null,
   "id": "d430a147",
   "metadata": {
    "execution": {
     "iopub.execute_input": "2024-12-08T18:40:19.090365Z",
     "iopub.status.busy": "2024-12-08T18:40:19.089956Z",
     "iopub.status.idle": "2024-12-08T18:40:19.094481Z",
     "shell.execute_reply": "2024-12-08T18:40:19.093252Z"
    }
   },
   "outputs": [],
   "source": [
    "# Note, to delete a Directory, e.g. to change the __init__ and reinstantiate,\n",
    "# run moving_mnist_rendered.rmtree(\"y\")."
   ]
  },
  {
   "cell_type": "markdown",
   "id": "e83cf57d",
   "metadata": {},
   "source": [
    "## Create a sequence dataset\n",
    "\n",
    "Next we create a Pytorch dataset for loading the sequences."
   ]
  },
  {
   "cell_type": "code",
   "execution_count": null,
   "id": "8aeceb5f",
   "metadata": {
    "execution": {
     "iopub.execute_input": "2024-12-08T18:40:19.098798Z",
     "iopub.status.busy": "2024-12-08T18:40:19.098459Z",
     "iopub.status.idle": "2024-12-08T18:40:19.105448Z",
     "shell.execute_reply": "2024-12-08T18:40:19.104353Z"
    }
   },
   "outputs": [],
   "source": [
    "from typing import List\n",
    "from tqdm import tqdm\n",
    "import torch\n",
    "import numpy as np\n",
    "\n",
    "np.random.seed(42)\n",
    "import matplotlib.pyplot as plt\n",
    "\n",
    "plt.rcParams['figure.dpi'] = 200\n",
    "\n",
    "from pathlib import Path\n",
    "from datamate import root, Directory\n",
    "\n",
    "import flyvis\n",
    "from flyvis.utils.dataset_utils import load_moving_mnist\n",
    "from flyvis.datasets.datasets import SequenceDataset\n",
    "from flyvis.analysis import animations"
   ]
  },
  {
   "cell_type": "code",
   "execution_count": null,
   "id": "1b9d2a2e",
   "metadata": {
    "execution": {
     "iopub.execute_input": "2024-12-08T18:40:19.109775Z",
     "iopub.status.busy": "2024-12-08T18:40:19.109400Z",
     "iopub.status.idle": "2024-12-08T18:40:19.119114Z",
     "shell.execute_reply": "2024-12-08T18:40:19.117896Z"
    }
   },
   "outputs": [],
   "source": [
    "# the Directory class is a smart pointer to a specific directory\n",
    "# on the filesystem\n",
    "\n",
    "# directory to store the rendered stimuli\n",
    "from flyvis import renderings_dir\n",
    "\n",
    "\n",
    "# root tells where the Directory-tree starts\n",
    "@root(renderings_dir)\n",
    "class RenderedData(Directory):\n",
    "    class Config(dict):\n",
    "        extent: int  # radius, in number of receptors of the hexagonal array.\n",
    "        kernel_size: int  # photon collection radius, in pixels.\n",
    "        subset_idx: List[int]  # if specified, subset of sequences to render\n",
    "\n",
    "    def __init__(self, config: Config):\n",
    "        # here comes the preprocessing and rendering as above or similar -- depending on the dataset etc.\n",
    "        # this code will be executed automatically once for each unique configuration to store preprocessed\n",
    "        # data on disk and later simply provide a reference to it.\n",
    "        sequences = load_moving_mnist()\n",
    "\n",
    "        # we use the configuration to control the settings under which we render the stimuli\n",
    "        receptors = BoxEye(extent=config.extent, kernel_size=config.kernel_size)\n",
    "\n",
    "        # for memory-friendly rendering we can loop over individual sequences\n",
    "        # and subsets of the dataset\n",
    "        rendered_sequences = []\n",
    "        subset_idx = getattr(config, \"subset_idx\", []) or list(range(sequences.shape[0]))\n",
    "        with tqdm(total=len(subset_idx)) as pbar:\n",
    "            for index in subset_idx:\n",
    "                rendered_sequences.append(receptors(sequences[[index]]).cpu().numpy())\n",
    "                pbar.update()\n",
    "\n",
    "        # to join individual sequences along their first dimension\n",
    "        # to obtain (n_sequences, n_frames, 1, receptors.hexals)\n",
    "        rendered_sequences = np.concatenate(rendered_sequences, axis=0)\n",
    "\n",
    "        # the __setattr__ method of the Directory class saves sequences to self.path/\"sequences.h5\"\n",
    "        # that can be later retrieved using self.sequences[:]\n",
    "        self.sequences = rendered_sequences"
   ]
  },
  {
   "cell_type": "markdown",
   "id": "07830a51",
   "metadata": {},
   "source": [
    "##### Create a custom dataset\n",
    "We create a generic interface for custom datasets to make dataloading consistent---this interface can tell the sampler what the framerate, the integration time steps, durations for pre-, and post grey-scale stimulation, and the number of sequences are.\n",
    "\n",
    "In this case, we inherit a SequenceDataset, that also obeys (and extends) the interface of Pytorch's Dataset."
   ]
  },
  {
   "cell_type": "code",
   "execution_count": null,
   "id": "e8c2ebe2",
   "metadata": {
    "execution": {
     "iopub.execute_input": "2024-12-08T18:40:19.123231Z",
     "iopub.status.busy": "2024-12-08T18:40:19.122999Z",
     "iopub.status.idle": "2024-12-08T18:40:19.127172Z",
     "shell.execute_reply": "2024-12-08T18:40:19.126250Z"
    }
   },
   "outputs": [],
   "source": [
    "import pandas as pd"
   ]
  },
  {
   "cell_type": "code",
   "execution_count": null,
   "id": "255310a0",
   "metadata": {
    "execution": {
     "iopub.execute_input": "2024-12-08T18:40:19.131281Z",
     "iopub.status.busy": "2024-12-08T18:40:19.130966Z",
     "iopub.status.idle": "2024-12-08T18:40:19.138858Z",
     "shell.execute_reply": "2024-12-08T18:40:19.137903Z"
    }
   },
   "outputs": [],
   "source": [
    "class CustomStimuli(SequenceDataset):\n",
    "    # implementing the SequenceDataset interface\n",
    "    dt = 1 / 100\n",
    "    original_framerate = 24\n",
    "    t_pre = 0.5\n",
    "    t_post = 0.5\n",
    "    n_sequences = None\n",
    "    augment = False\n",
    "\n",
    "    def __init__(self, rendered_data_config: dict):\n",
    "        self.dir = RenderedData(rendered_data_config)\n",
    "        self.sequences = torch.tensor(self.dir.sequences[:])\n",
    "        self.n_sequences = self.sequences.shape[0]\n",
    "        self.arg_df = pd.DataFrame({\"sequence_idx\": np.arange(self.n_sequences)})\n",
    "\n",
    "    def get_item(self, key):\n",
    "        sequence = self.sequences[key]\n",
    "        # to match the framerate to the integration time dt, we can resample frames\n",
    "        # from these indices. note, when dt = 1/framerate, this will return the exact sequence\n",
    "        resample = self.get_temporal_sample_indices(sequence.shape[0], sequence.shape[0])\n",
    "        return sequence[resample]"
   ]
  },
  {
   "cell_type": "code",
   "execution_count": null,
   "id": "a3d91b24",
   "metadata": {
    "execution": {
     "iopub.execute_input": "2024-12-08T18:40:19.142900Z",
     "iopub.status.busy": "2024-12-08T18:40:19.142657Z",
     "iopub.status.idle": "2024-12-08T18:40:19.192350Z",
     "shell.execute_reply": "2024-12-08T18:40:19.191089Z"
    }
   },
   "outputs": [],
   "source": [
    "# note, to render the whole dataset provide an empty list for `subset_idx` or delete the key word argument\n",
    "data = CustomStimuli(dict(extent=15, kernel_size=13, subset_idx=[0, 1, 2, 3]))"
   ]
  },
  {
   "cell_type": "code",
   "execution_count": null,
   "id": "e2a89868",
   "metadata": {
    "execution": {
     "iopub.execute_input": "2024-12-08T18:40:19.196134Z",
     "iopub.status.busy": "2024-12-08T18:40:19.195880Z",
     "iopub.status.idle": "2024-12-08T18:40:21.439281Z",
     "shell.execute_reply": "2024-12-08T18:40:21.437985Z"
    }
   },
   "outputs": [],
   "source": [
    "animation = animations.HexScatter(data[0][None], vmin=0, vmax=1)\n",
    "animation.animate_in_notebook()"
   ]
  },
  {
   "cell_type": "markdown",
   "id": "8c80e6d1",
   "metadata": {},
   "source": [
    "## Compute model responses to custom stimuli\n",
    "\n",
    "Now, we can compute model responses across individual models or the whole ensemble to our custom stimulus."
   ]
  },
  {
   "cell_type": "code",
   "execution_count": null,
   "id": "98f848f7",
   "metadata": {
    "execution": {
     "iopub.execute_input": "2024-12-08T18:40:21.444989Z",
     "iopub.status.busy": "2024-12-08T18:40:21.444492Z",
     "iopub.status.idle": "2024-12-08T18:40:21.451988Z",
     "shell.execute_reply": "2024-12-08T18:40:21.450842Z"
    }
   },
   "outputs": [],
   "source": [
    "from typing import List\n",
    "from tqdm import tqdm\n",
    "import torch\n",
    "import numpy as np\n",
    "\n",
    "np.random.seed(42)\n",
    "import matplotlib.pyplot as plt\n",
    "\n",
    "plt.rcParams['figure.dpi'] = 200\n",
    "\n",
    "from pathlib import Path\n",
    "from datamate import root, Directory\n",
    "\n",
    "import flyvis\n",
    "from flyvis.utils.dataset_utils import load_moving_mnist\n",
    "from flyvis.datasets.datasets import SequenceDataset\n",
    "from flyvis.utils.activity_utils import LayerActivity"
   ]
  },
  {
   "cell_type": "code",
   "execution_count": null,
   "id": "51203d9c",
   "metadata": {
    "execution": {
     "iopub.execute_input": "2024-12-08T18:40:21.457192Z",
     "iopub.status.busy": "2024-12-08T18:40:21.456691Z",
     "iopub.status.idle": "2024-12-08T18:40:21.468348Z",
     "shell.execute_reply": "2024-12-08T18:40:21.467057Z"
    }
   },
   "outputs": [],
   "source": [
    "# the Directory class is a smart pointer to a specific directory\n",
    "# on the filesystem\n",
    "\n",
    "# directory to store the rendered stimuli\n",
    "from flyvis import renderings_dir\n",
    "\n",
    "\n",
    "# root tells where the Directory-tree starts\n",
    "@root(renderings_dir)\n",
    "class RenderedData(Directory):\n",
    "    class Config(dict):\n",
    "        extent: int  # radius, in number of receptors of the hexagonal array.\n",
    "        kernel_size: int  # photon collection radius, in pixels.\n",
    "        subset_idx: List[int]  # if specified, subset of sequences to render\n",
    "\n",
    "    def __init__(self, config: Config):\n",
    "        # here comes the preprocessing and rendering as above or similar -- depending on the dataset etc.\n",
    "        # this code will be executed automatically once for each unique configuration to store preprocessed\n",
    "        # data on disk and later simply provide a reference to it.\n",
    "        sequences = load_moving_mnist()\n",
    "\n",
    "        # we use the configuration to control the settings under which we render the stimuli\n",
    "        receptors = BoxEye(extent=config.extent, kernel_size=config.kernel_size)\n",
    "\n",
    "        # for memory-friendly rendering we can loop over individual sequences\n",
    "        # and subsets of the dataset\n",
    "        rendered_sequences = []\n",
    "        subset_idx = getattr(config, \"subset_idx\", []) or list(range(sequences.shape[0]))\n",
    "        with tqdm(total=len(subset_idx)) as pbar:\n",
    "            for index in subset_idx:\n",
    "                rendered_sequences.append(receptors(sequences[[index]]).cpu().numpy())\n",
    "                pbar.update()\n",
    "\n",
    "        # to join individual sequences along their first dimension\n",
    "        # to obtain (n_sequences, n_frames, 1, receptors.hexals)\n",
    "        rendered_sequences = np.concatenate(rendered_sequences, axis=0)\n",
    "\n",
    "        # the __setattr__ method of the Directory class saves sequences to self.path/\"sequences.h5\"\n",
    "        # that can be later retrieved using self.sequences[:]\n",
    "        self.sequences = rendered_sequences"
   ]
  },
  {
   "cell_type": "code",
   "execution_count": null,
   "id": "ae83f9ec",
   "metadata": {
    "execution": {
     "iopub.execute_input": "2024-12-08T18:40:21.472673Z",
     "iopub.status.busy": "2024-12-08T18:40:21.472407Z",
     "iopub.status.idle": "2024-12-08T18:40:21.479644Z",
     "shell.execute_reply": "2024-12-08T18:40:21.478605Z"
    }
   },
   "outputs": [],
   "source": [
    "class CustomStimuli(SequenceDataset):\n",
    "    # implementing the SequenceDataset interface\n",
    "    dt = 1 / 100\n",
    "    framerate = 24\n",
    "    t_pre = 0.5\n",
    "    t_post = 0.5\n",
    "    n_sequences = None\n",
    "    augment = False\n",
    "\n",
    "    def __init__(self, rendered_data_config: dict):\n",
    "        self.dir = RenderedData(rendered_data_config)\n",
    "        self.sequences = torch.tensor(self.dir.sequences[:])\n",
    "        self.n_sequences = self.sequences.shape[0]\n",
    "        self.arg_df = pd.DataFrame({\"sequence_idx\": np.arange(self.n_sequences)})\n",
    "\n",
    "    def get_item(self, key):\n",
    "        sequence = self.sequences[key]\n",
    "        # to match the framerate to the integration time dt, we can resample frames\n",
    "        # from these indices. note, when dt = 1/framerate, this will return the exact sequence\n",
    "        resample = self.get_temporal_sample_indices(sequence.shape[0], sequence.shape[0])\n",
    "        return sequence[resample]"
   ]
  },
  {
   "cell_type": "code",
   "execution_count": null,
   "id": "40b69c06",
   "metadata": {
    "execution": {
     "iopub.execute_input": "2024-12-08T18:40:21.483674Z",
     "iopub.status.busy": "2024-12-08T18:40:21.483408Z",
     "iopub.status.idle": "2024-12-08T18:40:21.533619Z",
     "shell.execute_reply": "2024-12-08T18:40:21.532324Z"
    }
   },
   "outputs": [],
   "source": [
    "# note, to render the whole dataset provide an empty list for `subset_idx` or delete the key word argument\n",
    "data = CustomStimuli(dict(extent=15, kernel_size=13, subset_idx=[0, 1, 2, 3]))"
   ]
  },
  {
   "cell_type": "markdown",
   "id": "80a4bfa0",
   "metadata": {},
   "source": [
    "##### Select a pretrained network\n",
    "\n",
    "To select a network from the ensemble of 50 pretrained networks, let's see what our options are.\n",
    "\n",
    "Paths to pretrained models from the ensemble end with four digit numbers which are sorted by task error (0-49 from best to worst)."
   ]
  },
  {
   "cell_type": "code",
   "execution_count": null,
   "id": "b9ad7c0a",
   "metadata": {
    "execution": {
     "iopub.execute_input": "2024-12-08T18:40:21.537697Z",
     "iopub.status.busy": "2024-12-08T18:40:21.537305Z",
     "iopub.status.idle": "2024-12-08T18:40:21.548439Z",
     "shell.execute_reply": "2024-12-08T18:40:21.547475Z"
    }
   },
   "outputs": [],
   "source": [
    "sorted([\n",
    "    p.relative_to(flyvis.results_dir)\n",
    "    for p in (flyvis.results_dir / \"flow/0000\").iterdir()\n",
    "    if p.name.isnumeric()\n",
    "])"
   ]
  },
  {
   "cell_type": "markdown",
   "id": "4f45367e",
   "metadata": {},
   "source": [
    "We use the `NetworkView` class to point to a model. This object can implement plots plus methods to initialize network, stimuli etc. "
   ]
  },
  {
   "cell_type": "code",
   "execution_count": null,
   "id": "918d2fa1",
   "metadata": {
    "execution": {
     "iopub.execute_input": "2024-12-08T18:40:21.552423Z",
     "iopub.status.busy": "2024-12-08T18:40:21.552161Z",
     "iopub.status.idle": "2024-12-08T18:40:21.804522Z",
     "shell.execute_reply": "2024-12-08T18:40:21.803199Z"
    }
   },
   "outputs": [],
   "source": [
    "network_view = flyvis.NetworkView(flyvis.results_dir / \"flow/0000/000\")"
   ]
  },
  {
   "cell_type": "code",
   "execution_count": null,
   "id": "4635a154",
   "metadata": {
    "execution": {
     "iopub.execute_input": "2024-12-08T18:40:21.808525Z",
     "iopub.status.busy": "2024-12-08T18:40:21.808208Z",
     "iopub.status.idle": "2024-12-08T18:40:30.204138Z",
     "shell.execute_reply": "2024-12-08T18:40:30.202616Z"
    }
   },
   "outputs": [],
   "source": [
    "# to load the Pytorch module with pretrained parameters\n",
    "network = network_view.init_network()"
   ]
  },
  {
   "cell_type": "code",
   "execution_count": null,
   "id": "62865670",
   "metadata": {
    "execution": {
     "iopub.execute_input": "2024-12-08T18:40:30.209042Z",
     "iopub.status.busy": "2024-12-08T18:40:30.208667Z",
     "iopub.status.idle": "2024-12-08T18:40:30.214514Z",
     "shell.execute_reply": "2024-12-08T18:40:30.213399Z"
    }
   },
   "outputs": [],
   "source": [
    "movie_input = data[0]"
   ]
  },
  {
   "cell_type": "code",
   "execution_count": null,
   "id": "43857246",
   "metadata": {
    "execution": {
     "iopub.execute_input": "2024-12-08T18:40:30.219012Z",
     "iopub.status.busy": "2024-12-08T18:40:30.218365Z",
     "iopub.status.idle": "2024-12-08T18:40:30.225709Z",
     "shell.execute_reply": "2024-12-08T18:40:30.224359Z"
    }
   },
   "outputs": [],
   "source": [
    "movie_input.shape"
   ]
  },
  {
   "cell_type": "markdown",
   "id": "58269821",
   "metadata": {},
   "source": [
    "##### Compute a stationary state\n",
    "\n",
    "We initialize the network at a stationary state, to remove transient responses due to stimulus onset from functional stimulus responses like motion detection. The network provides two methods for stationary state computation `network.fade_in_state` and `network.steady_state`. We use `fade_in_state` here, which slowly ramps up\n",
    "the intensity of the first frame in the sequence to compute a stationary state that minimizes the transient response. The method `steady_state` computes a sequence-independent stationary state by providing a whole-field grey-scale stimulus at medium intensity (but it does not get rid of a transient response)."
   ]
  },
  {
   "cell_type": "code",
   "execution_count": null,
   "id": "6a632d6a",
   "metadata": {
    "execution": {
     "iopub.execute_input": "2024-12-08T18:40:30.230203Z",
     "iopub.status.busy": "2024-12-08T18:40:30.229722Z",
     "iopub.status.idle": "2024-12-08T18:40:30.333300Z",
     "shell.execute_reply": "2024-12-08T18:40:30.331895Z"
    }
   },
   "outputs": [],
   "source": [
    "stationary_state = network.fade_in_state(1.0, data.dt, movie_input[[0]])"
   ]
  },
  {
   "cell_type": "markdown",
   "id": "58d2d6b5",
   "metadata": {},
   "source": [
    "##### Obtain network responses\n",
    "\n",
    "A convenient way to obtain network responses is to call `network.simulate`\n",
    "which calls the forward function of the Pytorch module without tracking gradients\n",
    "(plus it provides a simpler interface than `network.forward` because it already maps stimulus to receptors using the `network.stimulus` attribute)."
   ]
  },
  {
   "cell_type": "code",
   "execution_count": null,
   "id": "2faa8c84",
   "metadata": {
    "execution": {
     "iopub.execute_input": "2024-12-08T18:40:30.339494Z",
     "iopub.status.busy": "2024-12-08T18:40:30.339198Z",
     "iopub.status.idle": "2024-12-08T18:40:30.360936Z",
     "shell.execute_reply": "2024-12-08T18:40:30.359515Z"
    }
   },
   "outputs": [],
   "source": [
    "# For analysis, we move the returned tensor to cpu.\n",
    "responses = network.simulate(\n",
    "    movie_input[None], data.dt, initial_state=stationary_state\n",
    ").cpu()"
   ]
  },
  {
   "cell_type": "code",
   "execution_count": null,
   "id": "c20bf7b9",
   "metadata": {
    "execution": {
     "iopub.execute_input": "2024-12-08T18:40:30.365100Z",
     "iopub.status.busy": "2024-12-08T18:40:30.364703Z",
     "iopub.status.idle": "2024-12-08T18:40:30.370763Z",
     "shell.execute_reply": "2024-12-08T18:40:30.369783Z"
    }
   },
   "outputs": [],
   "source": [
    "responses.shape"
   ]
  },
  {
   "cell_type": "markdown",
   "id": "b6a76d97",
   "metadata": {},
   "source": [
    "##### Visualize responses of specific cells"
   ]
  },
  {
   "cell_type": "markdown",
   "id": "a50a4b3c",
   "metadata": {},
   "source": [
    "`LayerActivity` is an interface to the response tensor of 45k cells that allows dict- and attribute-style access to the responses of individual cell types and to the responses of their central cells."
   ]
  },
  {
   "cell_type": "code",
   "execution_count": null,
   "id": "a6a148c3",
   "metadata": {
    "execution": {
     "iopub.execute_input": "2024-12-08T18:40:30.374955Z",
     "iopub.status.busy": "2024-12-08T18:40:30.374664Z",
     "iopub.status.idle": "2024-12-08T18:40:35.247242Z",
     "shell.execute_reply": "2024-12-08T18:40:35.245757Z"
    }
   },
   "outputs": [],
   "source": [
    "responses = LayerActivity(responses, network.connectome, keepref=True)"
   ]
  },
  {
   "cell_type": "code",
   "execution_count": null,
   "id": "f1a66a70",
   "metadata": {
    "execution": {
     "iopub.execute_input": "2024-12-08T18:40:35.253553Z",
     "iopub.status.busy": "2024-12-08T18:40:35.253008Z",
     "iopub.status.idle": "2024-12-08T18:40:35.259019Z",
     "shell.execute_reply": "2024-12-08T18:40:35.257911Z"
    }
   },
   "outputs": [],
   "source": [
    "cell_type = \"T4c\""
   ]
  },
  {
   "cell_type": "markdown",
   "id": "d64eb4f7",
   "metadata": {},
   "source": [
    "The stimulus on the left, and the response on the right described by passive point neuron voltage dynamics. Cells depolarize (red) and hyperpolarize (blue) in response to the stimulus. A single \"hexal\" corresponds to one neuron of the cell type."
   ]
  },
  {
   "cell_type": "code",
   "execution_count": null,
   "id": "ad1e867d",
   "metadata": {
    "execution": {
     "iopub.execute_input": "2024-12-08T18:40:35.263448Z",
     "iopub.status.busy": "2024-12-08T18:40:35.262984Z",
     "iopub.status.idle": "2024-12-08T18:40:38.417644Z",
     "shell.execute_reply": "2024-12-08T18:40:38.416413Z"
    }
   },
   "outputs": [],
   "source": [
    "anim = animations.StimulusResponse(movie_input[None], responses[cell_type][:, :, None])\n",
    "anim.animate_in_notebook(frames=np.arange(anim.frames)[::2])"
   ]
  },
  {
   "cell_type": "markdown",
   "id": "efac1f9c",
   "metadata": {},
   "source": [
    "Often, we are interested in a canonical response of a specific cell type to a specific stimulus to generate hypotheses for their role in a computation. In our model, we can take the central cell as a proxy for all cells of the given type, because cells share their parameters and in- and output connections. I.e. the responses of all cells of a given type would be the same (not taking boundary effects into account) when the same stimulus would cross their identical but spatially offset receptive field in the same way."
   ]
  },
  {
   "cell_type": "code",
   "execution_count": null,
   "id": "51883677",
   "metadata": {
    "execution": {
     "iopub.execute_input": "2024-12-08T18:40:38.422941Z",
     "iopub.status.busy": "2024-12-08T18:40:38.422680Z",
     "iopub.status.idle": "2024-12-08T18:40:38.427607Z",
     "shell.execute_reply": "2024-12-08T18:40:38.426598Z"
    }
   },
   "outputs": [],
   "source": [
    "n_frames = movie_input.shape[0]\n",
    "time = np.arange(0, n_frames * data.dt, data.dt)"
   ]
  },
  {
   "cell_type": "code",
   "execution_count": null,
   "id": "95409433",
   "metadata": {
    "execution": {
     "iopub.execute_input": "2024-12-08T18:40:38.431623Z",
     "iopub.status.busy": "2024-12-08T18:40:38.431314Z",
     "iopub.status.idle": "2024-12-08T18:40:38.658272Z",
     "shell.execute_reply": "2024-12-08T18:40:38.657223Z"
    }
   },
   "outputs": [],
   "source": [
    "fig, ax = plt_utils.init_plot([2, 2], fontsize=5)\n",
    "ax.plot(time, responses.central[cell_type].squeeze())\n",
    "ax.set_xlabel(\"time in s\", fontsize=5)\n",
    "ax.set_ylabel(\"central response (a.u.)\", fontsize=5)"
   ]
  },
  {
   "cell_type": "markdown",
   "id": "146d4a6c",
   "metadata": {},
   "source": [
    "## Compute responses over the whole ensemble"
   ]
  },
  {
   "cell_type": "markdown",
   "id": "dc8121ee",
   "metadata": {},
   "source": [
    "In addition to looking at individual models, we next compute responses across the whole ensemble at once to look at them jointly."
   ]
  },
  {
   "cell_type": "code",
   "execution_count": null,
   "id": "637389f6",
   "metadata": {
    "execution": {
     "iopub.execute_input": "2024-12-08T18:40:38.663696Z",
     "iopub.status.busy": "2024-12-08T18:40:38.663312Z",
     "iopub.status.idle": "2024-12-08T18:40:38.669231Z",
     "shell.execute_reply": "2024-12-08T18:40:38.668248Z"
    }
   },
   "outputs": [],
   "source": [
    "from typing import List\n",
    "from tqdm import tqdm\n",
    "import torch\n",
    "import numpy as np\n",
    "\n",
    "np.random.seed(42)\n",
    "import matplotlib.pyplot as plt\n",
    "\n",
    "plt.rcParams['figure.dpi'] = 200\n",
    "\n",
    "from pathlib import Path\n",
    "from datamate import root, Directory\n",
    "\n",
    "import flyvis\n",
    "from flyvis.utils.dataset_utils import load_moving_mnist\n",
    "from flyvis.datasets.datasets import SequenceDataset\n",
    "from flyvis.utils.activity_utils import LayerActivity\n",
    "from flyvis import EnsembleView"
   ]
  },
  {
   "cell_type": "code",
   "execution_count": null,
   "id": "340d2d14",
   "metadata": {
    "execution": {
     "iopub.execute_input": "2024-12-08T18:40:38.673290Z",
     "iopub.status.busy": "2024-12-08T18:40:38.673015Z",
     "iopub.status.idle": "2024-12-08T18:40:38.684704Z",
     "shell.execute_reply": "2024-12-08T18:40:38.683432Z"
    }
   },
   "outputs": [],
   "source": [
    "# the Directory class is a smart pointer to a specific directory\n",
    "# on the filesystem\n",
    "\n",
    "# directory to store the rendered stimuli\n",
    "from flyvis import renderings_dir\n",
    "\n",
    "\n",
    "# root tells where the Directory-tree starts\n",
    "@root(renderings_dir)\n",
    "class RenderedData(Directory):\n",
    "    class Config(dict):\n",
    "        extent: int  # radius, in number of receptors of the hexagonal array.\n",
    "        kernel_size: int  # photon collection radius, in pixels.\n",
    "        subset_idx: List[int]  # if specified, subset of sequences to render\n",
    "\n",
    "    def __init__(self, config: Config):\n",
    "        # here comes the preprocessing and rendering as above or similar -- depending on the dataset etc.\n",
    "        # this code will be executed automatically once for each unique configuration to store preprocessed\n",
    "        # data on disk and later simply provide a reference to it.\n",
    "        sequences = load_moving_mnist()\n",
    "\n",
    "        # we use the configuration to control the settings under which we render the stimuli\n",
    "        receptors = BoxEye(extent=config.extent, kernel_size=config.kernel_size)\n",
    "\n",
    "        # for memory-friendly rendering we can loop over individual sequences\n",
    "        # and subsets of the dataset\n",
    "        rendered_sequences = []\n",
    "        subset_idx = getattr(config, \"subset_idx\", []) or list(range(sequences.shape[0]))\n",
    "        with tqdm(total=len(subset_idx)) as pbar:\n",
    "            for index in subset_idx:\n",
    "                rendered_sequences.append(receptors(sequences[[index]]).cpu().numpy())\n",
    "                pbar.update()\n",
    "\n",
    "        # to join individual sequences along their first dimension\n",
    "        # to obtain (n_sequences, n_frames, 1, receptors.hexals)\n",
    "        rendered_sequences = np.concatenate(rendered_sequences, axis=0)\n",
    "\n",
    "        # the __setattr__ method of the Directory class saves sequences to self.path/\"sequences.h5\"\n",
    "        # that can be later retrieved using self.sequences[:]\n",
    "        self.sequences = rendered_sequences"
   ]
  },
  {
   "cell_type": "code",
   "execution_count": null,
   "id": "b6fa6700",
   "metadata": {
    "execution": {
     "iopub.execute_input": "2024-12-08T18:40:38.689030Z",
     "iopub.status.busy": "2024-12-08T18:40:38.688749Z",
     "iopub.status.idle": "2024-12-08T18:40:38.696382Z",
     "shell.execute_reply": "2024-12-08T18:40:38.695452Z"
    }
   },
   "outputs": [],
   "source": [
    "class CustomStimuli(SequenceDataset):\n",
    "    # implementing the SequenceDataset interface\n",
    "    dt = 1 / 100\n",
    "    framerate = 24\n",
    "    t_pre = 0.5\n",
    "    t_post = 0.5\n",
    "    n_sequences = None\n",
    "    augment = False\n",
    "\n",
    "    def __init__(self, rendered_data_config: dict):\n",
    "        self.dir = RenderedData(rendered_data_config)\n",
    "        self.sequences = torch.tensor(self.dir.sequences[:])\n",
    "        self.n_sequences = self.sequences.shape[0]\n",
    "        self.arg_df = pd.DataFrame({\"sequence_idx\": np.arange(self.n_sequences)})\n",
    "\n",
    "    def get_item(self, key):\n",
    "        sequence = self.sequences[key]\n",
    "        # to match the framerate to the integration time dt, we can resample frames\n",
    "        # from these indices. note, when dt = 1/framerate, this will return the exact sequence\n",
    "        resample = self.get_temporal_sample_indices(sequence.shape[0], sequence.shape[0])\n",
    "        return sequence[resample]"
   ]
  },
  {
   "cell_type": "code",
   "execution_count": null,
   "id": "6c30c94e",
   "metadata": {
    "execution": {
     "iopub.execute_input": "2024-12-08T18:40:38.700637Z",
     "iopub.status.busy": "2024-12-08T18:40:38.700355Z",
     "iopub.status.idle": "2024-12-08T18:40:38.750046Z",
     "shell.execute_reply": "2024-12-08T18:40:38.749021Z"
    }
   },
   "outputs": [],
   "source": [
    "# note, to render the whole dataset provide an empty list for `subset_idx` or delete the key word argument\n",
    "data = CustomStimuli(dict(extent=15, kernel_size=13, subset_idx=[0, 1, 2, 3]))"
   ]
  },
  {
   "cell_type": "markdown",
   "id": "51a8861c",
   "metadata": {},
   "source": [
    "##### Select the pretrained ensemble\n",
    "\n",
    "Similar to the `NetworkView` object, the `EnsembleView` object points to an ensemble and implements plots plus methods to initialize networks, stimuli etc. This object provides dict- and attribute-style access to individual `NetworkView` instances."
   ]
  },
  {
   "cell_type": "code",
   "execution_count": null,
   "id": "dbcbf324",
   "metadata": {
    "execution": {
     "iopub.execute_input": "2024-12-08T18:40:38.754424Z",
     "iopub.status.busy": "2024-12-08T18:40:38.754133Z",
     "iopub.status.idle": "2024-12-08T18:40:51.268658Z",
     "shell.execute_reply": "2024-12-08T18:40:51.267191Z"
    }
   },
   "outputs": [],
   "source": [
    "ensemble = EnsembleView(flyvis.results_dir / \"flow/0000\")"
   ]
  },
  {
   "cell_type": "markdown",
   "id": "3599702f",
   "metadata": {},
   "source": [
    "##### Simulate responses for each network"
   ]
  },
  {
   "cell_type": "code",
   "execution_count": null,
   "id": "9172f265",
   "metadata": {
    "execution": {
     "iopub.execute_input": "2024-12-08T18:40:51.277010Z",
     "iopub.status.busy": "2024-12-08T18:40:51.276572Z",
     "iopub.status.idle": "2024-12-08T18:40:51.282762Z",
     "shell.execute_reply": "2024-12-08T18:40:51.281584Z"
    }
   },
   "outputs": [],
   "source": [
    "movie_input = data[0]"
   ]
  },
  {
   "cell_type": "markdown",
   "id": "dd02995f",
   "metadata": {},
   "source": [
    "`ensemble.simulate` provides an efficient method to return responses of all networks within the ensemble."
   ]
  },
  {
   "cell_type": "code",
   "execution_count": null,
   "id": "90e34ba9",
   "metadata": {
    "execution": {
     "iopub.execute_input": "2024-12-08T18:40:51.288464Z",
     "iopub.status.busy": "2024-12-08T18:40:51.287975Z",
     "iopub.status.idle": "2024-12-08T18:41:08.238293Z",
     "shell.execute_reply": "2024-12-08T18:41:08.237057Z"
    }
   },
   "outputs": [],
   "source": [
    "# ensemble.simulate returns an iterator over `network.simulate` for each network.\n",
    "# we exhaust it and stack responses from all models in the first dimension\n",
    "responses = np.array(list(ensemble.simulate(movie_input[None], data.dt, fade_in=True)))"
   ]
  },
  {
   "cell_type": "code",
   "execution_count": null,
   "id": "b5fb8e4d",
   "metadata": {
    "execution": {
     "iopub.execute_input": "2024-12-08T18:41:08.243329Z",
     "iopub.status.busy": "2024-12-08T18:41:08.243012Z",
     "iopub.status.idle": "2024-12-08T18:41:08.249849Z",
     "shell.execute_reply": "2024-12-08T18:41:08.248877Z"
    }
   },
   "outputs": [],
   "source": [
    "# dims are (n_models, n_sequences, n_frames, n_cells)\n",
    "responses.shape"
   ]
  },
  {
   "cell_type": "markdown",
   "id": "87143e0c",
   "metadata": {},
   "source": [
    "##### Visualize responses of specific cells across the ensemble"
   ]
  },
  {
   "cell_type": "code",
   "execution_count": null,
   "id": "99728ccb",
   "metadata": {
    "execution": {
     "iopub.execute_input": "2024-12-08T18:41:08.253762Z",
     "iopub.status.busy": "2024-12-08T18:41:08.253366Z",
     "iopub.status.idle": "2024-12-08T18:41:13.190305Z",
     "shell.execute_reply": "2024-12-08T18:41:13.188866Z"
    }
   },
   "outputs": [],
   "source": [
    "responses = LayerActivity(responses, ensemble[0].connectome, keepref=True)"
   ]
  },
  {
   "cell_type": "markdown",
   "id": "0389679e",
   "metadata": {},
   "source": [
    "We look at responses of all cells of a specific cell-type in the hexagonal lattice."
   ]
  },
  {
   "cell_type": "code",
   "execution_count": null,
   "id": "6edd7f71",
   "metadata": {
    "execution": {
     "iopub.execute_input": "2024-12-08T18:41:13.195943Z",
     "iopub.status.busy": "2024-12-08T18:41:13.195575Z",
     "iopub.status.idle": "2024-12-08T18:41:13.205371Z",
     "shell.execute_reply": "2024-12-08T18:41:13.204246Z"
    }
   },
   "outputs": [],
   "source": [
    "cell_type = \"T4c\"\n",
    "\n",
    "# (n_models, n_sequences, n_frames, n_hexals)\n",
    "responses[cell_type].shape"
   ]
  },
  {
   "cell_type": "markdown",
   "id": "9b1aa3d9",
   "metadata": {},
   "source": [
    "We can look at all model responses in succession to see how the stimulus causes depolarization and hyperpolarization in the cells. To speed this up a bit, we specify `frames` to look at every tenth frame."
   ]
  },
  {
   "cell_type": "code",
   "execution_count": null,
   "id": "b5bbd972",
   "metadata": {
    "execution": {
     "iopub.execute_input": "2024-12-08T18:41:13.209713Z",
     "iopub.status.busy": "2024-12-08T18:41:13.209367Z",
     "iopub.status.idle": "2024-12-08T18:41:16.280616Z",
     "shell.execute_reply": "2024-12-08T18:41:16.279501Z"
    }
   },
   "outputs": [],
   "source": [
    "anim = animations.StimulusResponse(movie_input[None], responses[cell_type][:, 0, :, None])\n",
    "# these are now just the first 5 models for illustration\n",
    "model_index = [0, 1, 2, 3, 4]\n",
    "anim.animate_in_notebook(samples=model_index, frames=np.arange(anim.frames)[::10])"
   ]
  },
  {
   "cell_type": "markdown",
   "id": "e0b41244",
   "metadata": {},
   "source": [
    "Or look at responses in multiple models jointly. \n",
    "Disclaimer: including more axes slows down the animation."
   ]
  },
  {
   "cell_type": "code",
   "execution_count": null,
   "id": "6c2cc34c",
   "metadata": {
    "execution": {
     "iopub.execute_input": "2024-12-08T18:41:16.285895Z",
     "iopub.status.busy": "2024-12-08T18:41:16.285621Z",
     "iopub.status.idle": "2024-12-08T18:41:24.382339Z",
     "shell.execute_reply": "2024-12-08T18:41:24.381260Z"
    }
   },
   "outputs": [],
   "source": [
    "cell_type_responses = responses[cell_type]\n",
    "model_idx = [0, 1, 2, 3, 4]\n",
    "anim = animations.StimulusResponse(\n",
    "    movie_input[None], [cell_type_responses[i][None, 0, :, None] for i in model_idx]\n",
    ")\n",
    "anim.animate_in_notebook(frames=np.arange(anim.frames)[::10])"
   ]
  },
  {
   "cell_type": "markdown",
   "id": "72aadb19",
   "metadata": {},
   "source": [
    "Let's look at how the whole ensemble characterizes the central cell responses."
   ]
  },
  {
   "cell_type": "code",
   "execution_count": null,
   "id": "7521bba4",
   "metadata": {
    "execution": {
     "iopub.execute_input": "2024-12-08T18:41:24.389566Z",
     "iopub.status.busy": "2024-12-08T18:41:24.389314Z",
     "iopub.status.idle": "2024-12-08T18:41:24.394103Z",
     "shell.execute_reply": "2024-12-08T18:41:24.393066Z"
    }
   },
   "outputs": [],
   "source": [
    "central_responses = responses.central"
   ]
  },
  {
   "cell_type": "code",
   "execution_count": null,
   "id": "332a1464",
   "metadata": {
    "execution": {
     "iopub.execute_input": "2024-12-08T18:41:24.398066Z",
     "iopub.status.busy": "2024-12-08T18:41:24.397752Z",
     "iopub.status.idle": "2024-12-08T18:41:24.402878Z",
     "shell.execute_reply": "2024-12-08T18:41:24.401862Z"
    }
   },
   "outputs": [],
   "source": [
    "n_frames = movie_input.shape[0]\n",
    "time = np.arange(0, n_frames * data.dt, data.dt)"
   ]
  },
  {
   "cell_type": "code",
   "execution_count": null,
   "id": "569fa8ea",
   "metadata": {
    "execution": {
     "iopub.execute_input": "2024-12-08T18:41:24.406689Z",
     "iopub.status.busy": "2024-12-08T18:41:24.406396Z",
     "iopub.status.idle": "2024-12-08T18:41:25.867324Z",
     "shell.execute_reply": "2024-12-08T18:41:25.865717Z"
    }
   },
   "outputs": [],
   "source": [
    "colors = ensemble.task_error().colors"
   ]
  },
  {
   "cell_type": "code",
   "execution_count": null,
   "id": "c49675e8",
   "metadata": {
    "execution": {
     "iopub.execute_input": "2024-12-08T18:41:25.873191Z",
     "iopub.status.busy": "2024-12-08T18:41:25.872826Z",
     "iopub.status.idle": "2024-12-08T18:41:26.333854Z",
     "shell.execute_reply": "2024-12-08T18:41:26.332468Z"
    }
   },
   "outputs": [],
   "source": [
    "fig, ax = plt_utils.init_plot([2, 2], fontsize=5)\n",
    "for model_id, response in enumerate(central_responses[cell_type]):\n",
    "    ax.plot(time, response.squeeze(), c=colors[model_id], zorder=len(ensemble) - model_id)\n",
    "ax.set_xlabel(\"time in s\", fontsize=5)\n",
    "ax.set_ylabel(\"response (a.u.)\", fontsize=5)\n",
    "ax.set_title(f\"{cell_type} responses across the ensemble\", fontsize=5)"
   ]
  },
  {
   "cell_type": "markdown",
   "id": "e93535ef",
   "metadata": {},
   "source": [
    "From the above plot it seems like different models generate different predictions for the cell type function and its hard to tell them apart. Therefore, we clustered the models such that we can separate the above responses by functional cluster for a specific cell type. Note, clusters are stored as dictionaries in which the key is the cluster identity and their values are the indices to the corresponding models."
   ]
  },
  {
   "cell_type": "code",
   "execution_count": null,
   "id": "fddced97",
   "metadata": {
    "execution": {
     "iopub.execute_input": "2024-12-08T18:41:26.337894Z",
     "iopub.status.busy": "2024-12-08T18:41:26.337691Z",
     "iopub.status.idle": "2024-12-08T18:41:26.356145Z",
     "shell.execute_reply": "2024-12-08T18:41:26.354990Z"
    }
   },
   "outputs": [],
   "source": [
    "cluster_indices = ensemble.cluster_indices(cell_type)"
   ]
  },
  {
   "cell_type": "code",
   "execution_count": null,
   "id": "938adf7e",
   "metadata": {
    "execution": {
     "iopub.execute_input": "2024-12-08T18:41:26.360500Z",
     "iopub.status.busy": "2024-12-08T18:41:26.360238Z",
     "iopub.status.idle": "2024-12-08T18:41:27.035289Z",
     "shell.execute_reply": "2024-12-08T18:41:27.034000Z"
    }
   },
   "outputs": [],
   "source": [
    "for cluster_id, model_idx in cluster_indices.items():\n",
    "    fig, ax = plt_utils.init_plot([2, 2], fontsize=5)\n",
    "    for model_id in model_idx:\n",
    "        response = responses.central[cell_type][model_id]\n",
    "        ax.plot(\n",
    "            time, response.squeeze(), c=colors[model_id], zorder=len(ensemble) - model_id\n",
    "        )\n",
    "    ax.set_xlabel(\"time in s\", fontsize=5)\n",
    "    ax.set_ylabel(\"response (a.u.)\", fontsize=5)\n",
    "    ax.set_title(f\"{cell_type} responses across cluster {cluster_id + 1}\", fontsize=5)\n",
    "    plt.show()"
   ]
  },
  {
   "cell_type": "markdown",
   "id": "b92e797c",
   "metadata": {},
   "source": [
    "For T4c, we know that the first set of models is upwards tuning and the second is downwards tuning (Fig.4c) -- lets try to observe differences in their responses.\n",
    "\n",
    "We choose the best upwards tuning model and the best downwards tuning model to compare.\n",
    "\n",
    "We can notice that the spatial location of hyperpolarization and depolarization is switched vertically between both models. "
   ]
  },
  {
   "cell_type": "code",
   "execution_count": null,
   "id": "3e9c19e0",
   "metadata": {
    "execution": {
     "iopub.execute_input": "2024-12-08T18:41:27.040412Z",
     "iopub.status.busy": "2024-12-08T18:41:27.040092Z",
     "iopub.status.idle": "2024-12-08T18:41:27.044780Z",
     "shell.execute_reply": "2024-12-08T18:41:27.043836Z"
    }
   },
   "outputs": [],
   "source": [
    "cell_type = \"T4c\""
   ]
  },
  {
   "cell_type": "code",
   "execution_count": null,
   "id": "6940c317",
   "metadata": {
    "execution": {
     "iopub.execute_input": "2024-12-08T18:41:27.049761Z",
     "iopub.status.busy": "2024-12-08T18:41:27.049468Z",
     "iopub.status.idle": "2024-12-08T18:41:27.058264Z",
     "shell.execute_reply": "2024-12-08T18:41:27.057191Z"
    }
   },
   "outputs": [],
   "source": [
    "cluster_indices = ensemble.cluster_indices(cell_type)"
   ]
  },
  {
   "cell_type": "code",
   "execution_count": null,
   "id": "6b9ade61",
   "metadata": {
    "execution": {
     "iopub.execute_input": "2024-12-08T18:41:27.062061Z",
     "iopub.status.busy": "2024-12-08T18:41:27.061839Z",
     "iopub.status.idle": "2024-12-08T18:41:31.068052Z",
     "shell.execute_reply": "2024-12-08T18:41:31.066939Z"
    }
   },
   "outputs": [],
   "source": [
    "anim = animations.StimulusResponse(\n",
    "    movie_input[None],\n",
    "    [\n",
    "        responses[cell_type][[cluster_indices[0][0]], 0][:, :, None],\n",
    "        responses[cell_type][[cluster_indices[1][0]], 0][:, :, None],\n",
    "    ],\n",
    ")\n",
    "anim.animate_in_notebook(frames=np.arange(anim.frames)[::5])"
   ]
  }
 ],
 "metadata": {
  "kernelspec": {
   "display_name": "Python 3 (ipykernel)",
   "language": "python",
   "name": "python3"
  },
  "language_info": {
   "codemirror_mode": {
    "name": "ipython",
    "version": 3
   },
   "file_extension": ".py",
   "mimetype": "text/x-python",
   "name": "python",
   "nbconvert_exporter": "python",
   "pygments_lexer": "ipython3",
   "version": "3.9.16"
  },
  "toc": {
   "base_numbering": 1,
   "nav_menu": {},
   "number_sections": true,
   "sideBar": false,
   "skip_h1_title": false,
   "title_cell": "Table of Contents",
   "title_sidebar": "Contents",
   "toc_cell": false,
   "toc_position": {},
   "toc_section_display": false,
   "toc_window_display": false
  },
  "varInspector": {
   "cols": {
    "lenName": 16,
    "lenType": 16,
    "lenVar": 40
   },
   "kernels_config": {
    "python": {
     "delete_cmd_postfix": "",
     "delete_cmd_prefix": "del ",
     "library": "var_list.py",
     "varRefreshCmd": "print(var_dic_list())"
    },
    "r": {
     "delete_cmd_postfix": ") ",
     "delete_cmd_prefix": "rm(",
     "library": "var_list.r",
     "varRefreshCmd": "cat(var_dic_list()) "
    }
   },
   "types_to_exclude": [
    "module",
    "function",
    "builtin_function_or_method",
    "instance",
    "_Feature"
   ],
   "window_display": false
  },
  "widgets": {
   "application/vnd.jupyter.widget-state+json": {
    "state": {
     "210eecf9f84548c6bd7db93b88d1ab82": {
      "model_module": "@jupyter-widgets/controls",
      "model_module_version": "2.0.0",
      "model_name": "HTMLModel",
      "state": {
       "_dom_classes": [],
       "_model_module": "@jupyter-widgets/controls",
       "_model_module_version": "2.0.0",
       "_model_name": "HTMLModel",
       "_view_count": null,
       "_view_module": "@jupyter-widgets/controls",
       "_view_module_version": "2.0.0",
       "_view_name": "HTMLView",
       "description": "",
       "description_allow_html": false,
       "layout": "IPY_MODEL_bd98401c994e43619854994c4e29c7fc",
       "placeholder": "​",
       "style": "IPY_MODEL_933632f32c93464db0e73768a4facd31",
       "tabbable": null,
       "tooltip": null,
       "value": " 50/50 [00:12&lt;00:00,  3.91it/s]"
      }
     },
     "3dd1a4f69b084e35aa55b0e8cef1008a": {
      "model_module": "@jupyter-widgets/controls",
      "model_module_version": "2.0.0",
      "model_name": "ProgressStyleModel",
      "state": {
       "_model_module": "@jupyter-widgets/controls",
       "_model_module_version": "2.0.0",
       "_model_name": "ProgressStyleModel",
       "_view_count": null,
       "_view_module": "@jupyter-widgets/base",
       "_view_module_version": "2.0.0",
       "_view_name": "StyleView",
       "bar_color": null,
       "description_width": ""
      }
     },
     "5a05be1496c141d093123a6c5848eabe": {
      "model_module": "@jupyter-widgets/base",
      "model_module_version": "2.0.0",
      "model_name": "LayoutModel",
      "state": {
       "_model_module": "@jupyter-widgets/base",
       "_model_module_version": "2.0.0",
       "_model_name": "LayoutModel",
       "_view_count": null,
       "_view_module": "@jupyter-widgets/base",
       "_view_module_version": "2.0.0",
       "_view_name": "LayoutView",
       "align_content": null,
       "align_items": null,
       "align_self": null,
       "border_bottom": null,
       "border_left": null,
       "border_right": null,
       "border_top": null,
       "bottom": null,
       "display": null,
       "flex": null,
       "flex_flow": null,
       "grid_area": null,
       "grid_auto_columns": null,
       "grid_auto_flow": null,
       "grid_auto_rows": null,
       "grid_column": null,
       "grid_gap": null,
       "grid_row": null,
       "grid_template_areas": null,
       "grid_template_columns": null,
       "grid_template_rows": null,
       "height": null,
       "justify_content": null,
       "justify_items": null,
       "left": null,
       "margin": null,
       "max_height": null,
       "max_width": null,
       "min_height": null,
       "min_width": null,
       "object_fit": null,
       "object_position": null,
       "order": null,
       "overflow": null,
       "padding": null,
       "right": null,
       "top": null,
       "visibility": null,
       "width": null
      }
     },
     "5b319f65cd4c4652b19d0f8e3906bcca": {
      "model_module": "@jupyter-widgets/base",
      "model_module_version": "2.0.0",
      "model_name": "LayoutModel",
      "state": {
       "_model_module": "@jupyter-widgets/base",
       "_model_module_version": "2.0.0",
       "_model_name": "LayoutModel",
       "_view_count": null,
       "_view_module": "@jupyter-widgets/base",
       "_view_module_version": "2.0.0",
       "_view_name": "LayoutView",
       "align_content": null,
       "align_items": null,
       "align_self": null,
       "border_bottom": null,
       "border_left": null,
       "border_right": null,
       "border_top": null,
       "bottom": null,
       "display": null,
       "flex": null,
       "flex_flow": null,
       "grid_area": null,
       "grid_auto_columns": null,
       "grid_auto_flow": null,
       "grid_auto_rows": null,
       "grid_column": null,
       "grid_gap": null,
       "grid_row": null,
       "grid_template_areas": null,
       "grid_template_columns": null,
       "grid_template_rows": null,
       "height": null,
       "justify_content": null,
       "justify_items": null,
       "left": null,
       "margin": null,
       "max_height": null,
       "max_width": null,
       "min_height": null,
       "min_width": null,
       "object_fit": null,
       "object_position": null,
       "order": null,
       "overflow": null,
       "padding": null,
       "right": null,
       "top": null,
       "visibility": null,
       "width": null
      }
     },
     "5da891bc6dc54e72b3c7386b97398936": {
      "model_module": "@jupyter-widgets/controls",
      "model_module_version": "2.0.0",
      "model_name": "HTMLStyleModel",
      "state": {
       "_model_module": "@jupyter-widgets/controls",
       "_model_module_version": "2.0.0",
       "_model_name": "HTMLStyleModel",
       "_view_count": null,
       "_view_module": "@jupyter-widgets/base",
       "_view_module_version": "2.0.0",
       "_view_name": "StyleView",
       "background": null,
       "description_width": "",
       "font_size": null,
       "text_color": null
      }
     },
     "5f7715eb77874321bb312b2bf39fd7d6": {
      "model_module": "@jupyter-widgets/controls",
      "model_module_version": "2.0.0",
      "model_name": "HBoxModel",
      "state": {
       "_dom_classes": [],
       "_model_module": "@jupyter-widgets/controls",
       "_model_module_version": "2.0.0",
       "_model_name": "HBoxModel",
       "_view_count": null,
       "_view_module": "@jupyter-widgets/controls",
       "_view_module_version": "2.0.0",
       "_view_name": "HBoxView",
       "box_style": "",
       "children": [
        "IPY_MODEL_9b2e453404e741ba86b773cf71722d7c",
        "IPY_MODEL_bf4e410d383840888d015e44d344a851",
        "IPY_MODEL_6f77058b6be94aae94b36ffd331beb1c"
       ],
       "layout": "IPY_MODEL_7f3d6b4711ab40e1885200309b77bdda",
       "tabbable": null,
       "tooltip": null
      }
     },
     "6f77058b6be94aae94b36ffd331beb1c": {
      "model_module": "@jupyter-widgets/controls",
      "model_module_version": "2.0.0",
      "model_name": "HTMLModel",
      "state": {
       "_dom_classes": [],
       "_model_module": "@jupyter-widgets/controls",
       "_model_module_version": "2.0.0",
       "_model_name": "HTMLModel",
       "_view_count": null,
       "_view_module": "@jupyter-widgets/controls",
       "_view_module_version": "2.0.0",
       "_view_name": "HTMLView",
       "description": "",
       "description_allow_html": false,
       "layout": "IPY_MODEL_5a05be1496c141d093123a6c5848eabe",
       "placeholder": "​",
       "style": "IPY_MODEL_a6874c013da645dd90cf84abdee3dd2a",
       "tabbable": null,
       "tooltip": null,
       "value": " 50/50 [00:16&lt;00:00,  6.07it/s]"
      }
     },
     "7c10ab99191d492bb08b120beec5e4af": {
      "model_module": "@jupyter-widgets/controls",
      "model_module_version": "2.0.0",
      "model_name": "ProgressStyleModel",
      "state": {
       "_model_module": "@jupyter-widgets/controls",
       "_model_module_version": "2.0.0",
       "_model_name": "ProgressStyleModel",
       "_view_count": null,
       "_view_module": "@jupyter-widgets/base",
       "_view_module_version": "2.0.0",
       "_view_name": "StyleView",
       "bar_color": null,
       "description_width": ""
      }
     },
     "7f3d6b4711ab40e1885200309b77bdda": {
      "model_module": "@jupyter-widgets/base",
      "model_module_version": "2.0.0",
      "model_name": "LayoutModel",
      "state": {
       "_model_module": "@jupyter-widgets/base",
       "_model_module_version": "2.0.0",
       "_model_name": "LayoutModel",
       "_view_count": null,
       "_view_module": "@jupyter-widgets/base",
       "_view_module_version": "2.0.0",
       "_view_name": "LayoutView",
       "align_content": null,
       "align_items": null,
       "align_self": null,
       "border_bottom": null,
       "border_left": null,
       "border_right": null,
       "border_top": null,
       "bottom": null,
       "display": null,
       "flex": null,
       "flex_flow": null,
       "grid_area": null,
       "grid_auto_columns": null,
       "grid_auto_flow": null,
       "grid_auto_rows": null,
       "grid_column": null,
       "grid_gap": null,
       "grid_row": null,
       "grid_template_areas": null,
       "grid_template_columns": null,
       "grid_template_rows": null,
       "height": null,
       "justify_content": null,
       "justify_items": null,
       "left": null,
       "margin": null,
       "max_height": null,
       "max_width": null,
       "min_height": null,
       "min_width": null,
       "object_fit": null,
       "object_position": null,
       "order": null,
       "overflow": null,
       "padding": null,
       "right": null,
       "top": null,
       "visibility": null,
       "width": null
      }
     },
     "815ea724f7df48daa270c8a2de8cbe19": {
      "model_module": "@jupyter-widgets/base",
      "model_module_version": "2.0.0",
      "model_name": "LayoutModel",
      "state": {
       "_model_module": "@jupyter-widgets/base",
       "_model_module_version": "2.0.0",
       "_model_name": "LayoutModel",
       "_view_count": null,
       "_view_module": "@jupyter-widgets/base",
       "_view_module_version": "2.0.0",
       "_view_name": "LayoutView",
       "align_content": null,
       "align_items": null,
       "align_self": null,
       "border_bottom": null,
       "border_left": null,
       "border_right": null,
       "border_top": null,
       "bottom": null,
       "display": null,
       "flex": null,
       "flex_flow": null,
       "grid_area": null,
       "grid_auto_columns": null,
       "grid_auto_flow": null,
       "grid_auto_rows": null,
       "grid_column": null,
       "grid_gap": null,
       "grid_row": null,
       "grid_template_areas": null,
       "grid_template_columns": null,
       "grid_template_rows": null,
       "height": null,
       "justify_content": null,
       "justify_items": null,
       "left": null,
       "margin": null,
       "max_height": null,
       "max_width": null,
       "min_height": null,
       "min_width": null,
       "object_fit": null,
       "object_position": null,
       "order": null,
       "overflow": null,
       "padding": null,
       "right": null,
       "top": null,
       "visibility": null,
       "width": null
      }
     },
     "8437ba030dd54e97a828d9d64eb1b5dc": {
      "model_module": "@jupyter-widgets/controls",
      "model_module_version": "2.0.0",
      "model_name": "HTMLModel",
      "state": {
       "_dom_classes": [],
       "_model_module": "@jupyter-widgets/controls",
       "_model_module_version": "2.0.0",
       "_model_name": "HTMLModel",
       "_view_count": null,
       "_view_module": "@jupyter-widgets/controls",
       "_view_module_version": "2.0.0",
       "_view_name": "HTMLView",
       "description": "",
       "description_allow_html": false,
       "layout": "IPY_MODEL_815ea724f7df48daa270c8a2de8cbe19",
       "placeholder": "​",
       "style": "IPY_MODEL_9930dbcfbdbf4cc7aedd11f67416636d",
       "tabbable": null,
       "tooltip": null,
       "value": "Loading ensemble: 100%"
      }
     },
     "933632f32c93464db0e73768a4facd31": {
      "model_module": "@jupyter-widgets/controls",
      "model_module_version": "2.0.0",
      "model_name": "HTMLStyleModel",
      "state": {
       "_model_module": "@jupyter-widgets/controls",
       "_model_module_version": "2.0.0",
       "_model_name": "HTMLStyleModel",
       "_view_count": null,
       "_view_module": "@jupyter-widgets/base",
       "_view_module_version": "2.0.0",
       "_view_name": "StyleView",
       "background": null,
       "description_width": "",
       "font_size": null,
       "text_color": null
      }
     },
     "9930dbcfbdbf4cc7aedd11f67416636d": {
      "model_module": "@jupyter-widgets/controls",
      "model_module_version": "2.0.0",
      "model_name": "HTMLStyleModel",
      "state": {
       "_model_module": "@jupyter-widgets/controls",
       "_model_module_version": "2.0.0",
       "_model_name": "HTMLStyleModel",
       "_view_count": null,
       "_view_module": "@jupyter-widgets/base",
       "_view_module_version": "2.0.0",
       "_view_name": "StyleView",
       "background": null,
       "description_width": "",
       "font_size": null,
       "text_color": null
      }
     },
     "9b2e453404e741ba86b773cf71722d7c": {
      "model_module": "@jupyter-widgets/controls",
      "model_module_version": "2.0.0",
      "model_name": "HTMLModel",
      "state": {
       "_dom_classes": [],
       "_model_module": "@jupyter-widgets/controls",
       "_model_module_version": "2.0.0",
       "_model_name": "HTMLModel",
       "_view_count": null,
       "_view_module": "@jupyter-widgets/controls",
       "_view_module_version": "2.0.0",
       "_view_name": "HTMLView",
       "description": "",
       "description_allow_html": false,
       "layout": "IPY_MODEL_f79167fe3dca48088fa06a2b0b5249c7",
       "placeholder": "​",
       "style": "IPY_MODEL_5da891bc6dc54e72b3c7386b97398936",
       "tabbable": null,
       "tooltip": null,
       "value": "Simulating network: 100%"
      }
     },
     "9e8fe56011974c2eb6d214f8fb9a1355": {
      "model_module": "@jupyter-widgets/base",
      "model_module_version": "2.0.0",
      "model_name": "LayoutModel",
      "state": {
       "_model_module": "@jupyter-widgets/base",
       "_model_module_version": "2.0.0",
       "_model_name": "LayoutModel",
       "_view_count": null,
       "_view_module": "@jupyter-widgets/base",
       "_view_module_version": "2.0.0",
       "_view_name": "LayoutView",
       "align_content": null,
       "align_items": null,
       "align_self": null,
       "border_bottom": null,
       "border_left": null,
       "border_right": null,
       "border_top": null,
       "bottom": null,
       "display": null,
       "flex": null,
       "flex_flow": null,
       "grid_area": null,
       "grid_auto_columns": null,
       "grid_auto_flow": null,
       "grid_auto_rows": null,
       "grid_column": null,
       "grid_gap": null,
       "grid_row": null,
       "grid_template_areas": null,
       "grid_template_columns": null,
       "grid_template_rows": null,
       "height": null,
       "justify_content": null,
       "justify_items": null,
       "left": null,
       "margin": null,
       "max_height": null,
       "max_width": null,
       "min_height": null,
       "min_width": null,
       "object_fit": null,
       "object_position": null,
       "order": null,
       "overflow": null,
       "padding": null,
       "right": null,
       "top": null,
       "visibility": null,
       "width": null
      }
     },
     "a6874c013da645dd90cf84abdee3dd2a": {
      "model_module": "@jupyter-widgets/controls",
      "model_module_version": "2.0.0",
      "model_name": "HTMLStyleModel",
      "state": {
       "_model_module": "@jupyter-widgets/controls",
       "_model_module_version": "2.0.0",
       "_model_name": "HTMLStyleModel",
       "_view_count": null,
       "_view_module": "@jupyter-widgets/base",
       "_view_module_version": "2.0.0",
       "_view_name": "StyleView",
       "background": null,
       "description_width": "",
       "font_size": null,
       "text_color": null
      }
     },
     "ab3f7967a9124b99aae7c5bf4296165a": {
      "model_module": "@jupyter-widgets/controls",
      "model_module_version": "2.0.0",
      "model_name": "FloatProgressModel",
      "state": {
       "_dom_classes": [],
       "_model_module": "@jupyter-widgets/controls",
       "_model_module_version": "2.0.0",
       "_model_name": "FloatProgressModel",
       "_view_count": null,
       "_view_module": "@jupyter-widgets/controls",
       "_view_module_version": "2.0.0",
       "_view_name": "ProgressView",
       "bar_style": "success",
       "description": "",
       "description_allow_html": false,
       "layout": "IPY_MODEL_da13add80a3d4890b83de2b6c149f34d",
       "max": 50.0,
       "min": 0.0,
       "orientation": "horizontal",
       "style": "IPY_MODEL_7c10ab99191d492bb08b120beec5e4af",
       "tabbable": null,
       "tooltip": null,
       "value": 50.0
      }
     },
     "bd98401c994e43619854994c4e29c7fc": {
      "model_module": "@jupyter-widgets/base",
      "model_module_version": "2.0.0",
      "model_name": "LayoutModel",
      "state": {
       "_model_module": "@jupyter-widgets/base",
       "_model_module_version": "2.0.0",
       "_model_name": "LayoutModel",
       "_view_count": null,
       "_view_module": "@jupyter-widgets/base",
       "_view_module_version": "2.0.0",
       "_view_name": "LayoutView",
       "align_content": null,
       "align_items": null,
       "align_self": null,
       "border_bottom": null,
       "border_left": null,
       "border_right": null,
       "border_top": null,
       "bottom": null,
       "display": null,
       "flex": null,
       "flex_flow": null,
       "grid_area": null,
       "grid_auto_columns": null,
       "grid_auto_flow": null,
       "grid_auto_rows": null,
       "grid_column": null,
       "grid_gap": null,
       "grid_row": null,
       "grid_template_areas": null,
       "grid_template_columns": null,
       "grid_template_rows": null,
       "height": null,
       "justify_content": null,
       "justify_items": null,
       "left": null,
       "margin": null,
       "max_height": null,
       "max_width": null,
       "min_height": null,
       "min_width": null,
       "object_fit": null,
       "object_position": null,
       "order": null,
       "overflow": null,
       "padding": null,
       "right": null,
       "top": null,
       "visibility": null,
       "width": null
      }
     },
     "bdc3e4fe2db648b88dc286c6de04f12a": {
      "model_module": "@jupyter-widgets/controls",
      "model_module_version": "2.0.0",
      "model_name": "HBoxModel",
      "state": {
       "_dom_classes": [],
       "_model_module": "@jupyter-widgets/controls",
       "_model_module_version": "2.0.0",
       "_model_name": "HBoxModel",
       "_view_count": null,
       "_view_module": "@jupyter-widgets/controls",
       "_view_module_version": "2.0.0",
       "_view_name": "HBoxView",
       "box_style": "",
       "children": [
        "IPY_MODEL_8437ba030dd54e97a828d9d64eb1b5dc",
        "IPY_MODEL_ab3f7967a9124b99aae7c5bf4296165a",
        "IPY_MODEL_210eecf9f84548c6bd7db93b88d1ab82"
       ],
       "layout": "IPY_MODEL_5b319f65cd4c4652b19d0f8e3906bcca",
       "tabbable": null,
       "tooltip": null
      }
     },
     "bf4e410d383840888d015e44d344a851": {
      "model_module": "@jupyter-widgets/controls",
      "model_module_version": "2.0.0",
      "model_name": "FloatProgressModel",
      "state": {
       "_dom_classes": [],
       "_model_module": "@jupyter-widgets/controls",
       "_model_module_version": "2.0.0",
       "_model_name": "FloatProgressModel",
       "_view_count": null,
       "_view_module": "@jupyter-widgets/controls",
       "_view_module_version": "2.0.0",
       "_view_name": "ProgressView",
       "bar_style": "success",
       "description": "",
       "description_allow_html": false,
       "layout": "IPY_MODEL_9e8fe56011974c2eb6d214f8fb9a1355",
       "max": 50.0,
       "min": 0.0,
       "orientation": "horizontal",
       "style": "IPY_MODEL_3dd1a4f69b084e35aa55b0e8cef1008a",
       "tabbable": null,
       "tooltip": null,
       "value": 50.0
      }
     },
     "da13add80a3d4890b83de2b6c149f34d": {
      "model_module": "@jupyter-widgets/base",
      "model_module_version": "2.0.0",
      "model_name": "LayoutModel",
      "state": {
       "_model_module": "@jupyter-widgets/base",
       "_model_module_version": "2.0.0",
       "_model_name": "LayoutModel",
       "_view_count": null,
       "_view_module": "@jupyter-widgets/base",
       "_view_module_version": "2.0.0",
       "_view_name": "LayoutView",
       "align_content": null,
       "align_items": null,
       "align_self": null,
       "border_bottom": null,
       "border_left": null,
       "border_right": null,
       "border_top": null,
       "bottom": null,
       "display": null,
       "flex": null,
       "flex_flow": null,
       "grid_area": null,
       "grid_auto_columns": null,
       "grid_auto_flow": null,
       "grid_auto_rows": null,
       "grid_column": null,
       "grid_gap": null,
       "grid_row": null,
       "grid_template_areas": null,
       "grid_template_columns": null,
       "grid_template_rows": null,
       "height": null,
       "justify_content": null,
       "justify_items": null,
       "left": null,
       "margin": null,
       "max_height": null,
       "max_width": null,
       "min_height": null,
       "min_width": null,
       "object_fit": null,
       "object_position": null,
       "order": null,
       "overflow": null,
       "padding": null,
       "right": null,
       "top": null,
       "visibility": null,
       "width": null
      }
     },
     "f79167fe3dca48088fa06a2b0b5249c7": {
      "model_module": "@jupyter-widgets/base",
      "model_module_version": "2.0.0",
      "model_name": "LayoutModel",
      "state": {
       "_model_module": "@jupyter-widgets/base",
       "_model_module_version": "2.0.0",
       "_model_name": "LayoutModel",
       "_view_count": null,
       "_view_module": "@jupyter-widgets/base",
       "_view_module_version": "2.0.0",
       "_view_name": "LayoutView",
       "align_content": null,
       "align_items": null,
       "align_self": null,
       "border_bottom": null,
       "border_left": null,
       "border_right": null,
       "border_top": null,
       "bottom": null,
       "display": null,
       "flex": null,
       "flex_flow": null,
       "grid_area": null,
       "grid_auto_columns": null,
       "grid_auto_flow": null,
       "grid_auto_rows": null,
       "grid_column": null,
       "grid_gap": null,
       "grid_row": null,
       "grid_template_areas": null,
       "grid_template_columns": null,
       "grid_template_rows": null,
       "height": null,
       "justify_content": null,
       "justify_items": null,
       "left": null,
       "margin": null,
       "max_height": null,
       "max_width": null,
       "min_height": null,
       "min_width": null,
       "object_fit": null,
       "object_position": null,
       "order": null,
       "overflow": null,
       "padding": null,
       "right": null,
       "top": null,
       "visibility": null,
       "width": null
      }
     }
    },
    "version_major": 2,
    "version_minor": 0
   }
  }
 },
 "nbformat": 4,
 "nbformat_minor": 5
}
