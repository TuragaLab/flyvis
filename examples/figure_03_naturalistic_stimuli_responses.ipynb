{
 "cells": [
  {
   "cell_type": "markdown",
   "id": "22138f35",
   "metadata": {},
   "source": [
    "# Figure 3"
   ]
  },
  {
   "cell_type": "code",
   "execution_count": null,
   "id": "33423f80",
   "metadata": {
    "execution": {
     "iopub.execute_input": "2024-12-08T18:44:21.895656Z",
     "iopub.status.busy": "2024-12-08T18:44:21.895161Z",
     "iopub.status.idle": "2024-12-08T18:44:26.273138Z",
     "shell.execute_reply": "2024-12-08T18:44:26.272380Z"
    }
   },
   "outputs": [],
   "source": [
    "%load_ext autoreload\n",
    "%autoreload 2\n",
    "\n",
    "from flyvis import EnsembleView"
   ]
  },
  {
   "cell_type": "code",
   "execution_count": null,
   "id": "61ce028f",
   "metadata": {
    "execution": {
     "iopub.execute_input": "2024-12-08T18:44:26.278463Z",
     "iopub.status.busy": "2024-12-08T18:44:26.278007Z",
     "iopub.status.idle": "2024-12-08T18:44:37.981601Z",
     "shell.execute_reply": "2024-12-08T18:44:37.980058Z"
    }
   },
   "outputs": [],
   "source": [
    "ensemble = EnsembleView(\"flow/0000\")"
   ]
  },
  {
   "cell_type": "markdown",
   "id": "0221af45",
   "metadata": {},
   "source": [
    "## a"
   ]
  },
  {
   "cell_type": "code",
   "execution_count": null,
   "id": "de19da79",
   "metadata": {
    "execution": {
     "iopub.execute_input": "2024-12-08T18:44:37.988399Z",
     "iopub.status.busy": "2024-12-08T18:44:37.987818Z",
     "iopub.status.idle": "2024-12-08T18:44:39.519258Z",
     "shell.execute_reply": "2024-12-08T18:44:39.517529Z"
    }
   },
   "outputs": [],
   "source": [
    "task_error = ensemble.task_error()"
   ]
  },
  {
   "cell_type": "code",
   "execution_count": null,
   "id": "28879355",
   "metadata": {
    "execution": {
     "iopub.execute_input": "2024-12-08T18:44:39.525384Z",
     "iopub.status.busy": "2024-12-08T18:44:39.524803Z",
     "iopub.status.idle": "2024-12-08T18:44:39.587820Z",
     "shell.execute_reply": "2024-12-08T18:44:39.586581Z"
    }
   },
   "outputs": [],
   "source": [
    "embedding_and_clustering = ensemble.clustering(\"T4c\")"
   ]
  },
  {
   "cell_type": "code",
   "execution_count": null,
   "id": "546b5870",
   "metadata": {
    "execution": {
     "iopub.execute_input": "2024-12-08T18:44:39.592343Z",
     "iopub.status.busy": "2024-12-08T18:44:39.591989Z",
     "iopub.status.idle": "2024-12-08T18:44:40.772368Z",
     "shell.execute_reply": "2024-12-08T18:44:40.771171Z"
    }
   },
   "outputs": [],
   "source": [
    "embeddingplot = embedding_and_clustering.plot(\n",
    "    task_error=task_error.values, colors=task_error.colors\n",
    ")"
   ]
  },
  {
   "cell_type": "markdown",
   "id": "c7787487",
   "metadata": {},
   "source": [
    "## b"
   ]
  },
  {
   "cell_type": "code",
   "execution_count": null,
   "id": "be2182b4",
   "metadata": {
    "execution": {
     "iopub.execute_input": "2024-12-08T18:44:40.777568Z",
     "iopub.status.busy": "2024-12-08T18:44:40.777342Z",
     "iopub.status.idle": "2024-12-08T18:44:40.810246Z",
     "shell.execute_reply": "2024-12-08T18:44:40.809134Z"
    }
   },
   "outputs": [],
   "source": [
    "import numpy as np\n",
    "import matplotlib.pyplot as plt\n",
    "\n",
    "from flyvis.analysis.visualization import plt_utils\n",
    "from flyvis.analysis.moving_bar_responses import plot_angular_tuning"
   ]
  },
  {
   "cell_type": "code",
   "execution_count": null,
   "id": "d3979404",
   "metadata": {
    "execution": {
     "iopub.execute_input": "2024-12-08T18:44:40.813717Z",
     "iopub.status.busy": "2024-12-08T18:44:40.813355Z",
     "iopub.status.idle": "2024-12-08T18:44:40.843225Z",
     "shell.execute_reply": "2024-12-08T18:44:40.842078Z"
    }
   },
   "outputs": [],
   "source": [
    "cluster_indices = ensemble.cluster_indices(\"T4c\")"
   ]
  },
  {
   "cell_type": "code",
   "execution_count": null,
   "id": "214708f2",
   "metadata": {
    "execution": {
     "iopub.execute_input": "2024-12-08T18:44:40.847563Z",
     "iopub.status.busy": "2024-12-08T18:44:40.847135Z",
     "iopub.status.idle": "2024-12-08T18:44:57.881804Z",
     "shell.execute_reply": "2024-12-08T18:44:57.880653Z"
    }
   },
   "outputs": [],
   "source": [
    "r = ensemble.moving_edge_responses()\n",
    "r['responses'] /= np.abs(r['responses']).max(dim=('frame', 'sample'))"
   ]
  },
  {
   "cell_type": "code",
   "execution_count": null,
   "id": "12ac3962",
   "metadata": {
    "execution": {
     "iopub.execute_input": "2024-12-08T18:44:57.887454Z",
     "iopub.status.busy": "2024-12-08T18:44:57.887137Z",
     "iopub.status.idle": "2024-12-08T18:44:57.935115Z",
     "shell.execute_reply": "2024-12-08T18:44:57.934008Z"
    }
   },
   "outputs": [],
   "source": [
    "cluster_indices = ensemble.cluster_indices(\"T4c\")"
   ]
  },
  {
   "cell_type": "code",
   "execution_count": null,
   "id": "909d5885",
   "metadata": {
    "execution": {
     "iopub.execute_input": "2024-12-08T18:44:57.938669Z",
     "iopub.status.busy": "2024-12-08T18:44:57.938456Z",
     "iopub.status.idle": "2024-12-08T18:44:57.967246Z",
     "shell.execute_reply": "2024-12-08T18:44:57.966601Z"
    }
   },
   "outputs": [],
   "source": [
    "colors = ensemble.task_error().colors"
   ]
  },
  {
   "cell_type": "code",
   "execution_count": null,
   "id": "8031dffa",
   "metadata": {
    "execution": {
     "iopub.execute_input": "2024-12-08T18:44:57.971608Z",
     "iopub.status.busy": "2024-12-08T18:44:57.971407Z",
     "iopub.status.idle": "2024-12-08T18:45:04.840092Z",
     "shell.execute_reply": "2024-12-08T18:45:04.839115Z"
    }
   },
   "outputs": [],
   "source": [
    "fig, axes = plt.subplots(\n",
    "    1, len(cluster_indices), subplot_kw={\"projection\": \"polar\"}, figsize=[2, 1]\n",
    ")\n",
    "for cluster_id, indices in cluster_indices.items():\n",
    "    plot_angular_tuning(\n",
    "        r.sel(network_id=indices),\n",
    "        \"T4c\",\n",
    "        intensity=1,\n",
    "        colors=colors[indices],\n",
    "        zorder=ensemble.zorder()[indices],\n",
    "        groundtruth=True if cluster_id == 0 else False,\n",
    "        fig=fig,\n",
    "        ax=axes[cluster_id],\n",
    "    )\n",
    "    plt_utils.add_cluster_marker(\n",
    "        fig, axes[cluster_id], marker=plt_utils.get_marker(cluster_id)\n",
    "    )"
   ]
  },
  {
   "cell_type": "markdown",
   "id": "394a5356",
   "metadata": {},
   "source": [
    "## e"
   ]
  },
  {
   "cell_type": "code",
   "execution_count": null,
   "id": "8c5204f1",
   "metadata": {
    "execution": {
     "iopub.execute_input": "2024-12-08T18:45:04.846018Z",
     "iopub.status.busy": "2024-12-08T18:45:04.845664Z",
     "iopub.status.idle": "2024-12-08T18:45:14.931735Z",
     "shell.execute_reply": "2024-12-08T18:45:14.930949Z"
    }
   },
   "outputs": [],
   "source": [
    "for cluster_id, indices in cluster_indices.items():\n",
    "    with ensemble.select_items(indices):\n",
    "        fig, ax = ensemble.flash_response_index(\n",
    "            cell_types=[\"Mi1\", \"Tm3\", \"Mi4\", \"Mi9\", \"CT1(M10)\"], figsize=[1, 1]\n",
    "        )"
   ]
  },
  {
   "cell_type": "markdown",
   "id": "01426a7c",
   "metadata": {},
   "source": []
  }
 ],
 "metadata": {
  "celltoolbar": "Tags",
  "kernelspec": {
   "display_name": "Python 3 (ipykernel)",
   "language": "python",
   "name": "python3"
  },
  "language_info": {
   "codemirror_mode": {
    "name": "ipython",
    "version": 3
   },
   "file_extension": ".py",
   "mimetype": "text/x-python",
   "name": "python",
   "nbconvert_exporter": "python",
   "pygments_lexer": "ipython3",
   "version": "3.9.16"
  },
  "papermill": {
   "default_parameters": {},
   "duration": 844.769738,
   "end_time": "2023-09-19T12:03:11.710643",
   "environment_variables": {},
   "exception": null,
   "input_path": "/groups/turaga/home/lappalainenj/FlyVis/dvs-sim/notebooks/01_paper_figures/figure_03_best_model/figure_03_best_model_ensemble_factory.ipynb",
   "output_path": "/groups/turaga/home/lappalainenj/FlyVis/dvs-sim/notebooks/02_flow_ensembles/flow/0092/figure_sweep/0092_0002_figure_03_best_model_ensemble_factory.ipynb",
   "parameters": {
    "delete_if_exists": false,
    "ensemble_name": "flow/0092",
    "figure_version": 2,
    "gm_random_state": 0,
    "init_params": "kmeans",
    "max_components": 5,
    "max_iter": 1000,
    "min_dist": 0.105,
    "model_id": "0002",
    "n_init": 100,
    "n_neighbors": 5,
    "naturalistic_responses_version": "v4",
    "random_state": 42,
    "spread": 9,
    "tol": 0.001,
    "use_stored_embeddings": true
   },
   "start_time": "2023-09-19T11:49:06.940905",
   "version": "2.4.0"
  },
  "toc": {
   "base_numbering": 1,
   "nav_menu": {},
   "number_sections": true,
   "sideBar": true,
   "skip_h1_title": false,
   "title_cell": "Table of Contents",
   "title_sidebar": "Contents",
   "toc_cell": false,
   "toc_position": {
    "height": "calc(100% - 180px)",
    "left": "10px",
    "top": "150px",
    "width": "318.172px"
   },
   "toc_section_display": true,
   "toc_window_display": true
  },
  "widgets": {
   "application/vnd.jupyter.widget-state+json": {
    "state": {
     "23f19847b0e14564b4f502fa743b3a59": {
      "model_module": "@jupyter-widgets/controls",
      "model_module_version": "2.0.0",
      "model_name": "HTMLModel",
      "state": {
       "_dom_classes": [],
       "_model_module": "@jupyter-widgets/controls",
       "_model_module_version": "2.0.0",
       "_model_name": "HTMLModel",
       "_view_count": null,
       "_view_module": "@jupyter-widgets/controls",
       "_view_module_version": "2.0.0",
       "_view_name": "HTMLView",
       "description": "",
       "description_allow_html": false,
       "layout": "IPY_MODEL_2f19915e0bdb43b185f978cfa714e0e2",
       "placeholder": "​",
       "style": "IPY_MODEL_6b4ff77636d549bf920b9b8c86f633fd",
       "tabbable": null,
       "tooltip": null,
       "value": "Loading ensemble: 100%"
      }
     },
     "2ce5d0b2a1784b19a53e52a6edd7d968": {
      "model_module": "@jupyter-widgets/base",
      "model_module_version": "2.0.0",
      "model_name": "LayoutModel",
      "state": {
       "_model_module": "@jupyter-widgets/base",
       "_model_module_version": "2.0.0",
       "_model_name": "LayoutModel",
       "_view_count": null,
       "_view_module": "@jupyter-widgets/base",
       "_view_module_version": "2.0.0",
       "_view_name": "LayoutView",
       "align_content": null,
       "align_items": null,
       "align_self": null,
       "border_bottom": null,
       "border_left": null,
       "border_right": null,
       "border_top": null,
       "bottom": null,
       "display": null,
       "flex": null,
       "flex_flow": null,
       "grid_area": null,
       "grid_auto_columns": null,
       "grid_auto_flow": null,
       "grid_auto_rows": null,
       "grid_column": null,
       "grid_gap": null,
       "grid_row": null,
       "grid_template_areas": null,
       "grid_template_columns": null,
       "grid_template_rows": null,
       "height": null,
       "justify_content": null,
       "justify_items": null,
       "left": null,
       "margin": null,
       "max_height": null,
       "max_width": null,
       "min_height": null,
       "min_width": null,
       "object_fit": null,
       "object_position": null,
       "order": null,
       "overflow": null,
       "padding": null,
       "right": null,
       "top": null,
       "visibility": null,
       "width": null
      }
     },
     "2f19915e0bdb43b185f978cfa714e0e2": {
      "model_module": "@jupyter-widgets/base",
      "model_module_version": "2.0.0",
      "model_name": "LayoutModel",
      "state": {
       "_model_module": "@jupyter-widgets/base",
       "_model_module_version": "2.0.0",
       "_model_name": "LayoutModel",
       "_view_count": null,
       "_view_module": "@jupyter-widgets/base",
       "_view_module_version": "2.0.0",
       "_view_name": "LayoutView",
       "align_content": null,
       "align_items": null,
       "align_self": null,
       "border_bottom": null,
       "border_left": null,
       "border_right": null,
       "border_top": null,
       "bottom": null,
       "display": null,
       "flex": null,
       "flex_flow": null,
       "grid_area": null,
       "grid_auto_columns": null,
       "grid_auto_flow": null,
       "grid_auto_rows": null,
       "grid_column": null,
       "grid_gap": null,
       "grid_row": null,
       "grid_template_areas": null,
       "grid_template_columns": null,
       "grid_template_rows": null,
       "height": null,
       "justify_content": null,
       "justify_items": null,
       "left": null,
       "margin": null,
       "max_height": null,
       "max_width": null,
       "min_height": null,
       "min_width": null,
       "object_fit": null,
       "object_position": null,
       "order": null,
       "overflow": null,
       "padding": null,
       "right": null,
       "top": null,
       "visibility": null,
       "width": null
      }
     },
     "4a78cdc23cdf40b78f4b4492b58a35d3": {
      "model_module": "@jupyter-widgets/controls",
      "model_module_version": "2.0.0",
      "model_name": "FloatProgressModel",
      "state": {
       "_dom_classes": [],
       "_model_module": "@jupyter-widgets/controls",
       "_model_module_version": "2.0.0",
       "_model_name": "FloatProgressModel",
       "_view_count": null,
       "_view_module": "@jupyter-widgets/controls",
       "_view_module_version": "2.0.0",
       "_view_name": "ProgressView",
       "bar_style": "success",
       "description": "",
       "description_allow_html": false,
       "layout": "IPY_MODEL_50e5b05a5ec447bf9b8b90793e0728e9",
       "max": 50.0,
       "min": 0.0,
       "orientation": "horizontal",
       "style": "IPY_MODEL_ea3c1cd1ffc74c7e8d6ddb0e849157ee",
       "tabbable": null,
       "tooltip": null,
       "value": 50.0
      }
     },
     "50e5b05a5ec447bf9b8b90793e0728e9": {
      "model_module": "@jupyter-widgets/base",
      "model_module_version": "2.0.0",
      "model_name": "LayoutModel",
      "state": {
       "_model_module": "@jupyter-widgets/base",
       "_model_module_version": "2.0.0",
       "_model_name": "LayoutModel",
       "_view_count": null,
       "_view_module": "@jupyter-widgets/base",
       "_view_module_version": "2.0.0",
       "_view_name": "LayoutView",
       "align_content": null,
       "align_items": null,
       "align_self": null,
       "border_bottom": null,
       "border_left": null,
       "border_right": null,
       "border_top": null,
       "bottom": null,
       "display": null,
       "flex": null,
       "flex_flow": null,
       "grid_area": null,
       "grid_auto_columns": null,
       "grid_auto_flow": null,
       "grid_auto_rows": null,
       "grid_column": null,
       "grid_gap": null,
       "grid_row": null,
       "grid_template_areas": null,
       "grid_template_columns": null,
       "grid_template_rows": null,
       "height": null,
       "justify_content": null,
       "justify_items": null,
       "left": null,
       "margin": null,
       "max_height": null,
       "max_width": null,
       "min_height": null,
       "min_width": null,
       "object_fit": null,
       "object_position": null,
       "order": null,
       "overflow": null,
       "padding": null,
       "right": null,
       "top": null,
       "visibility": null,
       "width": null
      }
     },
     "6b4ff77636d549bf920b9b8c86f633fd": {
      "model_module": "@jupyter-widgets/controls",
      "model_module_version": "2.0.0",
      "model_name": "HTMLStyleModel",
      "state": {
       "_model_module": "@jupyter-widgets/controls",
       "_model_module_version": "2.0.0",
       "_model_name": "HTMLStyleModel",
       "_view_count": null,
       "_view_module": "@jupyter-widgets/base",
       "_view_module_version": "2.0.0",
       "_view_name": "StyleView",
       "background": null,
       "description_width": "",
       "font_size": null,
       "text_color": null
      }
     },
     "7e60d2ccbcea43b2b1bde6ebb309c6da": {
      "model_module": "@jupyter-widgets/controls",
      "model_module_version": "2.0.0",
      "model_name": "HTMLStyleModel",
      "state": {
       "_model_module": "@jupyter-widgets/controls",
       "_model_module_version": "2.0.0",
       "_model_name": "HTMLStyleModel",
       "_view_count": null,
       "_view_module": "@jupyter-widgets/base",
       "_view_module_version": "2.0.0",
       "_view_name": "StyleView",
       "background": null,
       "description_width": "",
       "font_size": null,
       "text_color": null
      }
     },
     "8acb9d5390ee45f9b9c578e71b286f08": {
      "model_module": "@jupyter-widgets/controls",
      "model_module_version": "2.0.0",
      "model_name": "HTMLModel",
      "state": {
       "_dom_classes": [],
       "_model_module": "@jupyter-widgets/controls",
       "_model_module_version": "2.0.0",
       "_model_name": "HTMLModel",
       "_view_count": null,
       "_view_module": "@jupyter-widgets/controls",
       "_view_module_version": "2.0.0",
       "_view_name": "HTMLView",
       "description": "",
       "description_allow_html": false,
       "layout": "IPY_MODEL_2ce5d0b2a1784b19a53e52a6edd7d968",
       "placeholder": "​",
       "style": "IPY_MODEL_7e60d2ccbcea43b2b1bde6ebb309c6da",
       "tabbable": null,
       "tooltip": null,
       "value": " 50/50 [00:11&lt;00:00,  4.33it/s]"
      }
     },
     "8c0aaed5e14f412b812fa078c5e0d9b8": {
      "model_module": "@jupyter-widgets/controls",
      "model_module_version": "2.0.0",
      "model_name": "HBoxModel",
      "state": {
       "_dom_classes": [],
       "_model_module": "@jupyter-widgets/controls",
       "_model_module_version": "2.0.0",
       "_model_name": "HBoxModel",
       "_view_count": null,
       "_view_module": "@jupyter-widgets/controls",
       "_view_module_version": "2.0.0",
       "_view_name": "HBoxView",
       "box_style": "",
       "children": [
        "IPY_MODEL_23f19847b0e14564b4f502fa743b3a59",
        "IPY_MODEL_4a78cdc23cdf40b78f4b4492b58a35d3",
        "IPY_MODEL_8acb9d5390ee45f9b9c578e71b286f08"
       ],
       "layout": "IPY_MODEL_f1b8e4d87aec469fa5c99213fdcf4d89",
       "tabbable": null,
       "tooltip": null
      }
     },
     "ea3c1cd1ffc74c7e8d6ddb0e849157ee": {
      "model_module": "@jupyter-widgets/controls",
      "model_module_version": "2.0.0",
      "model_name": "ProgressStyleModel",
      "state": {
       "_model_module": "@jupyter-widgets/controls",
       "_model_module_version": "2.0.0",
       "_model_name": "ProgressStyleModel",
       "_view_count": null,
       "_view_module": "@jupyter-widgets/base",
       "_view_module_version": "2.0.0",
       "_view_name": "StyleView",
       "bar_color": null,
       "description_width": ""
      }
     },
     "f1b8e4d87aec469fa5c99213fdcf4d89": {
      "model_module": "@jupyter-widgets/base",
      "model_module_version": "2.0.0",
      "model_name": "LayoutModel",
      "state": {
       "_model_module": "@jupyter-widgets/base",
       "_model_module_version": "2.0.0",
       "_model_name": "LayoutModel",
       "_view_count": null,
       "_view_module": "@jupyter-widgets/base",
       "_view_module_version": "2.0.0",
       "_view_name": "LayoutView",
       "align_content": null,
       "align_items": null,
       "align_self": null,
       "border_bottom": null,
       "border_left": null,
       "border_right": null,
       "border_top": null,
       "bottom": null,
       "display": null,
       "flex": null,
       "flex_flow": null,
       "grid_area": null,
       "grid_auto_columns": null,
       "grid_auto_flow": null,
       "grid_auto_rows": null,
       "grid_column": null,
       "grid_gap": null,
       "grid_row": null,
       "grid_template_areas": null,
       "grid_template_columns": null,
       "grid_template_rows": null,
       "height": null,
       "justify_content": null,
       "justify_items": null,
       "left": null,
       "margin": null,
       "max_height": null,
       "max_width": null,
       "min_height": null,
       "min_width": null,
       "object_fit": null,
       "object_position": null,
       "order": null,
       "overflow": null,
       "padding": null,
       "right": null,
       "top": null,
       "visibility": null,
       "width": null
      }
     }
    },
    "version_major": 2,
    "version_minor": 0
   }
  }
 },
 "nbformat": 4,
 "nbformat_minor": 5
}
