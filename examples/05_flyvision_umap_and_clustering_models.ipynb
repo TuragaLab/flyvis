{
 "cells": [
  {
   "cell_type": "markdown",
   "metadata": {},
   "source": [
    "# Cluster analysis based on naturalistic stimuli responses\n",
    "\n",
    "This notebook illustrates how to cluster the models of an ensemble after nonlinear dimensionality reduction on their predicted responses to naturalistic stimuli. This can be done for any cell type. Here we provide a detailed example focusing on clustering based on T4c responses."
   ]
  },
  {
   "cell_type": "markdown",
   "id": "81e5384d",
   "metadata": {
    "id": "SXV7OZMrugGF",
    "tags": [
     "hide"
    ]
   },
   "source": [
    "**Select GPU runtime**\n",
    "\n",
    "To run the notebook on a GPU select Menu -> Runtime -> Change runtime type -> GPU."
   ]
  },
  {
   "cell_type": "code",
   "execution_count": null,
   "id": "a323b04c",
   "metadata": {
    "cellView": "form",
    "execution": {
     "iopub.execute_input": "2024-12-08T18:36:47.629323Z",
     "iopub.status.busy": "2024-12-08T18:36:47.628822Z",
     "iopub.status.idle": "2024-12-08T18:36:47.639902Z",
     "shell.execute_reply": "2024-12-08T18:36:47.639096Z"
    },
    "id": "sWG39Aevugmr",
    "tags": [
     "hide"
    ]
   },
   "outputs": [],
   "source": [
    "# @markdown **Check access to GPU**\n",
    "\n",
    "try:\n",
    "    import google.colab\n",
    "\n",
    "    IN_COLAB = True\n",
    "except ImportError:\n",
    "    IN_COLAB = False\n",
    "\n",
    "if IN_COLAB:\n",
    "    import torch\n",
    "\n",
    "    try:\n",
    "        cuda_name = torch.cuda.get_device_name()\n",
    "        print(f\"Name of the assigned GPU / CUDA device: {cuda_name}\")\n",
    "    except RuntimeError:\n",
    "        import warnings\n",
    "\n",
    "        warnings.warn(\n",
    "            \"You have not selected Runtime Type: 'GPU' or Google could not assign you one. Please revisit the settings as described above or proceed on CPU (slow).\"\n",
    "        )"
   ]
  },
  {
   "cell_type": "markdown",
   "id": "db055330",
   "metadata": {
    "id": "-B9TA8nfzmN3",
    "tags": [
     "hide"
    ]
   },
   "source": [
    "**Install Flyvis**\n",
    "\n",
    "The notebook requires installing our package `flyvis`. You may need to restart your session after running the code block below with Menu -> Runtime -> Restart session. Then, imports from `flyvis` should succeed without issue."
   ]
  },
  {
   "cell_type": "code",
   "execution_count": null,
   "id": "b0bb0ee9",
   "metadata": {
    "cellView": "form",
    "execution": {
     "iopub.execute_input": "2024-12-08T18:36:47.643932Z",
     "iopub.status.busy": "2024-12-08T18:36:47.643692Z",
     "iopub.status.idle": "2024-12-08T18:36:47.649202Z",
     "shell.execute_reply": "2024-12-08T18:36:47.648371Z"
    },
    "id": "Dkhfe5XBuksW",
    "tags": [
     "hide"
    ]
   },
   "outputs": [],
   "source": [
    "# @markdown **Install Flyvis**\n",
    "if IN_COLAB:\n",
    "    !git clone https://github.com/TuragaLab/flyvis.git\n",
    "    %cd /content/flyvis\n",
    "    !pip install -e .[examples]"
   ]
  },
  {
   "cell_type": "markdown",
   "metadata": {},
   "source": [
    "# Naturalistic stimuli dataset (Sintel)\n",
    "We load the dataset with our custom augmentations. The dataset contains movie sequences from the publicly available computer-animated movie Sintel rendered to the hexagonal lattice structure of the fly eye. For a more detailed introduction to the dataset class and parameters see the notebook on the optic flow task."
   ]
  },
  {
   "cell_type": "code",
   "execution_count": null,
   "metadata": {
    "execution": {
     "iopub.execute_input": "2024-12-08T18:36:47.652758Z",
     "iopub.status.busy": "2024-12-08T18:36:47.652466Z",
     "iopub.status.idle": "2024-12-08T18:36:52.091719Z",
     "shell.execute_reply": "2024-12-08T18:36:52.090216Z"
    }
   },
   "outputs": [],
   "source": [
    "import matplotlib.pyplot as plt\n",
    "import numpy as np\n",
    "import torch\n",
    "\n",
    "\n",
    "import flyvis\n",
    "from flyvis.datasets.sintel import AugmentedSintel\n",
    "from flyvis.analysis.animations import HexScatter"
   ]
  },
  {
   "cell_type": "code",
   "execution_count": null,
   "metadata": {
    "execution": {
     "iopub.execute_input": "2024-12-08T18:36:52.096668Z",
     "iopub.status.busy": "2024-12-08T18:36:52.096071Z",
     "iopub.status.idle": "2024-12-08T18:36:59.024825Z",
     "shell.execute_reply": "2024-12-08T18:36:59.022656Z"
    }
   },
   "outputs": [],
   "source": [
    "dt = 1 / 100  # can be changed for other temporal resolutions\n",
    "dataset = AugmentedSintel(\n",
    "    tasks=[\"lum\"],\n",
    "    interpolate=False,\n",
    "    boxfilter={'extent': 15, 'kernel_size': 13},\n",
    "    temporal_split=True,\n",
    "    dt=dt,\n",
    ")"
   ]
  },
  {
   "cell_type": "code",
   "execution_count": null,
   "metadata": {
    "execution": {
     "iopub.execute_input": "2024-12-08T18:36:59.031150Z",
     "iopub.status.busy": "2024-12-08T18:36:59.030829Z",
     "iopub.status.idle": "2024-12-08T18:36:59.049579Z",
     "shell.execute_reply": "2024-12-08T18:36:59.048706Z"
    }
   },
   "outputs": [],
   "source": [
    "# view stimulus parameters\n",
    "dataset.arg_df"
   ]
  },
  {
   "cell_type": "code",
   "execution_count": null,
   "metadata": {
    "execution": {
     "iopub.execute_input": "2024-12-08T18:36:59.053073Z",
     "iopub.status.busy": "2024-12-08T18:36:59.052860Z",
     "iopub.status.idle": "2024-12-08T18:36:59.059053Z",
     "shell.execute_reply": "2024-12-08T18:36:59.057943Z"
    }
   },
   "outputs": [],
   "source": [
    "sequence = dataset[0][\"lum\"]"
   ]
  },
  {
   "cell_type": "code",
   "execution_count": null,
   "metadata": {
    "execution": {
     "iopub.execute_input": "2024-12-08T18:36:59.063040Z",
     "iopub.status.busy": "2024-12-08T18:36:59.062631Z",
     "iopub.status.idle": "2024-12-08T18:36:59.069192Z",
     "shell.execute_reply": "2024-12-08T18:36:59.068042Z"
    }
   },
   "outputs": [],
   "source": [
    "# one sequence contains 80 frames with 721 hexals each\n",
    "sequence.shape"
   ]
  },
  {
   "cell_type": "code",
   "execution_count": null,
   "metadata": {
    "execution": {
     "iopub.execute_input": "2024-12-08T18:36:59.073093Z",
     "iopub.status.busy": "2024-12-08T18:36:59.072838Z",
     "iopub.status.idle": "2024-12-08T18:37:01.116963Z",
     "shell.execute_reply": "2024-12-08T18:37:01.115991Z"
    }
   },
   "outputs": [],
   "source": [
    "animation = HexScatter(sequence[None], vmin=0, vmax=1)\n",
    "animation.animate_in_notebook(frames=np.arange(5))"
   ]
  },
  {
   "cell_type": "markdown",
   "metadata": {},
   "source": [
    "# Ensemble responses to naturalistic sequences\n",
    "We compute the responses of all models in the stored ensemble to the augmented Sintel dataset."
   ]
  },
  {
   "cell_type": "code",
   "execution_count": null,
   "metadata": {
    "execution": {
     "iopub.execute_input": "2024-12-08T18:37:01.123283Z",
     "iopub.status.busy": "2024-12-08T18:37:01.122951Z",
     "iopub.status.idle": "2024-12-08T18:37:13.866795Z",
     "shell.execute_reply": "2024-12-08T18:37:13.865289Z"
    }
   },
   "outputs": [],
   "source": [
    "# We load the ensemble trained on the optic flow task\n",
    "ensemble = flyvis.EnsembleView(\"flow/0000\")"
   ]
  },
  {
   "cell_type": "markdown",
   "metadata": {},
   "source": [
    "We use `ensemble.naturalistic_stimuli_responses` to return responses of all networks within the ensemble."
   ]
  },
  {
   "cell_type": "code",
   "execution_count": null,
   "metadata": {
    "execution": {
     "iopub.execute_input": "2024-12-08T18:37:13.873093Z",
     "iopub.status.busy": "2024-12-08T18:37:13.872681Z",
     "iopub.status.idle": "2024-12-08T18:37:29.147993Z",
     "shell.execute_reply": "2024-12-08T18:37:29.146714Z"
    }
   },
   "outputs": [],
   "source": [
    "# alternatively, specify indices of sequences to load\n",
    "# stims_and_resps = ensemble.naturalistic_stimuli_responses(indices=np.arange(5))\n",
    "# or load all sequences\n",
    "stims_and_resps = ensemble.naturalistic_stimuli_responses()"
   ]
  },
  {
   "cell_type": "code",
   "execution_count": null,
   "metadata": {
    "execution": {
     "iopub.execute_input": "2024-12-08T18:37:29.154396Z",
     "iopub.status.busy": "2024-12-08T18:37:29.154137Z",
     "iopub.status.idle": "2024-12-08T18:37:29.159131Z",
     "shell.execute_reply": "2024-12-08T18:37:29.158341Z"
    }
   },
   "outputs": [],
   "source": [
    "# recommended to only run with precomputed responses using the pipeline manager script,\n",
    "# see example_submissions.sh in the repository\n",
    "# norm = ensemble.responses_norm()\n",
    "# responses = stims_and_resps[\"responses\"] / (norm + 1e-6)\n",
    "responses = stims_and_resps[\"responses\"]"
   ]
  },
  {
   "cell_type": "code",
   "execution_count": null,
   "metadata": {
    "execution": {
     "iopub.execute_input": "2024-12-08T18:37:29.162883Z",
     "iopub.status.busy": "2024-12-08T18:37:29.162607Z",
     "iopub.status.idle": "2024-12-08T18:37:30.931463Z",
     "shell.execute_reply": "2024-12-08T18:37:30.930627Z"
    }
   },
   "outputs": [],
   "source": [
    "responses.custom.where(cell_type=\"T4c\", u=0, v=0, sample=0).custom.plot_traces(\n",
    "    x=\"time\", plot_kwargs=dict(color=\"tab:blue\", add_legend=False)\n",
    ")\n",
    "ax = plt.gca()\n",
    "ax.set_title(\"T4c responses to naturalistic stimuli\")"
   ]
  },
  {
   "cell_type": "markdown",
   "metadata": {},
   "source": [
    "We see that the across models of the ensemble the predictions for T4c vary. Our goal is to understand the underlying structure in those variations."
   ]
  },
  {
   "cell_type": "markdown",
   "metadata": {},
   "source": [
    "## Nonlinear dimensionality reduction (UMAP) and Gaussian Mixtures"
   ]
  },
  {
   "cell_type": "code",
   "execution_count": null,
   "metadata": {
    "execution": {
     "iopub.execute_input": "2024-12-08T18:37:30.942355Z",
     "iopub.status.busy": "2024-12-08T18:37:30.941926Z",
     "iopub.status.idle": "2024-12-08T18:37:30.947834Z",
     "shell.execute_reply": "2024-12-08T18:37:30.946985Z"
    }
   },
   "outputs": [],
   "source": [
    "from flyvis.analysis.clustering import EnsembleEmbedding, get_cluster_to_indices\n",
    "from flyvis.utils.activity_utils import CentralActivity"
   ]
  },
  {
   "cell_type": "code",
   "execution_count": null,
   "metadata": {
    "execution": {
     "iopub.execute_input": "2024-12-08T18:37:30.951402Z",
     "iopub.status.busy": "2024-12-08T18:37:30.951145Z",
     "iopub.status.idle": "2024-12-08T18:37:30.955514Z",
     "shell.execute_reply": "2024-12-08T18:37:30.954788Z"
    }
   },
   "outputs": [],
   "source": [
    "# specify parameters for umap embedding\n",
    "\n",
    "embedding_kwargs = {\n",
    "    \"min_dist\": 0.105,\n",
    "    \"spread\": 9.0,\n",
    "    \"n_neighbors\": 5,\n",
    "    \"random_state\": 42,\n",
    "    \"n_epochs\": 1500,\n",
    "}"
   ]
  },
  {
   "cell_type": "markdown",
   "metadata": {},
   "source": [
    "We compute the UMAP embedding of the ensemble based on the T4c responses of the single models to the single sequence for illustration."
   ]
  },
  {
   "cell_type": "code",
   "execution_count": null,
   "metadata": {
    "execution": {
     "iopub.execute_input": "2024-12-08T18:37:30.959200Z",
     "iopub.status.busy": "2024-12-08T18:37:30.958923Z",
     "iopub.status.idle": "2024-12-08T18:37:31.064167Z",
     "shell.execute_reply": "2024-12-08T18:37:31.063004Z"
    }
   },
   "outputs": [],
   "source": [
    "central_responses = CentralActivity(responses.values, connectome=ensemble.connectome)"
   ]
  },
  {
   "cell_type": "code",
   "execution_count": null,
   "metadata": {
    "execution": {
     "iopub.execute_input": "2024-12-08T18:37:31.068149Z",
     "iopub.status.busy": "2024-12-08T18:37:31.067678Z",
     "iopub.status.idle": "2024-12-08T18:37:41.002869Z",
     "shell.execute_reply": "2024-12-08T18:37:41.001916Z"
    }
   },
   "outputs": [],
   "source": [
    "embedding = EnsembleEmbedding(central_responses)\n",
    "t4c_embedding = embedding(\"T4c\", embedding_kwargs=embedding_kwargs)"
   ]
  },
  {
   "cell_type": "code",
   "execution_count": null,
   "metadata": {
    "execution": {
     "iopub.execute_input": "2024-12-08T18:37:41.007171Z",
     "iopub.status.busy": "2024-12-08T18:37:41.006968Z",
     "iopub.status.idle": "2024-12-08T18:37:42.478412Z",
     "shell.execute_reply": "2024-12-08T18:37:42.476997Z"
    }
   },
   "outputs": [],
   "source": [
    "task_error = ensemble.task_error()"
   ]
  },
  {
   "cell_type": "code",
   "execution_count": null,
   "metadata": {
    "execution": {
     "iopub.execute_input": "2024-12-08T18:37:42.483259Z",
     "iopub.status.busy": "2024-12-08T18:37:42.482893Z",
     "iopub.status.idle": "2024-12-08T18:37:42.833460Z",
     "shell.execute_reply": "2024-12-08T18:37:42.832441Z"
    }
   },
   "outputs": [],
   "source": [
    "embeddingplot = t4c_embedding.plot(colors=task_error.colors)"
   ]
  },
  {
   "cell_type": "markdown",
   "metadata": {},
   "source": [
    "Each of these scatterpoints in 2d represents a single time series plotted above.\n",
    "\n",
    "We fit a Gaussian Mixture of 2 to 5 components to this embedding to label the clusters. We select the final number of Gaussian Mixture components that minimize the Bayesian Information Criterion (BIC)."
   ]
  },
  {
   "cell_type": "code",
   "execution_count": null,
   "metadata": {
    "execution": {
     "iopub.execute_input": "2024-12-08T18:37:42.839000Z",
     "iopub.status.busy": "2024-12-08T18:37:42.838711Z",
     "iopub.status.idle": "2024-12-08T18:37:42.843503Z",
     "shell.execute_reply": "2024-12-08T18:37:42.842704Z"
    }
   },
   "outputs": [],
   "source": [
    "# specifiy parameters for Gaussian Mixture\n",
    "\n",
    "gm_kwargs = {\n",
    "    \"range_n_clusters\": [1, 2, 3, 4, 5],\n",
    "    \"n_init\": 100,\n",
    "    \"max_iter\": 1000,\n",
    "    \"random_state\": 42,\n",
    "    \"tol\": 0.001,\n",
    "}"
   ]
  },
  {
   "cell_type": "code",
   "execution_count": null,
   "metadata": {
    "execution": {
     "iopub.execute_input": "2024-12-08T18:37:42.847065Z",
     "iopub.status.busy": "2024-12-08T18:37:42.846620Z",
     "iopub.status.idle": "2024-12-08T18:37:48.700210Z",
     "shell.execute_reply": "2024-12-08T18:37:48.699050Z"
    }
   },
   "outputs": [],
   "source": [
    "gm_clustering = t4c_embedding.cluster.gaussian_mixture(**gm_kwargs)"
   ]
  },
  {
   "cell_type": "code",
   "execution_count": null,
   "metadata": {
    "execution": {
     "iopub.execute_input": "2024-12-08T18:37:48.703843Z",
     "iopub.status.busy": "2024-12-08T18:37:48.703577Z",
     "iopub.status.idle": "2024-12-08T18:37:49.685705Z",
     "shell.execute_reply": "2024-12-08T18:37:49.684912Z"
    }
   },
   "outputs": [],
   "source": [
    "embeddingplot = gm_clustering.plot(task_error=task_error.values, colors=task_error.colors)"
   ]
  },
  {
   "cell_type": "markdown",
   "metadata": {},
   "source": [
    "We can use the labels to disambiguate the time series data that we plotted above. We expect that these labels aggregate similar time series together and different time series separately."
   ]
  },
  {
   "cell_type": "code",
   "execution_count": null,
   "metadata": {
    "execution": {
     "iopub.execute_input": "2024-12-08T18:37:49.688343Z",
     "iopub.status.busy": "2024-12-08T18:37:49.688149Z",
     "iopub.status.idle": "2024-12-08T18:37:49.691769Z",
     "shell.execute_reply": "2024-12-08T18:37:49.691168Z"
    }
   },
   "outputs": [],
   "source": [
    "import matplotlib.colors as mcolors"
   ]
  },
  {
   "cell_type": "code",
   "execution_count": null,
   "metadata": {
    "execution": {
     "iopub.execute_input": "2024-12-08T18:37:49.695083Z",
     "iopub.status.busy": "2024-12-08T18:37:49.694684Z",
     "iopub.status.idle": "2024-12-08T18:37:49.702498Z",
     "shell.execute_reply": "2024-12-08T18:37:49.701793Z"
    }
   },
   "outputs": [],
   "source": [
    "cluster_to_indices = get_cluster_to_indices(\n",
    "    embeddingplot.cluster.embedding.mask,\n",
    "    embeddingplot.cluster.labels,\n",
    "    ensemble.task_error(),\n",
    ")"
   ]
  },
  {
   "cell_type": "code",
   "execution_count": null,
   "metadata": {
    "execution": {
     "iopub.execute_input": "2024-12-08T18:37:49.706056Z",
     "iopub.status.busy": "2024-12-08T18:37:49.705730Z",
     "iopub.status.idle": "2024-12-08T18:37:50.297376Z",
     "shell.execute_reply": "2024-12-08T18:37:50.296616Z"
    }
   },
   "outputs": [],
   "source": [
    "fig, axes = plt.subplots(1, len(cluster_to_indices), figsize=(6, 2))\n",
    "colors = {i: color for i, color in enumerate(mcolors.TABLEAU_COLORS.values())}\n",
    "for cluster_id, indices in cluster_to_indices.items():\n",
    "    responses.sel(network_id=indices, sample=[0]).custom.where(\n",
    "        cell_type=\"T4c\"\n",
    "    ).custom.plot_traces(\n",
    "        x=\"time\",\n",
    "        plot_kwargs=dict(color=colors[cluster_id], add_legend=False, ax=axes[cluster_id]),\n",
    "    )\n",
    "    axes[cluster_id].set_title(f\"Cluster {cluster_id + 1}\")\n",
    "plt.subplots_adjust(wspace=0.3)"
   ]
  },
  {
   "cell_type": "markdown",
   "metadata": {},
   "source": [
    "The clustering has led us to three qualitatively distinct predictions from the ensemble for this cell and sequence. This is a first lead for an underlying structure in these predictions. We will get an even better estimate once we use more sequences for the clustering."
   ]
  },
  {
   "cell_type": "markdown",
   "metadata": {},
   "source": [
    "# Using the clustering to discover tuning predictions in responses to simple stimuli"
   ]
  },
  {
   "cell_type": "markdown",
   "metadata": {},
   "source": [
    "We expect that the clustering based on naturalistic stimuli will also disambiguate the different tuning predictions from different models for simple stimuli."
   ]
  },
  {
   "cell_type": "code",
   "execution_count": null,
   "metadata": {
    "execution": {
     "iopub.execute_input": "2024-12-08T18:37:50.309099Z",
     "iopub.status.busy": "2024-12-08T18:37:50.308680Z",
     "iopub.status.idle": "2024-12-08T18:37:50.318723Z",
     "shell.execute_reply": "2024-12-08T18:37:50.317994Z"
    }
   },
   "outputs": [],
   "source": [
    "cluster_to_indices = get_cluster_to_indices(\n",
    "    embeddingplot.cluster.embedding.mask,\n",
    "    embeddingplot.cluster.labels,\n",
    "    ensemble.task_error(),\n",
    ")"
   ]
  },
  {
   "cell_type": "code",
   "execution_count": null,
   "metadata": {
    "execution": {
     "iopub.execute_input": "2024-12-08T18:37:50.322458Z",
     "iopub.status.busy": "2024-12-08T18:37:50.322262Z",
     "iopub.status.idle": "2024-12-08T18:37:50.333572Z",
     "shell.execute_reply": "2024-12-08T18:37:50.332628Z"
    }
   },
   "outputs": [],
   "source": [
    "# define different colormaps for clusters\n",
    "cluster_colors = {}\n",
    "CMAPS = [\"Blues_r\", \"Reds_r\", \"Greens_r\", \"Oranges_r\", \"Purples_r\"]\n",
    "\n",
    "for cluster_id in cluster_to_indices:\n",
    "    cluster_colors[cluster_id] = ensemble.task_error(cmap=CMAPS[cluster_id]).colors"
   ]
  },
  {
   "cell_type": "markdown",
   "metadata": {},
   "source": [
    "## Clustered voltage responses to moving edges"
   ]
  },
  {
   "cell_type": "code",
   "execution_count": null,
   "metadata": {
    "execution": {
     "iopub.execute_input": "2024-12-08T18:37:50.337425Z",
     "iopub.status.busy": "2024-12-08T18:37:50.337202Z",
     "iopub.status.idle": "2024-12-08T18:37:50.341181Z",
     "shell.execute_reply": "2024-12-08T18:37:50.340505Z"
    }
   },
   "outputs": [],
   "source": [
    "from flyvis.analysis.moving_bar_responses import plot_angular_tuning\n",
    "from flyvis.analysis.visualization import plt_utils\n",
    "from flyvis.utils.color_utils import color_to_cmap"
   ]
  },
  {
   "cell_type": "code",
   "execution_count": null,
   "metadata": {
    "execution": {
     "iopub.execute_input": "2024-12-08T18:37:50.344856Z",
     "iopub.status.busy": "2024-12-08T18:37:50.344438Z",
     "iopub.status.idle": "2024-12-08T18:38:00.070507Z",
     "shell.execute_reply": "2024-12-08T18:38:00.068832Z"
    }
   },
   "outputs": [],
   "source": [
    "stims_and_resps_moving_edge = ensemble.moving_edge_responses()"
   ]
  },
  {
   "cell_type": "code",
   "execution_count": null,
   "metadata": {
    "execution": {
     "iopub.execute_input": "2024-12-08T18:38:00.076499Z",
     "iopub.status.busy": "2024-12-08T18:38:00.076143Z",
     "iopub.status.idle": "2024-12-08T18:38:02.417008Z",
     "shell.execute_reply": "2024-12-08T18:38:02.415664Z"
    }
   },
   "outputs": [],
   "source": [
    "# invariant to different magnitudes of responses, only to assess direction tuning\n",
    "stims_and_resps_moving_edge[\"responses\"] /= np.abs(\n",
    "    stims_and_resps_moving_edge[\"responses\"]\n",
    ").max(dim=(\"sample\", \"frame\"))\n",
    "\n",
    "# relative to the norm of the responses to naturalistic stimuli (used for averaging)\n",
    "# stims_and_resps_moving_edge['responses'] /= (norm + 1e-6)"
   ]
  },
  {
   "cell_type": "code",
   "execution_count": null,
   "metadata": {
    "execution": {
     "iopub.execute_input": "2024-12-08T18:38:02.422283Z",
     "iopub.status.busy": "2024-12-08T18:38:02.422058Z",
     "iopub.status.idle": "2024-12-08T18:38:05.092083Z",
     "shell.execute_reply": "2024-12-08T18:38:05.091242Z"
    }
   },
   "outputs": [],
   "source": [
    "fig, axes = plt.subplots(1, len(cluster_to_indices), figsize=(6, 2))\n",
    "colors = {i: color for i, color in enumerate(mcolors.TABLEAU_COLORS.values())}\n",
    "for cluster_id, indices in cluster_to_indices.items():\n",
    "    stims_and_resps_moving_edge['responses'].sel(network_id=indices).custom.where(\n",
    "        cell_type=\"T4c\", intensity=1, speed=19, angle=90\n",
    "    ).custom.plot_traces(\n",
    "        x=\"time\",\n",
    "        plot_kwargs=dict(color=colors[cluster_id], add_legend=False, ax=axes[cluster_id]),\n",
    "    )\n",
    "    axes[cluster_id].set_title(f\"Cluster {cluster_id + 1}\")\n",
    "plt.subplots_adjust(wspace=0.3)"
   ]
  },
  {
   "cell_type": "code",
   "execution_count": null,
   "metadata": {
    "execution": {
     "iopub.execute_input": "2024-12-08T18:38:05.102935Z",
     "iopub.status.busy": "2024-12-08T18:38:05.102568Z",
     "iopub.status.idle": "2024-12-08T18:38:08.727193Z",
     "shell.execute_reply": "2024-12-08T18:38:08.726260Z"
    }
   },
   "outputs": [],
   "source": [
    "plot_angular_tuning(\n",
    "    stims_and_resps_moving_edge,\n",
    "    \"T4c\",\n",
    "    intensity=1,\n",
    ")"
   ]
  },
  {
   "cell_type": "code",
   "execution_count": null,
   "metadata": {
    "execution": {
     "iopub.execute_input": "2024-12-08T18:38:08.734038Z",
     "iopub.status.busy": "2024-12-08T18:38:08.733665Z",
     "iopub.status.idle": "2024-12-08T18:38:15.209023Z",
     "shell.execute_reply": "2024-12-08T18:38:15.208151Z"
    }
   },
   "outputs": [],
   "source": [
    "tabcolors = list(mcolors.TABLEAU_COLORS.values())\n",
    "colors = [\n",
    "    ensemble.task_error(cmap=color_to_cmap(tabcolors[cluster_id]).reversed()).colors[\n",
    "        indices\n",
    "    ]\n",
    "    for cluster_id, indices in cluster_to_indices.items()\n",
    "]\n",
    "fig, axes = plt.subplots(\n",
    "    1, len(cluster_to_indices), subplot_kw={\"projection\": \"polar\"}, figsize=[2, 1]\n",
    ")\n",
    "for cluster_id, indices in cluster_to_indices.items():\n",
    "    plot_angular_tuning(\n",
    "        stims_and_resps_moving_edge.sel(network_id=indices),\n",
    "        \"T4c\",\n",
    "        intensity=1,\n",
    "        colors=colors[cluster_id],\n",
    "        zorder=ensemble.zorder()[indices],\n",
    "        groundtruth=True if cluster_id == 0 else False,\n",
    "        fig=fig,\n",
    "        ax=axes[cluster_id],\n",
    "    )\n",
    "    plt_utils.add_cluster_marker(\n",
    "        fig, axes[cluster_id], marker=plt_utils.get_marker(cluster_id)\n",
    "    )\n",
    "    axes[cluster_id].set_title(f\"Cluster {cluster_id + 1}\")\n",
    "plt.subplots_adjust(wspace=0.5)"
   ]
  },
  {
   "cell_type": "markdown",
   "metadata": {},
   "source": [
    "As we can see here, the models predict clustered neural responses."
   ]
  },
  {
   "cell_type": "markdown",
   "metadata": {},
   "source": [
    "# Load precomputed umap and clustering"
   ]
  },
  {
   "cell_type": "markdown",
   "metadata": {},
   "source": [
    "Due to the computational requirement of recording and embedding all responses and for consistency we also show how to use the precomputed embeddings and clusterings from the paper."
   ]
  },
  {
   "cell_type": "code",
   "execution_count": null,
   "metadata": {
    "execution": {
     "iopub.execute_input": "2024-12-08T18:38:15.215968Z",
     "iopub.status.busy": "2024-12-08T18:38:15.215644Z",
     "iopub.status.idle": "2024-12-08T18:38:15.231111Z",
     "shell.execute_reply": "2024-12-08T18:38:15.230326Z"
    }
   },
   "outputs": [],
   "source": [
    "cell_type = \"T4c\"\n",
    "clustering = ensemble.clustering(cell_type)"
   ]
  },
  {
   "cell_type": "code",
   "execution_count": null,
   "metadata": {
    "execution": {
     "iopub.execute_input": "2024-12-08T18:38:15.235193Z",
     "iopub.status.busy": "2024-12-08T18:38:15.234827Z",
     "iopub.status.idle": "2024-12-08T18:38:16.719267Z",
     "shell.execute_reply": "2024-12-08T18:38:16.717800Z"
    }
   },
   "outputs": [],
   "source": [
    "task_error = ensemble.task_error()"
   ]
  },
  {
   "cell_type": "code",
   "execution_count": null,
   "metadata": {
    "execution": {
     "iopub.execute_input": "2024-12-08T18:38:16.725126Z",
     "iopub.status.busy": "2024-12-08T18:38:16.724771Z",
     "iopub.status.idle": "2024-12-08T18:38:17.710997Z",
     "shell.execute_reply": "2024-12-08T18:38:17.710173Z"
    }
   },
   "outputs": [],
   "source": [
    "embeddingplot = clustering.plot(task_error=task_error.values, colors=task_error.colors)"
   ]
  },
  {
   "cell_type": "markdown",
   "metadata": {},
   "source": [
    "With this embedding and clustering one can proceed in the same way as above to plot the tunings."
   ]
  }
 ],
 "metadata": {
  "kernelspec": {
   "display_name": "Python 3 (ipykernel)",
   "language": "python",
   "name": "python3"
  },
  "language_info": {
   "codemirror_mode": {
    "name": "ipython",
    "version": 3
   },
   "file_extension": ".py",
   "mimetype": "text/x-python",
   "name": "python",
   "nbconvert_exporter": "python",
   "pygments_lexer": "ipython3",
   "version": "3.9.16"
  },
  "toc": {
   "base_numbering": 1,
   "nav_menu": {},
   "number_sections": true,
   "sideBar": true,
   "skip_h1_title": false,
   "title_cell": "Table of Contents",
   "title_sidebar": "Contents",
   "toc_cell": false,
   "toc_position": {
    "height": "calc(100% - 180px)",
    "left": "10px",
    "top": "150px",
    "width": "302.398px"
   },
   "toc_section_display": true,
   "toc_window_display": true
  },
  "widgets": {
   "application/vnd.jupyter.widget-state+json": {
    "state": {
     "090e5534e2cd41b097fa09ff489ce7c7": {
      "model_module": "@jupyter-widgets/controls",
      "model_module_version": "2.0.0",
      "model_name": "ProgressStyleModel",
      "state": {
       "_model_module": "@jupyter-widgets/controls",
       "_model_module_version": "2.0.0",
       "_model_name": "ProgressStyleModel",
       "_view_count": null,
       "_view_module": "@jupyter-widgets/base",
       "_view_module_version": "2.0.0",
       "_view_name": "StyleView",
       "bar_color": null,
       "description_width": ""
      }
     },
     "1d45a322499f48d48669c48ef3bf537b": {
      "model_module": "@jupyter-widgets/controls",
      "model_module_version": "2.0.0",
      "model_name": "HTMLModel",
      "state": {
       "_dom_classes": [],
       "_model_module": "@jupyter-widgets/controls",
       "_model_module_version": "2.0.0",
       "_model_name": "HTMLModel",
       "_view_count": null,
       "_view_module": "@jupyter-widgets/controls",
       "_view_module_version": "2.0.0",
       "_view_name": "HTMLView",
       "description": "",
       "description_allow_html": false,
       "layout": "IPY_MODEL_86ed2280559c40738790ec88dd6f829e",
       "placeholder": "​",
       "style": "IPY_MODEL_79571b75e3dc4de5856ca9d75fea7e12",
       "tabbable": null,
       "tooltip": null,
       "value": "Loading ensemble: 100%"
      }
     },
     "237d3471a40e404da21d434bb990918b": {
      "model_module": "@jupyter-widgets/controls",
      "model_module_version": "2.0.0",
      "model_name": "HTMLStyleModel",
      "state": {
       "_model_module": "@jupyter-widgets/controls",
       "_model_module_version": "2.0.0",
       "_model_name": "HTMLStyleModel",
       "_view_count": null,
       "_view_module": "@jupyter-widgets/base",
       "_view_module_version": "2.0.0",
       "_view_name": "StyleView",
       "background": null,
       "description_width": "",
       "font_size": null,
       "text_color": null
      }
     },
     "466adbe4adb14b9e95f5cf5a2c0e0bb7": {
      "model_module": "@jupyter-widgets/controls",
      "model_module_version": "2.0.0",
      "model_name": "HBoxModel",
      "state": {
       "_dom_classes": [],
       "_model_module": "@jupyter-widgets/controls",
       "_model_module_version": "2.0.0",
       "_model_name": "HBoxModel",
       "_view_count": null,
       "_view_module": "@jupyter-widgets/controls",
       "_view_module_version": "2.0.0",
       "_view_name": "HBoxView",
       "box_style": "",
       "children": [
        "IPY_MODEL_1d45a322499f48d48669c48ef3bf537b",
        "IPY_MODEL_7aa9fae5828c4a4cb6ecfe4146f4fc1f",
        "IPY_MODEL_6ea16937ddbc46e3987825194435b467"
       ],
       "layout": "IPY_MODEL_e29acef2d1a843b38ee202dde26c4696",
       "tabbable": null,
       "tooltip": null
      }
     },
     "6ea16937ddbc46e3987825194435b467": {
      "model_module": "@jupyter-widgets/controls",
      "model_module_version": "2.0.0",
      "model_name": "HTMLModel",
      "state": {
       "_dom_classes": [],
       "_model_module": "@jupyter-widgets/controls",
       "_model_module_version": "2.0.0",
       "_model_name": "HTMLModel",
       "_view_count": null,
       "_view_module": "@jupyter-widgets/controls",
       "_view_module_version": "2.0.0",
       "_view_name": "HTMLView",
       "description": "",
       "description_allow_html": false,
       "layout": "IPY_MODEL_82a296ff8eda45848f0a3bc4825ecc55",
       "placeholder": "​",
       "style": "IPY_MODEL_237d3471a40e404da21d434bb990918b",
       "tabbable": null,
       "tooltip": null,
       "value": " 50/50 [00:12&lt;00:00,  3.88it/s]"
      }
     },
     "79571b75e3dc4de5856ca9d75fea7e12": {
      "model_module": "@jupyter-widgets/controls",
      "model_module_version": "2.0.0",
      "model_name": "HTMLStyleModel",
      "state": {
       "_model_module": "@jupyter-widgets/controls",
       "_model_module_version": "2.0.0",
       "_model_name": "HTMLStyleModel",
       "_view_count": null,
       "_view_module": "@jupyter-widgets/base",
       "_view_module_version": "2.0.0",
       "_view_name": "StyleView",
       "background": null,
       "description_width": "",
       "font_size": null,
       "text_color": null
      }
     },
     "7aa9fae5828c4a4cb6ecfe4146f4fc1f": {
      "model_module": "@jupyter-widgets/controls",
      "model_module_version": "2.0.0",
      "model_name": "FloatProgressModel",
      "state": {
       "_dom_classes": [],
       "_model_module": "@jupyter-widgets/controls",
       "_model_module_version": "2.0.0",
       "_model_name": "FloatProgressModel",
       "_view_count": null,
       "_view_module": "@jupyter-widgets/controls",
       "_view_module_version": "2.0.0",
       "_view_name": "ProgressView",
       "bar_style": "success",
       "description": "",
       "description_allow_html": false,
       "layout": "IPY_MODEL_d01116292b3f49a0882de104052e62bc",
       "max": 50.0,
       "min": 0.0,
       "orientation": "horizontal",
       "style": "IPY_MODEL_090e5534e2cd41b097fa09ff489ce7c7",
       "tabbable": null,
       "tooltip": null,
       "value": 50.0
      }
     },
     "82a296ff8eda45848f0a3bc4825ecc55": {
      "model_module": "@jupyter-widgets/base",
      "model_module_version": "2.0.0",
      "model_name": "LayoutModel",
      "state": {
       "_model_module": "@jupyter-widgets/base",
       "_model_module_version": "2.0.0",
       "_model_name": "LayoutModel",
       "_view_count": null,
       "_view_module": "@jupyter-widgets/base",
       "_view_module_version": "2.0.0",
       "_view_name": "LayoutView",
       "align_content": null,
       "align_items": null,
       "align_self": null,
       "border_bottom": null,
       "border_left": null,
       "border_right": null,
       "border_top": null,
       "bottom": null,
       "display": null,
       "flex": null,
       "flex_flow": null,
       "grid_area": null,
       "grid_auto_columns": null,
       "grid_auto_flow": null,
       "grid_auto_rows": null,
       "grid_column": null,
       "grid_gap": null,
       "grid_row": null,
       "grid_template_areas": null,
       "grid_template_columns": null,
       "grid_template_rows": null,
       "height": null,
       "justify_content": null,
       "justify_items": null,
       "left": null,
       "margin": null,
       "max_height": null,
       "max_width": null,
       "min_height": null,
       "min_width": null,
       "object_fit": null,
       "object_position": null,
       "order": null,
       "overflow": null,
       "padding": null,
       "right": null,
       "top": null,
       "visibility": null,
       "width": null
      }
     },
     "86ed2280559c40738790ec88dd6f829e": {
      "model_module": "@jupyter-widgets/base",
      "model_module_version": "2.0.0",
      "model_name": "LayoutModel",
      "state": {
       "_model_module": "@jupyter-widgets/base",
       "_model_module_version": "2.0.0",
       "_model_name": "LayoutModel",
       "_view_count": null,
       "_view_module": "@jupyter-widgets/base",
       "_view_module_version": "2.0.0",
       "_view_name": "LayoutView",
       "align_content": null,
       "align_items": null,
       "align_self": null,
       "border_bottom": null,
       "border_left": null,
       "border_right": null,
       "border_top": null,
       "bottom": null,
       "display": null,
       "flex": null,
       "flex_flow": null,
       "grid_area": null,
       "grid_auto_columns": null,
       "grid_auto_flow": null,
       "grid_auto_rows": null,
       "grid_column": null,
       "grid_gap": null,
       "grid_row": null,
       "grid_template_areas": null,
       "grid_template_columns": null,
       "grid_template_rows": null,
       "height": null,
       "justify_content": null,
       "justify_items": null,
       "left": null,
       "margin": null,
       "max_height": null,
       "max_width": null,
       "min_height": null,
       "min_width": null,
       "object_fit": null,
       "object_position": null,
       "order": null,
       "overflow": null,
       "padding": null,
       "right": null,
       "top": null,
       "visibility": null,
       "width": null
      }
     },
     "d01116292b3f49a0882de104052e62bc": {
      "model_module": "@jupyter-widgets/base",
      "model_module_version": "2.0.0",
      "model_name": "LayoutModel",
      "state": {
       "_model_module": "@jupyter-widgets/base",
       "_model_module_version": "2.0.0",
       "_model_name": "LayoutModel",
       "_view_count": null,
       "_view_module": "@jupyter-widgets/base",
       "_view_module_version": "2.0.0",
       "_view_name": "LayoutView",
       "align_content": null,
       "align_items": null,
       "align_self": null,
       "border_bottom": null,
       "border_left": null,
       "border_right": null,
       "border_top": null,
       "bottom": null,
       "display": null,
       "flex": null,
       "flex_flow": null,
       "grid_area": null,
       "grid_auto_columns": null,
       "grid_auto_flow": null,
       "grid_auto_rows": null,
       "grid_column": null,
       "grid_gap": null,
       "grid_row": null,
       "grid_template_areas": null,
       "grid_template_columns": null,
       "grid_template_rows": null,
       "height": null,
       "justify_content": null,
       "justify_items": null,
       "left": null,
       "margin": null,
       "max_height": null,
       "max_width": null,
       "min_height": null,
       "min_width": null,
       "object_fit": null,
       "object_position": null,
       "order": null,
       "overflow": null,
       "padding": null,
       "right": null,
       "top": null,
       "visibility": null,
       "width": null
      }
     },
     "e29acef2d1a843b38ee202dde26c4696": {
      "model_module": "@jupyter-widgets/base",
      "model_module_version": "2.0.0",
      "model_name": "LayoutModel",
      "state": {
       "_model_module": "@jupyter-widgets/base",
       "_model_module_version": "2.0.0",
       "_model_name": "LayoutModel",
       "_view_count": null,
       "_view_module": "@jupyter-widgets/base",
       "_view_module_version": "2.0.0",
       "_view_name": "LayoutView",
       "align_content": null,
       "align_items": null,
       "align_self": null,
       "border_bottom": null,
       "border_left": null,
       "border_right": null,
       "border_top": null,
       "bottom": null,
       "display": null,
       "flex": null,
       "flex_flow": null,
       "grid_area": null,
       "grid_auto_columns": null,
       "grid_auto_flow": null,
       "grid_auto_rows": null,
       "grid_column": null,
       "grid_gap": null,
       "grid_row": null,
       "grid_template_areas": null,
       "grid_template_columns": null,
       "grid_template_rows": null,
       "height": null,
       "justify_content": null,
       "justify_items": null,
       "left": null,
       "margin": null,
       "max_height": null,
       "max_width": null,
       "min_height": null,
       "min_width": null,
       "object_fit": null,
       "object_position": null,
       "order": null,
       "overflow": null,
       "padding": null,
       "right": null,
       "top": null,
       "visibility": null,
       "width": null
      }
     }
    },
    "version_major": 2,
    "version_minor": 0
   }
  }
 },
 "nbformat": 4,
 "nbformat_minor": 2
}
