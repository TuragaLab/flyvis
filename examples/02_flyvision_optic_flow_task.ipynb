{
 "cells": [
  {
   "cell_type": "markdown",
   "id": "321052ca",
   "metadata": {},
   "source": [
    "# Optic flow task\n",
    "\n",
    "\n",
    "This notebook illustrates the optic flow task and how to use it with our pretrained fly visual system model and decoder."
   ]
  },
  {
   "cell_type": "markdown",
   "id": "81e5384d",
   "metadata": {
    "id": "SXV7OZMrugGF",
    "tags": [
     "hide"
    ]
   },
   "source": [
    "**Select GPU runtime**\n",
    "\n",
    "To run the notebook on a GPU select Menu -> Runtime -> Change runtime type -> GPU."
   ]
  },
  {
   "cell_type": "code",
   "execution_count": null,
   "id": "a323b04c",
   "metadata": {
    "cellView": "form",
    "execution": {
     "iopub.execute_input": "2024-12-08T18:30:40.913628Z",
     "iopub.status.busy": "2024-12-08T18:30:40.913194Z",
     "iopub.status.idle": "2024-12-08T18:30:40.924713Z",
     "shell.execute_reply": "2024-12-08T18:30:40.923869Z"
    },
    "id": "sWG39Aevugmr",
    "tags": [
     "hide"
    ]
   },
   "outputs": [],
   "source": [
    "# @markdown **Check access to GPU**\n",
    "\n",
    "try:\n",
    "    import google.colab\n",
    "\n",
    "    IN_COLAB = True\n",
    "except ImportError:\n",
    "    IN_COLAB = False\n",
    "\n",
    "if IN_COLAB:\n",
    "    import torch\n",
    "\n",
    "    try:\n",
    "        cuda_name = torch.cuda.get_device_name()\n",
    "        print(f\"Name of the assigned GPU / CUDA device: {cuda_name}\")\n",
    "    except RuntimeError:\n",
    "        import warnings\n",
    "\n",
    "        warnings.warn(\n",
    "            \"You have not selected Runtime Type: 'GPU' or Google could not assign you one. Please revisit the settings as described above or proceed on CPU (slow).\"\n",
    "        )"
   ]
  },
  {
   "cell_type": "markdown",
   "id": "db055330",
   "metadata": {
    "id": "-B9TA8nfzmN3",
    "tags": [
     "hide"
    ]
   },
   "source": [
    "**Install Flyvis**\n",
    "\n",
    "The notebook requires installing our package `flyvis`. You may need to restart your session after running the code block below with Menu -> Runtime -> Restart session. Then, imports from `flyvis` should succeed without issue."
   ]
  },
  {
   "cell_type": "code",
   "execution_count": null,
   "id": "b0bb0ee9",
   "metadata": {
    "cellView": "form",
    "execution": {
     "iopub.execute_input": "2024-12-08T18:30:40.928810Z",
     "iopub.status.busy": "2024-12-08T18:30:40.928566Z",
     "iopub.status.idle": "2024-12-08T18:30:40.934101Z",
     "shell.execute_reply": "2024-12-08T18:30:40.933229Z"
    },
    "id": "Dkhfe5XBuksW",
    "tags": [
     "hide"
    ]
   },
   "outputs": [],
   "source": [
    "# @markdown **Install Flyvis**\n",
    "if IN_COLAB:\n",
    "    !git clone https://github.com/TuragaLab/flyvis.git\n",
    "    %cd /content/flyvis\n",
    "    !pip install -e .[examples]"
   ]
  },
  {
   "cell_type": "markdown",
   "id": "d6e57181",
   "metadata": {},
   "source": [
    "# The Sintel dataset"
   ]
  },
  {
   "cell_type": "markdown",
   "id": "6828f1e0",
   "metadata": {},
   "source": [
    "We use the Sintel dataset to train our models as described in the paper. More infos about the Sintel dataset can be found on the official Sintel website: http://sintel.is.tue.mpg.de/."
   ]
  },
  {
   "cell_type": "code",
   "execution_count": null,
   "id": "ccced4e0",
   "metadata": {
    "execution": {
     "iopub.execute_input": "2024-12-08T18:30:40.938096Z",
     "iopub.status.busy": "2024-12-08T18:30:40.937806Z",
     "iopub.status.idle": "2024-12-08T18:30:45.394736Z",
     "shell.execute_reply": "2024-12-08T18:30:45.393001Z"
    }
   },
   "outputs": [],
   "source": [
    "import matplotlib.pyplot as plt\n",
    "import numpy as np\n",
    "import torch\n",
    "\n",
    "from flyvis.datasets.sintel import MultiTaskSintel\n",
    "from flyvis.analysis.animations.sintel import SintelSample"
   ]
  },
  {
   "cell_type": "markdown",
   "id": "713d04d4",
   "metadata": {},
   "source": [
    "The class `MultiTaskSintel` loads, preprocesses, renders, and augments the sintel data. It adheres to the pytorch dataset primitive. It provides the interface to the input data and the output data for the flyvis networks. Note: the fly-eye rendering we use here, we introduce in the notebook on creating custom stimuli already.\n",
    "\n",
    "This is the full setting:"
   ]
  },
  {
   "cell_type": "code",
   "execution_count": null,
   "id": "bbd7e6d2",
   "metadata": {
    "execution": {
     "iopub.execute_input": "2024-12-08T18:30:45.401049Z",
     "iopub.status.busy": "2024-12-08T18:30:45.400313Z",
     "iopub.status.idle": "2024-12-08T18:30:51.678306Z",
     "shell.execute_reply": "2024-12-08T18:30:51.675674Z"
    }
   },
   "outputs": [],
   "source": [
    "dataset = MultiTaskSintel(\n",
    "    tasks=[\"flow\"],\n",
    "    boxfilter=dict(extent=15, kernel_size=13),\n",
    "    # Because the fly eye rendering is square\n",
    "    # and sintel is wide, we can crop sintel\n",
    "    # in width and render three sequences from one.\n",
    "    # This allows us to statically augment our dataset\n",
    "    # a bit already before we proceed with the random augmentations.\n",
    "    # We end up with 3 * 23 sequences.\n",
    "    vertical_splits=3,\n",
    "    n_frames=19,\n",
    "    center_crop_fraction=0.7,\n",
    "    dt=1 / 50,\n",
    "    augment=True,\n",
    "    # From sequences with more than n_frames, we randomly sample the start frame.\n",
    "    random_temporal_crop=True,\n",
    "    all_frames=False,\n",
    "    # We resample movie frames to the effective framerate given by 1/dt\n",
    "    resampling=True,\n",
    "    # We interpolate the flow arrows to 1/dt.\n",
    "    interpolate=True,\n",
    "    # We flip with equal probability (using one flip-axis).\n",
    "    p_flip=0.5,\n",
    "    flip_axes=[0, 1],\n",
    "    # We rotate with equal probability (using five fold rotation symmetry of the hex-grid).\n",
    "    p_rot=5 / 6,\n",
    "    # We randomly adjust contrast and brightness.\n",
    "    contrast_std=0.2,\n",
    "    brightness_std=0.1,\n",
    "    # We add random white noise pixelweise.\n",
    "    gaussian_white_noise=0.08,\n",
    "    gamma_std=None,\n",
    "    _init_cache=True,\n",
    "    unittest=False,\n",
    ")"
   ]
  },
  {
   "cell_type": "code",
   "execution_count": null,
   "id": "100cfd59",
   "metadata": {
    "execution": {
     "iopub.execute_input": "2024-12-08T18:30:51.685372Z",
     "iopub.status.busy": "2024-12-08T18:30:51.684948Z",
     "iopub.status.idle": "2024-12-08T18:30:51.710649Z",
     "shell.execute_reply": "2024-12-08T18:30:51.709468Z"
    }
   },
   "outputs": [],
   "source": [
    "# The `dataset.arg_df` tracks the sequence index, identity etc.\n",
    "dataset.arg_df"
   ]
  },
  {
   "cell_type": "markdown",
   "id": "6c644434",
   "metadata": {},
   "source": [
    "## Single sample"
   ]
  },
  {
   "cell_type": "markdown",
   "id": "f31dee12",
   "metadata": {},
   "source": [
    "First, let's chunk this into smaller digestable pieces."
   ]
  },
  {
   "cell_type": "code",
   "execution_count": null,
   "id": "8815b024",
   "metadata": {
    "execution": {
     "iopub.execute_input": "2024-12-08T18:30:51.715425Z",
     "iopub.status.busy": "2024-12-08T18:30:51.715073Z",
     "iopub.status.idle": "2024-12-08T18:30:54.219242Z",
     "shell.execute_reply": "2024-12-08T18:30:54.217664Z"
    }
   },
   "outputs": [],
   "source": [
    "dataset = MultiTaskSintel(\n",
    "    tasks=[\"flow\"],\n",
    "    boxfilter=dict(extent=15, kernel_size=13),\n",
    "    vertical_splits=1,\n",
    "    dt=1 / 24,\n",
    "    augment=False,\n",
    ")"
   ]
  },
  {
   "cell_type": "markdown",
   "id": "f80862c9",
   "metadata": {},
   "source": [
    "The first sample. For the target, the pixel-accurate motion vectors, the color indicates the direction of motion of the respective input pixel. The saturation indicates the magnitude of motion."
   ]
  },
  {
   "cell_type": "code",
   "execution_count": null,
   "id": "a579ea77",
   "metadata": {
    "execution": {
     "iopub.execute_input": "2024-12-08T18:30:54.225022Z",
     "iopub.status.busy": "2024-12-08T18:30:54.224659Z",
     "iopub.status.idle": "2024-12-08T18:30:58.342787Z",
     "shell.execute_reply": "2024-12-08T18:30:58.341605Z"
    }
   },
   "outputs": [],
   "source": [
    "lum = dataset[0][\"lum\"]\n",
    "flow = dataset[0][\"flow\"]\n",
    "\n",
    "animation = SintelSample(lum[None], flow[None])\n",
    "animation.animate_in_notebook()"
   ]
  },
  {
   "cell_type": "markdown",
   "id": "9972c819",
   "metadata": {},
   "source": [
    "Sintel has more groundtruth annotations. We support depth and flow because we know with some confidence that these are relevant for the fly."
   ]
  },
  {
   "cell_type": "code",
   "execution_count": null,
   "id": "a4a61180",
   "metadata": {
    "execution": {
     "iopub.execute_input": "2024-12-08T18:30:58.348826Z",
     "iopub.status.busy": "2024-12-08T18:30:58.348556Z",
     "iopub.status.idle": "2024-12-08T18:31:01.373234Z",
     "shell.execute_reply": "2024-12-08T18:31:01.371340Z"
    }
   },
   "outputs": [],
   "source": [
    "dataset = MultiTaskSintel(\n",
    "    tasks=[\"depth\"],\n",
    "    boxfilter=dict(extent=15, kernel_size=13),\n",
    "    vertical_splits=1,\n",
    "    dt=1 / 24,\n",
    "    augment=False,\n",
    ")"
   ]
  },
  {
   "cell_type": "code",
   "execution_count": null,
   "id": "d3563cab",
   "metadata": {
    "execution": {
     "iopub.execute_input": "2024-12-08T18:31:01.379417Z",
     "iopub.status.busy": "2024-12-08T18:31:01.379023Z",
     "iopub.status.idle": "2024-12-08T18:31:04.658823Z",
     "shell.execute_reply": "2024-12-08T18:31:04.657206Z"
    }
   },
   "outputs": [],
   "source": [
    "lum1 = dataset[0][\"lum\"]\n",
    "depth1 = dataset[0][\"depth\"]\n",
    "\n",
    "animation = SintelSample(lum1[None], depth1[None])\n",
    "animation.animate_in_notebook()"
   ]
  },
  {
   "cell_type": "markdown",
   "id": "995a27ac",
   "metadata": {},
   "source": [
    "# Augmenting the dataset step-by-step"
   ]
  },
  {
   "cell_type": "markdown",
   "id": "4b44b341",
   "metadata": {},
   "source": [
    "We apply rich augmentations to the dataset of naturalistic sequences because the dataset is otherwise relatively small. This might lead to overfitting to, e.g., predicting motion mostly into well-represented directons or of objects of specific contrasts etc. Using rich augmentations, we 'ask' the network to generalize better and invariantly compute motion regardless of direction, contrast, brightness, pixel noise, temporal appearance etc."
   ]
  },
  {
   "cell_type": "markdown",
   "id": "e1704218",
   "metadata": {},
   "source": [
    "## Vertical splits"
   ]
  },
  {
   "cell_type": "markdown",
   "id": "52a2f65f",
   "metadata": {},
   "source": [
    "First, we split each sequence into three sequences vertically to leverage a wider extent of the video than if we would only render the center. We precompute these renderings."
   ]
  },
  {
   "cell_type": "code",
   "execution_count": null,
   "id": "a42de189",
   "metadata": {
    "execution": {
     "iopub.execute_input": "2024-12-08T18:31:04.664769Z",
     "iopub.status.busy": "2024-12-08T18:31:04.664486Z",
     "iopub.status.idle": "2024-12-08T18:31:04.669868Z",
     "shell.execute_reply": "2024-12-08T18:31:04.668983Z"
    }
   },
   "outputs": [],
   "source": [
    "from flyvis.analysis.visualization.plots import quick_hex_scatter"
   ]
  },
  {
   "cell_type": "code",
   "execution_count": null,
   "id": "d8884486",
   "metadata": {
    "execution": {
     "iopub.execute_input": "2024-12-08T18:31:04.673337Z",
     "iopub.status.busy": "2024-12-08T18:31:04.673058Z",
     "iopub.status.idle": "2024-12-08T18:31:09.928617Z",
     "shell.execute_reply": "2024-12-08T18:31:09.926698Z"
    }
   },
   "outputs": [],
   "source": [
    "dataset = MultiTaskSintel(\n",
    "    tasks=[\"flow\"],\n",
    "    boxfilter=dict(extent=15, kernel_size=13),\n",
    "    vertical_splits=3,\n",
    "    dt=1 / 24,\n",
    "    augment=False,\n",
    ")"
   ]
  },
  {
   "cell_type": "markdown",
   "id": "4318ee23",
   "metadata": {},
   "source": [
    "Sintel has 23 movie sequences originally."
   ]
  },
  {
   "cell_type": "code",
   "execution_count": null,
   "id": "eedcac37",
   "metadata": {
    "execution": {
     "iopub.execute_input": "2024-12-08T18:31:09.935015Z",
     "iopub.status.busy": "2024-12-08T18:31:09.934611Z",
     "iopub.status.idle": "2024-12-08T18:31:09.944142Z",
     "shell.execute_reply": "2024-12-08T18:31:09.942886Z"
    }
   },
   "outputs": [],
   "source": [
    "len(np.unique(dataset.arg_df.original_index))"
   ]
  },
  {
   "cell_type": "markdown",
   "id": "3fc35f13",
   "metadata": {},
   "source": [
    "Each original sequence is 436 pixel in height times 1024 pixel in width in cartesian coordinates."
   ]
  },
  {
   "cell_type": "code",
   "execution_count": null,
   "id": "9d57a1d4",
   "metadata": {
    "execution": {
     "iopub.execute_input": "2024-12-08T18:31:09.948483Z",
     "iopub.status.busy": "2024-12-08T18:31:09.948134Z",
     "iopub.status.idle": "2024-12-08T18:31:11.325304Z",
     "shell.execute_reply": "2024-12-08T18:31:11.323880Z"
    }
   },
   "outputs": [],
   "source": [
    "sequence = dataset.cartesian_sequence(0, vertical_splits=1, center_crop_fraction=1.0)\n",
    "print(sequence.shape)"
   ]
  },
  {
   "cell_type": "markdown",
   "id": "841a6f86",
   "metadata": {},
   "source": [
    "With the vertical crops, we end up with 3 * 23 sequences. The `dataset.arg_df` tracks the sequence index, identity etc."
   ]
  },
  {
   "cell_type": "code",
   "execution_count": null,
   "id": "8daa4843",
   "metadata": {
    "execution": {
     "iopub.execute_input": "2024-12-08T18:31:11.331184Z",
     "iopub.status.busy": "2024-12-08T18:31:11.330821Z",
     "iopub.status.idle": "2024-12-08T18:31:11.346204Z",
     "shell.execute_reply": "2024-12-08T18:31:11.345016Z"
    }
   },
   "outputs": [],
   "source": [
    "dataset.arg_df"
   ]
  },
  {
   "cell_type": "code",
   "execution_count": null,
   "id": "0486dbdb",
   "metadata": {
    "execution": {
     "iopub.execute_input": "2024-12-08T18:31:11.350014Z",
     "iopub.status.busy": "2024-12-08T18:31:11.349797Z",
     "iopub.status.idle": "2024-12-08T18:31:11.761462Z",
     "shell.execute_reply": "2024-12-08T18:31:11.760076Z"
    }
   },
   "outputs": [],
   "source": [
    "_ = plt.imshow(sequence[0, 0], cmap=plt.cm.binary_r)"
   ]
  },
  {
   "cell_type": "code",
   "execution_count": null,
   "id": "911ee479",
   "metadata": {
    "execution": {
     "iopub.execute_input": "2024-12-08T18:31:11.773618Z",
     "iopub.status.busy": "2024-12-08T18:31:11.772648Z",
     "iopub.status.idle": "2024-12-08T18:31:14.897732Z",
     "shell.execute_reply": "2024-12-08T18:31:14.896376Z"
    }
   },
   "outputs": [],
   "source": [
    "fig, axes = plt.subplots(1, 3)\n",
    "_ = quick_hex_scatter(dataset[0]['lum'][0].flatten(), fig=fig, ax=axes[0], cbar=False)\n",
    "_ = quick_hex_scatter(dataset[1]['lum'][0].flatten(), fig=fig, ax=axes[1], cbar=False)\n",
    "_ = quick_hex_scatter(dataset[2]['lum'][0].flatten(), fig=fig, ax=axes[2], cbar=False)"
   ]
  },
  {
   "cell_type": "markdown",
   "id": "106bb40c",
   "metadata": {},
   "source": [
    "## Random temporal crops"
   ]
  },
  {
   "cell_type": "markdown",
   "id": "238c1f76",
   "metadata": {},
   "source": [
    "We train on 19 frames ~ 792ms movie. Most sequences have 49 frames. To use the whole temporal content, we stochastically sample start and end frame ~ ((1, 19), (2, 20), ..., (31, 49))."
   ]
  },
  {
   "cell_type": "code",
   "execution_count": null,
   "id": "0000cb99",
   "metadata": {
    "execution": {
     "iopub.execute_input": "2024-12-08T18:31:14.905314Z",
     "iopub.status.busy": "2024-12-08T18:31:14.905004Z",
     "iopub.status.idle": "2024-12-08T18:31:19.678271Z",
     "shell.execute_reply": "2024-12-08T18:31:19.676217Z"
    }
   },
   "outputs": [],
   "source": [
    "dataset = MultiTaskSintel(\n",
    "    tasks=[\"flow\"],\n",
    "    boxfilter=dict(extent=15, kernel_size=13),\n",
    "    vertical_splits=3,\n",
    "    n_frames=19,\n",
    "    dt=1 / 24,\n",
    "    augment=True,\n",
    "    random_temporal_crop=True,\n",
    "    all_frames=False,\n",
    "    resampling=False,\n",
    "    interpolate=False,\n",
    "    p_flip=0,\n",
    "    p_rot=0,\n",
    "    contrast_std=None,\n",
    "    brightness_std=None,\n",
    "    gaussian_white_noise=None,\n",
    ")"
   ]
  },
  {
   "cell_type": "code",
   "execution_count": null,
   "id": "ba4165bf",
   "metadata": {
    "execution": {
     "iopub.execute_input": "2024-12-08T18:31:19.684784Z",
     "iopub.status.busy": "2024-12-08T18:31:19.684374Z",
     "iopub.status.idle": "2024-12-08T18:31:19.692201Z",
     "shell.execute_reply": "2024-12-08T18:31:19.690786Z"
    }
   },
   "outputs": [],
   "source": [
    "# These two samples from the same original sequence should have stochastically different start and end frames.\n",
    "lum1 = dataset[0]['lum']\n",
    "lum2 = dataset[0]['lum']"
   ]
  },
  {
   "cell_type": "code",
   "execution_count": null,
   "id": "8a893d2c",
   "metadata": {
    "execution": {
     "iopub.execute_input": "2024-12-08T18:31:19.696986Z",
     "iopub.status.busy": "2024-12-08T18:31:19.696107Z",
     "iopub.status.idle": "2024-12-08T18:31:22.930434Z",
     "shell.execute_reply": "2024-12-08T18:31:22.926212Z"
    }
   },
   "outputs": [],
   "source": [
    "animation = SintelSample(lum1[None], lum2[None], title2=\"input\")\n",
    "animation.animate_in_notebook()"
   ]
  },
  {
   "cell_type": "markdown",
   "id": "12f1d233",
   "metadata": {},
   "source": [
    "## Flips and rotations"
   ]
  },
  {
   "cell_type": "markdown",
   "id": "b405c781",
   "metadata": {},
   "source": [
    "Next, we flip stochastically across 2 axes and or rotate a random number of times around the center. We implement this to be fast to do so at runtime."
   ]
  },
  {
   "cell_type": "code",
   "execution_count": null,
   "id": "24ac738d",
   "metadata": {
    "execution": {
     "iopub.execute_input": "2024-12-08T18:31:22.936881Z",
     "iopub.status.busy": "2024-12-08T18:31:22.936514Z",
     "iopub.status.idle": "2024-12-08T18:31:27.580266Z",
     "shell.execute_reply": "2024-12-08T18:31:27.578226Z"
    }
   },
   "outputs": [],
   "source": [
    "dataset = MultiTaskSintel(\n",
    "    tasks=[\"flow\"],\n",
    "    boxfilter=dict(extent=15, kernel_size=13),\n",
    "    vertical_splits=3,\n",
    "    n_frames=19,\n",
    "    dt=1 / 24,\n",
    "    augment=True,\n",
    "    random_temporal_crop=False,\n",
    "    all_frames=False,\n",
    "    resampling=False,\n",
    "    interpolate=False,\n",
    "    p_flip=1 / 2,\n",
    "    p_rot=5 / 6,\n",
    "    contrast_std=None,\n",
    "    brightness_std=None,\n",
    "    gaussian_white_noise=None,\n",
    ")"
   ]
  },
  {
   "cell_type": "code",
   "execution_count": null,
   "id": "02e6614d",
   "metadata": {
    "execution": {
     "iopub.execute_input": "2024-12-08T18:31:27.586602Z",
     "iopub.status.busy": "2024-12-08T18:31:27.586161Z",
     "iopub.status.idle": "2024-12-08T18:31:27.894769Z",
     "shell.execute_reply": "2024-12-08T18:31:27.893392Z"
    }
   },
   "outputs": [],
   "source": [
    "# These two samples from the same original sequence should have stochastically different orientation.\n",
    "lum1 = dataset[0]['lum']\n",
    "lum2 = dataset[0]['lum']"
   ]
  },
  {
   "cell_type": "code",
   "execution_count": null,
   "id": "0a4ed843",
   "metadata": {
    "execution": {
     "iopub.execute_input": "2024-12-08T18:31:27.898786Z",
     "iopub.status.busy": "2024-12-08T18:31:27.898515Z",
     "iopub.status.idle": "2024-12-08T18:31:31.408329Z",
     "shell.execute_reply": "2024-12-08T18:31:31.406761Z"
    }
   },
   "outputs": [],
   "source": [
    "animation = SintelSample(lum1[None], lum2[None], title2=\"input\")\n",
    "animation.animate_in_notebook()"
   ]
  },
  {
   "cell_type": "markdown",
   "id": "d9ef94f4",
   "metadata": {},
   "source": [
    "Flow vectors need to be flipped and rotated accordingly."
   ]
  },
  {
   "cell_type": "code",
   "execution_count": null,
   "id": "9bc7aee5",
   "metadata": {
    "execution": {
     "iopub.execute_input": "2024-12-08T18:31:31.413823Z",
     "iopub.status.busy": "2024-12-08T18:31:31.413504Z",
     "iopub.status.idle": "2024-12-08T18:31:31.421192Z",
     "shell.execute_reply": "2024-12-08T18:31:31.420141Z"
    }
   },
   "outputs": [],
   "source": [
    "# These two samples from the same original sequence should have stochastically different orientation.\n",
    "data = dataset[0]\n",
    "lum1 = data['lum']\n",
    "flow1 = data['flow']"
   ]
  },
  {
   "cell_type": "code",
   "execution_count": null,
   "id": "e9a4e23e",
   "metadata": {
    "execution": {
     "iopub.execute_input": "2024-12-08T18:31:31.424975Z",
     "iopub.status.busy": "2024-12-08T18:31:31.424246Z",
     "iopub.status.idle": "2024-12-08T18:31:35.302532Z",
     "shell.execute_reply": "2024-12-08T18:31:35.301531Z"
    }
   },
   "outputs": [],
   "source": [
    "animation = SintelSample(lum1[None], flow1[None])\n",
    "animation.animate_in_notebook()"
   ]
  },
  {
   "cell_type": "markdown",
   "id": "84e77a35",
   "metadata": {},
   "source": [
    "## Further augmentations"
   ]
  },
  {
   "cell_type": "markdown",
   "id": "a69b689d",
   "metadata": {},
   "source": [
    "Besides that, we also augment the input with random contrasts and brightnesses and random gaussian pixel noise, while the motion stays the same. This pretends that the same motion takes place under different illumination conditions and signal to noise ratios.  "
   ]
  },
  {
   "cell_type": "code",
   "execution_count": null,
   "id": "a16bdaed",
   "metadata": {
    "execution": {
     "iopub.execute_input": "2024-12-08T18:31:35.308480Z",
     "iopub.status.busy": "2024-12-08T18:31:35.308145Z",
     "iopub.status.idle": "2024-12-08T18:31:39.855383Z",
     "shell.execute_reply": "2024-12-08T18:31:39.853901Z"
    }
   },
   "outputs": [],
   "source": [
    "dataset = MultiTaskSintel(\n",
    "    tasks=[\"flow\"],\n",
    "    boxfilter=dict(extent=15, kernel_size=13),\n",
    "    vertical_splits=3,\n",
    "    n_frames=19,\n",
    "    dt=1 / 24,\n",
    "    augment=True,\n",
    "    random_temporal_crop=False,\n",
    "    all_frames=False,\n",
    "    resampling=False,\n",
    "    interpolate=False,\n",
    "    p_flip=0,\n",
    "    p_rot=0,\n",
    "    contrast_std=0.2,\n",
    "    brightness_std=0.1,\n",
    "    gaussian_white_noise=0.08,\n",
    ")"
   ]
  },
  {
   "cell_type": "code",
   "execution_count": null,
   "id": "75fe64cc",
   "metadata": {
    "execution": {
     "iopub.execute_input": "2024-12-08T18:31:39.861096Z",
     "iopub.status.busy": "2024-12-08T18:31:39.860725Z",
     "iopub.status.idle": "2024-12-08T18:31:39.869041Z",
     "shell.execute_reply": "2024-12-08T18:31:39.867833Z"
    }
   },
   "outputs": [],
   "source": [
    "# These two samples from the same original sequence have\n",
    "# stochastically different contrast, brightness and pixel-wise noise.\n",
    "lum1 = dataset[0]['lum']\n",
    "lum2 = dataset[0]['lum']"
   ]
  },
  {
   "cell_type": "code",
   "execution_count": null,
   "id": "6e7d6a22",
   "metadata": {
    "execution": {
     "iopub.execute_input": "2024-12-08T18:31:39.873203Z",
     "iopub.status.busy": "2024-12-08T18:31:39.872844Z",
     "iopub.status.idle": "2024-12-08T18:31:42.901268Z",
     "shell.execute_reply": "2024-12-08T18:31:42.900213Z"
    }
   },
   "outputs": [],
   "source": [
    "animation = SintelSample(lum1[None], lum2[None], title2=\"input\")\n",
    "animation.animate_in_notebook()"
   ]
  },
  {
   "cell_type": "markdown",
   "id": "77927238",
   "metadata": {},
   "source": [
    "# Framerate of the dataset and integration time step"
   ]
  },
  {
   "cell_type": "markdown",
   "id": "9ed4cc42",
   "metadata": {},
   "source": [
    "The Sintel dataset is originally rendered at 24 frames per second, i.e., one frame every 42ms. The fruit fly neurons are able to respond to temporal differences as fast as 5-20ms. Therefore, we resample every frame multiple times to pretend that the movie was originally sampled at such a faster framerate. For the motion fields, we interpolate flow vectors in time instead of resampling them, which hopefully gives a better learning signal to the network. We have to trade-off speed of the numerical integration and memory consumption during optimization with the simulation accuracy by choosing time steps between 5-20ms. We chose to train networks at the upper bount of 20ms and evaluate them more accurately at 5-10ms."
   ]
  },
  {
   "cell_type": "code",
   "execution_count": null,
   "id": "2af2ee0e",
   "metadata": {
    "execution": {
     "iopub.execute_input": "2024-12-08T18:31:42.907794Z",
     "iopub.status.busy": "2024-12-08T18:31:42.907413Z",
     "iopub.status.idle": "2024-12-08T18:31:47.440470Z",
     "shell.execute_reply": "2024-12-08T18:31:47.438866Z"
    }
   },
   "outputs": [],
   "source": [
    "dataset = MultiTaskSintel(\n",
    "    tasks=[\"flow\"],\n",
    "    boxfilter=dict(extent=15, kernel_size=13),\n",
    "    vertical_splits=3,\n",
    "    n_frames=19,\n",
    "    dt=1 / 50,\n",
    "    augment=False,\n",
    "    resampling=True,\n",
    "    interpolate=True,\n",
    ")"
   ]
  },
  {
   "cell_type": "code",
   "execution_count": null,
   "id": "92929640",
   "metadata": {
    "execution": {
     "iopub.execute_input": "2024-12-08T18:31:47.445883Z",
     "iopub.status.busy": "2024-12-08T18:31:47.445502Z",
     "iopub.status.idle": "2024-12-08T18:31:47.452331Z",
     "shell.execute_reply": "2024-12-08T18:31:47.451362Z"
    }
   },
   "outputs": [],
   "source": [
    "# Now, every input frame appears twice and target frames are interpolated.\n",
    "data = dataset[0]\n",
    "lum1 = data['lum']\n",
    "flow1 = data['flow']"
   ]
  },
  {
   "cell_type": "code",
   "execution_count": null,
   "id": "8000f722",
   "metadata": {
    "execution": {
     "iopub.execute_input": "2024-12-08T18:31:47.456872Z",
     "iopub.status.busy": "2024-12-08T18:31:47.456517Z",
     "iopub.status.idle": "2024-12-08T18:31:51.493354Z",
     "shell.execute_reply": "2024-12-08T18:31:51.491985Z"
    }
   },
   "outputs": [],
   "source": [
    "animation = SintelSample(lum1[None], flow1[None])\n",
    "animation.animate_in_notebook()"
   ]
  },
  {
   "cell_type": "markdown",
   "id": "f5debf32",
   "metadata": {},
   "source": [
    "# Computing responses to the Sintel data"
   ]
  },
  {
   "cell_type": "markdown",
   "id": "a655e25d",
   "metadata": {},
   "source": [
    "Before we get to training a network, we look at a few responses to these type of sequences of individual neurons."
   ]
  },
  {
   "cell_type": "code",
   "execution_count": null,
   "id": "024619be",
   "metadata": {
    "execution": {
     "iopub.execute_input": "2024-12-08T18:31:51.499213Z",
     "iopub.status.busy": "2024-12-08T18:31:51.498850Z",
     "iopub.status.idle": "2024-12-08T18:31:51.504817Z",
     "shell.execute_reply": "2024-12-08T18:31:51.503728Z"
    }
   },
   "outputs": [],
   "source": [
    "from flyvis.network import NetworkView, Network\n",
    "from flyvis.utils.activity_utils import LayerActivity\n",
    "\n",
    "from flyvis.datasets.sintel import MultiTaskSintel"
   ]
  },
  {
   "cell_type": "code",
   "execution_count": null,
   "id": "4534a132",
   "metadata": {
    "execution": {
     "iopub.execute_input": "2024-12-08T18:31:51.508799Z",
     "iopub.status.busy": "2024-12-08T18:31:51.508553Z",
     "iopub.status.idle": "2024-12-08T18:31:59.764046Z",
     "shell.execute_reply": "2024-12-08T18:31:59.762584Z"
    }
   },
   "outputs": [],
   "source": [
    "# new network instance\n",
    "network = Network()\n",
    "\n",
    "# Alternative: uncomment to use a pretrained network\n",
    "# network_view = NetworkView(results_dir / \"flow/0000/000\")\n",
    "# network = network_view.init_network(network)"
   ]
  },
  {
   "cell_type": "code",
   "execution_count": null,
   "id": "3fb2fc4c",
   "metadata": {
    "execution": {
     "iopub.execute_input": "2024-12-08T18:31:59.769839Z",
     "iopub.status.busy": "2024-12-08T18:31:59.769451Z",
     "iopub.status.idle": "2024-12-08T18:32:04.779131Z",
     "shell.execute_reply": "2024-12-08T18:32:04.777754Z"
    }
   },
   "outputs": [],
   "source": [
    "layer_activity = LayerActivity(None, network.connectome, keepref=True)"
   ]
  },
  {
   "cell_type": "code",
   "execution_count": null,
   "id": "5b9aec21",
   "metadata": {
    "execution": {
     "iopub.execute_input": "2024-12-08T18:32:04.784651Z",
     "iopub.status.busy": "2024-12-08T18:32:04.784252Z",
     "iopub.status.idle": "2024-12-08T18:32:07.273627Z",
     "shell.execute_reply": "2024-12-08T18:32:07.272271Z"
    }
   },
   "outputs": [],
   "source": [
    "dataset = MultiTaskSintel(\n",
    "    tasks=[\"flow\"],\n",
    "    boxfilter=dict(extent=15, kernel_size=13),\n",
    "    vertical_splits=1,\n",
    "    n_frames=19,\n",
    "    dt=1 / 50,\n",
    "    augment=False,\n",
    "    resampling=True,\n",
    "    interpolate=True,\n",
    ")"
   ]
  },
  {
   "cell_type": "code",
   "execution_count": null,
   "id": "6aac8a6d",
   "metadata": {
    "execution": {
     "iopub.execute_input": "2024-12-08T18:32:07.278929Z",
     "iopub.status.busy": "2024-12-08T18:32:07.278583Z",
     "iopub.status.idle": "2024-12-08T18:32:07.373732Z",
     "shell.execute_reply": "2024-12-08T18:32:07.372642Z"
    }
   },
   "outputs": [],
   "source": [
    "stationary_state = network.fade_in_state(1.0, dataset.dt, dataset[0][\"lum\"][[0]])\n",
    "responses = network.simulate(\n",
    "    dataset[0][\"lum\"][None], dataset.dt, initial_state=stationary_state\n",
    ").cpu()"
   ]
  },
  {
   "cell_type": "code",
   "execution_count": null,
   "id": "b27b8bfc",
   "metadata": {
    "execution": {
     "iopub.execute_input": "2024-12-08T18:32:07.378964Z",
     "iopub.status.busy": "2024-12-08T18:32:07.378495Z",
     "iopub.status.idle": "2024-12-08T18:32:07.649030Z",
     "shell.execute_reply": "2024-12-08T18:32:07.648299Z"
    }
   },
   "outputs": [],
   "source": [
    "plt.figure(figsize=[3, 2])\n",
    "layer_activity.update(responses)\n",
    "r = layer_activity.central.T4c.squeeze().numpy()\n",
    "time = np.arange(0, r.shape[0], 1) * dataset.dt\n",
    "plt.plot(time, r)\n",
    "plt.xlabel(\"time in s\")\n",
    "plt.ylabel(\"voltage (a.u.)\")\n",
    "plt.title(\"response of central T4c cell\")"
   ]
  },
  {
   "cell_type": "markdown",
   "id": "f699420f",
   "metadata": {},
   "source": [
    "# Decoding the task from neural activity\n",
    "\n",
    "We need to predict the pixel-accurate flow field that Sintel gives us. For that we decode the voltages of a bunch of cell types. The decoder and the network are trained end-to-end. Here an example of a forward pass through the whole pipeline in code."
   ]
  },
  {
   "cell_type": "code",
   "execution_count": null,
   "id": "d868500d",
   "metadata": {
    "execution": {
     "iopub.execute_input": "2024-12-08T18:32:07.654718Z",
     "iopub.status.busy": "2024-12-08T18:32:07.654413Z",
     "iopub.status.idle": "2024-12-08T18:32:07.658596Z",
     "shell.execute_reply": "2024-12-08T18:32:07.657876Z"
    }
   },
   "outputs": [],
   "source": [
    "from flyvis.datasets.sintel import MultiTaskSintel\n",
    "from flyvis.task.decoder import DecoderGAVP"
   ]
  },
  {
   "cell_type": "code",
   "execution_count": null,
   "id": "de66490a",
   "metadata": {
    "execution": {
     "iopub.execute_input": "2024-12-08T18:32:07.662278Z",
     "iopub.status.busy": "2024-12-08T18:32:07.662000Z",
     "iopub.status.idle": "2024-12-08T18:32:15.763444Z",
     "shell.execute_reply": "2024-12-08T18:32:15.762013Z"
    }
   },
   "outputs": [],
   "source": [
    "network = Network()"
   ]
  },
  {
   "cell_type": "code",
   "execution_count": null,
   "id": "9c71b6e0",
   "metadata": {
    "execution": {
     "iopub.execute_input": "2024-12-08T18:32:15.768216Z",
     "iopub.status.busy": "2024-12-08T18:32:15.767845Z",
     "iopub.status.idle": "2024-12-08T18:32:20.679282Z",
     "shell.execute_reply": "2024-12-08T18:32:20.677690Z"
    }
   },
   "outputs": [],
   "source": [
    "decoder = DecoderGAVP(network.connectome, shape=[8, 2], kernel_size=5)"
   ]
  },
  {
   "cell_type": "code",
   "execution_count": null,
   "id": "d393c9e5",
   "metadata": {
    "execution": {
     "iopub.execute_input": "2024-12-08T18:32:20.685119Z",
     "iopub.status.busy": "2024-12-08T18:32:20.684710Z",
     "iopub.status.idle": "2024-12-08T18:32:23.132871Z",
     "shell.execute_reply": "2024-12-08T18:32:23.131125Z"
    }
   },
   "outputs": [],
   "source": [
    "dataset = MultiTaskSintel(\n",
    "    tasks=[\"flow\"],\n",
    "    boxfilter=dict(extent=15, kernel_size=13),\n",
    "    vertical_splits=1,\n",
    "    all_frames=True,\n",
    "    dt=1 / 50,\n",
    "    augment=False,\n",
    "    resampling=True,\n",
    "    interpolate=True,\n",
    ")"
   ]
  },
  {
   "cell_type": "code",
   "execution_count": null,
   "id": "5c73d978",
   "metadata": {
    "execution": {
     "iopub.execute_input": "2024-12-08T18:32:23.138653Z",
     "iopub.status.busy": "2024-12-08T18:32:23.138236Z",
     "iopub.status.idle": "2024-12-08T18:32:23.300708Z",
     "shell.execute_reply": "2024-12-08T18:32:23.299689Z"
    }
   },
   "outputs": [],
   "source": [
    "data = dataset[0]\n",
    "lum = data[\"lum\"]\n",
    "flow = data[\"flow\"]\n",
    "\n",
    "stationary_state = network.fade_in_state(1.0, dataset.dt, lum[[0]])\n",
    "responses = network.simulate(lum[None], dataset.dt, initial_state=stationary_state)"
   ]
  },
  {
   "cell_type": "code",
   "execution_count": null,
   "id": "87c0a1fb",
   "metadata": {
    "execution": {
     "iopub.execute_input": "2024-12-08T18:32:23.304651Z",
     "iopub.status.busy": "2024-12-08T18:32:23.304353Z",
     "iopub.status.idle": "2024-12-08T18:32:23.640391Z",
     "shell.execute_reply": "2024-12-08T18:32:23.639416Z"
    }
   },
   "outputs": [],
   "source": [
    "y_pred = decoder(responses)"
   ]
  },
  {
   "cell_type": "markdown",
   "id": "b5726786",
   "metadata": {},
   "source": [
    "We predict motion with an untrained decoder from an untrained network with randomly initialized parameters. \n",
    "We do not expect this to work."
   ]
  },
  {
   "cell_type": "code",
   "execution_count": null,
   "id": "216f82e1",
   "metadata": {
    "execution": {
     "iopub.execute_input": "2024-12-08T18:32:23.645638Z",
     "iopub.status.busy": "2024-12-08T18:32:23.645300Z",
     "iopub.status.idle": "2024-12-08T18:32:29.204506Z",
     "shell.execute_reply": "2024-12-08T18:32:29.203702Z"
    }
   },
   "outputs": [],
   "source": [
    "animation = SintelSample(lum[None], flow[None], prediction=y_pred.detach().cpu())\n",
    "animation.animate_in_notebook(frames=np.arange(lum.shape[0])[::10])"
   ]
  },
  {
   "cell_type": "code",
   "execution_count": null,
   "id": "71b391a2",
   "metadata": {
    "execution": {
     "iopub.execute_input": "2024-12-08T18:32:29.214217Z",
     "iopub.status.busy": "2024-12-08T18:32:29.213963Z",
     "iopub.status.idle": "2024-12-08T18:32:29.225170Z",
     "shell.execute_reply": "2024-12-08T18:32:29.224509Z"
    }
   },
   "outputs": [],
   "source": [
    "((y_pred - flow) ** 2).sqrt().mean()"
   ]
  },
  {
   "cell_type": "markdown",
   "id": "28d1705f",
   "metadata": {},
   "source": [
    "# Training network and decoder on a single batch\n",
    "\n",
    "We now train the network on a single batch to validate that the pipeline works. We do not expect these networks to generalize their function."
   ]
  },
  {
   "cell_type": "code",
   "execution_count": null,
   "id": "f8766757",
   "metadata": {
    "execution": {
     "iopub.execute_input": "2024-12-08T18:32:29.228947Z",
     "iopub.status.busy": "2024-12-08T18:32:29.228738Z",
     "iopub.status.idle": "2024-12-08T18:32:29.233125Z",
     "shell.execute_reply": "2024-12-08T18:32:29.232345Z"
    }
   },
   "outputs": [],
   "source": [
    "from tqdm.notebook import tqdm\n",
    "from torch.optim import Adam\n",
    "from torch.utils.data import DataLoader\n",
    "\n",
    "from flyvis.network import Network\n",
    "from flyvis.task.decoder import DecoderGAVP\n",
    "\n",
    "from flyvis.datasets.sintel import MultiTaskSintel\n",
    "from flyvis.task.objectives import l2norm, epe"
   ]
  },
  {
   "cell_type": "code",
   "execution_count": null,
   "id": "8c3e7fc0",
   "metadata": {
    "execution": {
     "iopub.execute_input": "2024-12-08T18:32:29.236495Z",
     "iopub.status.busy": "2024-12-08T18:32:29.236205Z",
     "iopub.status.idle": "2024-12-08T18:32:37.471774Z",
     "shell.execute_reply": "2024-12-08T18:32:37.470368Z"
    }
   },
   "outputs": [],
   "source": [
    "network = Network()"
   ]
  },
  {
   "cell_type": "code",
   "execution_count": null,
   "id": "a8675bf0",
   "metadata": {
    "execution": {
     "iopub.execute_input": "2024-12-08T18:32:37.477388Z",
     "iopub.status.busy": "2024-12-08T18:32:37.476984Z",
     "iopub.status.idle": "2024-12-08T18:32:42.365418Z",
     "shell.execute_reply": "2024-12-08T18:32:42.364051Z"
    }
   },
   "outputs": [],
   "source": [
    "decoder = DecoderGAVP(network.connectome, shape=[8, 2], kernel_size=5)"
   ]
  },
  {
   "cell_type": "code",
   "execution_count": null,
   "id": "8a212c86",
   "metadata": {
    "execution": {
     "iopub.execute_input": "2024-12-08T18:32:42.371299Z",
     "iopub.status.busy": "2024-12-08T18:32:42.370897Z",
     "iopub.status.idle": "2024-12-08T18:32:44.653713Z",
     "shell.execute_reply": "2024-12-08T18:32:44.652421Z"
    }
   },
   "outputs": [],
   "source": [
    "dataset = MultiTaskSintel(\n",
    "    tasks=[\"flow\"],\n",
    "    boxfilter=dict(extent=15, kernel_size=13),\n",
    "    vertical_splits=1,\n",
    "    n_frames=19,\n",
    "    dt=1 / 50,\n",
    "    augment=False,\n",
    "    resampling=True,\n",
    "    interpolate=True,\n",
    ")"
   ]
  },
  {
   "cell_type": "code",
   "execution_count": null,
   "id": "5ceb74cc",
   "metadata": {
    "execution": {
     "iopub.execute_input": "2024-12-08T18:32:44.659049Z",
     "iopub.status.busy": "2024-12-08T18:32:44.658591Z",
     "iopub.status.idle": "2024-12-08T18:32:44.664377Z",
     "shell.execute_reply": "2024-12-08T18:32:44.663332Z"
    }
   },
   "outputs": [],
   "source": [
    "t_pre = 0.5\n",
    "dt = 1 / 50\n",
    "batch_size = 4\n",
    "train_loader = DataLoader(dataset, batch_size=batch_size)"
   ]
  },
  {
   "cell_type": "code",
   "execution_count": null,
   "id": "144fd138",
   "metadata": {
    "execution": {
     "iopub.execute_input": "2024-12-08T18:32:44.668426Z",
     "iopub.status.busy": "2024-12-08T18:32:44.668088Z",
     "iopub.status.idle": "2024-12-08T18:32:44.673343Z",
     "shell.execute_reply": "2024-12-08T18:32:44.672423Z"
    }
   },
   "outputs": [],
   "source": [
    "optimizer = Adam((*network.parameters(), *decoder.parameters()), lr=1e-5)"
   ]
  },
  {
   "cell_type": "code",
   "execution_count": null,
   "id": "3245aa56",
   "metadata": {
    "execution": {
     "iopub.execute_input": "2024-12-08T18:32:44.677205Z",
     "iopub.status.busy": "2024-12-08T18:32:44.676884Z",
     "iopub.status.idle": "2024-12-08T18:32:44.686135Z",
     "shell.execute_reply": "2024-12-08T18:32:44.684922Z"
    }
   },
   "outputs": [],
   "source": [
    "batch = next(iter(train_loader))"
   ]
  },
  {
   "cell_type": "code",
   "execution_count": null,
   "id": "a520a12a",
   "metadata": {
    "execution": {
     "iopub.execute_input": "2024-12-08T18:32:44.690006Z",
     "iopub.status.busy": "2024-12-08T18:32:44.689701Z",
     "iopub.status.idle": "2024-12-08T18:32:44.694114Z",
     "shell.execute_reply": "2024-12-08T18:32:44.693211Z"
    }
   },
   "outputs": [],
   "source": [
    "loss_fn = epe"
   ]
  },
  {
   "cell_type": "code",
   "execution_count": null,
   "id": "22bdec9f",
   "metadata": {
    "execution": {
     "iopub.execute_input": "2024-12-08T18:32:44.698125Z",
     "iopub.status.busy": "2024-12-08T18:32:44.697723Z",
     "iopub.status.idle": "2024-12-08T18:34:41.280250Z",
     "shell.execute_reply": "2024-12-08T18:34:41.279270Z"
    }
   },
   "outputs": [],
   "source": [
    "epochs = 1000\n",
    "\n",
    "errors = []\n",
    "\n",
    "initial_state = network.steady_state(t_pre, dt, batch_size)\n",
    "\n",
    "for e in tqdm(range(epochs)):\n",
    "    lum = batch[\"lum\"]\n",
    "    flow = batch[\"flow\"]\n",
    "\n",
    "    optimizer.zero_grad()\n",
    "    network.stimulus.zero()\n",
    "    network.stimulus.add_input(lum)\n",
    "\n",
    "    activity = network(network.stimulus(), dt=1 / 50, state=initial_state)\n",
    "    y_pred = decoder(activity)\n",
    "\n",
    "    batch_error = loss_fn(y_pred, flow)\n",
    "    errors.append(batch_error.cpu().item())\n",
    "    batch_error.backward()\n",
    "    optimizer.step()\n",
    "\n",
    "    if e % 10 == 0:\n",
    "        print(f\"Epoch {e}: {batch_error.item()}\")"
   ]
  },
  {
   "cell_type": "code",
   "execution_count": null,
   "id": "e88cbc47",
   "metadata": {
    "execution": {
     "iopub.execute_input": "2024-12-08T18:34:41.287850Z",
     "iopub.status.busy": "2024-12-08T18:34:41.287610Z",
     "iopub.status.idle": "2024-12-08T18:34:41.540225Z",
     "shell.execute_reply": "2024-12-08T18:34:41.539430Z"
    }
   },
   "outputs": [],
   "source": [
    "plt.plot(errors)"
   ]
  },
  {
   "cell_type": "markdown",
   "id": "bf98c235",
   "metadata": {},
   "source": [
    "We expect that the prediction from this overfitted network on the sample it was trained on is ok."
   ]
  },
  {
   "cell_type": "code",
   "execution_count": null,
   "id": "e5d8f9f7",
   "metadata": {
    "execution": {
     "iopub.execute_input": "2024-12-08T18:34:41.546454Z",
     "iopub.status.busy": "2024-12-08T18:34:41.546231Z",
     "iopub.status.idle": "2024-12-08T18:34:41.603653Z",
     "shell.execute_reply": "2024-12-08T18:34:41.602998Z"
    }
   },
   "outputs": [],
   "source": [
    "data = dataset[0]\n",
    "lum = data[\"lum\"]\n",
    "flow = data[\"flow\"]\n",
    "\n",
    "stationary_state = network.fade_in_state(1.0, dataset.dt, lum[[0]])\n",
    "responses = network.simulate(lum[None], dataset.dt, initial_state=stationary_state)"
   ]
  },
  {
   "cell_type": "code",
   "execution_count": null,
   "id": "adcef7a3",
   "metadata": {
    "execution": {
     "iopub.execute_input": "2024-12-08T18:34:41.607499Z",
     "iopub.status.busy": "2024-12-08T18:34:41.607135Z",
     "iopub.status.idle": "2024-12-08T18:34:41.615391Z",
     "shell.execute_reply": "2024-12-08T18:34:41.614646Z"
    }
   },
   "outputs": [],
   "source": [
    "y_pred = decoder(responses)"
   ]
  },
  {
   "cell_type": "code",
   "execution_count": null,
   "id": "520ba8fc",
   "metadata": {
    "execution": {
     "iopub.execute_input": "2024-12-08T18:34:41.618984Z",
     "iopub.status.busy": "2024-12-08T18:34:41.618769Z",
     "iopub.status.idle": "2024-12-08T18:34:47.783171Z",
     "shell.execute_reply": "2024-12-08T18:34:47.782211Z"
    }
   },
   "outputs": [],
   "source": [
    "animation = SintelSample(lum[None], flow[None], prediction=y_pred.detach().cpu())\n",
    "animation.animate_in_notebook()"
   ]
  },
  {
   "cell_type": "code",
   "execution_count": null,
   "id": "7ba2d902",
   "metadata": {
    "execution": {
     "iopub.execute_input": "2024-12-08T18:34:47.792183Z",
     "iopub.status.busy": "2024-12-08T18:34:47.791878Z",
     "iopub.status.idle": "2024-12-08T18:34:47.800362Z",
     "shell.execute_reply": "2024-12-08T18:34:47.799262Z"
    }
   },
   "outputs": [],
   "source": [
    "((y_pred - flow) ** 2).sqrt().mean()"
   ]
  },
  {
   "cell_type": "markdown",
   "id": "4edfcbca",
   "metadata": {},
   "source": [
    "# Evaluating trained networks"
   ]
  },
  {
   "cell_type": "code",
   "execution_count": null,
   "id": "fd210d4b",
   "metadata": {
    "execution": {
     "iopub.execute_input": "2024-12-08T18:34:47.803909Z",
     "iopub.status.busy": "2024-12-08T18:34:47.803648Z",
     "iopub.status.idle": "2024-12-08T18:34:47.808235Z",
     "shell.execute_reply": "2024-12-08T18:34:47.807495Z"
    }
   },
   "outputs": [],
   "source": [
    "from flyvis import results_dir\n",
    "from flyvis.network import NetworkView\n",
    "from flyvis.utils.activity_utils import LayerActivity\n",
    "\n",
    "from flyvis.datasets.sintel import MultiTaskSintel\n",
    "from flyvis.task.decoder import DecoderGAVP"
   ]
  },
  {
   "cell_type": "code",
   "execution_count": null,
   "id": "082074d2",
   "metadata": {
    "execution": {
     "iopub.execute_input": "2024-12-08T18:34:47.811699Z",
     "iopub.status.busy": "2024-12-08T18:34:47.811404Z",
     "iopub.status.idle": "2024-12-08T18:34:48.045551Z",
     "shell.execute_reply": "2024-12-08T18:34:48.044198Z"
    }
   },
   "outputs": [],
   "source": [
    "# we load the best task-performing model from the presorted ensemble\n",
    "network_view = NetworkView(results_dir / \"flow/0000/000\")"
   ]
  },
  {
   "cell_type": "code",
   "execution_count": null,
   "id": "f6ff7f99",
   "metadata": {
    "execution": {
     "iopub.execute_input": "2024-12-08T18:34:48.050996Z",
     "iopub.status.busy": "2024-12-08T18:34:48.050499Z",
     "iopub.status.idle": "2024-12-08T18:34:56.384741Z",
     "shell.execute_reply": "2024-12-08T18:34:56.383600Z"
    }
   },
   "outputs": [],
   "source": [
    "network = network_view.init_network()"
   ]
  },
  {
   "cell_type": "code",
   "execution_count": null,
   "id": "6b592156",
   "metadata": {
    "execution": {
     "iopub.execute_input": "2024-12-08T18:34:56.390393Z",
     "iopub.status.busy": "2024-12-08T18:34:56.390014Z",
     "iopub.status.idle": "2024-12-08T18:34:56.436999Z",
     "shell.execute_reply": "2024-12-08T18:34:56.436096Z"
    }
   },
   "outputs": [],
   "source": [
    "network_view.dir.config.task.decoder"
   ]
  },
  {
   "cell_type": "code",
   "execution_count": null,
   "id": "9525f3c8",
   "metadata": {
    "execution": {
     "iopub.execute_input": "2024-12-08T18:34:56.441070Z",
     "iopub.status.busy": "2024-12-08T18:34:56.440743Z",
     "iopub.status.idle": "2024-12-08T18:35:01.543550Z",
     "shell.execute_reply": "2024-12-08T18:35:01.542250Z"
    }
   },
   "outputs": [],
   "source": [
    "decoder = network_view.init_decoder()[\"flow\"]"
   ]
  },
  {
   "cell_type": "code",
   "execution_count": null,
   "id": "8138939a",
   "metadata": {
    "execution": {
     "iopub.execute_input": "2024-12-08T18:35:01.548471Z",
     "iopub.status.busy": "2024-12-08T18:35:01.547938Z",
     "iopub.status.idle": "2024-12-08T18:35:03.899626Z",
     "shell.execute_reply": "2024-12-08T18:35:03.898234Z"
    }
   },
   "outputs": [],
   "source": [
    "dataset = MultiTaskSintel(\n",
    "    tasks=[\"flow\"],\n",
    "    boxfilter=dict(extent=15, kernel_size=13),\n",
    "    vertical_splits=1,\n",
    "    all_frames=False,\n",
    "    n_frames=19,\n",
    "    dt=1 / 50,\n",
    "    augment=False,\n",
    "    resampling=True,\n",
    "    interpolate=True,\n",
    ")"
   ]
  },
  {
   "cell_type": "code",
   "execution_count": null,
   "id": "87a6a5b2",
   "metadata": {
    "execution": {
     "iopub.execute_input": "2024-12-08T18:35:03.905089Z",
     "iopub.status.busy": "2024-12-08T18:35:03.904708Z",
     "iopub.status.idle": "2024-12-08T18:35:04.029426Z",
     "shell.execute_reply": "2024-12-08T18:35:04.028459Z"
    }
   },
   "outputs": [],
   "source": [
    "data = [dataset[i] for i in range(4)]\n",
    "lum = torch.stack([d[\"lum\"] for d in data])\n",
    "flow = torch.stack([d[\"flow\"] for d in data])\n",
    "\n",
    "stationary_state = network.fade_in_state(1.0, dataset.dt, lum[:, 0])\n",
    "responses = network.simulate(lum, dataset.dt, initial_state=stationary_state)"
   ]
  },
  {
   "cell_type": "code",
   "execution_count": null,
   "id": "812adba6",
   "metadata": {
    "execution": {
     "iopub.execute_input": "2024-12-08T18:35:04.034427Z",
     "iopub.status.busy": "2024-12-08T18:35:04.034138Z",
     "iopub.status.idle": "2024-12-08T18:35:04.041758Z",
     "shell.execute_reply": "2024-12-08T18:35:04.040809Z"
    }
   },
   "outputs": [],
   "source": [
    "y_pred = decoder(responses)"
   ]
  },
  {
   "cell_type": "markdown",
   "id": "d5bd429e",
   "metadata": {},
   "source": [
    "We expect this network to generalize across sequences. This network sees motion into all directions."
   ]
  },
  {
   "cell_type": "code",
   "execution_count": null,
   "id": "29c12429",
   "metadata": {
    "execution": {
     "iopub.execute_input": "2024-12-08T18:35:04.045860Z",
     "iopub.status.busy": "2024-12-08T18:35:04.045569Z",
     "iopub.status.idle": "2024-12-08T18:35:09.354394Z",
     "shell.execute_reply": "2024-12-08T18:35:09.353617Z"
    }
   },
   "outputs": [],
   "source": [
    "animation = SintelSample(lum, flow, prediction=y_pred.detach().cpu())\n",
    "animation.animate_in_notebook()"
   ]
  },
  {
   "cell_type": "markdown",
   "id": "05857459",
   "metadata": {},
   "source": [
    "We expect the accuracy is not as good as the overfitted example because this network generalized across the whole-dataset."
   ]
  },
  {
   "cell_type": "code",
   "execution_count": null,
   "id": "142e0883",
   "metadata": {
    "execution": {
     "iopub.execute_input": "2024-12-08T18:35:09.364033Z",
     "iopub.status.busy": "2024-12-08T18:35:09.363756Z",
     "iopub.status.idle": "2024-12-08T18:35:09.371662Z",
     "shell.execute_reply": "2024-12-08T18:35:09.370781Z"
    }
   },
   "outputs": [],
   "source": [
    "((y_pred - flow) ** 2).sqrt().mean()"
   ]
  },
  {
   "cell_type": "markdown",
   "id": "7ea2b60e",
   "metadata": {},
   "source": [
    "# Evaluating ensembles"
   ]
  },
  {
   "cell_type": "markdown",
   "id": "2e019540",
   "metadata": {},
   "source": [
    "Last, we evaluated the task error of the 50 trained networks on a held out set of sequences. We evaluated the task error across all checkpoints during training and show the minimal one in the histrogram below. This checkpoint we analyse with respect to it's tuning predictions as shown in the next notebooks."
   ]
  },
  {
   "cell_type": "code",
   "execution_count": null,
   "id": "8570153a",
   "metadata": {
    "execution": {
     "iopub.execute_input": "2024-12-08T18:35:09.375382Z",
     "iopub.status.busy": "2024-12-08T18:35:09.375008Z",
     "iopub.status.idle": "2024-12-08T18:35:09.378727Z",
     "shell.execute_reply": "2024-12-08T18:35:09.378020Z"
    }
   },
   "outputs": [],
   "source": [
    "from flyvis import EnsembleView"
   ]
  },
  {
   "cell_type": "code",
   "execution_count": null,
   "id": "ba97ad1c",
   "metadata": {
    "execution": {
     "iopub.execute_input": "2024-12-08T18:35:09.382204Z",
     "iopub.status.busy": "2024-12-08T18:35:09.381870Z",
     "iopub.status.idle": "2024-12-08T18:35:21.309222Z",
     "shell.execute_reply": "2024-12-08T18:35:21.308019Z"
    }
   },
   "outputs": [],
   "source": [
    "ensemble = EnsembleView(\"flow/0000\")"
   ]
  },
  {
   "cell_type": "code",
   "execution_count": null,
   "id": "6a9e4cc8",
   "metadata": {
    "execution": {
     "iopub.execute_input": "2024-12-08T18:35:21.317291Z",
     "iopub.status.busy": "2024-12-08T18:35:21.316851Z",
     "iopub.status.idle": "2024-12-08T18:35:23.186747Z",
     "shell.execute_reply": "2024-12-08T18:35:23.185783Z"
    }
   },
   "outputs": [],
   "source": [
    "ensemble.task_error_histogram()"
   ]
  }
 ],
 "metadata": {
  "kernelspec": {
   "display_name": "Python 3 (ipykernel)",
   "language": "python",
   "name": "python3"
  },
  "language_info": {
   "codemirror_mode": {
    "name": "ipython",
    "version": 3
   },
   "file_extension": ".py",
   "mimetype": "text/x-python",
   "name": "python",
   "nbconvert_exporter": "python",
   "pygments_lexer": "ipython3",
   "version": "3.9.16"
  },
  "toc": {
   "base_numbering": 1,
   "nav_menu": {},
   "number_sections": true,
   "sideBar": false,
   "skip_h1_title": false,
   "title_cell": "Table of Contents",
   "title_sidebar": "Contents",
   "toc_cell": false,
   "toc_position": {},
   "toc_section_display": false,
   "toc_window_display": false
  },
  "widgets": {
   "application/vnd.jupyter.widget-state+json": {
    "state": {
     "049a66a0ccaa431093da049b7e1e6c6f": {
      "model_module": "@jupyter-widgets/controls",
      "model_module_version": "2.0.0",
      "model_name": "ProgressStyleModel",
      "state": {
       "_model_module": "@jupyter-widgets/controls",
       "_model_module_version": "2.0.0",
       "_model_name": "ProgressStyleModel",
       "_view_count": null,
       "_view_module": "@jupyter-widgets/base",
       "_view_module_version": "2.0.0",
       "_view_name": "StyleView",
       "bar_color": null,
       "description_width": ""
      }
     },
     "0948b71658ee46eea6642d262c4c284d": {
      "model_module": "@jupyter-widgets/controls",
      "model_module_version": "2.0.0",
      "model_name": "HTMLModel",
      "state": {
       "_dom_classes": [],
       "_model_module": "@jupyter-widgets/controls",
       "_model_module_version": "2.0.0",
       "_model_name": "HTMLModel",
       "_view_count": null,
       "_view_module": "@jupyter-widgets/controls",
       "_view_module_version": "2.0.0",
       "_view_name": "HTMLView",
       "description": "",
       "description_allow_html": false,
       "layout": "IPY_MODEL_9c5b27045cae43fdaeaab6818be0c798",
       "placeholder": "​",
       "style": "IPY_MODEL_14936f9c260b4802b0756c15436e6b92",
       "tabbable": null,
       "tooltip": null,
       "value": " 1000/1000 [01:56&lt;00:00,  8.35it/s]"
      }
     },
     "0c0efbb4a6b140788264d763b84b82f4": {
      "model_module": "@jupyter-widgets/base",
      "model_module_version": "2.0.0",
      "model_name": "LayoutModel",
      "state": {
       "_model_module": "@jupyter-widgets/base",
       "_model_module_version": "2.0.0",
       "_model_name": "LayoutModel",
       "_view_count": null,
       "_view_module": "@jupyter-widgets/base",
       "_view_module_version": "2.0.0",
       "_view_name": "LayoutView",
       "align_content": null,
       "align_items": null,
       "align_self": null,
       "border_bottom": null,
       "border_left": null,
       "border_right": null,
       "border_top": null,
       "bottom": null,
       "display": null,
       "flex": null,
       "flex_flow": null,
       "grid_area": null,
       "grid_auto_columns": null,
       "grid_auto_flow": null,
       "grid_auto_rows": null,
       "grid_column": null,
       "grid_gap": null,
       "grid_row": null,
       "grid_template_areas": null,
       "grid_template_columns": null,
       "grid_template_rows": null,
       "height": null,
       "justify_content": null,
       "justify_items": null,
       "left": null,
       "margin": null,
       "max_height": null,
       "max_width": null,
       "min_height": null,
       "min_width": null,
       "object_fit": null,
       "object_position": null,
       "order": null,
       "overflow": null,
       "padding": null,
       "right": null,
       "top": null,
       "visibility": null,
       "width": null
      }
     },
     "14936f9c260b4802b0756c15436e6b92": {
      "model_module": "@jupyter-widgets/controls",
      "model_module_version": "2.0.0",
      "model_name": "HTMLStyleModel",
      "state": {
       "_model_module": "@jupyter-widgets/controls",
       "_model_module_version": "2.0.0",
       "_model_name": "HTMLStyleModel",
       "_view_count": null,
       "_view_module": "@jupyter-widgets/base",
       "_view_module_version": "2.0.0",
       "_view_name": "StyleView",
       "background": null,
       "description_width": "",
       "font_size": null,
       "text_color": null
      }
     },
     "159aa73c20d145f2ba32f713f3a3c14d": {
      "model_module": "@jupyter-widgets/controls",
      "model_module_version": "2.0.0",
      "model_name": "HTMLStyleModel",
      "state": {
       "_model_module": "@jupyter-widgets/controls",
       "_model_module_version": "2.0.0",
       "_model_name": "HTMLStyleModel",
       "_view_count": null,
       "_view_module": "@jupyter-widgets/base",
       "_view_module_version": "2.0.0",
       "_view_name": "StyleView",
       "background": null,
       "description_width": "",
       "font_size": null,
       "text_color": null
      }
     },
     "19f5c854b0a64815819679360f5f8629": {
      "model_module": "@jupyter-widgets/controls",
      "model_module_version": "2.0.0",
      "model_name": "HTMLModel",
      "state": {
       "_dom_classes": [],
       "_model_module": "@jupyter-widgets/controls",
       "_model_module_version": "2.0.0",
       "_model_name": "HTMLModel",
       "_view_count": null,
       "_view_module": "@jupyter-widgets/controls",
       "_view_module_version": "2.0.0",
       "_view_name": "HTMLView",
       "description": "",
       "description_allow_html": false,
       "layout": "IPY_MODEL_8cd53e9b306b443491663dbfe5b2a1a9",
       "placeholder": "​",
       "style": "IPY_MODEL_159aa73c20d145f2ba32f713f3a3c14d",
       "tabbable": null,
       "tooltip": null,
       "value": " 50/50 [00:11&lt;00:00,  4.02it/s]"
      }
     },
     "3773b17f16164007b1396a5ab6bd5097": {
      "model_module": "@jupyter-widgets/base",
      "model_module_version": "2.0.0",
      "model_name": "LayoutModel",
      "state": {
       "_model_module": "@jupyter-widgets/base",
       "_model_module_version": "2.0.0",
       "_model_name": "LayoutModel",
       "_view_count": null,
       "_view_module": "@jupyter-widgets/base",
       "_view_module_version": "2.0.0",
       "_view_name": "LayoutView",
       "align_content": null,
       "align_items": null,
       "align_self": null,
       "border_bottom": null,
       "border_left": null,
       "border_right": null,
       "border_top": null,
       "bottom": null,
       "display": null,
       "flex": null,
       "flex_flow": null,
       "grid_area": null,
       "grid_auto_columns": null,
       "grid_auto_flow": null,
       "grid_auto_rows": null,
       "grid_column": null,
       "grid_gap": null,
       "grid_row": null,
       "grid_template_areas": null,
       "grid_template_columns": null,
       "grid_template_rows": null,
       "height": null,
       "justify_content": null,
       "justify_items": null,
       "left": null,
       "margin": null,
       "max_height": null,
       "max_width": null,
       "min_height": null,
       "min_width": null,
       "object_fit": null,
       "object_position": null,
       "order": null,
       "overflow": null,
       "padding": null,
       "right": null,
       "top": null,
       "visibility": null,
       "width": null
      }
     },
     "50e8044887634559959e53b73aedd198": {
      "model_module": "@jupyter-widgets/controls",
      "model_module_version": "2.0.0",
      "model_name": "HTMLModel",
      "state": {
       "_dom_classes": [],
       "_model_module": "@jupyter-widgets/controls",
       "_model_module_version": "2.0.0",
       "_model_name": "HTMLModel",
       "_view_count": null,
       "_view_module": "@jupyter-widgets/controls",
       "_view_module_version": "2.0.0",
       "_view_name": "HTMLView",
       "description": "",
       "description_allow_html": false,
       "layout": "IPY_MODEL_7f0cea8f331e4c2c984aabe74c1c4f83",
       "placeholder": "​",
       "style": "IPY_MODEL_5491c0996f9f49bb810a2e2bb79d9560",
       "tabbable": null,
       "tooltip": null,
       "value": "Loading ensemble: 100%"
      }
     },
     "547ecd8c7cc642e6964189a6794f5f92": {
      "model_module": "@jupyter-widgets/controls",
      "model_module_version": "2.0.0",
      "model_name": "FloatProgressModel",
      "state": {
       "_dom_classes": [],
       "_model_module": "@jupyter-widgets/controls",
       "_model_module_version": "2.0.0",
       "_model_name": "FloatProgressModel",
       "_view_count": null,
       "_view_module": "@jupyter-widgets/controls",
       "_view_module_version": "2.0.0",
       "_view_name": "ProgressView",
       "bar_style": "success",
       "description": "",
       "description_allow_html": false,
       "layout": "IPY_MODEL_acc20c85547b47c6807fdd1c67074662",
       "max": 50.0,
       "min": 0.0,
       "orientation": "horizontal",
       "style": "IPY_MODEL_9e988559ce744260b4aa6a2d1c0fc610",
       "tabbable": null,
       "tooltip": null,
       "value": 50.0
      }
     },
     "5491c0996f9f49bb810a2e2bb79d9560": {
      "model_module": "@jupyter-widgets/controls",
      "model_module_version": "2.0.0",
      "model_name": "HTMLStyleModel",
      "state": {
       "_model_module": "@jupyter-widgets/controls",
       "_model_module_version": "2.0.0",
       "_model_name": "HTMLStyleModel",
       "_view_count": null,
       "_view_module": "@jupyter-widgets/base",
       "_view_module_version": "2.0.0",
       "_view_name": "StyleView",
       "background": null,
       "description_width": "",
       "font_size": null,
       "text_color": null
      }
     },
     "54f7fa9281254933abbe428fb8074f95": {
      "model_module": "@jupyter-widgets/controls",
      "model_module_version": "2.0.0",
      "model_name": "HBoxModel",
      "state": {
       "_dom_classes": [],
       "_model_module": "@jupyter-widgets/controls",
       "_model_module_version": "2.0.0",
       "_model_name": "HBoxModel",
       "_view_count": null,
       "_view_module": "@jupyter-widgets/controls",
       "_view_module_version": "2.0.0",
       "_view_name": "HBoxView",
       "box_style": "",
       "children": [
        "IPY_MODEL_50e8044887634559959e53b73aedd198",
        "IPY_MODEL_547ecd8c7cc642e6964189a6794f5f92",
        "IPY_MODEL_19f5c854b0a64815819679360f5f8629"
       ],
       "layout": "IPY_MODEL_7a5e832aed77411c8b5cdbef00580683",
       "tabbable": null,
       "tooltip": null
      }
     },
     "5c3d72509ffa44c3a65551607705c0de": {
      "model_module": "@jupyter-widgets/controls",
      "model_module_version": "2.0.0",
      "model_name": "HTMLStyleModel",
      "state": {
       "_model_module": "@jupyter-widgets/controls",
       "_model_module_version": "2.0.0",
       "_model_name": "HTMLStyleModel",
       "_view_count": null,
       "_view_module": "@jupyter-widgets/base",
       "_view_module_version": "2.0.0",
       "_view_name": "StyleView",
       "background": null,
       "description_width": "",
       "font_size": null,
       "text_color": null
      }
     },
     "7a5e832aed77411c8b5cdbef00580683": {
      "model_module": "@jupyter-widgets/base",
      "model_module_version": "2.0.0",
      "model_name": "LayoutModel",
      "state": {
       "_model_module": "@jupyter-widgets/base",
       "_model_module_version": "2.0.0",
       "_model_name": "LayoutModel",
       "_view_count": null,
       "_view_module": "@jupyter-widgets/base",
       "_view_module_version": "2.0.0",
       "_view_name": "LayoutView",
       "align_content": null,
       "align_items": null,
       "align_self": null,
       "border_bottom": null,
       "border_left": null,
       "border_right": null,
       "border_top": null,
       "bottom": null,
       "display": null,
       "flex": null,
       "flex_flow": null,
       "grid_area": null,
       "grid_auto_columns": null,
       "grid_auto_flow": null,
       "grid_auto_rows": null,
       "grid_column": null,
       "grid_gap": null,
       "grid_row": null,
       "grid_template_areas": null,
       "grid_template_columns": null,
       "grid_template_rows": null,
       "height": null,
       "justify_content": null,
       "justify_items": null,
       "left": null,
       "margin": null,
       "max_height": null,
       "max_width": null,
       "min_height": null,
       "min_width": null,
       "object_fit": null,
       "object_position": null,
       "order": null,
       "overflow": null,
       "padding": null,
       "right": null,
       "top": null,
       "visibility": null,
       "width": null
      }
     },
     "7f0cea8f331e4c2c984aabe74c1c4f83": {
      "model_module": "@jupyter-widgets/base",
      "model_module_version": "2.0.0",
      "model_name": "LayoutModel",
      "state": {
       "_model_module": "@jupyter-widgets/base",
       "_model_module_version": "2.0.0",
       "_model_name": "LayoutModel",
       "_view_count": null,
       "_view_module": "@jupyter-widgets/base",
       "_view_module_version": "2.0.0",
       "_view_name": "LayoutView",
       "align_content": null,
       "align_items": null,
       "align_self": null,
       "border_bottom": null,
       "border_left": null,
       "border_right": null,
       "border_top": null,
       "bottom": null,
       "display": null,
       "flex": null,
       "flex_flow": null,
       "grid_area": null,
       "grid_auto_columns": null,
       "grid_auto_flow": null,
       "grid_auto_rows": null,
       "grid_column": null,
       "grid_gap": null,
       "grid_row": null,
       "grid_template_areas": null,
       "grid_template_columns": null,
       "grid_template_rows": null,
       "height": null,
       "justify_content": null,
       "justify_items": null,
       "left": null,
       "margin": null,
       "max_height": null,
       "max_width": null,
       "min_height": null,
       "min_width": null,
       "object_fit": null,
       "object_position": null,
       "order": null,
       "overflow": null,
       "padding": null,
       "right": null,
       "top": null,
       "visibility": null,
       "width": null
      }
     },
     "8cd53e9b306b443491663dbfe5b2a1a9": {
      "model_module": "@jupyter-widgets/base",
      "model_module_version": "2.0.0",
      "model_name": "LayoutModel",
      "state": {
       "_model_module": "@jupyter-widgets/base",
       "_model_module_version": "2.0.0",
       "_model_name": "LayoutModel",
       "_view_count": null,
       "_view_module": "@jupyter-widgets/base",
       "_view_module_version": "2.0.0",
       "_view_name": "LayoutView",
       "align_content": null,
       "align_items": null,
       "align_self": null,
       "border_bottom": null,
       "border_left": null,
       "border_right": null,
       "border_top": null,
       "bottom": null,
       "display": null,
       "flex": null,
       "flex_flow": null,
       "grid_area": null,
       "grid_auto_columns": null,
       "grid_auto_flow": null,
       "grid_auto_rows": null,
       "grid_column": null,
       "grid_gap": null,
       "grid_row": null,
       "grid_template_areas": null,
       "grid_template_columns": null,
       "grid_template_rows": null,
       "height": null,
       "justify_content": null,
       "justify_items": null,
       "left": null,
       "margin": null,
       "max_height": null,
       "max_width": null,
       "min_height": null,
       "min_width": null,
       "object_fit": null,
       "object_position": null,
       "order": null,
       "overflow": null,
       "padding": null,
       "right": null,
       "top": null,
       "visibility": null,
       "width": null
      }
     },
     "947d6b85e18d45e7847932740a43d373": {
      "model_module": "@jupyter-widgets/controls",
      "model_module_version": "2.0.0",
      "model_name": "HTMLModel",
      "state": {
       "_dom_classes": [],
       "_model_module": "@jupyter-widgets/controls",
       "_model_module_version": "2.0.0",
       "_model_name": "HTMLModel",
       "_view_count": null,
       "_view_module": "@jupyter-widgets/controls",
       "_view_module_version": "2.0.0",
       "_view_name": "HTMLView",
       "description": "",
       "description_allow_html": false,
       "layout": "IPY_MODEL_3773b17f16164007b1396a5ab6bd5097",
       "placeholder": "​",
       "style": "IPY_MODEL_5c3d72509ffa44c3a65551607705c0de",
       "tabbable": null,
       "tooltip": null,
       "value": "100%"
      }
     },
     "9c5b27045cae43fdaeaab6818be0c798": {
      "model_module": "@jupyter-widgets/base",
      "model_module_version": "2.0.0",
      "model_name": "LayoutModel",
      "state": {
       "_model_module": "@jupyter-widgets/base",
       "_model_module_version": "2.0.0",
       "_model_name": "LayoutModel",
       "_view_count": null,
       "_view_module": "@jupyter-widgets/base",
       "_view_module_version": "2.0.0",
       "_view_name": "LayoutView",
       "align_content": null,
       "align_items": null,
       "align_self": null,
       "border_bottom": null,
       "border_left": null,
       "border_right": null,
       "border_top": null,
       "bottom": null,
       "display": null,
       "flex": null,
       "flex_flow": null,
       "grid_area": null,
       "grid_auto_columns": null,
       "grid_auto_flow": null,
       "grid_auto_rows": null,
       "grid_column": null,
       "grid_gap": null,
       "grid_row": null,
       "grid_template_areas": null,
       "grid_template_columns": null,
       "grid_template_rows": null,
       "height": null,
       "justify_content": null,
       "justify_items": null,
       "left": null,
       "margin": null,
       "max_height": null,
       "max_width": null,
       "min_height": null,
       "min_width": null,
       "object_fit": null,
       "object_position": null,
       "order": null,
       "overflow": null,
       "padding": null,
       "right": null,
       "top": null,
       "visibility": null,
       "width": null
      }
     },
     "9e988559ce744260b4aa6a2d1c0fc610": {
      "model_module": "@jupyter-widgets/controls",
      "model_module_version": "2.0.0",
      "model_name": "ProgressStyleModel",
      "state": {
       "_model_module": "@jupyter-widgets/controls",
       "_model_module_version": "2.0.0",
       "_model_name": "ProgressStyleModel",
       "_view_count": null,
       "_view_module": "@jupyter-widgets/base",
       "_view_module_version": "2.0.0",
       "_view_name": "StyleView",
       "bar_color": null,
       "description_width": ""
      }
     },
     "a1b6d93da382492bbcf1c582ee25fb94": {
      "model_module": "@jupyter-widgets/controls",
      "model_module_version": "2.0.0",
      "model_name": "HBoxModel",
      "state": {
       "_dom_classes": [],
       "_model_module": "@jupyter-widgets/controls",
       "_model_module_version": "2.0.0",
       "_model_name": "HBoxModel",
       "_view_count": null,
       "_view_module": "@jupyter-widgets/controls",
       "_view_module_version": "2.0.0",
       "_view_name": "HBoxView",
       "box_style": "",
       "children": [
        "IPY_MODEL_947d6b85e18d45e7847932740a43d373",
        "IPY_MODEL_b71536e1bed24e72ac0f6eca1edbe811",
        "IPY_MODEL_0948b71658ee46eea6642d262c4c284d"
       ],
       "layout": "IPY_MODEL_0c0efbb4a6b140788264d763b84b82f4",
       "tabbable": null,
       "tooltip": null
      }
     },
     "acc20c85547b47c6807fdd1c67074662": {
      "model_module": "@jupyter-widgets/base",
      "model_module_version": "2.0.0",
      "model_name": "LayoutModel",
      "state": {
       "_model_module": "@jupyter-widgets/base",
       "_model_module_version": "2.0.0",
       "_model_name": "LayoutModel",
       "_view_count": null,
       "_view_module": "@jupyter-widgets/base",
       "_view_module_version": "2.0.0",
       "_view_name": "LayoutView",
       "align_content": null,
       "align_items": null,
       "align_self": null,
       "border_bottom": null,
       "border_left": null,
       "border_right": null,
       "border_top": null,
       "bottom": null,
       "display": null,
       "flex": null,
       "flex_flow": null,
       "grid_area": null,
       "grid_auto_columns": null,
       "grid_auto_flow": null,
       "grid_auto_rows": null,
       "grid_column": null,
       "grid_gap": null,
       "grid_row": null,
       "grid_template_areas": null,
       "grid_template_columns": null,
       "grid_template_rows": null,
       "height": null,
       "justify_content": null,
       "justify_items": null,
       "left": null,
       "margin": null,
       "max_height": null,
       "max_width": null,
       "min_height": null,
       "min_width": null,
       "object_fit": null,
       "object_position": null,
       "order": null,
       "overflow": null,
       "padding": null,
       "right": null,
       "top": null,
       "visibility": null,
       "width": null
      }
     },
     "b71536e1bed24e72ac0f6eca1edbe811": {
      "model_module": "@jupyter-widgets/controls",
      "model_module_version": "2.0.0",
      "model_name": "FloatProgressModel",
      "state": {
       "_dom_classes": [],
       "_model_module": "@jupyter-widgets/controls",
       "_model_module_version": "2.0.0",
       "_model_name": "FloatProgressModel",
       "_view_count": null,
       "_view_module": "@jupyter-widgets/controls",
       "_view_module_version": "2.0.0",
       "_view_name": "ProgressView",
       "bar_style": "success",
       "description": "",
       "description_allow_html": false,
       "layout": "IPY_MODEL_f17fec43bdd04f7fa5bae85c5d351d10",
       "max": 1000.0,
       "min": 0.0,
       "orientation": "horizontal",
       "style": "IPY_MODEL_049a66a0ccaa431093da049b7e1e6c6f",
       "tabbable": null,
       "tooltip": null,
       "value": 1000.0
      }
     },
     "f17fec43bdd04f7fa5bae85c5d351d10": {
      "model_module": "@jupyter-widgets/base",
      "model_module_version": "2.0.0",
      "model_name": "LayoutModel",
      "state": {
       "_model_module": "@jupyter-widgets/base",
       "_model_module_version": "2.0.0",
       "_model_name": "LayoutModel",
       "_view_count": null,
       "_view_module": "@jupyter-widgets/base",
       "_view_module_version": "2.0.0",
       "_view_name": "LayoutView",
       "align_content": null,
       "align_items": null,
       "align_self": null,
       "border_bottom": null,
       "border_left": null,
       "border_right": null,
       "border_top": null,
       "bottom": null,
       "display": null,
       "flex": null,
       "flex_flow": null,
       "grid_area": null,
       "grid_auto_columns": null,
       "grid_auto_flow": null,
       "grid_auto_rows": null,
       "grid_column": null,
       "grid_gap": null,
       "grid_row": null,
       "grid_template_areas": null,
       "grid_template_columns": null,
       "grid_template_rows": null,
       "height": null,
       "justify_content": null,
       "justify_items": null,
       "left": null,
       "margin": null,
       "max_height": null,
       "max_width": null,
       "min_height": null,
       "min_width": null,
       "object_fit": null,
       "object_position": null,
       "order": null,
       "overflow": null,
       "padding": null,
       "right": null,
       "top": null,
       "visibility": null,
       "width": null
      }
     }
    },
    "version_major": 2,
    "version_minor": 0
   }
  }
 },
 "nbformat": 4,
 "nbformat_minor": 5
}
