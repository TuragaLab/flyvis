{
 "cells": [
  {
   "cell_type": "markdown",
   "id": "a4eb1560",
   "metadata": {},
   "source": [
    "# Figure 2"
   ]
  },
  {
   "cell_type": "code",
   "execution_count": null,
   "id": "ce742eaf",
   "metadata": {
    "execution": {
     "iopub.execute_input": "2024-12-08T18:43:44.257374Z",
     "iopub.status.busy": "2024-12-08T18:43:44.256092Z",
     "iopub.status.idle": "2024-12-08T18:43:48.661934Z",
     "shell.execute_reply": "2024-12-08T18:43:48.660304Z"
    }
   },
   "outputs": [],
   "source": [
    "%load_ext autoreload\n",
    "%autoreload 2\n",
    "\n",
    "import matplotlib.pyplot as plt\n",
    "from matplotlib.patches import Rectangle\n",
    "import numpy as np\n",
    "\n",
    "from flyvis import EnsembleView\n",
    "from flyvis.utils import color_utils"
   ]
  },
  {
   "cell_type": "code",
   "execution_count": null,
   "id": "c20a8adf",
   "metadata": {
    "execution": {
     "iopub.execute_input": "2024-12-08T18:43:48.668320Z",
     "iopub.status.busy": "2024-12-08T18:43:48.667480Z",
     "iopub.status.idle": "2024-12-08T18:44:01.129495Z",
     "shell.execute_reply": "2024-12-08T18:44:01.127997Z"
    }
   },
   "outputs": [],
   "source": [
    "ensemble = EnsembleView(\"flow/0000\")"
   ]
  },
  {
   "cell_type": "markdown",
   "id": "e8f93df9",
   "metadata": {},
   "source": [
    "## b"
   ]
  },
  {
   "cell_type": "code",
   "execution_count": null,
   "id": "e0ebf11c",
   "metadata": {
    "execution": {
     "iopub.execute_input": "2024-12-08T18:44:01.135070Z",
     "iopub.status.busy": "2024-12-08T18:44:01.134709Z",
     "iopub.status.idle": "2024-12-08T18:44:07.493694Z",
     "shell.execute_reply": "2024-12-08T18:44:07.492510Z"
    }
   },
   "outputs": [],
   "source": [
    "with ensemble.ratio(best=0.2):\n",
    "    fig, ax = ensemble.flash_response_index()\n",
    "\n",
    "ymin, ymax = 0, 1\n",
    "# to get locations of left most and right most T4 subtype ticks\n",
    "xmin, xmax = [\n",
    "    p.get_position()[0] for p in ax.get_xticklabels() if p.get_text() in [\"R1\", \"Tm3\"]\n",
    "]\n",
    "# to place in between ticks\n",
    "xmin -= 1 / 2\n",
    "xmax += 1 / 2\n",
    "xy = (xmin, ymin)\n",
    "width = xmax - xmin\n",
    "height = ymax\n",
    "rect = Rectangle(xy, width, height, facecolor=color_utils.ON_FR, alpha=0.1)\n",
    "ax.add_patch(rect)\n",
    "\n",
    "ymin, ymax = 0, -1\n",
    "# to get locations of left most and right most T4 subtype ticks\n",
    "xmin, xmax = [\n",
    "    p.get_position()[0] for p in ax.get_xticklabels() if p.get_text() in [\"L1\", \"Tm9\"]\n",
    "]\n",
    "# to place in between ticks\n",
    "xmin -= 1 / 2\n",
    "xmax += 1 / 2\n",
    "xy = (xmin, ymin)\n",
    "width = xmax - xmin\n",
    "height = ymax\n",
    "rect = Rectangle(xy, width, height, facecolor=color_utils.OFF_FR, alpha=0.1)\n",
    "ax.add_patch(rect)\n",
    "\n",
    "ax.set_title(\"Flash response indices\")"
   ]
  },
  {
   "cell_type": "markdown",
   "id": "07f04f98",
   "metadata": {},
   "source": [
    "## c"
   ]
  },
  {
   "cell_type": "code",
   "execution_count": null,
   "id": "6283bd80",
   "metadata": {
    "execution": {
     "iopub.execute_input": "2024-12-08T18:44:07.501382Z",
     "iopub.status.busy": "2024-12-08T18:44:07.500923Z",
     "iopub.status.idle": "2024-12-08T18:44:12.025751Z",
     "shell.execute_reply": "2024-12-08T18:44:12.024359Z"
    }
   },
   "outputs": [],
   "source": [
    "with ensemble.ratio(best=0.2):\n",
    "    fig, axes = ensemble.direction_selectivity_index()\n",
    "\n",
    "ymin, ymax = 0, 1\n",
    "# to get locations of left most and right most T4 subtype ticks\n",
    "xmin, xmax = [\n",
    "    p.get_position()[0]\n",
    "    for p in axes[1].get_xticklabels()\n",
    "    if p.get_text() in [\"T4a\", \"T4d\"]\n",
    "]\n",
    "# to place in between ticks\n",
    "xmin -= 1 / 2\n",
    "xmax += 1 / 2\n",
    "xy = (xmin, ymin)\n",
    "width = xmax - xmin\n",
    "height = ymax\n",
    "rect = Rectangle(xy, width, height, facecolor=color_utils.ON, alpha=0.1)\n",
    "axes[0].add_patch(rect)\n",
    "\n",
    "# to get locations of left most and right most T4 subtype ticks\n",
    "xmin, xmax = [\n",
    "    p.get_position()[0]\n",
    "    for p in axes[1].get_xticklabels()\n",
    "    if p.get_text() in [\"T5a\", \"T5d\"]\n",
    "]\n",
    "# to place in between ticks\n",
    "xmin -= 1 / 2\n",
    "xmax += 1 / 2\n",
    "xy = (xmin, ymin)\n",
    "width = xmax - xmin\n",
    "height = ymax\n",
    "rect = Rectangle(xy, width, height, facecolor=color_utils.OFF, alpha=0.1)\n",
    "axes[1].add_patch(rect)\n",
    "\n",
    "ax.set_title(\"Direction selectivity indices\")"
   ]
  },
  {
   "cell_type": "markdown",
   "id": "d8b4a217",
   "metadata": {},
   "source": [
    "## d"
   ]
  },
  {
   "cell_type": "code",
   "execution_count": null,
   "id": "96cfc198",
   "metadata": {
    "execution": {
     "iopub.execute_input": "2024-12-08T18:44:12.034914Z",
     "iopub.status.busy": "2024-12-08T18:44:12.034495Z",
     "iopub.status.idle": "2024-12-08T18:44:12.071745Z",
     "shell.execute_reply": "2024-12-08T18:44:12.070448Z"
    }
   },
   "outputs": [],
   "source": [
    "from flyvis.analysis.flash_responses import (\n",
    "    flash_response_index,\n",
    "    fri_correlation_to_known,\n",
    ")\n",
    "from flyvis.analysis.moving_bar_responses import (\n",
    "    direction_selectivity_index,\n",
    "    dsi_correlation_to_known,\n",
    "    correlation_to_known_tuning_curves,\n",
    "    preferred_direction,\n",
    "    angular_distance_to_known,\n",
    ")"
   ]
  },
  {
   "cell_type": "code",
   "execution_count": null,
   "id": "77757d8e",
   "metadata": {
    "execution": {
     "iopub.execute_input": "2024-12-08T18:44:12.075295Z",
     "iopub.status.busy": "2024-12-08T18:44:12.075087Z",
     "iopub.status.idle": "2024-12-08T18:44:15.276622Z",
     "shell.execute_reply": "2024-12-08T18:44:15.275039Z"
    }
   },
   "outputs": [],
   "source": [
    "with ensemble.ratio(best=0.2):\n",
    "    print(ensemble.names)\n",
    "    fris = flash_response_index(ensemble.flash_responses(), radius=6)\n",
    "    fri_corr = fri_correlation_to_known(fris)"
   ]
  },
  {
   "cell_type": "code",
   "execution_count": null,
   "id": "cbd2fbdd",
   "metadata": {
    "execution": {
     "iopub.execute_input": "2024-12-08T18:44:15.281970Z",
     "iopub.status.busy": "2024-12-08T18:44:15.281658Z",
     "iopub.status.idle": "2024-12-08T18:44:16.716555Z",
     "shell.execute_reply": "2024-12-08T18:44:16.715134Z"
    }
   },
   "outputs": [],
   "source": [
    "with ensemble.ratio(best=0.2):\n",
    "    stims_and_resps_moving_edges = ensemble.moving_edge_responses()\n",
    "\n",
    "    # TODO: fix this, does not come out as expected\n",
    "    dsi_corr = dsi_correlation_to_known(\n",
    "        direction_selectivity_index(stims_and_resps_moving_edges)\n",
    "    )\n",
    "    tuning_corrs = correlation_to_known_tuning_curves(stims_and_resps_moving_edges)\n",
    "    t4_corrs = (\n",
    "        tuning_corrs.custom.where(cell_type=[\"T4a\", \"T4b\", \"T4c\", \"T4d\"], intensity=1)\n",
    "        .median(\"neuron\")\n",
    "        .squeeze()\n",
    "    )\n",
    "    t5_corrs = (\n",
    "        tuning_corrs.custom.where(cell_type=[\"T5a\", \"T5b\", \"T5c\", \"T5d\"], intensity=0)\n",
    "        .median(\"neuron\")\n",
    "        .squeeze()\n",
    "    )"
   ]
  },
  {
   "cell_type": "code",
   "execution_count": null,
   "id": "1dd7dd09",
   "metadata": {
    "execution": {
     "iopub.execute_input": "2024-12-08T18:44:16.721800Z",
     "iopub.status.busy": "2024-12-08T18:44:16.721539Z",
     "iopub.status.idle": "2024-12-08T18:44:17.423229Z",
     "shell.execute_reply": "2024-12-08T18:44:17.421776Z"
    }
   },
   "outputs": [],
   "source": [
    "pds = preferred_direction(stims_and_resps_moving_edges)\n",
    "pd_distances = angular_distance_to_known(pds)"
   ]
  },
  {
   "cell_type": "code",
   "execution_count": null,
   "id": "e5a1ed8e",
   "metadata": {
    "execution": {
     "iopub.execute_input": "2024-12-08T18:44:17.427435Z",
     "iopub.status.busy": "2024-12-08T18:44:17.427145Z",
     "iopub.status.idle": "2024-12-08T18:44:17.659487Z",
     "shell.execute_reply": "2024-12-08T18:44:17.658514Z"
    }
   },
   "outputs": [],
   "source": [
    "from flyvis.analysis.visualization.plots import violin_groups\n",
    "\n",
    "fig, ax, *_ = violin_groups(\n",
    "    np.stack(\n",
    "        [\n",
    "            fri_corr.squeeze(),\n",
    "            t4_corrs.values,\n",
    "            t5_corrs.values,\n",
    "            dsi_corr.values,\n",
    "        ],\n",
    "        axis=0,\n",
    "    )[:, None, :],\n",
    "    [\"FRI\", \"T4 tuning\", \"T5 tuning\", \"DSI\"],\n",
    "    ylabel=\"correlation\",\n",
    "    figsize=(1.8, 1.5),\n",
    "    ylim=(-1, 1),\n",
    "    colors=[\n",
    "        plt.get_cmap(\"Dark2\")(0.125),\n",
    "        plt.get_cmap(\"Dark2\")(0),\n",
    "        plt.get_cmap(\"Dark2\")(0.25),\n",
    "        plt.get_cmap(\"Dark2\")(0.375),\n",
    "    ],\n",
    "    color_by=\"experiments\",\n",
    "    scatter_edge_color=\"gray\",\n",
    "    scatter_radius=5,\n",
    "    violin_alpha=0.8,\n",
    ")"
   ]
  },
  {
   "cell_type": "code",
   "execution_count": null,
   "id": "7df0fc7e",
   "metadata": {
    "execution": {
     "iopub.execute_input": "2024-12-08T18:44:17.663090Z",
     "iopub.status.busy": "2024-12-08T18:44:17.662871Z",
     "iopub.status.idle": "2024-12-08T18:44:17.843382Z",
     "shell.execute_reply": "2024-12-08T18:44:17.842222Z"
    }
   },
   "outputs": [],
   "source": [
    "fig, ax, *_ = violin_groups(\n",
    "    pd_distances.values.flatten()[None, None, :],\n",
    "    [\"PD distance\"],\n",
    "    ylabel=\"angular distance\",\n",
    "    figsize=(1.8, 1.5),\n",
    "    ylim=(-1, 1),\n",
    "    colors=[\n",
    "        plt.get_cmap(\"Dark2\")(0.5),\n",
    "    ],\n",
    "    color_by=\"experiments\",\n",
    "    scatter_edge_color=\"gray\",\n",
    "    scatter_radius=5,\n",
    "    violin_alpha=0.8,\n",
    ")\n",
    "ax.set_ylim(\n",
    "    np.pi + 0.1,\n",
    "    -0.1,\n",
    ")"
   ]
  }
 ],
 "metadata": {
  "kernelspec": {
   "display_name": "Python 3 (ipykernel)",
   "language": "python",
   "name": "python3"
  },
  "language_info": {
   "codemirror_mode": {
    "name": "ipython",
    "version": 3
   },
   "file_extension": ".py",
   "mimetype": "text/x-python",
   "name": "python",
   "nbconvert_exporter": "python",
   "pygments_lexer": "ipython3",
   "version": "3.9.16"
  },
  "toc": {
   "base_numbering": 1,
   "nav_menu": {},
   "number_sections": true,
   "sideBar": true,
   "skip_h1_title": false,
   "title_cell": "Table of Contents",
   "title_sidebar": "Contents",
   "toc_cell": false,
   "toc_position": {
    "height": "calc(100% - 180px)",
    "left": "10px",
    "top": "150px",
    "width": "606.891px"
   },
   "toc_section_display": true,
   "toc_window_display": true
  },
  "widgets": {
   "application/vnd.jupyter.widget-state+json": {
    "state": {
     "07d0b81b6625493cbd4253ae41d9bafe": {
      "model_module": "@jupyter-widgets/controls",
      "model_module_version": "2.0.0",
      "model_name": "HTMLStyleModel",
      "state": {
       "_model_module": "@jupyter-widgets/controls",
       "_model_module_version": "2.0.0",
       "_model_name": "HTMLStyleModel",
       "_view_count": null,
       "_view_module": "@jupyter-widgets/base",
       "_view_module_version": "2.0.0",
       "_view_name": "StyleView",
       "background": null,
       "description_width": "",
       "font_size": null,
       "text_color": null
      }
     },
     "2dfea71e37784f5abd6e376089e3b639": {
      "model_module": "@jupyter-widgets/controls",
      "model_module_version": "2.0.0",
      "model_name": "FloatProgressModel",
      "state": {
       "_dom_classes": [],
       "_model_module": "@jupyter-widgets/controls",
       "_model_module_version": "2.0.0",
       "_model_name": "FloatProgressModel",
       "_view_count": null,
       "_view_module": "@jupyter-widgets/controls",
       "_view_module_version": "2.0.0",
       "_view_name": "ProgressView",
       "bar_style": "success",
       "description": "",
       "description_allow_html": false,
       "layout": "IPY_MODEL_3f00a81952844625adb5c48bd13b59ac",
       "max": 50.0,
       "min": 0.0,
       "orientation": "horizontal",
       "style": "IPY_MODEL_b5892712e2da443fb5f298b1d0266d45",
       "tabbable": null,
       "tooltip": null,
       "value": 50.0
      }
     },
     "3f00a81952844625adb5c48bd13b59ac": {
      "model_module": "@jupyter-widgets/base",
      "model_module_version": "2.0.0",
      "model_name": "LayoutModel",
      "state": {
       "_model_module": "@jupyter-widgets/base",
       "_model_module_version": "2.0.0",
       "_model_name": "LayoutModel",
       "_view_count": null,
       "_view_module": "@jupyter-widgets/base",
       "_view_module_version": "2.0.0",
       "_view_name": "LayoutView",
       "align_content": null,
       "align_items": null,
       "align_self": null,
       "border_bottom": null,
       "border_left": null,
       "border_right": null,
       "border_top": null,
       "bottom": null,
       "display": null,
       "flex": null,
       "flex_flow": null,
       "grid_area": null,
       "grid_auto_columns": null,
       "grid_auto_flow": null,
       "grid_auto_rows": null,
       "grid_column": null,
       "grid_gap": null,
       "grid_row": null,
       "grid_template_areas": null,
       "grid_template_columns": null,
       "grid_template_rows": null,
       "height": null,
       "justify_content": null,
       "justify_items": null,
       "left": null,
       "margin": null,
       "max_height": null,
       "max_width": null,
       "min_height": null,
       "min_width": null,
       "object_fit": null,
       "object_position": null,
       "order": null,
       "overflow": null,
       "padding": null,
       "right": null,
       "top": null,
       "visibility": null,
       "width": null
      }
     },
     "45f71efdb7344ae0b81a8ed754f3ec3c": {
      "model_module": "@jupyter-widgets/base",
      "model_module_version": "2.0.0",
      "model_name": "LayoutModel",
      "state": {
       "_model_module": "@jupyter-widgets/base",
       "_model_module_version": "2.0.0",
       "_model_name": "LayoutModel",
       "_view_count": null,
       "_view_module": "@jupyter-widgets/base",
       "_view_module_version": "2.0.0",
       "_view_name": "LayoutView",
       "align_content": null,
       "align_items": null,
       "align_self": null,
       "border_bottom": null,
       "border_left": null,
       "border_right": null,
       "border_top": null,
       "bottom": null,
       "display": null,
       "flex": null,
       "flex_flow": null,
       "grid_area": null,
       "grid_auto_columns": null,
       "grid_auto_flow": null,
       "grid_auto_rows": null,
       "grid_column": null,
       "grid_gap": null,
       "grid_row": null,
       "grid_template_areas": null,
       "grid_template_columns": null,
       "grid_template_rows": null,
       "height": null,
       "justify_content": null,
       "justify_items": null,
       "left": null,
       "margin": null,
       "max_height": null,
       "max_width": null,
       "min_height": null,
       "min_width": null,
       "object_fit": null,
       "object_position": null,
       "order": null,
       "overflow": null,
       "padding": null,
       "right": null,
       "top": null,
       "visibility": null,
       "width": null
      }
     },
     "65149f27b1374f91957919d34b0d16cf": {
      "model_module": "@jupyter-widgets/controls",
      "model_module_version": "2.0.0",
      "model_name": "HBoxModel",
      "state": {
       "_dom_classes": [],
       "_model_module": "@jupyter-widgets/controls",
       "_model_module_version": "2.0.0",
       "_model_name": "HBoxModel",
       "_view_count": null,
       "_view_module": "@jupyter-widgets/controls",
       "_view_module_version": "2.0.0",
       "_view_name": "HBoxView",
       "box_style": "",
       "children": [
        "IPY_MODEL_743296098dd9498ba6164e78eb70b1e4",
        "IPY_MODEL_2dfea71e37784f5abd6e376089e3b639",
        "IPY_MODEL_c7acf32e52274bb4b8ae44029751f582"
       ],
       "layout": "IPY_MODEL_74ddfb8d243b49e0a959911c61e6d91e",
       "tabbable": null,
       "tooltip": null
      }
     },
     "743296098dd9498ba6164e78eb70b1e4": {
      "model_module": "@jupyter-widgets/controls",
      "model_module_version": "2.0.0",
      "model_name": "HTMLModel",
      "state": {
       "_dom_classes": [],
       "_model_module": "@jupyter-widgets/controls",
       "_model_module_version": "2.0.0",
       "_model_name": "HTMLModel",
       "_view_count": null,
       "_view_module": "@jupyter-widgets/controls",
       "_view_module_version": "2.0.0",
       "_view_name": "HTMLView",
       "description": "",
       "description_allow_html": false,
       "layout": "IPY_MODEL_45f71efdb7344ae0b81a8ed754f3ec3c",
       "placeholder": "​",
       "style": "IPY_MODEL_d41cfcff82d342b0aeeddf0e9ab21c53",
       "tabbable": null,
       "tooltip": null,
       "value": "Loading ensemble: 100%"
      }
     },
     "74ddfb8d243b49e0a959911c61e6d91e": {
      "model_module": "@jupyter-widgets/base",
      "model_module_version": "2.0.0",
      "model_name": "LayoutModel",
      "state": {
       "_model_module": "@jupyter-widgets/base",
       "_model_module_version": "2.0.0",
       "_model_name": "LayoutModel",
       "_view_count": null,
       "_view_module": "@jupyter-widgets/base",
       "_view_module_version": "2.0.0",
       "_view_name": "LayoutView",
       "align_content": null,
       "align_items": null,
       "align_self": null,
       "border_bottom": null,
       "border_left": null,
       "border_right": null,
       "border_top": null,
       "bottom": null,
       "display": null,
       "flex": null,
       "flex_flow": null,
       "grid_area": null,
       "grid_auto_columns": null,
       "grid_auto_flow": null,
       "grid_auto_rows": null,
       "grid_column": null,
       "grid_gap": null,
       "grid_row": null,
       "grid_template_areas": null,
       "grid_template_columns": null,
       "grid_template_rows": null,
       "height": null,
       "justify_content": null,
       "justify_items": null,
       "left": null,
       "margin": null,
       "max_height": null,
       "max_width": null,
       "min_height": null,
       "min_width": null,
       "object_fit": null,
       "object_position": null,
       "order": null,
       "overflow": null,
       "padding": null,
       "right": null,
       "top": null,
       "visibility": null,
       "width": null
      }
     },
     "b5892712e2da443fb5f298b1d0266d45": {
      "model_module": "@jupyter-widgets/controls",
      "model_module_version": "2.0.0",
      "model_name": "ProgressStyleModel",
      "state": {
       "_model_module": "@jupyter-widgets/controls",
       "_model_module_version": "2.0.0",
       "_model_name": "ProgressStyleModel",
       "_view_count": null,
       "_view_module": "@jupyter-widgets/base",
       "_view_module_version": "2.0.0",
       "_view_name": "StyleView",
       "bar_color": null,
       "description_width": ""
      }
     },
     "c7acf32e52274bb4b8ae44029751f582": {
      "model_module": "@jupyter-widgets/controls",
      "model_module_version": "2.0.0",
      "model_name": "HTMLModel",
      "state": {
       "_dom_classes": [],
       "_model_module": "@jupyter-widgets/controls",
       "_model_module_version": "2.0.0",
       "_model_name": "HTMLModel",
       "_view_count": null,
       "_view_module": "@jupyter-widgets/controls",
       "_view_module_version": "2.0.0",
       "_view_name": "HTMLView",
       "description": "",
       "description_allow_html": false,
       "layout": "IPY_MODEL_d697d95874de4d59ae9ff5702edc08e3",
       "placeholder": "​",
       "style": "IPY_MODEL_07d0b81b6625493cbd4253ae41d9bafe",
       "tabbable": null,
       "tooltip": null,
       "value": " 50/50 [00:12&lt;00:00,  4.26it/s]"
      }
     },
     "d41cfcff82d342b0aeeddf0e9ab21c53": {
      "model_module": "@jupyter-widgets/controls",
      "model_module_version": "2.0.0",
      "model_name": "HTMLStyleModel",
      "state": {
       "_model_module": "@jupyter-widgets/controls",
       "_model_module_version": "2.0.0",
       "_model_name": "HTMLStyleModel",
       "_view_count": null,
       "_view_module": "@jupyter-widgets/base",
       "_view_module_version": "2.0.0",
       "_view_name": "StyleView",
       "background": null,
       "description_width": "",
       "font_size": null,
       "text_color": null
      }
     },
     "d697d95874de4d59ae9ff5702edc08e3": {
      "model_module": "@jupyter-widgets/base",
      "model_module_version": "2.0.0",
      "model_name": "LayoutModel",
      "state": {
       "_model_module": "@jupyter-widgets/base",
       "_model_module_version": "2.0.0",
       "_model_name": "LayoutModel",
       "_view_count": null,
       "_view_module": "@jupyter-widgets/base",
       "_view_module_version": "2.0.0",
       "_view_name": "LayoutView",
       "align_content": null,
       "align_items": null,
       "align_self": null,
       "border_bottom": null,
       "border_left": null,
       "border_right": null,
       "border_top": null,
       "bottom": null,
       "display": null,
       "flex": null,
       "flex_flow": null,
       "grid_area": null,
       "grid_auto_columns": null,
       "grid_auto_flow": null,
       "grid_auto_rows": null,
       "grid_column": null,
       "grid_gap": null,
       "grid_row": null,
       "grid_template_areas": null,
       "grid_template_columns": null,
       "grid_template_rows": null,
       "height": null,
       "justify_content": null,
       "justify_items": null,
       "left": null,
       "margin": null,
       "max_height": null,
       "max_width": null,
       "min_height": null,
       "min_width": null,
       "object_fit": null,
       "object_position": null,
       "order": null,
       "overflow": null,
       "padding": null,
       "right": null,
       "top": null,
       "visibility": null,
       "width": null
      }
     }
    },
    "version_major": 2,
    "version_minor": 0
   }
  }
 },
 "nbformat": 4,
 "nbformat_minor": 5
}
