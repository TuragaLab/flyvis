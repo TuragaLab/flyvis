{
 "cells": [
  {
   "cell_type": "markdown",
   "metadata": {},
   "source": [
    "Main notebook containing relevant analysis steps, run for each model. \n",
    "\n",
    "The script `notebook_per_model.py' automatically copies this notebook to an ensemble directory and executes it for newly trained ensembles using papermill.\n",
    "\n",
    "**Warning:** You can loose your work! Don't edit automatically created copies of this notebook within a model directory. Those will be overwritten at a rerun. Create a copy instead.\n",
    "\n",
    "**Warning:** This notebook is not intended for standalone use. It is automatically copied to an ensemble directory and executed for newly trained models using papermill. Adapt mindfully.\n"
   ]
  },
  {
   "cell_type": "code",
   "execution_count": null,
   "metadata": {
    "execution": {
     "iopub.execute_input": "2024-12-08T18:50:57.969331Z",
     "iopub.status.busy": "2024-12-08T18:50:57.968856Z",
     "iopub.status.idle": "2024-12-08T18:51:02.217869Z",
     "shell.execute_reply": "2024-12-08T18:51:02.216714Z"
    }
   },
   "outputs": [],
   "source": [
    "import flyvis"
   ]
  },
  {
   "cell_type": "code",
   "execution_count": null,
   "metadata": {
    "execution": {
     "iopub.execute_input": "2024-12-08T18:51:02.223636Z",
     "iopub.status.busy": "2024-12-08T18:51:02.223182Z",
     "iopub.status.idle": "2024-12-08T18:51:02.227775Z",
     "shell.execute_reply": "2024-12-08T18:51:02.226847Z"
    },
    "tags": [
     "parameters"
    ]
   },
   "outputs": [],
   "source": [
    "ensemble_and_network_id = \"0000/000\"  # type: str\n",
    "task_name = \"flow\"  # type: str"
   ]
  },
  {
   "cell_type": "code",
   "execution_count": null,
   "metadata": {
    "execution": {
     "iopub.execute_input": "2024-12-08T18:51:02.231643Z",
     "iopub.status.busy": "2024-12-08T18:51:02.231324Z",
     "iopub.status.idle": "2024-12-08T18:51:02.483513Z",
     "shell.execute_reply": "2024-12-08T18:51:02.482598Z"
    }
   },
   "outputs": [],
   "source": [
    "network_view = flyvis.NetworkView(f\"{task_name}/{ensemble_and_network_id}\")"
   ]
  }
 ],
 "metadata": {
  "kernelspec": {
   "display_name": "flyvis",
   "language": "python",
   "name": "python3"
  },
  "language_info": {
   "codemirror_mode": {
    "name": "ipython",
    "version": 3
   },
   "file_extension": ".py",
   "mimetype": "text/x-python",
   "name": "python",
   "nbconvert_exporter": "python",
   "pygments_lexer": "ipython3",
   "version": "3.9.16"
  }
 },
 "nbformat": 4,
 "nbformat_minor": 2
}
