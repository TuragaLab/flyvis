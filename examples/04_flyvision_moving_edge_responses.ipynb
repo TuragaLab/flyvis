{
 "cells": [
  {
   "cell_type": "markdown",
   "metadata": {
    "id": "uu-bb4z8t_lP"
   },
   "source": [
    "# Moving edge responses\n",
    "\n",
    "This notebook introduces moving edge responses and the direction selectivity index (DSI). The DSI measures motion selectivity of cells to visual input."
   ]
  },
  {
   "cell_type": "markdown",
   "id": "81e5384d",
   "metadata": {
    "id": "SXV7OZMrugGF",
    "tags": [
     "hide"
    ]
   },
   "source": [
    "**Select GPU runtime**\n",
    "\n",
    "To run the notebook on a GPU select Menu -> Runtime -> Change runtime type -> GPU."
   ]
  },
  {
   "cell_type": "code",
   "execution_count": null,
   "id": "a323b04c",
   "metadata": {
    "cellView": "form",
    "execution": {
     "iopub.execute_input": "2024-12-08T18:36:11.997041Z",
     "iopub.status.busy": "2024-12-08T18:36:11.996552Z",
     "iopub.status.idle": "2024-12-08T18:36:12.008280Z",
     "shell.execute_reply": "2024-12-08T18:36:12.007408Z"
    },
    "id": "sWG39Aevugmr",
    "tags": [
     "hide"
    ]
   },
   "outputs": [],
   "source": [
    "# @markdown **Check access to GPU**\n",
    "\n",
    "try:\n",
    "    import google.colab\n",
    "\n",
    "    IN_COLAB = True\n",
    "except ImportError:\n",
    "    IN_COLAB = False\n",
    "\n",
    "if IN_COLAB:\n",
    "    import torch\n",
    "\n",
    "    try:\n",
    "        cuda_name = torch.cuda.get_device_name()\n",
    "        print(f\"Name of the assigned GPU / CUDA device: {cuda_name}\")\n",
    "    except RuntimeError:\n",
    "        import warnings\n",
    "\n",
    "        warnings.warn(\n",
    "            \"You have not selected Runtime Type: 'GPU' or Google could not assign you one. Please revisit the settings as described above or proceed on CPU (slow).\"\n",
    "        )"
   ]
  },
  {
   "cell_type": "markdown",
   "id": "db055330",
   "metadata": {
    "id": "-B9TA8nfzmN3",
    "tags": [
     "hide"
    ]
   },
   "source": [
    "**Install Flyvis**\n",
    "\n",
    "The notebook requires installing our package `flyvis`. You may need to restart your session after running the code block below with Menu -> Runtime -> Restart session. Then, imports from `flyvis` should succeed without issue."
   ]
  },
  {
   "cell_type": "code",
   "execution_count": null,
   "id": "b0bb0ee9",
   "metadata": {
    "cellView": "form",
    "execution": {
     "iopub.execute_input": "2024-12-08T18:36:12.012601Z",
     "iopub.status.busy": "2024-12-08T18:36:12.012341Z",
     "iopub.status.idle": "2024-12-08T18:36:12.018140Z",
     "shell.execute_reply": "2024-12-08T18:36:12.017240Z"
    },
    "id": "Dkhfe5XBuksW",
    "tags": [
     "hide"
    ]
   },
   "outputs": [],
   "source": [
    "# @markdown **Install Flyvis**\n",
    "if IN_COLAB:\n",
    "    !git clone https://github.com/TuragaLab/flyvis.git\n",
    "    %cd /content/flyvis\n",
    "    !pip install -e .[examples]"
   ]
  },
  {
   "cell_type": "markdown",
   "metadata": {
    "id": "fz7783IyuwKs"
   },
   "source": [
    "## Moving edge stimuli\n",
    "\n",
    "To elicit moving edge responses and characterise the motion selectivity of neurons, experimenters show an ON or OFF edge moving in different cardinal directions. We generate and render these stimuli with the `MovingEdge` dataset."
   ]
  },
  {
   "cell_type": "code",
   "execution_count": null,
   "metadata": {
    "execution": {
     "iopub.execute_input": "2024-12-08T18:36:12.022168Z",
     "iopub.status.busy": "2024-12-08T18:36:12.021862Z",
     "iopub.status.idle": "2024-12-08T18:36:16.585685Z",
     "shell.execute_reply": "2024-12-08T18:36:16.584315Z"
    },
    "id": "h5Hfyy3tyTQG"
   },
   "outputs": [],
   "source": [
    "import matplotlib.pyplot as plt\n",
    "import numpy as np\n",
    "import torch\n",
    "\n",
    "\n",
    "from flyvis.datasets.moving_bar import MovingEdge\n",
    "from flyvis.analysis.animations.hexscatter import HexScatter"
   ]
  },
  {
   "cell_type": "code",
   "execution_count": null,
   "metadata": {
    "execution": {
     "iopub.execute_input": "2024-12-08T18:36:16.590349Z",
     "iopub.status.busy": "2024-12-08T18:36:16.589568Z",
     "iopub.status.idle": "2024-12-08T18:36:17.496278Z",
     "shell.execute_reply": "2024-12-08T18:36:17.494506Z"
    },
    "id": "lI7elnklmcrh"
   },
   "outputs": [],
   "source": [
    "# initialize dataset\n",
    "# make the dataset\n",
    "dataset = MovingEdge(\n",
    "    offsets=[-10, 11],  # offset of bar from center in 1 * radians(2.25) led size\n",
    "    intensities=[0, 1],  # intensity of bar\n",
    "    speeds=[19],  # speed of bar in 1 * radians(5.8) / s\n",
    "    height=80,  # height of moving bar in 1 * radians(2.25) led size\n",
    "    post_pad_mode=\"continue\",  # for post-stimulus period, continue with the last frame of the stimulus\n",
    "    t_pre=1.0,  # duration of pre-stimulus period\n",
    "    t_post=1.0,  # duration of post-stimulus period\n",
    "    dt=1 / 200,  # temporal resolution of rendered video\n",
    "    angles=list(np.arange(0, 360, 30)),  # motion direction (orthogonal to edge)\n",
    ")"
   ]
  },
  {
   "cell_type": "code",
   "execution_count": null,
   "metadata": {
    "colab": {
     "base_uri": "https://localhost:8080/",
     "height": 174
    },
    "execution": {
     "iopub.execute_input": "2024-12-08T18:36:17.501863Z",
     "iopub.status.busy": "2024-12-08T18:36:17.501611Z",
     "iopub.status.idle": "2024-12-08T18:36:17.519260Z",
     "shell.execute_reply": "2024-12-08T18:36:17.518190Z"
    },
    "id": "h5LOmW2RwYRv",
    "outputId": "fab46ba2-40d1-4689-bd1f-3e6a4e9bbecb"
   },
   "outputs": [],
   "source": [
    "# view stimulus parameters\n",
    "dataset.arg_df\n",
    "# the dataset has four samples, one corresponding to each row"
   ]
  },
  {
   "cell_type": "code",
   "execution_count": null,
   "metadata": {
    "colab": {
     "base_uri": "https://localhost:8080/",
     "height": 225
    },
    "execution": {
     "iopub.execute_input": "2024-12-08T18:36:17.566534Z",
     "iopub.status.busy": "2024-12-08T18:36:17.566030Z",
     "iopub.status.idle": "2024-12-08T18:36:19.614521Z",
     "shell.execute_reply": "2024-12-08T18:36:19.613372Z"
    },
    "id": "7g9pyNQcmmbz",
    "outputId": "64d777d1-135a-4a68-a183-1681e21e2e2d"
   },
   "outputs": [],
   "source": [
    "# visualize single sample\n",
    "# %#matplotlib notebook\n",
    "animation = HexScatter(\n",
    "    dataset[3][None, ::25, None], vmin=0, vmax=1\n",
    ")  # intensity=1, radius=6\n",
    "animation.animate_in_notebook()"
   ]
  },
  {
   "cell_type": "markdown",
   "metadata": {
    "id": "W9NDyBDbwqhd"
   },
   "source": [
    "## Moving edge response\n",
    "\n",
    "Now that we have generated the stimulus, we can use it to drive a trained connectome-constrained network."
   ]
  },
  {
   "cell_type": "code",
   "execution_count": null,
   "metadata": {
    "execution": {
     "iopub.execute_input": "2024-12-08T18:36:19.620250Z",
     "iopub.status.busy": "2024-12-08T18:36:19.619976Z",
     "iopub.status.idle": "2024-12-08T18:36:19.869590Z",
     "shell.execute_reply": "2024-12-08T18:36:19.868389Z"
    },
    "id": "freOR6U0GWzS"
   },
   "outputs": [],
   "source": [
    "from flyvis import results_dir\n",
    "from flyvis.network import NetworkView\n",
    "\n",
    "# model are already sorted by task error\n",
    "# we take the best task-performing model from the pre-sorted ensemble\n",
    "network_view = NetworkView(results_dir / \"flow/0000/000\")"
   ]
  },
  {
   "cell_type": "code",
   "execution_count": null,
   "metadata": {
    "execution": {
     "iopub.execute_input": "2024-12-08T18:36:19.874824Z",
     "iopub.status.busy": "2024-12-08T18:36:19.874461Z",
     "iopub.status.idle": "2024-12-08T18:36:20.352609Z",
     "shell.execute_reply": "2024-12-08T18:36:20.351410Z"
    }
   },
   "outputs": [],
   "source": [
    "stims_and_resps = network_view.moving_edge_responses(dataset)"
   ]
  },
  {
   "cell_type": "markdown",
   "metadata": {
    "id": "TMDaiOxA4Nn_"
   },
   "source": [
    "We've now computed network moving edge responses for all cells in the network."
   ]
  },
  {
   "cell_type": "markdown",
   "metadata": {
    "id": "unO9i3aL5FaS"
   },
   "source": [
    "### Response traces\n",
    "We can plot single-cell response traces with `stims_and_resps['responses'].custom.plot_traces()`. Here, we plot responses of T4c cells to edges with intensity 1 (ON edges)."
   ]
  },
  {
   "cell_type": "code",
   "execution_count": null,
   "metadata": {
    "execution": {
     "iopub.execute_input": "2024-12-08T18:36:20.356983Z",
     "iopub.status.busy": "2024-12-08T18:36:20.356657Z",
     "iopub.status.idle": "2024-12-08T18:36:20.872407Z",
     "shell.execute_reply": "2024-12-08T18:36:20.871498Z"
    }
   },
   "outputs": [],
   "source": [
    "stims_and_resps[\"responses\"].custom.where(\n",
    "    cell_type=\"T4c\", intensity=1, time=\">-0.5,<1.0\"\n",
    ").custom.plot_traces(x=\"time\", legend_labels=[\"angle\"])\n",
    "ax = plt.gca()\n",
    "ax.set_title(\"T4c responses to moving edge\")"
   ]
  },
  {
   "cell_type": "markdown",
   "metadata": {
    "id": "6FOTQtIR5RMu"
   },
   "source": [
    "### Direction selectivity index (DSI)\n",
    "\n",
    "The **Direction Selectivity Index (DSI)** quantifies a cell's preference for stimuli moving in a particular direction.\n",
    "\n",
    "The DSI is derived from the following steps:\n",
    "1. Obtain the neuron's peak responses to stimuli moving in different directions $\\theta$ and at different speeds $S$.\n",
    "2. Rectify these peak responses to ensure they are non-negative.\n",
    "3. Compute the DSI using the equation:\n",
    "\n",
    "$$\n",
    "DSI_{t_i}(I) = \\frac{1}{\\lvert S \\rvert} \\sum_{S \\in S} \\left\\lvert \\frac{\\sum_{\\theta \\in \\Theta} r^{peak}_{t_{central}}(I, S, \\theta) e^{i\\theta}}{\\max_{I \\in I} \\left\\lvert \\sum_{\\theta \\in \\Theta} r^{peak}_{t_{central}}(I, S, \\theta) \\right\\rvert} \\right\\rvert\n",
    "$$\n",
    "\n",
    "Where:\n",
    "- $DSI_{t_i}(I)$ is the Direction Selectivity Index for cell type $t_i$ at stimulus intensity $I$.\n",
    "- $\\lvert S \\rvert$ is the number of different speeds at which stimuli are moved.\n",
    "- $r^{peak}_{t_{central}}(I, S, \\theta)$ represents the rectified peak response of the central cell in hexagonal space of a cell type, for a given stimulus intensity $I$, speed $S$, and direction $\\theta$.\n",
    "- $\\theta$ is varied across all tested directions $\\Theta$.\n",
    "- $e^{i\\theta}$ introduces the directional component by weighting the response by the complex exponential of the angle of movement.\n",
    "- The denominator normalizes the responses, ensuring that DSI values range from 0 to 1.\n",
    "\n",
    "The DSI values range from 0 to 1. A DSI of 0 indicates no directional preference, while a DSI of 1 indicates a strong preference for a specific direction."
   ]
  },
  {
   "cell_type": "markdown",
   "metadata": {
    "id": "tSuPrIG97qwE"
   },
   "source": [
    "For the T4c cell plotted before, we can see that it preferentially responds to ON edges moving at an angle of 60 degrees, so we expect to see a large DSI.\n",
    "\n",
    " We compute the DSI with `flyvis.analysis.direction_selectivity_index`."
   ]
  },
  {
   "cell_type": "code",
   "execution_count": null,
   "metadata": {
    "execution": {
     "iopub.execute_input": "2024-12-08T18:36:20.885197Z",
     "iopub.status.busy": "2024-12-08T18:36:20.884705Z",
     "iopub.status.idle": "2024-12-08T18:36:20.891235Z",
     "shell.execute_reply": "2024-12-08T18:36:20.889923Z"
    }
   },
   "outputs": [],
   "source": [
    "from flyvis.analysis.moving_bar_responses import direction_selectivity_index"
   ]
  },
  {
   "cell_type": "code",
   "execution_count": null,
   "metadata": {
    "execution": {
     "iopub.execute_input": "2024-12-08T18:36:20.895414Z",
     "iopub.status.busy": "2024-12-08T18:36:20.895180Z",
     "iopub.status.idle": "2024-12-08T18:36:20.925405Z",
     "shell.execute_reply": "2024-12-08T18:36:20.924405Z"
    }
   },
   "outputs": [],
   "source": [
    "# get DSI for T4c cell\n",
    "dsis = direction_selectivity_index(stims_and_resps)\n",
    "print(f\"T4c DSI: {dsis.custom.where(cell_type='T4c', intensity=1).item():.2f}\")"
   ]
  },
  {
   "cell_type": "markdown",
   "metadata": {},
   "source": [
    "We compute the preferred direction of the cell with `flyvis.analysis.preferred_direction` (this is the direction that the tuning lobe points towards). We would expect the preferred direction to be around 60 degrees based on the response traces."
   ]
  },
  {
   "cell_type": "code",
   "execution_count": null,
   "metadata": {
    "execution": {
     "iopub.execute_input": "2024-12-08T18:36:20.929135Z",
     "iopub.status.busy": "2024-12-08T18:36:20.928929Z",
     "iopub.status.idle": "2024-12-08T18:36:20.933132Z",
     "shell.execute_reply": "2024-12-08T18:36:20.932081Z"
    }
   },
   "outputs": [],
   "source": [
    "from flyvis.analysis.moving_bar_responses import preferred_direction"
   ]
  },
  {
   "cell_type": "code",
   "execution_count": null,
   "metadata": {
    "execution": {
     "iopub.execute_input": "2024-12-08T18:36:20.936894Z",
     "iopub.status.busy": "2024-12-08T18:36:20.936600Z",
     "iopub.status.idle": "2024-12-08T18:36:20.960998Z",
     "shell.execute_reply": "2024-12-08T18:36:20.960092Z"
    }
   },
   "outputs": [],
   "source": [
    "pds = preferred_direction(stims_and_resps)\n",
    "print(\n",
    "    f\"T4c preferred direction: {pds.custom.where(cell_type='T4c', intensity=1).item() / np.pi * 180:.2f} degrees\"\n",
    ")"
   ]
  },
  {
   "cell_type": "markdown",
   "metadata": {},
   "source": [
    "We can also inspect the direction selecity of a cell type visually, by plotting the angular tuning with `plot_angular_tuning`.\n",
    "\n",
    "Here we see clearly how the cell is tuned to stimuli moving at a 60 degree angle."
   ]
  },
  {
   "cell_type": "code",
   "execution_count": null,
   "metadata": {
    "execution": {
     "iopub.execute_input": "2024-12-08T18:36:20.964663Z",
     "iopub.status.busy": "2024-12-08T18:36:20.964391Z",
     "iopub.status.idle": "2024-12-08T18:36:20.968794Z",
     "shell.execute_reply": "2024-12-08T18:36:20.967835Z"
    }
   },
   "outputs": [],
   "source": [
    "from flyvis.analysis.moving_bar_responses import plot_angular_tuning"
   ]
  },
  {
   "cell_type": "code",
   "execution_count": null,
   "metadata": {
    "execution": {
     "iopub.execute_input": "2024-12-08T18:36:20.972466Z",
     "iopub.status.busy": "2024-12-08T18:36:20.972075Z",
     "iopub.status.idle": "2024-12-08T18:36:21.353495Z",
     "shell.execute_reply": "2024-12-08T18:36:21.352386Z"
    }
   },
   "outputs": [],
   "source": [
    "plot_angular_tuning(stims_and_resps, cell_type=\"T4c\", intensity=1)"
   ]
  },
  {
   "cell_type": "markdown",
   "metadata": {
    "id": "myPGKYPDTmES"
   },
   "source": [
    "### DSI  and tuning curve correlation\n",
    "\n",
    "With the `dsi()` function we can also compute DSIs for every cell type at once. Since the selectivity of some cell types have been determined experimentally, we can then compare our model to experimental findings by computing the correlation between the model DSIs for known cell types with their expected motion selectivity."
   ]
  },
  {
   "cell_type": "code",
   "execution_count": null,
   "metadata": {
    "colab": {
     "base_uri": "https://localhost:8080/"
    },
    "execution": {
     "iopub.execute_input": "2024-12-08T18:36:21.359061Z",
     "iopub.status.busy": "2024-12-08T18:36:21.358527Z",
     "iopub.status.idle": "2024-12-08T18:36:21.363550Z",
     "shell.execute_reply": "2024-12-08T18:36:21.362582Z"
    },
    "id": "rwlNfeC_oXu-",
    "outputId": "0039cdb0-b3be-46b0-8146-d0b76ddf23ad"
   },
   "outputs": [],
   "source": [
    "from flyvis.analysis.moving_bar_responses import dsi_correlation_to_known"
   ]
  },
  {
   "cell_type": "code",
   "execution_count": null,
   "metadata": {
    "execution": {
     "iopub.execute_input": "2024-12-08T18:36:21.367313Z",
     "iopub.status.busy": "2024-12-08T18:36:21.367052Z",
     "iopub.status.idle": "2024-12-08T18:36:21.399932Z",
     "shell.execute_reply": "2024-12-08T18:36:21.398983Z"
    }
   },
   "outputs": [],
   "source": [
    "dsi_corr = dsi_correlation_to_known(direction_selectivity_index(stims_and_resps)).median()"
   ]
  },
  {
   "cell_type": "code",
   "execution_count": null,
   "metadata": {
    "execution": {
     "iopub.execute_input": "2024-12-08T18:36:21.404905Z",
     "iopub.status.busy": "2024-12-08T18:36:21.404656Z",
     "iopub.status.idle": "2024-12-08T18:36:21.409417Z",
     "shell.execute_reply": "2024-12-08T18:36:21.408492Z"
    }
   },
   "outputs": [],
   "source": [
    "print(f\"DSI correlation = {dsi_corr.item(): .2f}\")"
   ]
  },
  {
   "cell_type": "markdown",
   "metadata": {},
   "source": [
    "Further, for certain cell types, their actual tuning curves have also been measured experimentally, so we can correlate our model cell's tuning to the true values. For T4c, the cell is known to tune to stimuli moving at 90 degrees, so the correlation should be relatively high."
   ]
  },
  {
   "cell_type": "code",
   "execution_count": null,
   "metadata": {
    "execution": {
     "iopub.execute_input": "2024-12-08T18:36:21.413771Z",
     "iopub.status.busy": "2024-12-08T18:36:21.413367Z",
     "iopub.status.idle": "2024-12-08T18:36:21.417898Z",
     "shell.execute_reply": "2024-12-08T18:36:21.416924Z"
    }
   },
   "outputs": [],
   "source": [
    "from flyvis.analysis.moving_bar_responses import correlation_to_known_tuning_curves"
   ]
  },
  {
   "cell_type": "code",
   "execution_count": null,
   "metadata": {
    "execution": {
     "iopub.execute_input": "2024-12-08T18:36:21.421632Z",
     "iopub.status.busy": "2024-12-08T18:36:21.421312Z",
     "iopub.status.idle": "2024-12-08T18:36:21.463179Z",
     "shell.execute_reply": "2024-12-08T18:36:21.462466Z"
    }
   },
   "outputs": [],
   "source": [
    "corrs = correlation_to_known_tuning_curves(stims_and_resps)"
   ]
  },
  {
   "cell_type": "code",
   "execution_count": null,
   "metadata": {
    "execution": {
     "iopub.execute_input": "2024-12-08T18:36:21.467948Z",
     "iopub.status.busy": "2024-12-08T18:36:21.467553Z",
     "iopub.status.idle": "2024-12-08T18:36:21.483849Z",
     "shell.execute_reply": "2024-12-08T18:36:21.482791Z"
    }
   },
   "outputs": [],
   "source": [
    "print(\n",
    "    f\"T4c tuning curve correlation = {corrs.custom.where(cell_type='T4c', intensity=1).squeeze().item():.2f}\"\n",
    ")"
   ]
  },
  {
   "cell_type": "markdown",
   "metadata": {},
   "source": [
    "In fact, tuning curves for all T4 and T5 cells have been measured, so we can compute the correlation for all 8 cell types."
   ]
  },
  {
   "cell_type": "code",
   "execution_count": null,
   "metadata": {
    "execution": {
     "iopub.execute_input": "2024-12-08T18:36:21.487764Z",
     "iopub.status.busy": "2024-12-08T18:36:21.487522Z",
     "iopub.status.idle": "2024-12-08T18:36:21.515572Z",
     "shell.execute_reply": "2024-12-08T18:36:21.514567Z"
    }
   },
   "outputs": [],
   "source": [
    "t4_corrs = corrs.custom.where(cell_type=[\"T4a\", \"T4b\", \"T4c\", \"T4d\"], intensity=1)\n",
    "t5_corrs = corrs.custom.where(cell_type=[\"T5a\", \"T5b\", \"T5c\", \"T5d\"], intensity=0)"
   ]
  },
  {
   "cell_type": "code",
   "execution_count": null,
   "metadata": {
    "execution": {
     "iopub.execute_input": "2024-12-08T18:36:21.520076Z",
     "iopub.status.busy": "2024-12-08T18:36:21.519870Z",
     "iopub.status.idle": "2024-12-08T18:36:21.525118Z",
     "shell.execute_reply": "2024-12-08T18:36:21.524194Z"
    }
   },
   "outputs": [],
   "source": [
    "print(\n",
    "    f\"T4 tuning curve correlations: {t4_corrs.cell_type.values}\\n{t4_corrs.squeeze().values}\"\n",
    ")"
   ]
  },
  {
   "cell_type": "code",
   "execution_count": null,
   "metadata": {
    "execution": {
     "iopub.execute_input": "2024-12-08T18:36:21.528735Z",
     "iopub.status.busy": "2024-12-08T18:36:21.528357Z",
     "iopub.status.idle": "2024-12-08T18:36:21.534285Z",
     "shell.execute_reply": "2024-12-08T18:36:21.533326Z"
    }
   },
   "outputs": [],
   "source": [
    "print(\n",
    "    f\"T5 tuning curve correlations: {t5_corrs.cell_type.values}\\n{t5_corrs.squeeze().values}\"\n",
    ")"
   ]
  },
  {
   "cell_type": "markdown",
   "metadata": {},
   "source": [
    "So, the model yields accurate predictions for all T4 and T5 cell types."
   ]
  },
  {
   "cell_type": "markdown",
   "metadata": {
    "id": "XrG_yZ6IaVdD"
   },
   "source": [
    "## Ensemble responses\n",
    "\n",
    "Now we can compare motion selectivity properties across an ensemble of trained models. First we need to again simulate the network responses."
   ]
  },
  {
   "cell_type": "code",
   "execution_count": null,
   "metadata": {
    "execution": {
     "iopub.execute_input": "2024-12-08T18:36:21.538318Z",
     "iopub.status.busy": "2024-12-08T18:36:21.537939Z",
     "iopub.status.idle": "2024-12-08T18:36:37.195354Z",
     "shell.execute_reply": "2024-12-08T18:36:37.193777Z"
    },
    "id": "HAci8A5MYu9d"
   },
   "outputs": [],
   "source": [
    "from flyvis import EnsembleView\n",
    "\n",
    "ensemble = EnsembleView(results_dir / \"flow/0000\")\n",
    "# choose best 10\n",
    "ensemble = ensemble[ensemble.argsort()[:10]]"
   ]
  },
  {
   "cell_type": "code",
   "execution_count": null,
   "metadata": {
    "execution": {
     "iopub.execute_input": "2024-12-08T18:36:37.201209Z",
     "iopub.status.busy": "2024-12-08T18:36:37.200821Z",
     "iopub.status.idle": "2024-12-08T18:36:40.100151Z",
     "shell.execute_reply": "2024-12-08T18:36:40.098069Z"
    }
   },
   "outputs": [],
   "source": [
    "%%capture\n",
    "stims_and_resps = ensemble.moving_edge_responses(dataset=dataset)"
   ]
  },
  {
   "cell_type": "markdown",
   "metadata": {
    "id": "e342YYovvEPw"
   },
   "source": [
    "### Response traces\n",
    "\n",
    "We can once again plot response traces for a single cell type. \n",
    "\n",
    "We subtract the initial value of each trace and divide by the max as the network neuron activities are in arbitrary units. \n",
    "\n",
    "We plot only T4c responses to ON edges moving at a 90-degree angle."
   ]
  },
  {
   "cell_type": "code",
   "execution_count": null,
   "metadata": {
    "execution": {
     "iopub.execute_input": "2024-12-08T18:36:40.106141Z",
     "iopub.status.busy": "2024-12-08T18:36:40.105797Z",
     "iopub.status.idle": "2024-12-08T18:36:40.138991Z",
     "shell.execute_reply": "2024-12-08T18:36:40.137739Z"
    }
   },
   "outputs": [],
   "source": [
    "responses = (\n",
    "    stims_and_resps[\"responses\"]\n",
    "    - stims_and_resps[\"responses\"].custom.where(time=0).values\n",
    ")"
   ]
  },
  {
   "cell_type": "code",
   "execution_count": null,
   "metadata": {
    "execution": {
     "iopub.execute_input": "2024-12-08T18:36:40.143199Z",
     "iopub.status.busy": "2024-12-08T18:36:40.142884Z",
     "iopub.status.idle": "2024-12-08T18:36:40.200682Z",
     "shell.execute_reply": "2024-12-08T18:36:40.199375Z"
    }
   },
   "outputs": [],
   "source": [
    "responses = responses / np.abs(responses).max((\"sample\", \"frame\"))"
   ]
  },
  {
   "cell_type": "code",
   "execution_count": null,
   "metadata": {
    "execution": {
     "iopub.execute_input": "2024-12-08T18:36:40.204813Z",
     "iopub.status.busy": "2024-12-08T18:36:40.204493Z",
     "iopub.status.idle": "2024-12-08T18:36:40.638228Z",
     "shell.execute_reply": "2024-12-08T18:36:40.637009Z"
    }
   },
   "outputs": [],
   "source": [
    "responses.custom.where(\n",
    "    cell_type=\"T4c\",\n",
    "    intensity=1,\n",
    "    time=\">-0.5,<1.0\",\n",
    "    angle=90,\n",
    ").custom.plot_traces(\n",
    "    x=\"time\", plot_kwargs=dict(color=\"tab:blue\"), legend_labels=[\"network_id\"]\n",
    ")"
   ]
  },
  {
   "cell_type": "markdown",
   "metadata": {
    "id": "_O9bDAuGv8xC"
   },
   "source": [
    "Though for most networks T4c responses are correctly predicted to the stimuli, there are some networks in the ensemble with different responses."
   ]
  },
  {
   "cell_type": "markdown",
   "metadata": {
    "id": "YYgWkeNbwDbJ"
   },
   "source": [
    "### Direction selectivity index (DSI)\n",
    "\n",
    "We can also compute direction selectivity indices for each network in the ensemble."
   ]
  },
  {
   "cell_type": "code",
   "execution_count": null,
   "metadata": {
    "execution": {
     "iopub.execute_input": "2024-12-08T18:36:40.648673Z",
     "iopub.status.busy": "2024-12-08T18:36:40.648373Z",
     "iopub.status.idle": "2024-12-08T18:36:40.707852Z",
     "shell.execute_reply": "2024-12-08T18:36:40.706419Z"
    }
   },
   "outputs": [],
   "source": [
    "dsis = direction_selectivity_index(stims_and_resps)"
   ]
  },
  {
   "cell_type": "code",
   "execution_count": null,
   "metadata": {
    "execution": {
     "iopub.execute_input": "2024-12-08T18:36:40.711032Z",
     "iopub.status.busy": "2024-12-08T18:36:40.710814Z",
     "iopub.status.idle": "2024-12-08T18:36:41.012611Z",
     "shell.execute_reply": "2024-12-08T18:36:41.011596Z"
    }
   },
   "outputs": [],
   "source": [
    "dsis.custom.where(cell_type=\"T4c\", intensity=1).plot.hist()\n",
    "ax = plt.gca()\n",
    "ax.set_title(\"T4c DSI distribution\")\n",
    "ax.set_ylabel(\"Number of networks\")"
   ]
  },
  {
   "cell_type": "markdown",
   "metadata": {
    "id": "lbKyqrQewUNf"
   },
   "source": [
    "Most networks in this group recover some direction selectivity for T4c. We can also plot the distribution of DSIs per cell type for both ON and OFF-edge stimuli across the ensemble."
   ]
  },
  {
   "cell_type": "code",
   "execution_count": null,
   "metadata": {
    "colab": {
     "base_uri": "https://localhost:8080/",
     "height": 145
    },
    "execution": {
     "iopub.execute_input": "2024-12-08T18:36:41.018977Z",
     "iopub.status.busy": "2024-12-08T18:36:41.018564Z",
     "iopub.status.idle": "2024-12-08T18:36:43.001838Z",
     "shell.execute_reply": "2024-12-08T18:36:43.000608Z"
    },
    "id": "aqxdwgnswsUf",
    "outputId": "79230e4d-ecff-449e-9054-805c661b114b"
   },
   "outputs": [],
   "source": [
    "from flyvis.analysis.moving_bar_responses import dsi_violins_on_and_off\n",
    "\n",
    "fig, ax = dsi_violins_on_and_off(\n",
    "    dsis,\n",
    "    dsis.cell_type,\n",
    "    bold_output_type_labels=True,\n",
    "    output_cell_types=ensemble[ensemble.names[0]]\n",
    "    .connectome.output_cell_types[:]\n",
    "    .astype(str),\n",
    "    figsize=[10, 1.2],\n",
    "    color_known_types=True,\n",
    "    fontsize=6,\n",
    "    scatter_best_index=0,\n",
    "    scatter_best_color=plt.get_cmap(\"Blues\")(1.0),\n",
    ")"
   ]
  },
  {
   "cell_type": "markdown",
   "metadata": {
    "id": "KhJO6lMvX3fo"
   },
   "source": [
    "### DSI correlation\n",
    "\n",
    "Lastly, we look at the correlations to ground-truth DSIs and tuning curves across the ensemble. This provides us with a high-level understanding of the accuracy of known motion tuning predictions. "
   ]
  },
  {
   "cell_type": "code",
   "execution_count": null,
   "metadata": {
    "execution": {
     "iopub.execute_input": "2024-12-08T18:36:43.017131Z",
     "iopub.status.busy": "2024-12-08T18:36:43.016625Z",
     "iopub.status.idle": "2024-12-08T18:36:43.087687Z",
     "shell.execute_reply": "2024-12-08T18:36:43.086353Z"
    }
   },
   "outputs": [],
   "source": [
    "dsi_corr = dsi_correlation_to_known(direction_selectivity_index(stims_and_resps))"
   ]
  },
  {
   "cell_type": "code",
   "execution_count": null,
   "metadata": {
    "execution": {
     "iopub.execute_input": "2024-12-08T18:36:43.092286Z",
     "iopub.status.busy": "2024-12-08T18:36:43.092082Z",
     "iopub.status.idle": "2024-12-08T18:36:43.174801Z",
     "shell.execute_reply": "2024-12-08T18:36:43.173775Z"
    }
   },
   "outputs": [],
   "source": [
    "tuning_corrs = correlation_to_known_tuning_curves(stims_and_resps)"
   ]
  },
  {
   "cell_type": "code",
   "execution_count": null,
   "metadata": {
    "execution": {
     "iopub.execute_input": "2024-12-08T18:36:43.179435Z",
     "iopub.status.busy": "2024-12-08T18:36:43.179213Z",
     "iopub.status.idle": "2024-12-08T18:36:43.209067Z",
     "shell.execute_reply": "2024-12-08T18:36:43.208140Z"
    }
   },
   "outputs": [],
   "source": [
    "t4_corrs = (\n",
    "    tuning_corrs.custom.where(cell_type=[\"T4a\", \"T4b\", \"T4c\", \"T4d\"], intensity=1)\n",
    "    .median(\"neuron\")\n",
    "    .squeeze()\n",
    ")\n",
    "t5_corrs = (\n",
    "    tuning_corrs.custom.where(cell_type=[\"T5a\", \"T5b\", \"T5c\", \"T5d\"], intensity=0)\n",
    "    .median(\"neuron\")\n",
    "    .squeeze()\n",
    ")"
   ]
  },
  {
   "cell_type": "code",
   "execution_count": null,
   "metadata": {
    "execution": {
     "iopub.execute_input": "2024-12-08T18:36:43.213234Z",
     "iopub.status.busy": "2024-12-08T18:36:43.213004Z",
     "iopub.status.idle": "2024-12-08T18:36:43.219230Z",
     "shell.execute_reply": "2024-12-08T18:36:43.218152Z"
    }
   },
   "outputs": [],
   "source": [
    "dsi_corr.shape, t4_corrs.shape, t5_corrs.shape"
   ]
  },
  {
   "cell_type": "code",
   "execution_count": null,
   "metadata": {
    "colab": {
     "base_uri": "https://localhost:8080/",
     "height": 440
    },
    "execution": {
     "iopub.execute_input": "2024-12-08T18:36:43.222951Z",
     "iopub.status.busy": "2024-12-08T18:36:43.222572Z",
     "iopub.status.idle": "2024-12-08T18:36:43.414044Z",
     "shell.execute_reply": "2024-12-08T18:36:43.413171Z"
    },
    "id": "Y8yyYrc7PgG0",
    "outputId": "bf69683d-811e-4307-e8e0-d1d957f29545"
   },
   "outputs": [],
   "source": [
    "from flyvis.analysis.visualization.plots import violin_groups\n",
    "\n",
    "fig, ax, *_ = violin_groups(\n",
    "    np.stack([dsi_corr.values, t4_corrs.values, t5_corrs.values], axis=0)[:, None, :],\n",
    "    [\"DSI\", \"T4 tuning\", \"T5 tuning\"],\n",
    "    ylabel=\"correlation\",\n",
    "    figsize=(1.8, 1.5),\n",
    "    ylim=(-1, 1),\n",
    "    colors=[\n",
    "        plt.get_cmap(\"Dark2\")(0.125),\n",
    "        plt.get_cmap(\"Dark2\")(0),\n",
    "        plt.get_cmap(\"Dark2\")(0.25),\n",
    "    ],\n",
    "    color_by=\"experiments\",\n",
    "    scatter_edge_color=\"gray\",\n",
    "    scatter_radius=5,\n",
    "    violin_alpha=0.8,\n",
    ")"
   ]
  },
  {
   "cell_type": "markdown",
   "metadata": {
    "id": "jorqXMxCZ4B4"
   },
   "source": [
    "<!-- ... Models in general have very good match to known single-neuron tuning properties, with median correlation around $0.8$. -->"
   ]
  }
 ],
 "metadata": {
  "colab": {
   "provenance": []
  },
  "kernelspec": {
   "display_name": "Python 3 (ipykernel)",
   "language": "python",
   "name": "python3"
  },
  "language_info": {
   "codemirror_mode": {
    "name": "ipython",
    "version": 3
   },
   "file_extension": ".py",
   "mimetype": "text/x-python",
   "name": "python",
   "nbconvert_exporter": "python",
   "pygments_lexer": "ipython3",
   "version": "3.9.16"
  },
  "toc": {
   "base_numbering": 1,
   "nav_menu": {},
   "number_sections": true,
   "sideBar": true,
   "skip_h1_title": false,
   "title_cell": "Table of Contents",
   "title_sidebar": "Contents",
   "toc_cell": false,
   "toc_position": {},
   "toc_section_display": true,
   "toc_window_display": false
  },
  "widgets": {
   "application/vnd.jupyter.widget-state+json": {
    "state": {
     "04c3e47c30f84420a0a91391774a4b30": {
      "model_module": "@jupyter-widgets/controls",
      "model_module_version": "2.0.0",
      "model_name": "HBoxModel",
      "state": {
       "_dom_classes": [],
       "_model_module": "@jupyter-widgets/controls",
       "_model_module_version": "2.0.0",
       "_model_name": "HBoxModel",
       "_view_count": null,
       "_view_module": "@jupyter-widgets/controls",
       "_view_module_version": "2.0.0",
       "_view_name": "HBoxView",
       "box_style": "",
       "children": [
        "IPY_MODEL_10aa185bfe004a09ae522820af564427",
        "IPY_MODEL_6c3582aba7d24f71b02e9092906f11e5",
        "IPY_MODEL_773554c4860348a4865c46375d9b44b1"
       ],
       "layout": "IPY_MODEL_d39a259abf40412caea93d2b38795111",
       "tabbable": null,
       "tooltip": null
      }
     },
     "10aa185bfe004a09ae522820af564427": {
      "model_module": "@jupyter-widgets/controls",
      "model_module_version": "2.0.0",
      "model_name": "HTMLModel",
      "state": {
       "_dom_classes": [],
       "_model_module": "@jupyter-widgets/controls",
       "_model_module_version": "2.0.0",
       "_model_name": "HTMLModel",
       "_view_count": null,
       "_view_module": "@jupyter-widgets/controls",
       "_view_module_version": "2.0.0",
       "_view_name": "HTMLView",
       "description": "",
       "description_allow_html": false,
       "layout": "IPY_MODEL_e205e4e08ab64cf6801cc4a0d68224c8",
       "placeholder": "​",
       "style": "IPY_MODEL_6ae6eec453d247b4b5991670378c8f2d",
       "tabbable": null,
       "tooltip": null,
       "value": "Loading ensemble: 100%"
      }
     },
     "10e14662670946758f8220589a4dedb9": {
      "model_module": "@jupyter-widgets/base",
      "model_module_version": "2.0.0",
      "model_name": "LayoutModel",
      "state": {
       "_model_module": "@jupyter-widgets/base",
       "_model_module_version": "2.0.0",
       "_model_name": "LayoutModel",
       "_view_count": null,
       "_view_module": "@jupyter-widgets/base",
       "_view_module_version": "2.0.0",
       "_view_name": "LayoutView",
       "align_content": null,
       "align_items": null,
       "align_self": null,
       "border_bottom": null,
       "border_left": null,
       "border_right": null,
       "border_top": null,
       "bottom": null,
       "display": null,
       "flex": null,
       "flex_flow": null,
       "grid_area": null,
       "grid_auto_columns": null,
       "grid_auto_flow": null,
       "grid_auto_rows": null,
       "grid_column": null,
       "grid_gap": null,
       "grid_row": null,
       "grid_template_areas": null,
       "grid_template_columns": null,
       "grid_template_rows": null,
       "height": null,
       "justify_content": null,
       "justify_items": null,
       "left": null,
       "margin": null,
       "max_height": null,
       "max_width": null,
       "min_height": null,
       "min_width": null,
       "object_fit": null,
       "object_position": null,
       "order": null,
       "overflow": null,
       "padding": null,
       "right": null,
       "top": null,
       "visibility": null,
       "width": null
      }
     },
     "24de005189d44a10bb3501cd3fa3b8ef": {
      "model_module": "@jupyter-widgets/controls",
      "model_module_version": "2.0.0",
      "model_name": "HTMLStyleModel",
      "state": {
       "_model_module": "@jupyter-widgets/controls",
       "_model_module_version": "2.0.0",
       "_model_name": "HTMLStyleModel",
       "_view_count": null,
       "_view_module": "@jupyter-widgets/base",
       "_view_module_version": "2.0.0",
       "_view_name": "StyleView",
       "background": null,
       "description_width": "",
       "font_size": null,
       "text_color": null
      }
     },
     "4b9022b7099e4087be93d37fbe1a18dd": {
      "model_module": "@jupyter-widgets/base",
      "model_module_version": "2.0.0",
      "model_name": "LayoutModel",
      "state": {
       "_model_module": "@jupyter-widgets/base",
       "_model_module_version": "2.0.0",
       "_model_name": "LayoutModel",
       "_view_count": null,
       "_view_module": "@jupyter-widgets/base",
       "_view_module_version": "2.0.0",
       "_view_name": "LayoutView",
       "align_content": null,
       "align_items": null,
       "align_self": null,
       "border_bottom": null,
       "border_left": null,
       "border_right": null,
       "border_top": null,
       "bottom": null,
       "display": null,
       "flex": null,
       "flex_flow": null,
       "grid_area": null,
       "grid_auto_columns": null,
       "grid_auto_flow": null,
       "grid_auto_rows": null,
       "grid_column": null,
       "grid_gap": null,
       "grid_row": null,
       "grid_template_areas": null,
       "grid_template_columns": null,
       "grid_template_rows": null,
       "height": null,
       "justify_content": null,
       "justify_items": null,
       "left": null,
       "margin": null,
       "max_height": null,
       "max_width": null,
       "min_height": null,
       "min_width": null,
       "object_fit": null,
       "object_position": null,
       "order": null,
       "overflow": null,
       "padding": null,
       "right": null,
       "top": null,
       "visibility": null,
       "width": null
      }
     },
     "5513e7fa105645feb3fa4565d2803007": {
      "model_module": "@jupyter-widgets/controls",
      "model_module_version": "2.0.0",
      "model_name": "FloatProgressModel",
      "state": {
       "_dom_classes": [],
       "_model_module": "@jupyter-widgets/controls",
       "_model_module_version": "2.0.0",
       "_model_name": "FloatProgressModel",
       "_view_count": null,
       "_view_module": "@jupyter-widgets/controls",
       "_view_module_version": "2.0.0",
       "_view_name": "ProgressView",
       "bar_style": "success",
       "description": "",
       "description_allow_html": false,
       "layout": "IPY_MODEL_4b9022b7099e4087be93d37fbe1a18dd",
       "max": 50.0,
       "min": 0.0,
       "orientation": "horizontal",
       "style": "IPY_MODEL_bb68bc0f40904d64abbc28523a1e7402",
       "tabbable": null,
       "tooltip": null,
       "value": 50.0
      }
     },
     "6a23f0be6f7145b08bdc5ae6ce739f9a": {
      "model_module": "@jupyter-widgets/controls",
      "model_module_version": "2.0.0",
      "model_name": "HTMLStyleModel",
      "state": {
       "_model_module": "@jupyter-widgets/controls",
       "_model_module_version": "2.0.0",
       "_model_name": "HTMLStyleModel",
       "_view_count": null,
       "_view_module": "@jupyter-widgets/base",
       "_view_module_version": "2.0.0",
       "_view_name": "StyleView",
       "background": null,
       "description_width": "",
       "font_size": null,
       "text_color": null
      }
     },
     "6ae6eec453d247b4b5991670378c8f2d": {
      "model_module": "@jupyter-widgets/controls",
      "model_module_version": "2.0.0",
      "model_name": "HTMLStyleModel",
      "state": {
       "_model_module": "@jupyter-widgets/controls",
       "_model_module_version": "2.0.0",
       "_model_name": "HTMLStyleModel",
       "_view_count": null,
       "_view_module": "@jupyter-widgets/base",
       "_view_module_version": "2.0.0",
       "_view_name": "StyleView",
       "background": null,
       "description_width": "",
       "font_size": null,
       "text_color": null
      }
     },
     "6c3582aba7d24f71b02e9092906f11e5": {
      "model_module": "@jupyter-widgets/controls",
      "model_module_version": "2.0.0",
      "model_name": "FloatProgressModel",
      "state": {
       "_dom_classes": [],
       "_model_module": "@jupyter-widgets/controls",
       "_model_module_version": "2.0.0",
       "_model_name": "FloatProgressModel",
       "_view_count": null,
       "_view_module": "@jupyter-widgets/controls",
       "_view_module_version": "2.0.0",
       "_view_name": "ProgressView",
       "bar_style": "success",
       "description": "",
       "description_allow_html": false,
       "layout": "IPY_MODEL_10e14662670946758f8220589a4dedb9",
       "max": 10.0,
       "min": 0.0,
       "orientation": "horizontal",
       "style": "IPY_MODEL_f3032b0ce45441b3b3e1ddc1d5aeec38",
       "tabbable": null,
       "tooltip": null,
       "value": 10.0
      }
     },
     "773554c4860348a4865c46375d9b44b1": {
      "model_module": "@jupyter-widgets/controls",
      "model_module_version": "2.0.0",
      "model_name": "HTMLModel",
      "state": {
       "_dom_classes": [],
       "_model_module": "@jupyter-widgets/controls",
       "_model_module_version": "2.0.0",
       "_model_name": "HTMLModel",
       "_view_count": null,
       "_view_module": "@jupyter-widgets/controls",
       "_view_module_version": "2.0.0",
       "_view_name": "HTMLView",
       "description": "",
       "description_allow_html": false,
       "layout": "IPY_MODEL_e99a82e9ad0d41cb9c660b6634a2b785",
       "placeholder": "​",
       "style": "IPY_MODEL_8bab5e8d747e4f1f9effd3d2d9227ed2",
       "tabbable": null,
       "tooltip": null,
       "value": " 10/10 [00:02&lt;00:00,  3.89it/s]"
      }
     },
     "8bab5e8d747e4f1f9effd3d2d9227ed2": {
      "model_module": "@jupyter-widgets/controls",
      "model_module_version": "2.0.0",
      "model_name": "HTMLStyleModel",
      "state": {
       "_model_module": "@jupyter-widgets/controls",
       "_model_module_version": "2.0.0",
       "_model_name": "HTMLStyleModel",
       "_view_count": null,
       "_view_module": "@jupyter-widgets/base",
       "_view_module_version": "2.0.0",
       "_view_name": "StyleView",
       "background": null,
       "description_width": "",
       "font_size": null,
       "text_color": null
      }
     },
     "9170dcf8c84e4271aefb78bb06162329": {
      "model_module": "@jupyter-widgets/base",
      "model_module_version": "2.0.0",
      "model_name": "LayoutModel",
      "state": {
       "_model_module": "@jupyter-widgets/base",
       "_model_module_version": "2.0.0",
       "_model_name": "LayoutModel",
       "_view_count": null,
       "_view_module": "@jupyter-widgets/base",
       "_view_module_version": "2.0.0",
       "_view_name": "LayoutView",
       "align_content": null,
       "align_items": null,
       "align_self": null,
       "border_bottom": null,
       "border_left": null,
       "border_right": null,
       "border_top": null,
       "bottom": null,
       "display": null,
       "flex": null,
       "flex_flow": null,
       "grid_area": null,
       "grid_auto_columns": null,
       "grid_auto_flow": null,
       "grid_auto_rows": null,
       "grid_column": null,
       "grid_gap": null,
       "grid_row": null,
       "grid_template_areas": null,
       "grid_template_columns": null,
       "grid_template_rows": null,
       "height": null,
       "justify_content": null,
       "justify_items": null,
       "left": null,
       "margin": null,
       "max_height": null,
       "max_width": null,
       "min_height": null,
       "min_width": null,
       "object_fit": null,
       "object_position": null,
       "order": null,
       "overflow": null,
       "padding": null,
       "right": null,
       "top": null,
       "visibility": null,
       "width": null
      }
     },
     "bb68bc0f40904d64abbc28523a1e7402": {
      "model_module": "@jupyter-widgets/controls",
      "model_module_version": "2.0.0",
      "model_name": "ProgressStyleModel",
      "state": {
       "_model_module": "@jupyter-widgets/controls",
       "_model_module_version": "2.0.0",
       "_model_name": "ProgressStyleModel",
       "_view_count": null,
       "_view_module": "@jupyter-widgets/base",
       "_view_module_version": "2.0.0",
       "_view_name": "StyleView",
       "bar_color": null,
       "description_width": ""
      }
     },
     "c9b083469a4b49bd802b159c58db864b": {
      "model_module": "@jupyter-widgets/controls",
      "model_module_version": "2.0.0",
      "model_name": "HTMLModel",
      "state": {
       "_dom_classes": [],
       "_model_module": "@jupyter-widgets/controls",
       "_model_module_version": "2.0.0",
       "_model_name": "HTMLModel",
       "_view_count": null,
       "_view_module": "@jupyter-widgets/controls",
       "_view_module_version": "2.0.0",
       "_view_name": "HTMLView",
       "description": "",
       "description_allow_html": false,
       "layout": "IPY_MODEL_f56d130211d64efca164a786d8173775",
       "placeholder": "​",
       "style": "IPY_MODEL_24de005189d44a10bb3501cd3fa3b8ef",
       "tabbable": null,
       "tooltip": null,
       "value": "Loading ensemble: 100%"
      }
     },
     "d37e9284459246d7a731754e089947a9": {
      "model_module": "@jupyter-widgets/controls",
      "model_module_version": "2.0.0",
      "model_name": "HTMLModel",
      "state": {
       "_dom_classes": [],
       "_model_module": "@jupyter-widgets/controls",
       "_model_module_version": "2.0.0",
       "_model_name": "HTMLModel",
       "_view_count": null,
       "_view_module": "@jupyter-widgets/controls",
       "_view_module_version": "2.0.0",
       "_view_name": "HTMLView",
       "description": "",
       "description_allow_html": false,
       "layout": "IPY_MODEL_9170dcf8c84e4271aefb78bb06162329",
       "placeholder": "​",
       "style": "IPY_MODEL_6a23f0be6f7145b08bdc5ae6ce739f9a",
       "tabbable": null,
       "tooltip": null,
       "value": " 50/50 [00:11&lt;00:00,  4.03it/s]"
      }
     },
     "d39a259abf40412caea93d2b38795111": {
      "model_module": "@jupyter-widgets/base",
      "model_module_version": "2.0.0",
      "model_name": "LayoutModel",
      "state": {
       "_model_module": "@jupyter-widgets/base",
       "_model_module_version": "2.0.0",
       "_model_name": "LayoutModel",
       "_view_count": null,
       "_view_module": "@jupyter-widgets/base",
       "_view_module_version": "2.0.0",
       "_view_name": "LayoutView",
       "align_content": null,
       "align_items": null,
       "align_self": null,
       "border_bottom": null,
       "border_left": null,
       "border_right": null,
       "border_top": null,
       "bottom": null,
       "display": null,
       "flex": null,
       "flex_flow": null,
       "grid_area": null,
       "grid_auto_columns": null,
       "grid_auto_flow": null,
       "grid_auto_rows": null,
       "grid_column": null,
       "grid_gap": null,
       "grid_row": null,
       "grid_template_areas": null,
       "grid_template_columns": null,
       "grid_template_rows": null,
       "height": null,
       "justify_content": null,
       "justify_items": null,
       "left": null,
       "margin": null,
       "max_height": null,
       "max_width": null,
       "min_height": null,
       "min_width": null,
       "object_fit": null,
       "object_position": null,
       "order": null,
       "overflow": null,
       "padding": null,
       "right": null,
       "top": null,
       "visibility": null,
       "width": null
      }
     },
     "dc1c5e21e8044978a79dc85ceba4c81c": {
      "model_module": "@jupyter-widgets/base",
      "model_module_version": "2.0.0",
      "model_name": "LayoutModel",
      "state": {
       "_model_module": "@jupyter-widgets/base",
       "_model_module_version": "2.0.0",
       "_model_name": "LayoutModel",
       "_view_count": null,
       "_view_module": "@jupyter-widgets/base",
       "_view_module_version": "2.0.0",
       "_view_name": "LayoutView",
       "align_content": null,
       "align_items": null,
       "align_self": null,
       "border_bottom": null,
       "border_left": null,
       "border_right": null,
       "border_top": null,
       "bottom": null,
       "display": null,
       "flex": null,
       "flex_flow": null,
       "grid_area": null,
       "grid_auto_columns": null,
       "grid_auto_flow": null,
       "grid_auto_rows": null,
       "grid_column": null,
       "grid_gap": null,
       "grid_row": null,
       "grid_template_areas": null,
       "grid_template_columns": null,
       "grid_template_rows": null,
       "height": null,
       "justify_content": null,
       "justify_items": null,
       "left": null,
       "margin": null,
       "max_height": null,
       "max_width": null,
       "min_height": null,
       "min_width": null,
       "object_fit": null,
       "object_position": null,
       "order": null,
       "overflow": null,
       "padding": null,
       "right": null,
       "top": null,
       "visibility": null,
       "width": null
      }
     },
     "e205e4e08ab64cf6801cc4a0d68224c8": {
      "model_module": "@jupyter-widgets/base",
      "model_module_version": "2.0.0",
      "model_name": "LayoutModel",
      "state": {
       "_model_module": "@jupyter-widgets/base",
       "_model_module_version": "2.0.0",
       "_model_name": "LayoutModel",
       "_view_count": null,
       "_view_module": "@jupyter-widgets/base",
       "_view_module_version": "2.0.0",
       "_view_name": "LayoutView",
       "align_content": null,
       "align_items": null,
       "align_self": null,
       "border_bottom": null,
       "border_left": null,
       "border_right": null,
       "border_top": null,
       "bottom": null,
       "display": null,
       "flex": null,
       "flex_flow": null,
       "grid_area": null,
       "grid_auto_columns": null,
       "grid_auto_flow": null,
       "grid_auto_rows": null,
       "grid_column": null,
       "grid_gap": null,
       "grid_row": null,
       "grid_template_areas": null,
       "grid_template_columns": null,
       "grid_template_rows": null,
       "height": null,
       "justify_content": null,
       "justify_items": null,
       "left": null,
       "margin": null,
       "max_height": null,
       "max_width": null,
       "min_height": null,
       "min_width": null,
       "object_fit": null,
       "object_position": null,
       "order": null,
       "overflow": null,
       "padding": null,
       "right": null,
       "top": null,
       "visibility": null,
       "width": null
      }
     },
     "e8572562f315479f89954267ce5fc7ed": {
      "model_module": "@jupyter-widgets/controls",
      "model_module_version": "2.0.0",
      "model_name": "HBoxModel",
      "state": {
       "_dom_classes": [],
       "_model_module": "@jupyter-widgets/controls",
       "_model_module_version": "2.0.0",
       "_model_name": "HBoxModel",
       "_view_count": null,
       "_view_module": "@jupyter-widgets/controls",
       "_view_module_version": "2.0.0",
       "_view_name": "HBoxView",
       "box_style": "",
       "children": [
        "IPY_MODEL_c9b083469a4b49bd802b159c58db864b",
        "IPY_MODEL_5513e7fa105645feb3fa4565d2803007",
        "IPY_MODEL_d37e9284459246d7a731754e089947a9"
       ],
       "layout": "IPY_MODEL_dc1c5e21e8044978a79dc85ceba4c81c",
       "tabbable": null,
       "tooltip": null
      }
     },
     "e99a82e9ad0d41cb9c660b6634a2b785": {
      "model_module": "@jupyter-widgets/base",
      "model_module_version": "2.0.0",
      "model_name": "LayoutModel",
      "state": {
       "_model_module": "@jupyter-widgets/base",
       "_model_module_version": "2.0.0",
       "_model_name": "LayoutModel",
       "_view_count": null,
       "_view_module": "@jupyter-widgets/base",
       "_view_module_version": "2.0.0",
       "_view_name": "LayoutView",
       "align_content": null,
       "align_items": null,
       "align_self": null,
       "border_bottom": null,
       "border_left": null,
       "border_right": null,
       "border_top": null,
       "bottom": null,
       "display": null,
       "flex": null,
       "flex_flow": null,
       "grid_area": null,
       "grid_auto_columns": null,
       "grid_auto_flow": null,
       "grid_auto_rows": null,
       "grid_column": null,
       "grid_gap": null,
       "grid_row": null,
       "grid_template_areas": null,
       "grid_template_columns": null,
       "grid_template_rows": null,
       "height": null,
       "justify_content": null,
       "justify_items": null,
       "left": null,
       "margin": null,
       "max_height": null,
       "max_width": null,
       "min_height": null,
       "min_width": null,
       "object_fit": null,
       "object_position": null,
       "order": null,
       "overflow": null,
       "padding": null,
       "right": null,
       "top": null,
       "visibility": null,
       "width": null
      }
     },
     "f3032b0ce45441b3b3e1ddc1d5aeec38": {
      "model_module": "@jupyter-widgets/controls",
      "model_module_version": "2.0.0",
      "model_name": "ProgressStyleModel",
      "state": {
       "_model_module": "@jupyter-widgets/controls",
       "_model_module_version": "2.0.0",
       "_model_name": "ProgressStyleModel",
       "_view_count": null,
       "_view_module": "@jupyter-widgets/base",
       "_view_module_version": "2.0.0",
       "_view_name": "StyleView",
       "bar_color": null,
       "description_width": ""
      }
     },
     "f56d130211d64efca164a786d8173775": {
      "model_module": "@jupyter-widgets/base",
      "model_module_version": "2.0.0",
      "model_name": "LayoutModel",
      "state": {
       "_model_module": "@jupyter-widgets/base",
       "_model_module_version": "2.0.0",
       "_model_name": "LayoutModel",
       "_view_count": null,
       "_view_module": "@jupyter-widgets/base",
       "_view_module_version": "2.0.0",
       "_view_name": "LayoutView",
       "align_content": null,
       "align_items": null,
       "align_self": null,
       "border_bottom": null,
       "border_left": null,
       "border_right": null,
       "border_top": null,
       "bottom": null,
       "display": null,
       "flex": null,
       "flex_flow": null,
       "grid_area": null,
       "grid_auto_columns": null,
       "grid_auto_flow": null,
       "grid_auto_rows": null,
       "grid_column": null,
       "grid_gap": null,
       "grid_row": null,
       "grid_template_areas": null,
       "grid_template_columns": null,
       "grid_template_rows": null,
       "height": null,
       "justify_content": null,
       "justify_items": null,
       "left": null,
       "margin": null,
       "max_height": null,
       "max_width": null,
       "min_height": null,
       "min_width": null,
       "object_fit": null,
       "object_position": null,
       "order": null,
       "overflow": null,
       "padding": null,
       "right": null,
       "top": null,
       "visibility": null,
       "width": null
      }
     }
    },
    "version_major": 2,
    "version_minor": 0
   }
  }
 },
 "nbformat": 4,
 "nbformat_minor": 1
}
